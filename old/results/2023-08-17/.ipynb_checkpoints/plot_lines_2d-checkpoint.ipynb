{
 "cells": [
  {
   "cell_type": "code",
   "execution_count": 12,
   "id": "76afc299",
   "metadata": {},
   "outputs": [],
   "source": [
    "import numpy as np\n",
    "import pandas as pd\n",
    "from matplotlib import pyplot as plt\n",
    "import matplotlib.patches as mpatches\n",
    "import seaborn as sns\n",
    "from scipy.stats import mannwhitneyu ## for those wonderful p-values!\n",
    "\n",
    "## Nature journal settings\n",
    "plt.rcParams[\"font.family\"] = \"Arial\"\n",
    "colors = [\"#E64B35FF\", \"#3C5488FF\", \"#00A087FF\", \"#4DBBD5FF\", \"#F39B7FFF\", \"#8491B4FF\", \"#91D1C2FF\", \"#DC0000FF\", \"#7E6148FF\", \"#B09C85FF\"]\n",
    "sns.set_palette(sns.color_palette(colors))\n"
   ]
  },
  {
   "cell_type": "code",
   "execution_count": 21,
   "id": "6d13215a",
   "metadata": {},
   "outputs": [],
   "source": [
    "# - write function to create m, mp for each pair\n",
    "# - for each pair, plot: interpolation curve, percent-to-match-TL vs percent-used, efficiency gain vs percent-used\n",
    "# - together, plot the efficiency gain in the nice box plot (for the 3 chosen pairs)"
   ]
  },
  {
   "cell_type": "code",
   "execution_count": 13,
   "id": "b216ffd8",
   "metadata": {},
   "outputs": [
    {
     "data": {
      "text/html": [
       "<div>\n",
       "<style scoped>\n",
       "    .dataframe tbody tr th:only-of-type {\n",
       "        vertical-align: middle;\n",
       "    }\n",
       "\n",
       "    .dataframe tbody tr th {\n",
       "        vertical-align: top;\n",
       "    }\n",
       "\n",
       "    .dataframe thead th {\n",
       "        text-align: right;\n",
       "    }\n",
       "</style>\n",
       "<table border=\"1\" class=\"dataframe\">\n",
       "  <thead>\n",
       "    <tr style=\"text-align: right;\">\n",
       "      <th></th>\n",
       "      <th>source</th>\n",
       "      <th>target</th>\n",
       "      <th>percent-heldout</th>\n",
       "      <th>seed</th>\n",
       "      <th>transfer</th>\n",
       "      <th>raw</th>\n",
       "      <th>target_only</th>\n",
       "      <th>raw_overlap</th>\n",
       "      <th>percent-used</th>\n",
       "      <th>pair</th>\n",
       "    </tr>\n",
       "  </thead>\n",
       "  <tbody>\n",
       "    <tr>\n",
       "      <th>0</th>\n",
       "      <td>REP</td>\n",
       "      <td>GDSC</td>\n",
       "      <td>20</td>\n",
       "      <td>0</td>\n",
       "      <td>0.810710</td>\n",
       "      <td>0.501466</td>\n",
       "      <td>0.806638</td>\n",
       "      <td>0.575767</td>\n",
       "      <td>80</td>\n",
       "      <td>REP_GDSC</td>\n",
       "    </tr>\n",
       "    <tr>\n",
       "      <th>1</th>\n",
       "      <td>REP</td>\n",
       "      <td>GDSC</td>\n",
       "      <td>20</td>\n",
       "      <td>1</td>\n",
       "      <td>0.818809</td>\n",
       "      <td>0.521551</td>\n",
       "      <td>0.817445</td>\n",
       "      <td>0.601614</td>\n",
       "      <td>80</td>\n",
       "      <td>REP_GDSC</td>\n",
       "    </tr>\n",
       "    <tr>\n",
       "      <th>2</th>\n",
       "      <td>REP</td>\n",
       "      <td>GDSC</td>\n",
       "      <td>20</td>\n",
       "      <td>2</td>\n",
       "      <td>0.812328</td>\n",
       "      <td>0.513712</td>\n",
       "      <td>0.804020</td>\n",
       "      <td>0.582360</td>\n",
       "      <td>80</td>\n",
       "      <td>REP_GDSC</td>\n",
       "    </tr>\n",
       "    <tr>\n",
       "      <th>3</th>\n",
       "      <td>REP</td>\n",
       "      <td>GDSC</td>\n",
       "      <td>20</td>\n",
       "      <td>3</td>\n",
       "      <td>0.827824</td>\n",
       "      <td>0.503190</td>\n",
       "      <td>0.815933</td>\n",
       "      <td>0.588492</td>\n",
       "      <td>80</td>\n",
       "      <td>REP_GDSC</td>\n",
       "    </tr>\n",
       "    <tr>\n",
       "      <th>4</th>\n",
       "      <td>REP</td>\n",
       "      <td>GDSC</td>\n",
       "      <td>20</td>\n",
       "      <td>4</td>\n",
       "      <td>0.829023</td>\n",
       "      <td>0.508852</td>\n",
       "      <td>0.808236</td>\n",
       "      <td>0.589836</td>\n",
       "      <td>80</td>\n",
       "      <td>REP_GDSC</td>\n",
       "    </tr>\n",
       "  </tbody>\n",
       "</table>\n",
       "</div>"
      ],
      "text/plain": [
       "  source target  percent-heldout  seed  transfer       raw  target_only   \n",
       "0    REP   GDSC               20     0  0.810710  0.501466     0.806638  \\\n",
       "1    REP   GDSC               20     1  0.818809  0.521551     0.817445   \n",
       "2    REP   GDSC               20     2  0.812328  0.513712     0.804020   \n",
       "3    REP   GDSC               20     3  0.827824  0.503190     0.815933   \n",
       "4    REP   GDSC               20     4  0.829023  0.508852     0.808236   \n",
       "\n",
       "   raw_overlap  percent-used      pair  \n",
       "0     0.575767            80  REP_GDSC  \n",
       "1     0.601614            80  REP_GDSC  \n",
       "2     0.582360            80  REP_GDSC  \n",
       "3     0.588492            80  REP_GDSC  \n",
       "4     0.589836            80  REP_GDSC  "
      ]
     },
     "execution_count": 13,
     "metadata": {},
     "output_type": "execute_result"
    }
   ],
   "source": [
    "d = pd.read_csv('run_2d/analysis/results.csv')\n",
    "raw_overlap = pd.read_csv('../2023-08-31/run_2d_raw_overlap/analysis/results.csv')\n",
    "d = d.merge(raw_overlap, on=['source', 'target', 'percent-heldout', 'seed'])\n",
    "d['percent-used'] = 100 - d['percent-heldout']\n",
    "d['pair'] = d['source'] + '_' + d['target']\n",
    "d.head()"
   ]
  },
  {
   "cell_type": "code",
   "execution_count": null,
   "id": "56dc7e7a",
   "metadata": {},
   "outputs": [],
   "source": [
    "m_list = []\n",
    "mp_list = []\n",
    "for pair in list(d.pair.unique()):\n",
    "    source, target = pair.split('_')\n",
    "    df = d.loc[(d.source == source) & (d.target == target)]\n",
    "    \n",
    "    # get target means\n",
    "    targ_mean_df = df[['percent-used', 'target_only']].groupby(['percent-used']).mean().reset_index()\n",
    "    targ_mean_df = targ_mean_df.rename(columns={'target_only': 'target_only_mean'})\n",
    "    \n",
    "    # create new df m by merge in target_only_mean:\n",
    "    # df: source, target, pair, percent-used, seed, transfer, target-only-mean \n",
    "    m = df.merge(targ_mean_df, on='percent-used', validate='many_to_one')\n",
    "    m_cols = ['source', 'target', 'pair', 'percent-heldout', 'percent-used', 'seed', 'transfer', 'target_only_mean']\n",
    "    m = m[m_cols]\n",
    "    \n",
    "    # define mp\n",
    "    mp = m[['pair', 'target_only_mean', 'percent-used']].drop_duplicates()\n",
    "    mp = mp.sort_values('target_only_mean')\n",
    "    \n",
    "    # calculate gains\n",
    "    m['percent-to-match-TL'] = np.interp(m['transfer'], mp['target_only_mean'], mp['percent-used'])\n",
    "    m['efficiency-gain'] = m['percent-to-match-TL'] / m['percent-used']\n",
    "    \n",
    "    # append to lists\n",
    "    m_list.append(m)\n",
    "    mp_list.append(mp)\n",
    "\n",
    "# concatenate so that you have one large m frame and one large mp frame"
   ]
  },
  {
   "cell_type": "code",
   "execution_count": 14,
   "id": "93587bed",
   "metadata": {},
   "outputs": [],
   "source": [
    "# JUST WORK WITH ONE DATA PAIR AT A TIME\n",
    "source = \"GDSC\"\n",
    "target = \"REP\"\n",
    "df = d.loc[(d.source == source) & (d.target == target)]\n",
    "\n",
    "# get target means\n",
    "targ_mean_df = df[['percent-used', 'target_only']].groupby(['percent-used']).mean().reset_index()\n",
    "targ_mean_df = targ_mean_df.rename(columns={'target_only': 'target_only_mean'})\n",
    "\n",
    "# create new df m by merge in target_only_mean:\n",
    "# df: source, target, pair, percent-used, seed, transfer, target-only-mean \n",
    "m = df.merge(targ_mean_df, on='percent-used', validate='many_to_one')\n",
    "m_cols = ['source', 'target', 'pair', 'percent-heldout', 'percent-used', 'seed', 'transfer', 'target_only_mean']\n",
    "m = m[m_cols]"
   ]
  },
  {
   "cell_type": "code",
   "execution_count": 15,
   "id": "024c93d6",
   "metadata": {},
   "outputs": [
    {
     "data": {
      "text/html": [
       "<div>\n",
       "<style scoped>\n",
       "    .dataframe tbody tr th:only-of-type {\n",
       "        vertical-align: middle;\n",
       "    }\n",
       "\n",
       "    .dataframe tbody tr th {\n",
       "        vertical-align: top;\n",
       "    }\n",
       "\n",
       "    .dataframe thead th {\n",
       "        text-align: right;\n",
       "    }\n",
       "</style>\n",
       "<table border=\"1\" class=\"dataframe\">\n",
       "  <thead>\n",
       "    <tr style=\"text-align: right;\">\n",
       "      <th></th>\n",
       "      <th>source</th>\n",
       "      <th>target</th>\n",
       "      <th>pair</th>\n",
       "      <th>percent-heldout</th>\n",
       "      <th>percent-used</th>\n",
       "      <th>seed</th>\n",
       "      <th>transfer</th>\n",
       "      <th>target_only_mean</th>\n",
       "    </tr>\n",
       "  </thead>\n",
       "  <tbody>\n",
       "    <tr>\n",
       "      <th>0</th>\n",
       "      <td>GDSC</td>\n",
       "      <td>REP</td>\n",
       "      <td>GDSC_REP</td>\n",
       "      <td>20</td>\n",
       "      <td>80</td>\n",
       "      <td>0</td>\n",
       "      <td>0.875705</td>\n",
       "      <td>0.869048</td>\n",
       "    </tr>\n",
       "    <tr>\n",
       "      <th>1</th>\n",
       "      <td>GDSC</td>\n",
       "      <td>REP</td>\n",
       "      <td>GDSC_REP</td>\n",
       "      <td>20</td>\n",
       "      <td>80</td>\n",
       "      <td>1</td>\n",
       "      <td>0.885160</td>\n",
       "      <td>0.869048</td>\n",
       "    </tr>\n",
       "    <tr>\n",
       "      <th>2</th>\n",
       "      <td>GDSC</td>\n",
       "      <td>REP</td>\n",
       "      <td>GDSC_REP</td>\n",
       "      <td>20</td>\n",
       "      <td>80</td>\n",
       "      <td>2</td>\n",
       "      <td>0.879231</td>\n",
       "      <td>0.869048</td>\n",
       "    </tr>\n",
       "    <tr>\n",
       "      <th>3</th>\n",
       "      <td>GDSC</td>\n",
       "      <td>REP</td>\n",
       "      <td>GDSC_REP</td>\n",
       "      <td>20</td>\n",
       "      <td>80</td>\n",
       "      <td>3</td>\n",
       "      <td>0.871035</td>\n",
       "      <td>0.869048</td>\n",
       "    </tr>\n",
       "    <tr>\n",
       "      <th>4</th>\n",
       "      <td>GDSC</td>\n",
       "      <td>REP</td>\n",
       "      <td>GDSC_REP</td>\n",
       "      <td>20</td>\n",
       "      <td>80</td>\n",
       "      <td>4</td>\n",
       "      <td>0.867532</td>\n",
       "      <td>0.869048</td>\n",
       "    </tr>\n",
       "  </tbody>\n",
       "</table>\n",
       "</div>"
      ],
      "text/plain": [
       "  source target      pair  percent-heldout  percent-used  seed  transfer   \n",
       "0   GDSC    REP  GDSC_REP               20            80     0  0.875705  \\\n",
       "1   GDSC    REP  GDSC_REP               20            80     1  0.885160   \n",
       "2   GDSC    REP  GDSC_REP               20            80     2  0.879231   \n",
       "3   GDSC    REP  GDSC_REP               20            80     3  0.871035   \n",
       "4   GDSC    REP  GDSC_REP               20            80     4  0.867532   \n",
       "\n",
       "   target_only_mean  \n",
       "0          0.869048  \n",
       "1          0.869048  \n",
       "2          0.869048  \n",
       "3          0.869048  \n",
       "4          0.869048  "
      ]
     },
     "execution_count": 15,
     "metadata": {},
     "output_type": "execute_result"
    }
   ],
   "source": [
    "m.head()"
   ]
  },
  {
   "cell_type": "code",
   "execution_count": 16,
   "id": "93bdca1d",
   "metadata": {},
   "outputs": [
    {
     "data": {
      "text/html": [
       "<div>\n",
       "<style scoped>\n",
       "    .dataframe tbody tr th:only-of-type {\n",
       "        vertical-align: middle;\n",
       "    }\n",
       "\n",
       "    .dataframe tbody tr th {\n",
       "        vertical-align: top;\n",
       "    }\n",
       "\n",
       "    .dataframe thead th {\n",
       "        text-align: right;\n",
       "    }\n",
       "</style>\n",
       "<table border=\"1\" class=\"dataframe\">\n",
       "  <thead>\n",
       "    <tr style=\"text-align: right;\">\n",
       "      <th></th>\n",
       "      <th>pair</th>\n",
       "      <th>target_only_mean</th>\n",
       "      <th>percent-used</th>\n",
       "    </tr>\n",
       "  </thead>\n",
       "  <tbody>\n",
       "    <tr>\n",
       "      <th>70</th>\n",
       "      <td>GDSC_REP</td>\n",
       "      <td>0.471960</td>\n",
       "      <td>5</td>\n",
       "    </tr>\n",
       "    <tr>\n",
       "      <th>60</th>\n",
       "      <td>GDSC_REP</td>\n",
       "      <td>0.682033</td>\n",
       "      <td>10</td>\n",
       "    </tr>\n",
       "    <tr>\n",
       "      <th>50</th>\n",
       "      <td>GDSC_REP</td>\n",
       "      <td>0.761146</td>\n",
       "      <td>15</td>\n",
       "    </tr>\n",
       "    <tr>\n",
       "      <th>30</th>\n",
       "      <td>GDSC_REP</td>\n",
       "      <td>0.796608</td>\n",
       "      <td>20</td>\n",
       "    </tr>\n",
       "    <tr>\n",
       "      <th>100</th>\n",
       "      <td>GDSC_REP</td>\n",
       "      <td>0.828896</td>\n",
       "      <td>30</td>\n",
       "    </tr>\n",
       "  </tbody>\n",
       "</table>\n",
       "</div>"
      ],
      "text/plain": [
       "         pair  target_only_mean  percent-used\n",
       "70   GDSC_REP          0.471960             5\n",
       "60   GDSC_REP          0.682033            10\n",
       "50   GDSC_REP          0.761146            15\n",
       "30   GDSC_REP          0.796608            20\n",
       "100  GDSC_REP          0.828896            30"
      ]
     },
     "execution_count": 16,
     "metadata": {},
     "output_type": "execute_result"
    }
   ],
   "source": [
    "mp = m[['pair', 'target_only_mean', 'percent-used']].drop_duplicates()\n",
    "mp = mp.sort_values('target_only_mean')\n",
    "mp.head()"
   ]
  },
  {
   "cell_type": "code",
   "execution_count": 17,
   "id": "b6f8015f",
   "metadata": {},
   "outputs": [],
   "source": [
    "m['percent-to-match-TL'] = np.interp(m['transfer'], mp['target_only_mean'], mp['percent-used'])\n",
    "m['efficiency-gain'] = m['percent-to-match-TL'] / m['percent-used']"
   ]
  },
  {
   "cell_type": "code",
   "execution_count": 18,
   "id": "3dbccf80",
   "metadata": {},
   "outputs": [
    {
     "data": {
      "text/plain": [
       "[<matplotlib.lines.Line2D at 0x7fbdd82d3be0>]"
      ]
     },
     "execution_count": 18,
     "metadata": {},
     "output_type": "execute_result"
    },
    {
     "data": {
      "image/png": "[encoded data removed]",
      "text/plain": [
       "<Figure size 640x480 with 1 Axes>"
      ]
     },
     "metadata": {},
     "output_type": "display_data"
    }
   ],
   "source": [
    "x = mp['target_only_mean'].to_numpy()\n",
    "y = mp['percent-used'].to_numpy()\n",
    "x1 = np.linspace(np.min(x), np.max(x), 101)\n",
    "y1 = np.interp(x=x1, xp=x, fp=y)\n",
    "plt.plot(x, y, 'o')\n",
    "plt.plot(x1, y1, '-')"
   ]
  },
  {
   "cell_type": "code",
   "execution_count": 19,
   "id": "795005e5",
   "metadata": {},
   "outputs": [
    {
     "data": {
      "text/plain": [
       "<matplotlib.collections.PathCollection at 0x7fbdfc6ec820>"
      ]
     },
     "execution_count": 19,
     "metadata": {},
     "output_type": "execute_result"
    },
    {
     "data": {
      "image/png": "[encoded data removed]",
      "text/plain": [
       "<Figure size 640x480 with 1 Axes>"
      ]
     },
     "metadata": {},
     "output_type": "display_data"
    }
   ],
   "source": [
    "plt.scatter(x=m['percent-used'], y=m['percent-to-match-TL'], alpha=.2)"
   ]
  },
  {
   "cell_type": "code",
   "execution_count": 20,
   "id": "da668710",
   "metadata": {},
   "outputs": [
    {
     "data": {
      "text/plain": [
       "<matplotlib.collections.PathCollection at 0x7fbdd82267c0>"
      ]
     },
     "execution_count": 20,
     "metadata": {},
     "output_type": "execute_result"
    },
    {
     "data": {
      "image/png": "[encoded data removed]",
      "text/plain": [
       "<Figure size 640x480 with 1 Axes>"
      ]
     },
     "metadata": {},
     "output_type": "display_data"
    }
   ],
   "source": [
    "plt.scatter(x=m['percent-used'], y=m['efficiency-gain'], alpha=.2)"
   ]
  },
  {
   "cell_type": "code",
   "execution_count": null,
   "id": "ab7b9a33",
   "metadata": {},
   "outputs": [],
   "source": [
    "# ===== MAIN CODE IS DONE FOR NOW ====== #"
   ]
  },
  {
   "cell_type": "code",
   "execution_count": null,
   "id": "9b4b125d",
   "metadata": {},
   "outputs": [],
   "source": [
    "m['efficiency-gain'] = m['percent-to-match-TL'] / m['percent-used']"
   ]
  },
  {
   "cell_type": "code",
   "execution_count": null,
   "id": "392abf1d",
   "metadata": {},
   "outputs": [],
   "source": [
    "m.head()"
   ]
  },
  {
   "cell_type": "code",
   "execution_count": null,
   "id": "fd29d787",
   "metadata": {},
   "outputs": [],
   "source": [
    "plt.scatter(x=m['percent-used'], y=m['percent-to-match-TL'])"
   ]
  },
  {
   "cell_type": "code",
   "execution_count": null,
   "id": "74dcddd6",
   "metadata": {},
   "outputs": [],
   "source": [
    "plt.scatter(x=m['percent-used'], y=m['efficiency-gain'])"
   ]
  },
  {
   "cell_type": "code",
   "execution_count": null,
   "id": "61cccd43",
   "metadata": {},
   "outputs": [],
   "source": [
    "x = np.linspace(0, 2*np.pi, 10)\n",
    "\n",
    "y = np.sin(x)\n",
    "\n",
    "xvals = np.linspace(0, 2*np.pi, 50)\n",
    "\n",
    "yinterp = np.interp(xvals, x, y)\n",
    "\n",
    "import matplotlib.pyplot as plt\n",
    "\n",
    "plt.plot(x, y, 'o')\n",
    "\n",
    "plt.plot(xvals, yinterp, '-x')\n",
    "\n",
    "plt.show()"
   ]
  },
  {
   "cell_type": "code",
   "execution_count": null,
   "id": "3594a27e",
   "metadata": {},
   "outputs": [],
   "source": [
    "xnew"
   ]
  },
  {
   "cell_type": "code",
   "execution_count": null,
   "id": "90796cc1",
   "metadata": {},
   "outputs": [],
   "source": [
    "m.loc[m['percent-used'] == 5]"
   ]
  },
  {
   "cell_type": "code",
   "execution_count": null,
   "id": "01501ecb",
   "metadata": {},
   "outputs": [],
   "source": [
    "# JUST WORK WITH ONE DATA PAIR AT A TIME\n",
    "source = \"GDSC\"\n",
    "target = \"REP\"\n",
    "df = d.loc[(d.source == source) & (d.target == target)]\n",
    "\n",
    "count_expts = 'percent-used'\n",
    "\n",
    "trans_std_df = df[[count_expts, 'transfer']].groupby([count_expts]).std().reset_index()\n",
    "trans_mean_df = df[[count_expts, 'transfer']].groupby([count_expts]).mean().reset_index()\n",
    "\n",
    "targ_std_df = df[[count_expts, 'target_only']].groupby([count_expts]).std().reset_index()\n",
    "targ_mean_df = df[[count_expts, 'target_only']].groupby([count_expts]).mean().reset_index()\n",
    "\n",
    "raw_std_df = df[[count_expts, 'raw_overlap']].groupby([count_expts]).std().reset_index()\n",
    "raw_mean_df = df[[count_expts, 'raw_overlap']].groupby([count_expts]).mean().reset_index()\n",
    "\n",
    "# Plot\n",
    "plt.rcParams.update({\"font.size\":12}) ## Set fontsize\n",
    "\n",
    "plt.clf()\n",
    "fig, ax = plt.subplots(figsize=(7,4))\n",
    "\n",
    "offset = 0.15\n",
    "\n",
    "i=0\n",
    "#plt.errorbar(x=(raw_mean_df[count_expts] + (i-1)*offset ), y=raw_mean_df[\"raw_overlap\"], yerr=raw_std_df[\"raw_overlap\"], color=colors[i], fmt='-o', label='raw_overlap', zorder=0)\n",
    "#plt.scatter(x=(raw_mean_df[count_expts] + (i-1)*offset ), y=raw_mean_df[\"raw_overlap\"], color=colors[i], zorder=2)\n",
    "\n",
    "i=1\n",
    "#plt.errorbar(x=(trans_mean_df[count_expts] + (i-1)*offset ), y=trans_mean_df[\"transfer\"], yerr=trans_std_df[\"transfer\"], color=colors[i], fmt='-o', label='transfer', zorder=0)\n",
    "plt.scatter(x=(trans_mean_df[count_expts] + (i-1)*offset ), y=trans_mean_df[\"transfer\"], color=colors[i], zorder=2)\n",
    "xnew = np.linspace(5, 90, num=10001)\n",
    "trans_ynew = np.interp(xnew, trans_mean_df[count_expts], trans_mean_df[\"transfer\"])\n",
    "plt.plot(xnew, trans_ynew, '-', color=colors[i], label='transfer', zorder=0)\n",
    "\n",
    "i=2\n",
    "#plt.errorbar(x=(targ_mean_df[count_expts] + (i-1)*offset ), y=targ_mean_df[\"target_only\"], yerr=targ_std_df[\"target_only\"], color=colors[i], fmt='-o', label='target_only', zorder=0)\n",
    "plt.scatter(x=(targ_mean_df[count_expts] + (i-1)*offset ), y=targ_mean_df[\"target_only\"], color=colors[i], zorder=2)\n",
    "targ_ynew = np.interp(xnew, targ_mean_df[count_expts], targ_mean_df[\"target_only\"])\n",
    "plt.plot(xnew, targ_ynew, '-', color=colors[i], label='target-only', zorder=0)\n",
    "\n",
    "plt.legend(fontsize=16)\n",
    "plt.xticks(sorted(d[count_expts].unique()))\n",
    "plt.xlabel(count_expts)\n",
    "plt.ylabel(\"Pearson Correlation\")\n",
    "plt.title(\"source: \" + source + \", target: \" + target)\n",
    "#plt.savefig(\"plots/line-\" + source + \"-\" + target + \".png\", bbox_inches=\"tight\")\n",
    "plt.show()\n"
   ]
  },
  {
   "cell_type": "code",
   "execution_count": null,
   "id": "df94b97b",
   "metadata": {},
   "outputs": [],
   "source": [
    "# converting to percent-used is good and helpful\n",
    "# also, before interpolation, add 0,0 points (0 percent-used --> 0 correlation)\n",
    "# i need to take pearson correlation as the x, percent-used as the y, and interpolate from there\n",
    "# also, set bounds on the domain for subtraction (so that the same correlations are covered)"
   ]
  },
  {
   "cell_type": "code",
   "execution_count": null,
   "id": "3100acf7",
   "metadata": {},
   "outputs": [],
   "source": [
    "i=1\n",
    "plt.plot(trans_ynew, xnew, color=colors[i], label='transfer', zorder=0)\n",
    "\n",
    "i=2\n",
    "plt.plot(targ_ynew, xnew, color=colors[i], label='target-only', zorder=0)\n",
    "\n",
    "plt.legend(fontsize=16)\n",
    "plt.yticks(sorted(d[count_expts].unique()))\n",
    "plt.ylabel(count_expts)\n",
    "plt.xlabel(\"Pearson Correlation\")\n",
    "plt.title(\"source: \" + source + \", target: \" + target)"
   ]
  },
  {
   "cell_type": "code",
   "execution_count": null,
   "id": "6b538ab5",
   "metadata": {},
   "outputs": [],
   "source": [
    "i=3\n",
    "plt.plot(targ_ynew - trans_ynew, xnew, color=colors[i], label='expts saved', zorder=0)\n",
    "\n",
    "plt.legend(fontsize=16)\n",
    "plt.yticks(sorted(d[count_expts].unique()))\n",
    "plt.ylabel(count_expts)\n",
    "plt.xlabel(\"Pearson Correlation\")\n",
    "plt.title(\"source: \" + source + \", target: \" + target)"
   ]
  },
  {
   "cell_type": "code",
   "execution_count": null,
   "id": "9ec366e7",
   "metadata": {},
   "outputs": [],
   "source": [
    "# create list of x-values from .61 --> 1\n",
    "# for ea. x value, find index for targ\n",
    "# for ea. x value, find index for transfer\n",
    "# use indices to get corresponding percentages"
   ]
  },
  {
   "cell_type": "code",
   "execution_count": null,
   "id": "3e17a3b5",
   "metadata": {},
   "outputs": [],
   "source": [
    "def get_indices_from_values(vals, arr):\n",
    "    idx = []\n",
    "    for v in vals:\n",
    "        if len(arr[arr >= v]) > 0:\n",
    "            f = np.min(arr[arr >= v])\n",
    "            idx.append(np.where(arr == f)[0])\n",
    "        else:\n",
    "            return idx\n",
    "    return idx\n",
    "\n",
    "vals = np.linspace(.61, 1, 40)\n",
    "targ_idx = get_indices_from_values(vals, targ_ynew)\n",
    "trans_idx = get_indices_from_values(vals, trans_ynew)"
   ]
  },
  {
   "cell_type": "code",
   "execution_count": null,
   "id": "66555891",
   "metadata": {},
   "outputs": [],
   "source": [
    "#plt.plot(targ_ynew[targ_idx], xnew[targ_idx])\n",
    "#plt.plot(trans_ynew[trans_idx], xnew[trans_idx])\n",
    "plt.plot(trans_ynew[trans_idx[:-1]], (xnew[targ_idx] - xnew[trans_idx[:-1]]) * TOTAL_EXPTS / 100.0)\n",
    "plt.xlabel(\"pearson correlation\")\n",
    "plt.ylabel(\"# experiments saved\")"
   ]
  },
  {
   "cell_type": "code",
   "execution_count": null,
   "id": "c51f1d16",
   "metadata": {},
   "outputs": [],
   "source": [
    "np.min(targ_ynew[targ_ynew > .2])"
   ]
  },
  {
   "cell_type": "code",
   "execution_count": null,
   "id": "7b0dc55f",
   "metadata": {},
   "outputs": [],
   "source": [
    "np.where(targ_ynew == 0.2002708028550556)"
   ]
  },
  {
   "cell_type": "code",
   "execution_count": null,
   "id": "a38d5e99",
   "metadata": {},
   "outputs": [],
   "source": [
    "xnew[116]"
   ]
  },
  {
   "cell_type": "code",
   "execution_count": null,
   "id": "0751beaf",
   "metadata": {},
   "outputs": [],
   "source": [
    "trans_ynew"
   ]
  },
  {
   "cell_type": "code",
   "execution_count": null,
   "id": "3b94d1fd",
   "metadata": {},
   "outputs": [],
   "source": []
  }
 ],
 "metadata": {
  "kernelspec": {
   "display_name": "Python 3 (ipykernel)",
   "language": "python",
   "name": "python3"
  },
  "language_info": {
   "codemirror_mode": {
    "name": "ipython",
    "version": 3
   },
   "file_extension": ".py",
   "mimetype": "text/x-python",
   "name": "python",
   "nbconvert_exporter": "python",
   "pygments_lexer": "ipython3",
   "version": "3.8.16"
  }
 },
 "nbformat": 4,
 "nbformat_minor": 5
}
