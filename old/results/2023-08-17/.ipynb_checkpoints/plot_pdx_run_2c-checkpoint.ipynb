{
 "cells": [
  {
   "cell_type": "code",
   "execution_count": 6,
   "id": "c1fe3a8a",
   "metadata": {},
   "outputs": [],
   "source": [
    "import numpy as np\n",
    "import pandas as pd\n",
    "from matplotlib import pyplot as plt\n",
    "import matplotlib.patches as mpatches\n",
    "import seaborn as sns\n",
    "from scipy.stats import mannwhitneyu ## for those wonderful p-values!\n",
    "\n",
    "## Nature journal settings\n",
    "plt.rcParams[\"font.family\"] = \"Arial\"\n",
    "colors = [\"#E64B35FF\", \"#3C5488FF\", \"#00A087FF\", \"#4DBBD5FF\", \"#F39B7FFF\", \"#8491B4FF\", \"#91D1C2FF\", \"#DC0000FF\", \"#7E6148FF\", \"#B09C85FF\"]\n",
    "sns.set_palette(sns.color_palette(colors))"
   ]
  },
  {
   "cell_type": "code",
   "execution_count": 7,
   "id": "8c4b4d28",
   "metadata": {},
   "outputs": [
    {
     "data": {
      "text/html": [
       "<div>\n",
       "<style scoped>\n",
       "    .dataframe tbody tr th:only-of-type {\n",
       "        vertical-align: middle;\n",
       "    }\n",
       "\n",
       "    .dataframe tbody tr th {\n",
       "        vertical-align: top;\n",
       "    }\n",
       "\n",
       "    .dataframe thead th {\n",
       "        text-align: right;\n",
       "    }\n",
       "</style>\n",
       "<table border=\"1\" class=\"dataframe\">\n",
       "  <thead>\n",
       "    <tr style=\"text-align: right;\">\n",
       "      <th></th>\n",
       "      <th>seed</th>\n",
       "      <th>transfer_pearson</th>\n",
       "      <th>raw_pearson</th>\n",
       "      <th>dataset</th>\n",
       "    </tr>\n",
       "  </thead>\n",
       "  <tbody>\n",
       "    <tr>\n",
       "      <th>0</th>\n",
       "      <td>0</td>\n",
       "      <td>0.430270</td>\n",
       "      <td>-0.142419</td>\n",
       "      <td>pdo_to_pdx</td>\n",
       "    </tr>\n",
       "    <tr>\n",
       "      <th>1</th>\n",
       "      <td>1</td>\n",
       "      <td>-0.367012</td>\n",
       "      <td>-0.315172</td>\n",
       "      <td>pdo_to_pdx</td>\n",
       "    </tr>\n",
       "    <tr>\n",
       "      <th>2</th>\n",
       "      <td>2</td>\n",
       "      <td>0.485366</td>\n",
       "      <td>0.225376</td>\n",
       "      <td>pdo_to_pdx</td>\n",
       "    </tr>\n",
       "    <tr>\n",
       "      <th>3</th>\n",
       "      <td>3</td>\n",
       "      <td>0.663106</td>\n",
       "      <td>-0.072543</td>\n",
       "      <td>pdo_to_pdx</td>\n",
       "    </tr>\n",
       "    <tr>\n",
       "      <th>4</th>\n",
       "      <td>4</td>\n",
       "      <td>0.484015</td>\n",
       "      <td>0.074112</td>\n",
       "      <td>pdo_to_pdx</td>\n",
       "    </tr>\n",
       "  </tbody>\n",
       "</table>\n",
       "</div>"
      ],
      "text/plain": [
       "   seed  transfer_pearson  raw_pearson     dataset\n",
       "0     0          0.430270    -0.142419  pdo_to_pdx\n",
       "1     1         -0.367012    -0.315172  pdo_to_pdx\n",
       "2     2          0.485366     0.225376  pdo_to_pdx\n",
       "3     3          0.663106    -0.072543  pdo_to_pdx\n",
       "4     4          0.484015     0.074112  pdo_to_pdx"
      ]
     },
     "execution_count": 7,
     "metadata": {},
     "output_type": "execute_result"
    }
   ],
   "source": [
    "fn = \"pdx_expt/analysis/results.csv\"\n",
    "df = pd.read_csv(fn)\n",
    "df.head()"
   ]
  },
  {
   "cell_type": "code",
   "execution_count": 9,
   "id": "8304fa24",
   "metadata": {},
   "outputs": [
    {
     "name": "stdout",
     "output_type": "stream",
     "text": [
      "pdo_to_pdx p-value= 0.02622938783485702\n"
     ]
    }
   ],
   "source": [
    "## Generate some fake data.\n",
    "dataset_names = [\"pdo_to_pdx\"]\n",
    "previous = \"raw_pearson\"\n",
    "ours = \"transfer_pearson\"\n",
    "method_names = [previous, ours]\n",
    "\n",
    "## Get those p-values!\n",
    "for dataset in dataset_names:\n",
    "    sub_df = df[(df[\"dataset\"]==dataset)]\n",
    "    print(dataset, \"p-value=\", mannwhitneyu(sub_df[previous], sub_df[ours]).pvalue)"
   ]
  },
  {
   "cell_type": "code",
   "execution_count": 14,
   "id": "cf432927",
   "metadata": {},
   "outputs": [
    {
     "data": {
      "text/plain": [
       "<matplotlib.legend.Legend at 0x7fd30f2c5ee0>"
      ]
     },
     "execution_count": 14,
     "metadata": {},
     "output_type": "execute_result"
    },
    {
     "data": {
      "image/png": "[encoded data removed]",
      "text/plain": [
       "<Figure size 700x400 with 1 Axes>"
      ]
     },
     "metadata": {},
     "output_type": "display_data"
    }
   ],
   "source": [
    "plt.rcParams.update({\"font.size\":18}) ## Set fontsize\n",
    "\n",
    "## Make the box plots\n",
    "comp_colors = ['tab:gray', 'tab:orange']\n",
    "fig, ax = plt.subplots(figsize=(7,4))\n",
    "stats = []\n",
    "positions = []\n",
    "curr_pos = 0\n",
    "for dataset in dataset_names:\n",
    "    for method in method_names:\n",
    "        v = df[(df[\"dataset\"]==dataset)][method]\n",
    "        mu = np.mean(v)\n",
    "        stdv = np.std(v)\n",
    "        stats.append({\"med\":mu,           ## This is the line drawn in the box plot\n",
    "                      \"q1\":mu-stdv,       ## This is the lower extent of the box plot\n",
    "                      \"q3\":mu+stdv,       ## This is the upper extent of the box plot\n",
    "                      \"whislo\":np.min(v), ## This is the lower extent of the whiskers\n",
    "                      \"whishi\":np.max(v)})## This is the upper extent of the whiskers\n",
    "    \n",
    "        ax.scatter(x=(curr_pos + np.random.uniform(-1, 1, size=len(v))), ## Randomly scatter the points horizontally\n",
    "                   y=v, \n",
    "                   color='white', \n",
    "                   edgecolors=\"black\", \n",
    "                   zorder=-1)  ## zorder=-1 places the points behind the boxes \n",
    "    \n",
    "        positions.append(curr_pos)\n",
    "        curr_pos += 6\n",
    "    curr_pos += 5\n",
    "\n",
    "## Actual code to plot\n",
    "bplot = ax.bxp(stats, \n",
    "               positions=positions, \n",
    "               widths=5, \n",
    "               showfliers=False, \n",
    "               medianprops=dict(linestyle='-', linewidth=2.5, color='black'), \n",
    "               patch_artist=True, \n",
    "               zorder=0)\n",
    "\n",
    "## Go through the boxes and set color + transparency\n",
    "for i, patch in enumerate(bplot['boxes']):\n",
    "    patch.set_facecolor(comp_colors[i%len(method_names)])\n",
    "    patch.set_alpha(0.5)\n",
    "\n",
    "xtickpos = [ 0.5*(positions[0]+positions[1]) ]\n",
    "plt.xticks(xtickpos, dataset_names)\n",
    "plt.ylabel(\"Pearson Correlation\")\n",
    "plt.ylim(np.min(df[previous])-0.1, np.max(df[ours])+0.15)\n",
    "\n",
    "\n",
    "## Plot those p-values!\n",
    "h = 0.01\n",
    "p_values = [\"$p=.026$\"] \n",
    "for i, dataset in enumerate(dataset_names):\n",
    "    sub_df = df[(df[\"dataset\"]==dataset)]\n",
    "    y = np.max(sub_df[ours])+0.02\n",
    "    x1, x2 = positions[2*i]-1, positions[2*i + 1]+1\n",
    "    plt.plot([x1, x1, x2, x2], [y, y+h, y+h, y], lw=1.5, color='k')\n",
    "    plt.text((x1+x2)*.5, y+h, p_values[i], ha='center', va='bottom',color='k', fontsize=14)\n",
    "\n",
    "patch1 = mpatches.Patch(color=comp_colors[0], alpha=0.5, label=\"raw\")\n",
    "patch2 = mpatches.Patch(color=comp_colors[1], alpha=0.5, label=\"transfer\")\n",
    "\n",
    "plt.legend(handles=[patch1, patch2], ncol=2, fontsize=13, loc='lower right')"
   ]
  },
  {
   "cell_type": "code",
   "execution_count": null,
   "id": "042f6fc0",
   "metadata": {},
   "outputs": [],
   "source": []
  }
 ],
 "metadata": {
  "kernelspec": {
   "display_name": "Python 3 (ipykernel)",
   "language": "python",
   "name": "python3"
  },
  "language_info": {
   "codemirror_mode": {
    "name": "ipython",
    "version": 3
   },
   "file_extension": ".py",
   "mimetype": "text/x-python",
   "name": "python",
   "nbconvert_exporter": "python",
   "pygments_lexer": "ipython3",
   "version": "3.8.16"
  }
 },
 "nbformat": 4,
 "nbformat_minor": 5
}
