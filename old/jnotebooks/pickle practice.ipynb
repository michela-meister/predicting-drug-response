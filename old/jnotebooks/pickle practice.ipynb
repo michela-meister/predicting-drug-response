{
 "cells": [
  {
   "cell_type": "code",
   "execution_count": 1,
   "id": "263c5a20",
   "metadata": {},
   "outputs": [],
   "source": [
    "import pickle"
   ]
  },
  {
   "cell_type": "code",
   "execution_count": 2,
   "id": "0d9b6572",
   "metadata": {},
   "outputs": [],
   "source": [
    "\n",
    "\n",
    "fn = '../results/2023-06-08/clean_and_split_data/split/sample_dict.pkl'"
   ]
  },
  {
   "cell_type": "code",
   "execution_count": 4,
   "id": "ca713690",
   "metadata": {},
   "outputs": [],
   "source": [
    "file = open(fn, 'rb')\n",
    "obj = pickle.load(file)\n",
    "file.close()"
   ]
  },
  {
   "cell_type": "code",
   "execution_count": 5,
   "id": "f6d1e7c6",
   "metadata": {},
   "outputs": [
    {
     "data": {
      "text/plain": [
       "{'HCI-010': 0,\n",
       " 'HCI-024': 1,\n",
       " 'HCI-015': 2,\n",
       " 'HCI-027': 3,\n",
       " 'HCI-002': 4,\n",
       " 'HCI-019': 5,\n",
       " 'HCI-016': 6,\n",
       " 'HCI-001': 7,\n",
       " 'HCI-012': 8,\n",
       " 'HCI-023': 9,\n",
       " 'HCI-003': 10,\n",
       " 'HCI-011': 11,\n",
       " 'HCI-017': 12}"
      ]
     },
     "execution_count": 5,
     "metadata": {},
     "output_type": "execute_result"
    }
   ],
   "source": [
    "obj"
   ]
  },
  {
   "cell_type": "code",
   "execution_count": null,
   "id": "26829777",
   "metadata": {},
   "outputs": [],
   "source": []
  }
 ],
 "metadata": {
  "kernelspec": {
   "display_name": "Python 3 (ipykernel)",
   "language": "python",
   "name": "python3"
  },
  "language_info": {
   "codemirror_mode": {
    "name": "ipython",
    "version": 3
   },
   "file_extension": ".py",
   "mimetype": "text/x-python",
   "name": "python",
   "nbconvert_exporter": "python",
   "pygments_lexer": "ipython3",
   "version": "3.8.16"
  }
 },
 "nbformat": 4,
 "nbformat_minor": 5
}
