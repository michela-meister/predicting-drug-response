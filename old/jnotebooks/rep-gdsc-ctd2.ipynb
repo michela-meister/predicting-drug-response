{
 "cells": [
  {
   "cell_type": "code",
   "execution_count": 1,
   "id": "d1031a64",
   "metadata": {},
   "outputs": [],
   "source": [
    "import numpy as np\n",
    "import pandas as pd"
   ]
  },
  {
   "cell_type": "code",
   "execution_count": 2,
   "id": "b3631408",
   "metadata": {},
   "outputs": [
    {
     "data": {
      "text/html": [
       "<div>\n",
       "<style scoped>\n",
       "    .dataframe tbody tr th:only-of-type {\n",
       "        vertical-align: middle;\n",
       "    }\n",
       "\n",
       "    .dataframe tbody tr th {\n",
       "        vertical-align: top;\n",
       "    }\n",
       "\n",
       "    .dataframe thead th {\n",
       "        text-align: right;\n",
       "    }\n",
       "</style>\n",
       "<table border=\"1\" class=\"dataframe\">\n",
       "  <thead>\n",
       "    <tr style=\"text-align: right;\">\n",
       "      <th></th>\n",
       "      <th>Drug.Name</th>\n",
       "      <th>ccle</th>\n",
       "      <th>REP_upper_asymptote</th>\n",
       "      <th>REP_lower_asymptote</th>\n",
       "      <th>REP_ec50</th>\n",
       "      <th>REP_slope</th>\n",
       "      <th>REP_min_dose</th>\n",
       "      <th>REP_max_dose</th>\n",
       "      <th>REP_published_auc</th>\n",
       "      <th>CTD2_upper_asymptote</th>\n",
       "      <th>...</th>\n",
       "      <th>GDSC_slope</th>\n",
       "      <th>GDSC_max_dose</th>\n",
       "      <th>GDSC_min_dose</th>\n",
       "      <th>GDSC_published_auc</th>\n",
       "      <th>min_dose</th>\n",
       "      <th>max_dose</th>\n",
       "      <th>moa</th>\n",
       "      <th>REP_auc_overlap</th>\n",
       "      <th>CTD2_auc_overlap</th>\n",
       "      <th>GDSC_auc_overlap</th>\n",
       "    </tr>\n",
       "  </thead>\n",
       "  <tbody>\n",
       "    <tr>\n",
       "      <th>0</th>\n",
       "      <td>MASITINIB</td>\n",
       "      <td>MFE296</td>\n",
       "      <td>1</td>\n",
       "      <td>2.196474</td>\n",
       "      <td>0.070624</td>\n",
       "      <td>-0.194326</td>\n",
       "      <td>0.00061</td>\n",
       "      <td>10</td>\n",
       "      <td>1.592769</td>\n",
       "      <td>1.00044</td>\n",
       "      <td>...</td>\n",
       "      <td>4.480547</td>\n",
       "      <td>20.0</td>\n",
       "      <td>0.078125</td>\n",
       "      <td>0.94</td>\n",
       "      <td>0.078125</td>\n",
       "      <td>10.0</td>\n",
       "      <td>KIT inhibitor, PDGFR tyrosine kinase receptor ...</td>\n",
       "      <td>1.0</td>\n",
       "      <td>0.972505</td>\n",
       "      <td>0.998475</td>\n",
       "    </tr>\n",
       "    <tr>\n",
       "      <th>1</th>\n",
       "      <td>MASITINIB</td>\n",
       "      <td>PSN1</td>\n",
       "      <td>1</td>\n",
       "      <td>2.173738</td>\n",
       "      <td>0.262286</td>\n",
       "      <td>-0.335760</td>\n",
       "      <td>0.00061</td>\n",
       "      <td>10</td>\n",
       "      <td>1.684585</td>\n",
       "      <td>1.00000</td>\n",
       "      <td>...</td>\n",
       "      <td>11.795266</td>\n",
       "      <td>20.0</td>\n",
       "      <td>0.078125</td>\n",
       "      <td>0.88</td>\n",
       "      <td>0.078125</td>\n",
       "      <td>10.0</td>\n",
       "      <td>KIT inhibitor, PDGFR tyrosine kinase receptor ...</td>\n",
       "      <td>1.0</td>\n",
       "      <td>0.999926</td>\n",
       "      <td>0.999475</td>\n",
       "    </tr>\n",
       "    <tr>\n",
       "      <th>2</th>\n",
       "      <td>MASITINIB</td>\n",
       "      <td>KYSE150</td>\n",
       "      <td>1</td>\n",
       "      <td>1.758293</td>\n",
       "      <td>0.156294</td>\n",
       "      <td>-0.256370</td>\n",
       "      <td>0.00061</td>\n",
       "      <td>10</td>\n",
       "      <td>1.409029</td>\n",
       "      <td>1.00010</td>\n",
       "      <td>...</td>\n",
       "      <td>0.219758</td>\n",
       "      <td>20.0</td>\n",
       "      <td>0.078125</td>\n",
       "      <td>0.98</td>\n",
       "      <td>0.078125</td>\n",
       "      <td>10.0</td>\n",
       "      <td>KIT inhibitor, PDGFR tyrosine kinase receptor ...</td>\n",
       "      <td>1.0</td>\n",
       "      <td>0.999783</td>\n",
       "      <td>0.987924</td>\n",
       "    </tr>\n",
       "    <tr>\n",
       "      <th>3</th>\n",
       "      <td>MASITINIB</td>\n",
       "      <td>ESS1</td>\n",
       "      <td>1</td>\n",
       "      <td>1.981073</td>\n",
       "      <td>0.481603</td>\n",
       "      <td>0.095135</td>\n",
       "      <td>0.00061</td>\n",
       "      <td>10</td>\n",
       "      <td>1.448933</td>\n",
       "      <td>0.99960</td>\n",
       "      <td>...</td>\n",
       "      <td>2.418659</td>\n",
       "      <td>20.0</td>\n",
       "      <td>0.078125</td>\n",
       "      <td>0.86</td>\n",
       "      <td>0.078125</td>\n",
       "      <td>10.0</td>\n",
       "      <td>KIT inhibitor, PDGFR tyrosine kinase receptor ...</td>\n",
       "      <td>1.0</td>\n",
       "      <td>0.993567</td>\n",
       "      <td>0.963070</td>\n",
       "    </tr>\n",
       "    <tr>\n",
       "      <th>4</th>\n",
       "      <td>MASITINIB</td>\n",
       "      <td>A172</td>\n",
       "      <td>1</td>\n",
       "      <td>2.583880</td>\n",
       "      <td>0.026078</td>\n",
       "      <td>-0.192746</td>\n",
       "      <td>0.00061</td>\n",
       "      <td>10</td>\n",
       "      <td>1.714048</td>\n",
       "      <td>0.99960</td>\n",
       "      <td>...</td>\n",
       "      <td>10.708394</td>\n",
       "      <td>20.0</td>\n",
       "      <td>0.078125</td>\n",
       "      <td>0.88</td>\n",
       "      <td>0.078125</td>\n",
       "      <td>10.0</td>\n",
       "      <td>KIT inhibitor, PDGFR tyrosine kinase receptor ...</td>\n",
       "      <td>1.0</td>\n",
       "      <td>0.999033</td>\n",
       "      <td>0.999867</td>\n",
       "    </tr>\n",
       "  </tbody>\n",
       "</table>\n",
       "<p>5 rows × 29 columns</p>\n",
       "</div>"
      ],
      "text/plain": [
       "   Drug.Name     ccle  REP_upper_asymptote  REP_lower_asymptote  REP_ec50   \n",
       "0  MASITINIB   MFE296                    1             2.196474  0.070624  \\\n",
       "1  MASITINIB     PSN1                    1             2.173738  0.262286   \n",
       "2  MASITINIB  KYSE150                    1             1.758293  0.156294   \n",
       "3  MASITINIB     ESS1                    1             1.981073  0.481603   \n",
       "4  MASITINIB     A172                    1             2.583880  0.026078   \n",
       "\n",
       "   REP_slope  REP_min_dose  REP_max_dose  REP_published_auc   \n",
       "0  -0.194326       0.00061            10           1.592769  \\\n",
       "1  -0.335760       0.00061            10           1.684585   \n",
       "2  -0.256370       0.00061            10           1.409029   \n",
       "3   0.095135       0.00061            10           1.448933   \n",
       "4  -0.192746       0.00061            10           1.714048   \n",
       "\n",
       "   CTD2_upper_asymptote  ...  GDSC_slope  GDSC_max_dose  GDSC_min_dose   \n",
       "0               1.00044  ...    4.480547           20.0       0.078125  \\\n",
       "1               1.00000  ...   11.795266           20.0       0.078125   \n",
       "2               1.00010  ...    0.219758           20.0       0.078125   \n",
       "3               0.99960  ...    2.418659           20.0       0.078125   \n",
       "4               0.99960  ...   10.708394           20.0       0.078125   \n",
       "\n",
       "   GDSC_published_auc  min_dose  max_dose   \n",
       "0                0.94  0.078125      10.0  \\\n",
       "1                0.88  0.078125      10.0   \n",
       "2                0.98  0.078125      10.0   \n",
       "3                0.86  0.078125      10.0   \n",
       "4                0.88  0.078125      10.0   \n",
       "\n",
       "                                                 moa  REP_auc_overlap   \n",
       "0  KIT inhibitor, PDGFR tyrosine kinase receptor ...              1.0  \\\n",
       "1  KIT inhibitor, PDGFR tyrosine kinase receptor ...              1.0   \n",
       "2  KIT inhibitor, PDGFR tyrosine kinase receptor ...              1.0   \n",
       "3  KIT inhibitor, PDGFR tyrosine kinase receptor ...              1.0   \n",
       "4  KIT inhibitor, PDGFR tyrosine kinase receptor ...              1.0   \n",
       "\n",
       "   CTD2_auc_overlap  GDSC_auc_overlap  \n",
       "0          0.972505          0.998475  \n",
       "1          0.999926          0.999475  \n",
       "2          0.999783          0.987924  \n",
       "3          0.993567          0.963070  \n",
       "4          0.999033          0.999867  \n",
       "\n",
       "[5 rows x 29 columns]"
      ]
     },
     "execution_count": 2,
     "metadata": {},
     "output_type": "execute_result"
    }
   ],
   "source": [
    "df = pd.read_csv('~/Documents/research/tansey/msk_intern/pyro_model/data/rep-gdsc-ctd2.csv')\n",
    "df.head()"
   ]
  },
  {
   "cell_type": "code",
   "execution_count": 3,
   "id": "a619029e",
   "metadata": {},
   "outputs": [
    {
     "data": {
      "text/html": [
       "<div>\n",
       "<style scoped>\n",
       "    .dataframe tbody tr th:only-of-type {\n",
       "        vertical-align: middle;\n",
       "    }\n",
       "\n",
       "    .dataframe tbody tr th {\n",
       "        vertical-align: top;\n",
       "    }\n",
       "\n",
       "    .dataframe thead th {\n",
       "        text-align: right;\n",
       "    }\n",
       "</style>\n",
       "<table border=\"1\" class=\"dataframe\">\n",
       "  <thead>\n",
       "    <tr style=\"text-align: right;\">\n",
       "      <th></th>\n",
       "      <th>Drug.Name</th>\n",
       "      <th>ccle</th>\n",
       "      <th>REP_auc_overlap</th>\n",
       "      <th>CTD2_auc_overlap</th>\n",
       "      <th>GDSC_auc_overlap</th>\n",
       "    </tr>\n",
       "  </thead>\n",
       "  <tbody>\n",
       "    <tr>\n",
       "      <th>0</th>\n",
       "      <td>MASITINIB</td>\n",
       "      <td>MFE296</td>\n",
       "      <td>1.0</td>\n",
       "      <td>0.972505</td>\n",
       "      <td>0.998475</td>\n",
       "    </tr>\n",
       "    <tr>\n",
       "      <th>1</th>\n",
       "      <td>MASITINIB</td>\n",
       "      <td>PSN1</td>\n",
       "      <td>1.0</td>\n",
       "      <td>0.999926</td>\n",
       "      <td>0.999475</td>\n",
       "    </tr>\n",
       "    <tr>\n",
       "      <th>2</th>\n",
       "      <td>MASITINIB</td>\n",
       "      <td>KYSE150</td>\n",
       "      <td>1.0</td>\n",
       "      <td>0.999783</td>\n",
       "      <td>0.987924</td>\n",
       "    </tr>\n",
       "    <tr>\n",
       "      <th>3</th>\n",
       "      <td>MASITINIB</td>\n",
       "      <td>ESS1</td>\n",
       "      <td>1.0</td>\n",
       "      <td>0.993567</td>\n",
       "      <td>0.963070</td>\n",
       "    </tr>\n",
       "    <tr>\n",
       "      <th>4</th>\n",
       "      <td>MASITINIB</td>\n",
       "      <td>A172</td>\n",
       "      <td>1.0</td>\n",
       "      <td>0.999033</td>\n",
       "      <td>0.999867</td>\n",
       "    </tr>\n",
       "  </tbody>\n",
       "</table>\n",
       "</div>"
      ],
      "text/plain": [
       "   Drug.Name     ccle  REP_auc_overlap  CTD2_auc_overlap  GDSC_auc_overlap\n",
       "0  MASITINIB   MFE296              1.0          0.972505          0.998475\n",
       "1  MASITINIB     PSN1              1.0          0.999926          0.999475\n",
       "2  MASITINIB  KYSE150              1.0          0.999783          0.987924\n",
       "3  MASITINIB     ESS1              1.0          0.993567          0.963070\n",
       "4  MASITINIB     A172              1.0          0.999033          0.999867"
      ]
     },
     "execution_count": 3,
     "metadata": {},
     "output_type": "execute_result"
    }
   ],
   "source": [
    "columns = ['Drug.Name', 'ccle', 'REP_auc_overlap', 'CTD2_auc_overlap', 'GDSC_auc_overlap']\n",
    "df = df[columns]\n",
    "df.head()"
   ]
  },
  {
   "cell_type": "code",
   "execution_count": 4,
   "id": "69970fd9",
   "metadata": {},
   "outputs": [
    {
     "name": "stdout",
     "output_type": "stream",
     "text": [
      "num drugs: 84\n",
      "num samples: 318\n",
      "num datapoints: 25670\n"
     ]
    }
   ],
   "source": [
    "drugs = df['Drug.Name'].unique()\n",
    "samples = df['ccle'].unique()\n",
    "sparsity = len(df) / (len(drugs) * len(samples))\n",
    "print('num drugs: ' + str(len(drugs)))\n",
    "print('num samples: ' + str(len(samples)))\n",
    "print('num datapoints: ' + str(len(df)))"
   ]
  },
  {
   "cell_type": "code",
   "execution_count": 5,
   "id": "7464d378",
   "metadata": {},
   "outputs": [],
   "source": [
    "def list_to_indices(keys):\n",
    "    n_keys = len(keys)\n",
    "    values = range(n_keys)\n",
    "    return dict(zip(keys, values))"
   ]
  },
  {
   "cell_type": "code",
   "execution_count": 6,
   "id": "333576d6",
   "metadata": {},
   "outputs": [
    {
     "data": {
      "text/html": [
       "<div>\n",
       "<style scoped>\n",
       "    .dataframe tbody tr th:only-of-type {\n",
       "        vertical-align: middle;\n",
       "    }\n",
       "\n",
       "    .dataframe tbody tr th {\n",
       "        vertical-align: top;\n",
       "    }\n",
       "\n",
       "    .dataframe thead th {\n",
       "        text-align: right;\n",
       "    }\n",
       "</style>\n",
       "<table border=\"1\" class=\"dataframe\">\n",
       "  <thead>\n",
       "    <tr style=\"text-align: right;\">\n",
       "      <th></th>\n",
       "      <th>Drug.Name</th>\n",
       "      <th>ccle</th>\n",
       "      <th>REP_auc_overlap</th>\n",
       "      <th>CTD2_auc_overlap</th>\n",
       "      <th>GDSC_auc_overlap</th>\n",
       "      <th>drug_id</th>\n",
       "      <th>sample_id</th>\n",
       "    </tr>\n",
       "  </thead>\n",
       "  <tbody>\n",
       "    <tr>\n",
       "      <th>0</th>\n",
       "      <td>MASITINIB</td>\n",
       "      <td>MFE296</td>\n",
       "      <td>1.0</td>\n",
       "      <td>0.972505</td>\n",
       "      <td>0.998475</td>\n",
       "      <td>0</td>\n",
       "      <td>0</td>\n",
       "    </tr>\n",
       "    <tr>\n",
       "      <th>1</th>\n",
       "      <td>MASITINIB</td>\n",
       "      <td>PSN1</td>\n",
       "      <td>1.0</td>\n",
       "      <td>0.999926</td>\n",
       "      <td>0.999475</td>\n",
       "      <td>0</td>\n",
       "      <td>1</td>\n",
       "    </tr>\n",
       "    <tr>\n",
       "      <th>2</th>\n",
       "      <td>MASITINIB</td>\n",
       "      <td>KYSE150</td>\n",
       "      <td>1.0</td>\n",
       "      <td>0.999783</td>\n",
       "      <td>0.987924</td>\n",
       "      <td>0</td>\n",
       "      <td>2</td>\n",
       "    </tr>\n",
       "    <tr>\n",
       "      <th>3</th>\n",
       "      <td>MASITINIB</td>\n",
       "      <td>ESS1</td>\n",
       "      <td>1.0</td>\n",
       "      <td>0.993567</td>\n",
       "      <td>0.963070</td>\n",
       "      <td>0</td>\n",
       "      <td>3</td>\n",
       "    </tr>\n",
       "    <tr>\n",
       "      <th>4</th>\n",
       "      <td>MASITINIB</td>\n",
       "      <td>A172</td>\n",
       "      <td>1.0</td>\n",
       "      <td>0.999033</td>\n",
       "      <td>0.999867</td>\n",
       "      <td>0</td>\n",
       "      <td>4</td>\n",
       "    </tr>\n",
       "  </tbody>\n",
       "</table>\n",
       "</div>"
      ],
      "text/plain": [
       "   Drug.Name     ccle  REP_auc_overlap  CTD2_auc_overlap  GDSC_auc_overlap   \n",
       "0  MASITINIB   MFE296              1.0          0.972505          0.998475  \\\n",
       "1  MASITINIB     PSN1              1.0          0.999926          0.999475   \n",
       "2  MASITINIB  KYSE150              1.0          0.999783          0.987924   \n",
       "3  MASITINIB     ESS1              1.0          0.993567          0.963070   \n",
       "4  MASITINIB     A172              1.0          0.999033          0.999867   \n",
       "\n",
       "   drug_id  sample_id  \n",
       "0        0          0  \n",
       "1        0          1  \n",
       "2        0          2  \n",
       "3        0          3  \n",
       "4        0          4  "
      ]
     },
     "execution_count": 6,
     "metadata": {},
     "output_type": "execute_result"
    }
   ],
   "source": [
    "# create drug, sample indices\n",
    "drug_indices = list_to_indices(drugs)\n",
    "sample_indices = list_to_indices(samples)\n",
    "# map drugs, samples to indices\n",
    "df['drug_id'] = df['Drug.Name'].replace(drug_indices)\n",
    "df['sample_id'] = df['ccle'].replace(sample_indices)\n",
    "df.head()\n",
    "# create matrix for each dataset"
   ]
  },
  {
   "cell_type": "code",
   "execution_count": 7,
   "id": "765dd99e",
   "metadata": {},
   "outputs": [],
   "source": [
    "def average_values(df, cols, val_name):\n",
    "    d = df.groupby(cols)[val_name].mean().reset_index(name='mean_auc_overlap')\n",
    "    assert len(d) == len(df[cols].drop_duplicates())\n",
    "    return d\n",
    "\n",
    "def create_matrix(df, n_rows, n_cols, row_name, col_name, val_name):\n",
    "    avg_df = average_values(df, [row_name, col_name], val_name)\n",
    "    arr = np.zeros((n_rows, n_cols))\n",
    "    row = avg_df[row_name].to_numpy()\n",
    "    col = avg_df[col_name].to_numpy()\n",
    "    val = avg_df['mean_auc_overlap'].to_numpy()\n",
    "    arr[row, col] = val\n",
    "    return arr"
   ]
  },
  {
   "cell_type": "code",
   "execution_count": 8,
   "id": "f0e8465d",
   "metadata": {},
   "outputs": [],
   "source": [
    "n_samples = len(samples)\n",
    "n_drugs = len(drugs)\n",
    "rep_arr = create_matrix(df, n_samples, n_drugs, 'sample_id', 'drug_id', 'REP_auc_overlap')\n",
    "gdsc_arr = create_matrix(df, n_samples, n_drugs, 'sample_id', 'drug_id', 'GDSC_auc_overlap')\n",
    "ctd2_arr = create_matrix(df, n_samples, n_drugs, 'sample_id', 'drug_id', 'CTD2_auc_overlap')"
   ]
  },
  {
   "cell_type": "code",
   "execution_count": 9,
   "id": "cb6878c5",
   "metadata": {},
   "outputs": [
    {
     "name": "stdout",
     "output_type": "stream",
     "text": [
      "nnz REP: 16650\n",
      "nnz GDSC: 16650\n",
      "nnz CTD2: 16650\n"
     ]
    }
   ],
   "source": [
    "print('nnz REP: ' + str(np.count_nonzero(rep_arr)))\n",
    "print('nnz GDSC: ' + str(np.count_nonzero(gdsc_arr)))\n",
    "print('nnz CTD2: ' + str(np.count_nonzero(ctd2_arr)))"
   ]
  },
  {
   "cell_type": "code",
   "execution_count": 10,
   "id": "84d32c59",
   "metadata": {},
   "outputs": [
    {
     "data": {
      "text/html": [
       "<div>\n",
       "<style scoped>\n",
       "    .dataframe tbody tr th:only-of-type {\n",
       "        vertical-align: middle;\n",
       "    }\n",
       "\n",
       "    .dataframe tbody tr th {\n",
       "        vertical-align: top;\n",
       "    }\n",
       "\n",
       "    .dataframe thead th {\n",
       "        text-align: right;\n",
       "    }\n",
       "</style>\n",
       "<table border=\"1\" class=\"dataframe\">\n",
       "  <thead>\n",
       "    <tr style=\"text-align: right;\">\n",
       "      <th></th>\n",
       "      <th>Drug.Name</th>\n",
       "      <th>ccle</th>\n",
       "      <th>REP_auc_overlap</th>\n",
       "      <th>CTD2_auc_overlap</th>\n",
       "      <th>GDSC_auc_overlap</th>\n",
       "    </tr>\n",
       "  </thead>\n",
       "  <tbody>\n",
       "    <tr>\n",
       "      <th>count</th>\n",
       "      <td>16650.000000</td>\n",
       "      <td>16650.000000</td>\n",
       "      <td>16650.000000</td>\n",
       "      <td>16650.000000</td>\n",
       "      <td>16650.000000</td>\n",
       "    </tr>\n",
       "    <tr>\n",
       "      <th>mean</th>\n",
       "      <td>1.541742</td>\n",
       "      <td>1.541742</td>\n",
       "      <td>1.541742</td>\n",
       "      <td>1.541742</td>\n",
       "      <td>1.541742</td>\n",
       "    </tr>\n",
       "    <tr>\n",
       "      <th>std</th>\n",
       "      <td>1.770574</td>\n",
       "      <td>1.770574</td>\n",
       "      <td>1.770574</td>\n",
       "      <td>1.770574</td>\n",
       "      <td>1.770574</td>\n",
       "    </tr>\n",
       "    <tr>\n",
       "      <th>min</th>\n",
       "      <td>1.000000</td>\n",
       "      <td>1.000000</td>\n",
       "      <td>1.000000</td>\n",
       "      <td>1.000000</td>\n",
       "      <td>1.000000</td>\n",
       "    </tr>\n",
       "    <tr>\n",
       "      <th>5%</th>\n",
       "      <td>1.000000</td>\n",
       "      <td>1.000000</td>\n",
       "      <td>1.000000</td>\n",
       "      <td>1.000000</td>\n",
       "      <td>1.000000</td>\n",
       "    </tr>\n",
       "    <tr>\n",
       "      <th>10%</th>\n",
       "      <td>1.000000</td>\n",
       "      <td>1.000000</td>\n",
       "      <td>1.000000</td>\n",
       "      <td>1.000000</td>\n",
       "      <td>1.000000</td>\n",
       "    </tr>\n",
       "    <tr>\n",
       "      <th>20%</th>\n",
       "      <td>1.000000</td>\n",
       "      <td>1.000000</td>\n",
       "      <td>1.000000</td>\n",
       "      <td>1.000000</td>\n",
       "      <td>1.000000</td>\n",
       "    </tr>\n",
       "    <tr>\n",
       "      <th>50%</th>\n",
       "      <td>1.000000</td>\n",
       "      <td>1.000000</td>\n",
       "      <td>1.000000</td>\n",
       "      <td>1.000000</td>\n",
       "      <td>1.000000</td>\n",
       "    </tr>\n",
       "    <tr>\n",
       "      <th>80%</th>\n",
       "      <td>1.000000</td>\n",
       "      <td>1.000000</td>\n",
       "      <td>1.000000</td>\n",
       "      <td>1.000000</td>\n",
       "      <td>1.000000</td>\n",
       "    </tr>\n",
       "    <tr>\n",
       "      <th>90%</th>\n",
       "      <td>4.000000</td>\n",
       "      <td>4.000000</td>\n",
       "      <td>4.000000</td>\n",
       "      <td>4.000000</td>\n",
       "      <td>4.000000</td>\n",
       "    </tr>\n",
       "    <tr>\n",
       "      <th>95%</th>\n",
       "      <td>4.000000</td>\n",
       "      <td>4.000000</td>\n",
       "      <td>4.000000</td>\n",
       "      <td>4.000000</td>\n",
       "      <td>4.000000</td>\n",
       "    </tr>\n",
       "    <tr>\n",
       "      <th>max</th>\n",
       "      <td>72.000000</td>\n",
       "      <td>72.000000</td>\n",
       "      <td>72.000000</td>\n",
       "      <td>72.000000</td>\n",
       "      <td>72.000000</td>\n",
       "    </tr>\n",
       "  </tbody>\n",
       "</table>\n",
       "</div>"
      ],
      "text/plain": [
       "          Drug.Name          ccle  REP_auc_overlap  CTD2_auc_overlap   \n",
       "count  16650.000000  16650.000000     16650.000000      16650.000000  \\\n",
       "mean       1.541742      1.541742         1.541742          1.541742   \n",
       "std        1.770574      1.770574         1.770574          1.770574   \n",
       "min        1.000000      1.000000         1.000000          1.000000   \n",
       "5%         1.000000      1.000000         1.000000          1.000000   \n",
       "10%        1.000000      1.000000         1.000000          1.000000   \n",
       "20%        1.000000      1.000000         1.000000          1.000000   \n",
       "50%        1.000000      1.000000         1.000000          1.000000   \n",
       "80%        1.000000      1.000000         1.000000          1.000000   \n",
       "90%        4.000000      4.000000         4.000000          4.000000   \n",
       "95%        4.000000      4.000000         4.000000          4.000000   \n",
       "max       72.000000     72.000000        72.000000         72.000000   \n",
       "\n",
       "       GDSC_auc_overlap  \n",
       "count      16650.000000  \n",
       "mean           1.541742  \n",
       "std            1.770574  \n",
       "min            1.000000  \n",
       "5%             1.000000  \n",
       "10%            1.000000  \n",
       "20%            1.000000  \n",
       "50%            1.000000  \n",
       "80%            1.000000  \n",
       "90%            4.000000  \n",
       "95%            4.000000  \n",
       "max           72.000000  "
      ]
     },
     "execution_count": 10,
     "metadata": {},
     "output_type": "execute_result"
    }
   ],
   "source": [
    "# need to check whether you have multiple readings for the same sample + drug!!\n",
    "df.groupby(['drug_id', 'sample_id']).count().describe([.05, .1, .2, .8, .9, .95])"
   ]
  },
  {
   "cell_type": "code",
   "execution_count": 13,
   "id": "846315d0",
   "metadata": {},
   "outputs": [
    {
     "data": {
      "text/html": [
       "<div>\n",
       "<style scoped>\n",
       "    .dataframe tbody tr th:only-of-type {\n",
       "        vertical-align: middle;\n",
       "    }\n",
       "\n",
       "    .dataframe tbody tr th {\n",
       "        vertical-align: top;\n",
       "    }\n",
       "\n",
       "    .dataframe thead th {\n",
       "        text-align: right;\n",
       "    }\n",
       "</style>\n",
       "<table border=\"1\" class=\"dataframe\">\n",
       "  <thead>\n",
       "    <tr style=\"text-align: right;\">\n",
       "      <th></th>\n",
       "      <th></th>\n",
       "      <th>Drug.Name</th>\n",
       "      <th>ccle</th>\n",
       "      <th>REP_auc_overlap</th>\n",
       "      <th>CTD2_auc_overlap</th>\n",
       "      <th>GDSC_auc_overlap</th>\n",
       "    </tr>\n",
       "    <tr>\n",
       "      <th>drug_id</th>\n",
       "      <th>sample_id</th>\n",
       "      <th></th>\n",
       "      <th></th>\n",
       "      <th></th>\n",
       "      <th></th>\n",
       "      <th></th>\n",
       "    </tr>\n",
       "  </thead>\n",
       "  <tbody>\n",
       "    <tr>\n",
       "      <th rowspan=\"5\" valign=\"top\">0</th>\n",
       "      <th>0</th>\n",
       "      <td>1</td>\n",
       "      <td>1</td>\n",
       "      <td>1</td>\n",
       "      <td>1</td>\n",
       "      <td>1</td>\n",
       "    </tr>\n",
       "    <tr>\n",
       "      <th>1</th>\n",
       "      <td>1</td>\n",
       "      <td>1</td>\n",
       "      <td>1</td>\n",
       "      <td>1</td>\n",
       "      <td>1</td>\n",
       "    </tr>\n",
       "    <tr>\n",
       "      <th>2</th>\n",
       "      <td>1</td>\n",
       "      <td>1</td>\n",
       "      <td>1</td>\n",
       "      <td>1</td>\n",
       "      <td>1</td>\n",
       "    </tr>\n",
       "    <tr>\n",
       "      <th>3</th>\n",
       "      <td>1</td>\n",
       "      <td>1</td>\n",
       "      <td>1</td>\n",
       "      <td>1</td>\n",
       "      <td>1</td>\n",
       "    </tr>\n",
       "    <tr>\n",
       "      <th>4</th>\n",
       "      <td>1</td>\n",
       "      <td>1</td>\n",
       "      <td>1</td>\n",
       "      <td>1</td>\n",
       "      <td>1</td>\n",
       "    </tr>\n",
       "  </tbody>\n",
       "</table>\n",
       "</div>"
      ],
      "text/plain": [
       "                   Drug.Name  ccle  REP_auc_overlap  CTD2_auc_overlap   \n",
       "drug_id sample_id                                                       \n",
       "0       0                  1     1                1                 1  \\\n",
       "        1                  1     1                1                 1   \n",
       "        2                  1     1                1                 1   \n",
       "        3                  1     1                1                 1   \n",
       "        4                  1     1                1                 1   \n",
       "\n",
       "                   GDSC_auc_overlap  \n",
       "drug_id sample_id                    \n",
       "0       0                         1  \n",
       "        1                         1  \n",
       "        2                         1  \n",
       "        3                         1  \n",
       "        4                         1  "
      ]
     },
     "execution_count": 13,
     "metadata": {},
     "output_type": "execute_result"
    }
   ],
   "source": [
    "d = df.groupby(['drug_id', 'sample_id']).count()\n",
    "d.head()"
   ]
  },
  {
   "cell_type": "code",
   "execution_count": 11,
   "id": "024dcaba",
   "metadata": {},
   "outputs": [
    {
     "name": "stdout",
     "output_type": "stream",
     "text": [
      "matrix dimensions: 318 x 84 = 26712\n",
      "num cells w/ observations: 16650\n",
      "sparsity: 16650 / 26712 = 0.6233153638814016\n"
     ]
    }
   ],
   "source": [
    "n_obs_cells = 16650\n",
    "n_total_cells = n_drugs * n_samples\n",
    "sparsity = n_obs_cells / n_total_cells\n",
    "print('matrix dimensions: ' + str(n_samples) + ' x ' + str(n_drugs) + ' = ' + str(n_total_cells))\n",
    "print('num cells w/ observations: ' + str(n_obs_cells))\n",
    "print('sparsity: ' + str(n_obs_cells) + ' / ' + str(n_total_cells) + ' = ' + str(sparsity))"
   ]
  },
  {
   "cell_type": "code",
   "execution_count": 12,
   "id": "20a289a7",
   "metadata": {
    "scrolled": true
   },
   "outputs": [
    {
     "data": {
      "text/plain": [
       "<matplotlib.collections.PathCollection at 0x7ffaf8e75d60>"
      ]
     },
     "execution_count": 12,
     "metadata": {},
     "output_type": "execute_result"
    },
    {
     "data": {
      "image/png": "[encoded data removed]",
      "text/plain": [
       "<Figure size 640x480 with 1 Axes>"
      ]
     },
     "metadata": {},
     "output_type": "display_data"
    }
   ],
   "source": [
    "import matplotlib.pyplot as plt\n",
    "# rep matrix\n",
    "U, S, Vh = np.linalg.svd(rep_arr)\n",
    "plt.ylabel('singular value')\n",
    "plt.xlabel('ordered rank')\n",
    "plt.title('REP singular values')\n",
    "plt.scatter(range(len(S)), S)"
   ]
  },
  {
   "cell_type": "code",
   "execution_count": 25,
   "id": "9dae5994",
   "metadata": {},
   "outputs": [
    {
     "data": {
      "text/plain": [
       "<matplotlib.collections.PathCollection at 0x7ffb1c3b4880>"
      ]
     },
     "execution_count": 25,
     "metadata": {},
     "output_type": "execute_result"
    },
    {
     "data": {
      "image/png": "[encoded data removed]",
      "text/plain": [
       "<Figure size 640x480 with 1 Axes>"
      ]
     },
     "metadata": {},
     "output_type": "display_data"
    }
   ],
   "source": [
    "plt.scatter(range(len(S[1:])), S[1:])"
   ]
  },
  {
   "cell_type": "code",
   "execution_count": null,
   "id": "25bdc3e9",
   "metadata": {},
   "outputs": [],
   "source": [
    "print(S)"
   ]
  },
  {
   "cell_type": "code",
   "execution_count": 13,
   "id": "279f1328",
   "metadata": {},
   "outputs": [
    {
     "data": {
      "text/plain": [
       "<matplotlib.collections.PathCollection at 0x7ffaf90c3460>"
      ]
     },
     "execution_count": 13,
     "metadata": {},
     "output_type": "execute_result"
    },
    {
     "data": {
      "image/png": "[encoded data removed]",
      "text/plain": [
       "<Figure size 640x480 with 1 Axes>"
      ]
     },
     "metadata": {},
     "output_type": "display_data"
    }
   ],
   "source": [
    "# gdsc matrix\n",
    "U, S, Vh = np.linalg.svd(gdsc_arr)\n",
    "plt.ylabel('singular value')\n",
    "plt.xlabel('ordered rank')\n",
    "plt.title('GDSC singular values')\n",
    "plt.scatter(range(len(S)), S)"
   ]
  },
  {
   "cell_type": "code",
   "execution_count": 14,
   "id": "41494313",
   "metadata": {},
   "outputs": [
    {
     "data": {
      "text/plain": [
       "<matplotlib.collections.PathCollection at 0x7ffb08393370>"
      ]
     },
     "execution_count": 14,
     "metadata": {},
     "output_type": "execute_result"
    },
    {
     "data": {
      "image/png": "[encoded data removed]",
      "text/plain": [
       "<Figure size 640x480 with 1 Axes>"
      ]
     },
     "metadata": {},
     "output_type": "display_data"
    }
   ],
   "source": [
    "# ctd2 matrix\n",
    "U, S, Vh = np.linalg.svd(ctd2_arr)\n",
    "plt.ylabel('singular value')\n",
    "plt.xlabel('ordered rank')\n",
    "plt.title('CTD2 singular values')\n",
    "plt.scatter(range(len(S)), S)"
   ]
  },
  {
   "cell_type": "code",
   "execution_count": 15,
   "id": "2466eb19",
   "metadata": {},
   "outputs": [],
   "source": [
    "def pearson_correlation(vec1, vec2):\n",
    "    pearson_corr = np.corrcoef(vec1, vec2)\n",
    "    return pearson_corr[0, 1]"
   ]
  },
  {
   "cell_type": "code",
   "execution_count": 16,
   "id": "983e0802",
   "metadata": {},
   "outputs": [
    {
     "name": "stdout",
     "output_type": "stream",
     "text": [
      "pearson correlation (r)...\n",
      "REP vs GDSC: 0.5817166012180188\n",
      "REP vs CTD2: 0.5645457390093442\n",
      "GDSC vs CTD2: 0.604617984322504\n"
     ]
    }
   ],
   "source": [
    "# compute correlation between all 3 datasets\n",
    "rep_val = df['REP_auc_overlap'].to_numpy()\n",
    "gdsc_val = df['GDSC_auc_overlap'].to_numpy()\n",
    "ctd2_val = df['CTD2_auc_overlap'].to_numpy()\n",
    "# rep vs gdsc correlation\n",
    "print('pearson correlation (r)...')\n",
    "print('REP vs GDSC: ' + str(pearson_correlation(rep_val, gdsc_val)))\n",
    "# rep vs ctd2 correlation\n",
    "print('REP vs CTD2: ' + str(pearson_correlation(rep_val, ctd2_val)))\n",
    "# gdsc vs ctd2 correlation\n",
    "print('GDSC vs CTD2: ' + str(pearson_correlation(gdsc_val, ctd2_val)))"
   ]
  },
  {
   "cell_type": "code",
   "execution_count": 17,
   "id": "62976bc7",
   "metadata": {},
   "outputs": [],
   "source": [
    "def get_unique_pairs(df, col1, col2):\n",
    "    a = df[[col1, col2]].drop_duplicates()\n",
    "    pairs = list(zip(a[col1], a[col2]))\n",
    "    assert len(pairs) == len(set(pairs))\n",
    "    return pairs\n",
    "\n",
    "def get_train_test_indices(pairs, n_train):\n",
    "    n_pairs = len(pairs)\n",
    "    idx = np.random.permutation(n_pairs)\n",
    "    train_idx = idx[:n_train]\n",
    "    test_idx = idx[n_train:]\n",
    "    assert set(train_idx).isdisjoint(set(test_idx))\n",
    "    return train_idx, test_idx\n",
    "\n",
    "def index_pairs(pairs, indices):\n",
    "    p = np.array(pairs)\n",
    "    idx = np.array(indices)\n",
    "    return list(map(tuple, p[idx]))\n",
    "\n",
    "def split_by_pairs(df, col1, col2, train_pairs, test_pairs):\n",
    "    df['pair'] = list(zip(df[col1], df[col2]))\n",
    "    train_df = df.loc[df['pair'].isin(train_pairs)]\n",
    "    test_df = df.loc[df['pair'].isin(test_pairs)]\n",
    "    assert set(train_df['pair']).isdisjoint(set(test_df['pair']))\n",
    "    return train_df, test_df\n",
    "\n",
    "def split_train_test(df, n_train):\n",
    "    col1 = 'sample_id'\n",
    "    col2 = 'drug_id'\n",
    "    # get unique sample-drug pairs\n",
    "    pairs = get_unique_pairs(df, col1, col2)\n",
    "    train_idx, test_idx = get_train_test_indices(pairs, n_train)\n",
    "    train_pairs = index_pairs(pairs, train_idx)\n",
    "    test_pairs = index_pairs(pairs, test_idx)\n",
    "    return split_by_pairs(df, col1, col2, train_pairs, test_pairs)\n",
    "\n",
    "def low_rank(M, r):\n",
    "    U, S, Vh = np.linalg.svd(M, full_matrices=True)\n",
    "    return np.dot(U[:, :r] * S[:r], Vh[:r,:])\n",
    "\n",
    "def get_singular_values(M):\n",
    "    U, S, Vh = np.linalg.svd(M, full_matrices=True)\n",
    "    return S\n"
   ]
  },
  {
   "cell_type": "code",
   "execution_count": 18,
   "id": "63b6235b",
   "metadata": {},
   "outputs": [],
   "source": [
    "n_train = int(np.ceil(n_obs_cells * 0.9))\n",
    "train_df, test_df = split_train_test(df, n_train)"
   ]
  },
  {
   "cell_type": "code",
   "execution_count": 19,
   "id": "b295c771",
   "metadata": {},
   "outputs": [
    {
     "name": "stdout",
     "output_type": "stream",
     "text": [
      "train_corr: 0.6500826342989203\n",
      "test_corr: 0.609925108618818\n"
     ]
    }
   ],
   "source": [
    "# create matrix from train_df\n",
    "n_rows = n_samples\n",
    "n_cols = n_drugs\n",
    "row_name = 'sample_id'\n",
    "col_name = 'drug_id'\n",
    "val_name = 'REP_auc_overlap'\n",
    "gt_arr = create_matrix(df, n_rows, n_cols, row_name, col_name, val_name)\n",
    "train_arr = create_matrix(train_df, n_rows, n_cols, row_name, col_name, val_name)\n",
    "# get low-rank approximation of matrix\n",
    "rank = 2\n",
    "low_rank_train_arr = low_rank(train_arr, rank)\n",
    "# compute correlation for train vals and test vals\n",
    "# get train-sample-idx\n",
    "row_idx = train_df['sample_id']\n",
    "col_idx = train_df['drug_id']\n",
    "actual = gt_arr[row_idx, col_idx]\n",
    "predicted = low_rank_train_arr[row_idx, col_idx]\n",
    "train_corr = pearson_correlation(actual, predicted)\n",
    "print('train_corr: ' + str(train_corr))\n",
    "# get train-drug-idx\n",
    "# get train-actual vector\n",
    "# get train-predicted vector\n",
    "# get pearson corr\n",
    "# repeat for test\n",
    "row_idx = test_df['sample_id']\n",
    "col_idx = test_df['drug_id']\n",
    "actual = gt_arr[row_idx, col_idx]\n",
    "predicted = low_rank_train_arr[row_idx, col_idx]\n",
    "test_corr = pearson_correlation(actual, predicted)\n",
    "print('test_corr: ' + str(test_corr))"
   ]
  },
  {
   "cell_type": "code",
   "execution_count": 20,
   "id": "8b0b42b1",
   "metadata": {},
   "outputs": [
    {
     "name": "stdout",
     "output_type": "stream",
     "text": [
      "[8.29281881e+01 1.86766418e+01 2.11677993e-14 8.17697869e-15\n",
      " 8.17697869e-15 8.17697869e-15 8.17697869e-15 8.17697869e-15\n",
      " 8.17697869e-15 8.17697869e-15 8.17697869e-15 8.17697869e-15\n",
      " 8.17697869e-15 8.17697869e-15 8.17697869e-15 8.17697869e-15\n",
      " 8.17697869e-15 8.17697869e-15 8.17697869e-15 8.17697869e-15\n",
      " 8.17697869e-15 8.17697869e-15 8.17697869e-15 8.17697869e-15\n",
      " 8.17697869e-15 8.17697869e-15 8.17697869e-15 8.17697869e-15\n",
      " 8.17697869e-15 8.17697869e-15 8.17697869e-15 8.17697869e-15\n",
      " 8.17697869e-15 8.17697869e-15 8.17697869e-15 8.17697869e-15\n",
      " 8.17697869e-15 8.17697869e-15 8.17697869e-15 8.17697869e-15\n",
      " 8.17697869e-15 8.17697869e-15 8.17697869e-15 8.17697869e-15\n",
      " 8.17697869e-15 8.17697869e-15 8.17697869e-15 8.17697869e-15\n",
      " 8.17697869e-15 8.17697869e-15 8.17697869e-15 8.17697869e-15\n",
      " 8.17697869e-15 8.17697869e-15 8.17697869e-15 8.17697869e-15\n",
      " 8.17697869e-15 8.17697869e-15 8.17697869e-15 8.17697869e-15\n",
      " 8.17697869e-15 8.17697869e-15 8.17697869e-15 8.17697869e-15\n",
      " 8.17697869e-15 8.17697869e-15 8.17697869e-15 8.17697869e-15\n",
      " 8.17697869e-15 8.17697869e-15 8.17697869e-15 8.17697869e-15\n",
      " 8.17697869e-15 8.17697869e-15 8.17697869e-15 8.17697869e-15\n",
      " 8.17697869e-15 8.17697869e-15 8.17697869e-15 8.17697869e-15\n",
      " 8.17697869e-15 8.17697869e-15 8.17697869e-15 1.29424414e-15]\n"
     ]
    }
   ],
   "source": [
    "s = get_singular_values(low_rank_train_arr)\n",
    "print(s)"
   ]
  },
  {
   "cell_type": "code",
   "execution_count": 21,
   "id": "845f1099",
   "metadata": {},
   "outputs": [
    {
     "name": "stdout",
     "output_type": "stream",
     "text": [
      "[4.79721078e+00 3.81498398e+00 3.28327349e+00 2.70327305e+00\n",
      " 5.70606636e-16 1.44375424e-16]\n"
     ]
    }
   ],
   "source": [
    "a = np.random.randn(9, 6)\n",
    "low_a = low_rank(a, 4)\n",
    "s = get_singular_values(low_a)\n",
    "print(s)"
   ]
  },
  {
   "cell_type": "code",
   "execution_count": null,
   "id": "a001c427",
   "metadata": {},
   "outputs": [],
   "source": [
    "np.dot(U[:, :5] * S[:5], Vh[:5,:])"
   ]
  },
  {
   "cell_type": "code",
   "execution_count": null,
   "id": "965fd6fe",
   "metadata": {},
   "outputs": [],
   "source": []
  },
  {
   "cell_type": "code",
   "execution_count": null,
   "id": "e79bc000",
   "metadata": {},
   "outputs": [],
   "source": [
    "print(a)"
   ]
  },
  {
   "cell_type": "code",
   "execution_count": null,
   "id": "521b9df5",
   "metadata": {},
   "outputs": [],
   "source": [
    "col1 = 'sample_id'\n",
    "col2 = 'drug_id'\n",
    "# get unique sample-drug pairs\n",
    "pairs = get_unique_pairs(df, col1, col2)\n",
    "train_idx, test_idx = get_train_test_indices(pairs, n_train)\n",
    "print(train_idx)\n",
    "print(test_idx)\n",
    "train_pairs = pairs[train_idx]\n",
    "test_pairs = pairs[test_idx]\n",
    "return split_by_pairs(df, col1, col2, train_pairs, test_pairs)"
   ]
  },
  {
   "cell_type": "code",
   "execution_count": null,
   "id": "e001662f",
   "metadata": {},
   "outputs": [],
   "source": [
    "# ctd2 matrix\n",
    "a = np.random.randn(n_samples, n_drugs)\n",
    "U, S, Vh = np.linalg.svd(a)\n",
    "plt.ylabel('singular value')\n",
    "plt.xlabel('ordered rank')\n",
    "plt.title('singular values of random matrix')\n",
    "plt.scatter(range(len(S)), S)"
   ]
  },
  {
   "cell_type": "code",
   "execution_count": null,
   "id": "340d6c16",
   "metadata": {},
   "outputs": [],
   "source": [
    "# get pairs\n",
    "# choose a random 10%: shuffle, then take first 10%\n",
    "# split df into train and test\n",
    "\n",
    "train_df, test_df = split_train_test(df, n_train)\n",
    "# create (avg) matrix from train set\n"
   ]
  },
  {
   "cell_type": "code",
   "execution_count": null,
   "id": "e91a04c9",
   "metadata": {},
   "outputs": [],
   "source": [
    "# add in random seeds!\n",
    "# for training model, use normal df (not avg df) to split, train, test, etc"
   ]
  },
  {
   "cell_type": "code",
   "execution_count": null,
   "id": "d74a6fc3",
   "metadata": {},
   "outputs": [],
   "source": [
    "# X convert matrix to matrix of means\n",
    "# split indices into train / test (random holdout)\n",
    "# write function to get low rank approximation\n",
    "# write low rank baseline: split data, get low rank approximation, plot over diff values of k"
   ]
  },
  {
   "cell_type": "code",
   "execution_count": null,
   "id": "4e146fe4",
   "metadata": {},
   "outputs": [],
   "source": [
    "# write function to generate low-rank matrix and test\n",
    "# split indices into train / test\n",
    "# do low-rank approximation and compare correlation on train vs test"
   ]
  },
  {
   "cell_type": "code",
   "execution_count": null,
   "id": "91102d20",
   "metadata": {},
   "outputs": [],
   "source": [
    "# If all matrices are low rank, can you:\n",
    "# hold out test data\n",
    "# compute low-rank factorization of each matrix\n",
    "# Do matrix division / find the pseudo inverse to compute U.\n",
    "# How well does U perform?\n",
    "# Is the question here about finding a mapping between two different experiments, or transfer learning in a setting\n",
    "# where the second experiment has only a small amount of data? Because I don't feel like this would help the small\n",
    "# data problem..."
   ]
  },
  {
   "cell_type": "code",
   "execution_count": null,
   "id": "821b3594",
   "metadata": {},
   "outputs": [],
   "source": [
    "# plot distribution of AUC values\n",
    "# for each (sample, drug) pair with multiple values, find variance --> plot variance of these values\n",
    "# need to average together the readings for different (sample, drug) pairs!"
   ]
  },
  {
   "cell_type": "code",
   "execution_count": null,
   "id": "8ef8cf95",
   "metadata": {},
   "outputs": [],
   "source": [
    "# how to deal with missing data???"
   ]
  },
  {
   "cell_type": "code",
   "execution_count": null,
   "id": "22464cc8",
   "metadata": {},
   "outputs": [],
   "source": [
    "# run model w/ randomly held-out data (~10%) and compare train vs test\n",
    "# can also do this with low-rank approx!\n",
    "# And also...\n",
    "# Start notebook!\n",
    "# And also...\n",
    "# Look at sparsity of matrix (to see whether missing entries are evenly distributed or not)\n",
    "# Split matrix into cross-validation folds to do k-fold cross-val (could use block method described by Wes)\n",
    "# And also...\n",
    "# Look at matrices in matlab (with missing data colored differently)...cluster bands in rows and columns\n",
    "# Do a low-rank approximation and try to predict on held-out data\n",
    "# How to do low-rank approximation on matrix with missing data?\n",
    "# What to plot as a sanity check? Correlation between the different datasets? (Concordance?) \n",
    "# Pearson vs spearman corr? Look up these, + concordance!\n",
    "# How are the original authors measuring concordance, and can I reproduce these results?\n",
    "# ** Why are there so many pure 1s in the dataset???"
   ]
  }
 ],
 "metadata": {
  "kernelspec": {
   "display_name": "Python 3 (ipykernel)",
   "language": "python",
   "name": "python3"
  },
  "language_info": {
   "codemirror_mode": {
    "name": "ipython",
    "version": 3
   },
   "file_extension": ".py",
   "mimetype": "text/x-python",
   "name": "python",
   "nbconvert_exporter": "python",
   "pygments_lexer": "ipython3",
   "version": "3.8.16"
  }
 },
 "nbformat": 4,
 "nbformat_minor": 5
}
