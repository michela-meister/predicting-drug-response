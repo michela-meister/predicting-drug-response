{
 "cells": [
  {
   "cell_type": "code",
   "execution_count": 1,
   "id": "aa6839ec",
   "metadata": {},
   "outputs": [],
   "source": [
    "# Do this while looking at PDX and in vitro data in parallel\n",
    "# Delete certain figures/fields based on discussion w Jeff"
   ]
  },
  {
   "cell_type": "code",
   "execution_count": null,
   "id": "cf4a9351",
   "metadata": {},
   "outputs": [],
   "source": [
    "# TODO (0) Note that the volume measurements have to be the mean for all instances in the sample,drug pair!!\n",
    "\n",
    "# Needs to output dataframe with sample, drug, log(V_V0)_mean columns"
   ]
  }
 ],
 "metadata": {
  "kernelspec": {
   "display_name": "Python 3 (ipykernel)",
   "language": "python",
   "name": "python3"
  },
  "language_info": {
   "codemirror_mode": {
    "name": "ipython",
    "version": 3
   },
   "file_extension": ".py",
   "mimetype": "text/x-python",
   "name": "python",
   "nbconvert_exporter": "python",
   "pygments_lexer": "ipython3",
   "version": "3.8.16"
  }
 },
 "nbformat": 4,
 "nbformat_minor": 5
}
