{
 "cells": [
  {
   "cell_type": "code",
   "execution_count": 2,
   "id": "8fbb1316",
   "metadata": {},
   "outputs": [],
   "source": [
    "import numpy as np\n",
    "import pandas as pd\n",
    "import scipy\n",
    "\n",
    "CLIP_LOWER = .01\n",
    "CLIP_UPPER = .99\n",
    "\n",
    "def list_to_indices(keys):\n",
    "    n_keys = len(keys)\n",
    "    values = range(n_keys)\n",
    "    return dict(zip(keys, values))"
   ]
  },
  {
   "cell_type": "code",
   "execution_count": 3,
   "id": "ee49aec3",
   "metadata": {},
   "outputs": [],
   "source": [
    "df = pd.read_csv('~/Documents/research/tansey/msk_intern/pyro_model/data/rep-gdsc-ctd2.csv')\n",
    "# map drugs, samples to indices\n",
    "drugs = df['Drug.Name'].unique()\n",
    "samples = df['ccle'].unique()\n",
    "drug_indices = list_to_indices(drugs)\n",
    "sample_indices = list_to_indices(samples)\n",
    "df['drug_id'] = df['Drug.Name'].replace(drug_indices)\n",
    "df['sample_id'] = df['ccle'].replace(sample_indices)"
   ]
  },
  {
   "cell_type": "code",
   "execution_count": 5,
   "id": "7c51e190",
   "metadata": {},
   "outputs": [
    {
     "name": "stdout",
     "output_type": "stream",
     "text": [
      "25670\n"
     ]
    }
   ],
   "source": [
    "print(len(df))"
   ]
  },
  {
   "cell_type": "code",
   "execution_count": 6,
   "id": "3c161448",
   "metadata": {},
   "outputs": [
    {
     "data": {
      "text/html": [
       "<div>\n",
       "<style scoped>\n",
       "    .dataframe tbody tr th:only-of-type {\n",
       "        vertical-align: middle;\n",
       "    }\n",
       "\n",
       "    .dataframe tbody tr th {\n",
       "        vertical-align: top;\n",
       "    }\n",
       "\n",
       "    .dataframe thead th {\n",
       "        text-align: right;\n",
       "    }\n",
       "</style>\n",
       "<table border=\"1\" class=\"dataframe\">\n",
       "  <thead>\n",
       "    <tr style=\"text-align: right;\">\n",
       "      <th></th>\n",
       "      <th>Drug.Name</th>\n",
       "      <th>ccle</th>\n",
       "      <th>REP_auc_overlap</th>\n",
       "      <th>CTD2_auc_overlap</th>\n",
       "      <th>GDSC_auc_overlap</th>\n",
       "      <th>drug_id</th>\n",
       "      <th>sample_id</th>\n",
       "    </tr>\n",
       "  </thead>\n",
       "  <tbody>\n",
       "    <tr>\n",
       "      <th>0</th>\n",
       "      <td>MASITINIB</td>\n",
       "      <td>MFE296</td>\n",
       "      <td>1.0</td>\n",
       "      <td>0.972505</td>\n",
       "      <td>0.998475</td>\n",
       "      <td>0</td>\n",
       "      <td>0</td>\n",
       "    </tr>\n",
       "    <tr>\n",
       "      <th>1</th>\n",
       "      <td>MASITINIB</td>\n",
       "      <td>PSN1</td>\n",
       "      <td>1.0</td>\n",
       "      <td>0.999926</td>\n",
       "      <td>0.999475</td>\n",
       "      <td>0</td>\n",
       "      <td>1</td>\n",
       "    </tr>\n",
       "    <tr>\n",
       "      <th>2</th>\n",
       "      <td>MASITINIB</td>\n",
       "      <td>KYSE150</td>\n",
       "      <td>1.0</td>\n",
       "      <td>0.999783</td>\n",
       "      <td>0.987924</td>\n",
       "      <td>0</td>\n",
       "      <td>2</td>\n",
       "    </tr>\n",
       "    <tr>\n",
       "      <th>3</th>\n",
       "      <td>MASITINIB</td>\n",
       "      <td>ESS1</td>\n",
       "      <td>1.0</td>\n",
       "      <td>0.993567</td>\n",
       "      <td>0.963070</td>\n",
       "      <td>0</td>\n",
       "      <td>3</td>\n",
       "    </tr>\n",
       "    <tr>\n",
       "      <th>4</th>\n",
       "      <td>MASITINIB</td>\n",
       "      <td>A172</td>\n",
       "      <td>1.0</td>\n",
       "      <td>0.999033</td>\n",
       "      <td>0.999867</td>\n",
       "      <td>0</td>\n",
       "      <td>4</td>\n",
       "    </tr>\n",
       "  </tbody>\n",
       "</table>\n",
       "</div>"
      ],
      "text/plain": [
       "   Drug.Name     ccle  REP_auc_overlap  CTD2_auc_overlap  GDSC_auc_overlap   \n",
       "0  MASITINIB   MFE296              1.0          0.972505          0.998475  \\\n",
       "1  MASITINIB     PSN1              1.0          0.999926          0.999475   \n",
       "2  MASITINIB  KYSE150              1.0          0.999783          0.987924   \n",
       "3  MASITINIB     ESS1              1.0          0.993567          0.963070   \n",
       "4  MASITINIB     A172              1.0          0.999033          0.999867   \n",
       "\n",
       "   drug_id  sample_id  \n",
       "0        0          0  \n",
       "1        0          1  \n",
       "2        0          2  \n",
       "3        0          3  \n",
       "4        0          4  "
      ]
     },
     "execution_count": 6,
     "metadata": {},
     "output_type": "execute_result"
    }
   ],
   "source": [
    "# create overlap dataset\n",
    "columns = ['Drug.Name', 'ccle', 'REP_auc_overlap', 'CTD2_auc_overlap', 'GDSC_auc_overlap', 'drug_id', 'sample_id']\n",
    "overlap_df = df[columns]\n",
    "overlap_df = overlap_df.dropna()\n",
    "overlap_df.head()"
   ]
  },
  {
   "cell_type": "code",
   "execution_count": 7,
   "id": "2c381748",
   "metadata": {},
   "outputs": [
    {
     "name": "stdout",
     "output_type": "stream",
     "text": [
      "25670\n"
     ]
    }
   ],
   "source": [
    "print(len(overlap_df))"
   ]
  },
  {
   "cell_type": "code",
   "execution_count": 8,
   "id": "ec7da85f",
   "metadata": {},
   "outputs": [
    {
     "data": {
      "text/html": [
       "<div>\n",
       "<style scoped>\n",
       "    .dataframe tbody tr th:only-of-type {\n",
       "        vertical-align: middle;\n",
       "    }\n",
       "\n",
       "    .dataframe tbody tr th {\n",
       "        vertical-align: top;\n",
       "    }\n",
       "\n",
       "    .dataframe thead th {\n",
       "        text-align: right;\n",
       "    }\n",
       "</style>\n",
       "<table border=\"1\" class=\"dataframe\">\n",
       "  <thead>\n",
       "    <tr style=\"text-align: right;\">\n",
       "      <th></th>\n",
       "      <th>Drug.Name</th>\n",
       "      <th>ccle</th>\n",
       "      <th>REP_published_auc</th>\n",
       "      <th>CTD2_published_auc</th>\n",
       "      <th>GDSC_published_auc</th>\n",
       "      <th>drug_id</th>\n",
       "      <th>sample_id</th>\n",
       "    </tr>\n",
       "  </thead>\n",
       "  <tbody>\n",
       "    <tr>\n",
       "      <th>0</th>\n",
       "      <td>MASITINIB</td>\n",
       "      <td>MFE296</td>\n",
       "      <td>1.592769</td>\n",
       "      <td>12.921</td>\n",
       "      <td>0.94</td>\n",
       "      <td>0</td>\n",
       "      <td>0</td>\n",
       "    </tr>\n",
       "    <tr>\n",
       "      <th>1</th>\n",
       "      <td>MASITINIB</td>\n",
       "      <td>PSN1</td>\n",
       "      <td>1.684585</td>\n",
       "      <td>14.266</td>\n",
       "      <td>0.88</td>\n",
       "      <td>0</td>\n",
       "      <td>1</td>\n",
       "    </tr>\n",
       "    <tr>\n",
       "      <th>2</th>\n",
       "      <td>MASITINIB</td>\n",
       "      <td>KYSE150</td>\n",
       "      <td>1.409029</td>\n",
       "      <td>14.356</td>\n",
       "      <td>0.98</td>\n",
       "      <td>0</td>\n",
       "      <td>2</td>\n",
       "    </tr>\n",
       "    <tr>\n",
       "      <th>3</th>\n",
       "      <td>MASITINIB</td>\n",
       "      <td>ESS1</td>\n",
       "      <td>1.448933</td>\n",
       "      <td>13.714</td>\n",
       "      <td>0.86</td>\n",
       "      <td>0</td>\n",
       "      <td>3</td>\n",
       "    </tr>\n",
       "    <tr>\n",
       "      <th>4</th>\n",
       "      <td>MASITINIB</td>\n",
       "      <td>A172</td>\n",
       "      <td>1.714048</td>\n",
       "      <td>14.323</td>\n",
       "      <td>0.88</td>\n",
       "      <td>0</td>\n",
       "      <td>4</td>\n",
       "    </tr>\n",
       "  </tbody>\n",
       "</table>\n",
       "</div>"
      ],
      "text/plain": [
       "   Drug.Name     ccle  REP_published_auc  CTD2_published_auc   \n",
       "0  MASITINIB   MFE296           1.592769              12.921  \\\n",
       "1  MASITINIB     PSN1           1.684585              14.266   \n",
       "2  MASITINIB  KYSE150           1.409029              14.356   \n",
       "3  MASITINIB     ESS1           1.448933              13.714   \n",
       "4  MASITINIB     A172           1.714048              14.323   \n",
       "\n",
       "   GDSC_published_auc  drug_id  sample_id  \n",
       "0                0.94        0          0  \n",
       "1                0.88        0          1  \n",
       "2                0.98        0          2  \n",
       "3                0.86        0          3  \n",
       "4                0.88        0          4  "
      ]
     },
     "execution_count": 8,
     "metadata": {},
     "output_type": "execute_result"
    }
   ],
   "source": [
    "# create published dataset\n",
    "columns = ['Drug.Name', 'ccle', 'REP_published_auc', 'CTD2_published_auc', 'GDSC_published_auc', 'drug_id', 'sample_id']\n",
    "pub_df = df[columns]\n",
    "pub_df = pub_df.dropna()\n",
    "pub_df.head()"
   ]
  },
  {
   "cell_type": "code",
   "execution_count": 9,
   "id": "5d058c9b",
   "metadata": {},
   "outputs": [
    {
     "data": {
      "text/plain": [
       "25562"
      ]
     },
     "execution_count": 9,
     "metadata": {},
     "output_type": "execute_result"
    }
   ],
   "source": [
    "len(pub_df)"
   ]
  },
  {
   "cell_type": "code",
   "execution_count": 10,
   "id": "399b2e74",
   "metadata": {},
   "outputs": [],
   "source": [
    "# save both datasets\n",
    "overlap_df.to_csv('~/Documents/research/tansey/msk_intern/pyro_model/data/rep-gdsc-ctd2-overlap.csv', index=False)\n",
    "pub_df.to_csv('~/Documents/research/tansey/msk_intern/pyro_model/data/rep-gdsc-ctd2-pub.csv', index=False)"
   ]
  },
  {
   "cell_type": "code",
   "execution_count": null,
   "id": "779ff157",
   "metadata": {},
   "outputs": [],
   "source": []
  }
 ],
 "metadata": {
  "kernelspec": {
   "display_name": "Python 3 (ipykernel)",
   "language": "python",
   "name": "python3"
  },
  "language_info": {
   "codemirror_mode": {
    "name": "ipython",
    "version": 3
   },
   "file_extension": ".py",
   "mimetype": "text/x-python",
   "name": "python",
   "nbconvert_exporter": "python",
   "pygments_lexer": "ipython3",
   "version": "3.8.16"
  }
 },
 "nbformat": 4,
 "nbformat_minor": 5
}
