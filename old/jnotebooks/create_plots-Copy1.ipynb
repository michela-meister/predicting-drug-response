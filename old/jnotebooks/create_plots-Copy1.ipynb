{
 "cells": [
  {
   "cell_type": "code",
   "execution_count": 11,
   "metadata": {},
   "outputs": [],
   "source": [
    "import matplotlib.pyplot as plt\n",
    "import numpy as np\n",
    "import pandas as pd\n",
    "import seaborn as sns\n",
    "\n",
    "from scipy.stats import norm, normaltest"
   ]
  },
  {
   "cell_type": "code",
   "execution_count": 12,
   "metadata": {},
   "outputs": [],
   "source": [
    "MIN_DURATIONS = [21]\n",
    "DATA_DIR = '../data/welm_'\n",
    "BASE_DIR = '../results/'\n",
    "DICT = {'log_V_V0_cen': 'log_V/V0', 'V/V0_cen': 'V/V0', 'V/C0_cen': 'V/C0', 'lg_V/C0_cen': 'ln(V/C0)', 'log_V/V0_cen': 'log(V/V0)', 'log_V/V0_samp_cen': 'log(V/V0_samp)'}"
   ]
  },
  {
   "cell_type": "code",
   "execution_count": 13,
   "metadata": {},
   "outputs": [],
   "source": [
    "def normality_test(x, alpha):\n",
    "    k2, p = normaltest(x)\n",
    "    s = 'p = ' + str(round(p, 6)) + ' --> '\n",
    "    if p < alpha:  # null hypothesis: x comes from a normal distribution\n",
    "        s += 'p < ' + str(alpha) + '\\n'\n",
    "        s += 'The null hypothesis (that data come from normal dist) CAN be rejected.'\n",
    "    else:\n",
    "        s += 'p >= ' + str(alpha) + '\\n'\n",
    "        s += 'The null hypothesis (that data come from normal dist) CANNOT be rejected.'\n",
    "    return s, p"
   ]
  },
  {
   "cell_type": "code",
   "execution_count": 14,
   "metadata": {},
   "outputs": [],
   "source": [
    "def create_plot(val, group, fn):\n",
    "    if group == 'combined':\n",
    "        x = list(df[val])\n",
    "    elif group == 'treatment':\n",
    "        x = list(df.loc[df.Control == 0][val])\n",
    "    elif group == 'control':\n",
    "        x = list(df.loc[df.Control == 1][val])\n",
    "    else:\n",
    "        print('Error! Value group must be one of: combined, treatment, control.')\n",
    "    fig = plt.figure()\n",
    "    x_axis = np.arange(np.min(x), np.max(x), 0.001)\n",
    "    mean = np.mean(x)\n",
    "    std = np.std(x)\n",
    "    sns.histplot(x, stat='density')\n",
    "    plt.plot(x_axis, norm.pdf(x_axis, loc=mean, scale=std), color='r')\n",
    "    plt.title(DICT[val] + ', ' + group + ', days >= ' + str(min_duration) + ', N = ' + str(len(x)))\n",
    "    s_normality, p = normality_test(x, .05)\n",
    "    s = 'mean: ' + str(round(mean, 3)) + ', std: ' + str(round(std, 3)) + '\\n'\n",
    "    s += s_normality\n",
    "    print(val + ', ' + group + ', p: ' + str(p))\n",
    "    fig.text(.5, -.05, s, ha='center')\n",
    "    plt.savefig(fn, bbox_inches='tight')\n",
    "    plt.clf()\n",
    "    plt.close()"
   ]
  },
  {
   "cell_type": "code",
   "execution_count": 15,
   "metadata": {},
   "outputs": [
    {
     "name": "stdout",
     "output_type": "stream",
     "text": [
      "duration >= 21\n",
      "log_V_V0_cen, combined, p: 7.136597414061487e-17\n",
      "log_V_V0_cen, treatment, p: 4.897194537603441e-08\n",
      "log_V_V0_cen, control, p: 0.3283496728958437\n"
     ]
    }
   ],
   "source": [
    "for min_duration in MIN_DURATIONS:\n",
    "    data_fn = DATA_DIR + 'min_duration_' + str(min_duration) + '.csv'\n",
    "    save_dir = BASE_DIR + '/'\n",
    "    df = pd.read_csv(data_fn)\n",
    "    print('duration >= ' + str(min_duration))\n",
    "    for group in ['combined', 'treatment', 'control']:\n",
    "        for val in ['log_V_V0_cen']:\n",
    "            save_fn = save_dir + val.replace('/', '_') + '-' + group + '.png'\n",
    "            create_plot(val, group, save_fn)"
   ]
  },
  {
   "cell_type": "code",
   "execution_count": null,
   "metadata": {},
   "outputs": [],
   "source": []
  }
 ],
 "metadata": {
  "kernelspec": {
   "display_name": "Python 3 (ipykernel)",
   "language": "python",
   "name": "python3"
  },
  "language_info": {
   "codemirror_mode": {
    "name": "ipython",
    "version": 3
   },
   "file_extension": ".py",
   "mimetype": "text/x-python",
   "name": "python",
   "nbconvert_exporter": "python",
   "pygments_lexer": "ipython3",
   "version": "3.8.16"
  }
 },
 "nbformat": 4,
 "nbformat_minor": 4
}
