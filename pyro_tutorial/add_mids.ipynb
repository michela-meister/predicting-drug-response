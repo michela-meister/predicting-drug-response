{
 "cells": [
  {
   "cell_type": "code",
   "execution_count": 1,
   "metadata": {},
   "outputs": [],
   "source": [
    "import numpy as np\n",
    "import pandas as pd"
   ]
  },
  {
   "cell_type": "code",
   "execution_count": 2,
   "metadata": {},
   "outputs": [
    {
     "name": "stdout",
     "output_type": "stream",
     "text": [
      "Number of rows: 2660\n"
     ]
    }
   ],
   "source": [
    "df = pd.read_csv('data/welm_pdx_clean.csv')\n",
    "print('Number of rows: ' + str(len(df)))\n",
    "cols = ['Sample', 'Drug', 'Replicate Number', 'excel_sheet']\n",
    "estimated_mids = len(df[cols].drop_duplicates())"
   ]
  },
  {
   "cell_type": "code",
   "execution_count": 3,
   "metadata": {},
   "outputs": [
    {
     "data": {
      "text/html": [
       "<div>\n",
       "<style scoped>\n",
       "    .dataframe tbody tr th:only-of-type {\n",
       "        vertical-align: middle;\n",
       "    }\n",
       "\n",
       "    .dataframe tbody tr th {\n",
       "        vertical-align: top;\n",
       "    }\n",
       "\n",
       "    .dataframe thead th {\n",
       "        text-align: right;\n",
       "    }\n",
       "</style>\n",
       "<table border=\"1\" class=\"dataframe\">\n",
       "  <thead>\n",
       "    <tr style=\"text-align: right;\">\n",
       "      <th></th>\n",
       "      <th>Day</th>\n",
       "      <th>Drug</th>\n",
       "      <th>Other Info</th>\n",
       "      <th>Replicate Number</th>\n",
       "      <th>Sample</th>\n",
       "      <th>Tumor Volume mm3</th>\n",
       "      <th>source_file</th>\n",
       "      <th>excel_sheet</th>\n",
       "    </tr>\n",
       "  </thead>\n",
       "  <tbody>\n",
       "    <tr>\n",
       "      <th>0</th>\n",
       "      <td>1.0</td>\n",
       "      <td>Navitoclax</td>\n",
       "      <td>NaN</td>\n",
       "      <td>M0</td>\n",
       "      <td>HCI-010</td>\n",
       "      <td>163.920800</td>\n",
       "      <td>43018_2022_337_MOESM7_ESM.xlsx</td>\n",
       "      <td>6d left</td>\n",
       "    </tr>\n",
       "    <tr>\n",
       "      <th>1</th>\n",
       "      <td>4.0</td>\n",
       "      <td>Navitoclax</td>\n",
       "      <td>NaN</td>\n",
       "      <td>M0</td>\n",
       "      <td>HCI-010</td>\n",
       "      <td>158.374381</td>\n",
       "      <td>43018_2022_337_MOESM7_ESM.xlsx</td>\n",
       "      <td>6d left</td>\n",
       "    </tr>\n",
       "    <tr>\n",
       "      <th>2</th>\n",
       "      <td>8.0</td>\n",
       "      <td>Navitoclax</td>\n",
       "      <td>NaN</td>\n",
       "      <td>M0</td>\n",
       "      <td>HCI-010</td>\n",
       "      <td>197.154048</td>\n",
       "      <td>43018_2022_337_MOESM7_ESM.xlsx</td>\n",
       "      <td>6d left</td>\n",
       "    </tr>\n",
       "    <tr>\n",
       "      <th>3</th>\n",
       "      <td>11.0</td>\n",
       "      <td>Navitoclax</td>\n",
       "      <td>NaN</td>\n",
       "      <td>M0</td>\n",
       "      <td>HCI-010</td>\n",
       "      <td>158.582177</td>\n",
       "      <td>43018_2022_337_MOESM7_ESM.xlsx</td>\n",
       "      <td>6d left</td>\n",
       "    </tr>\n",
       "    <tr>\n",
       "      <th>4</th>\n",
       "      <td>15.0</td>\n",
       "      <td>Navitoclax</td>\n",
       "      <td>NaN</td>\n",
       "      <td>M0</td>\n",
       "      <td>HCI-010</td>\n",
       "      <td>176.645000</td>\n",
       "      <td>43018_2022_337_MOESM7_ESM.xlsx</td>\n",
       "      <td>6d left</td>\n",
       "    </tr>\n",
       "  </tbody>\n",
       "</table>\n",
       "</div>"
      ],
      "text/plain": [
       "    Day        Drug  Other Info Replicate Number   Sample  Tumor Volume mm3  \\\n",
       "0   1.0  Navitoclax         NaN               M0  HCI-010        163.920800   \n",
       "1   4.0  Navitoclax         NaN               M0  HCI-010        158.374381   \n",
       "2   8.0  Navitoclax         NaN               M0  HCI-010        197.154048   \n",
       "3  11.0  Navitoclax         NaN               M0  HCI-010        158.582177   \n",
       "4  15.0  Navitoclax         NaN               M0  HCI-010        176.645000   \n",
       "\n",
       "                      source_file excel_sheet  \n",
       "0  43018_2022_337_MOESM7_ESM.xlsx     6d left  \n",
       "1  43018_2022_337_MOESM7_ESM.xlsx     6d left  \n",
       "2  43018_2022_337_MOESM7_ESM.xlsx     6d left  \n",
       "3  43018_2022_337_MOESM7_ESM.xlsx     6d left  \n",
       "4  43018_2022_337_MOESM7_ESM.xlsx     6d left  "
      ]
     },
     "execution_count": 3,
     "metadata": {},
     "output_type": "execute_result"
    }
   ],
   "source": [
    "df.head()"
   ]
  },
  {
   "cell_type": "markdown",
   "metadata": {},
   "source": [
    "### Give each Sample-Drug-Replicate Number-excel_sheet a unique MID"
   ]
  },
  {
   "cell_type": "code",
   "execution_count": 4,
   "metadata": {},
   "outputs": [],
   "source": [
    "def enumerate_mid_names(mid_names):\n",
    "    mid_dict = {}\n",
    "    for x in range(0, len(mid_names)):\n",
    "        mid_dict[mid_names[x]] = x\n",
    "    return mid_dict\n",
    "\n",
    "old_len = len(df)\n",
    "# Assign each Sample-Drug-Replicate an MID\n",
    "df = df.merge(df.groupby(['Sample', 'Drug', 'Replicate Number', 'excel_sheet']).apply(lambda x: x.name).reset_index(name='MID'), \n",
    "              on=['Sample', 'Drug', 'Replicate Number', 'excel_sheet'], \n",
    "              validate='many_to_one')"
   ]
  },
  {
   "cell_type": "code",
   "execution_count": 5,
   "metadata": {},
   "outputs": [],
   "source": [
    "mid_names = df['MID'].unique()"
   ]
  },
  {
   "cell_type": "code",
   "execution_count": 6,
   "metadata": {},
   "outputs": [],
   "source": [
    "mid_dict = enumerate_mid_names(df['MID'].unique())\n",
    "df['MID'] = df['MID'].map(mid_dict)"
   ]
  },
  {
   "cell_type": "code",
   "execution_count": 7,
   "metadata": {},
   "outputs": [],
   "source": [
    "assert df.MID.nunique() == estimated_mids\n",
    "assert len(df) == old_len"
   ]
  },
  {
   "cell_type": "markdown",
   "metadata": {},
   "source": [
    "### Rename and select columns"
   ]
  },
  {
   "cell_type": "code",
   "execution_count": 8,
   "metadata": {},
   "outputs": [
    {
     "data": {
      "text/html": [
       "<div>\n",
       "<style scoped>\n",
       "    .dataframe tbody tr th:only-of-type {\n",
       "        vertical-align: middle;\n",
       "    }\n",
       "\n",
       "    .dataframe tbody tr th {\n",
       "        vertical-align: top;\n",
       "    }\n",
       "\n",
       "    .dataframe thead th {\n",
       "        text-align: right;\n",
       "    }\n",
       "</style>\n",
       "<table border=\"1\" class=\"dataframe\">\n",
       "  <thead>\n",
       "    <tr style=\"text-align: right;\">\n",
       "      <th></th>\n",
       "      <th>MID</th>\n",
       "      <th>Sample</th>\n",
       "      <th>Drug</th>\n",
       "      <th>Day</th>\n",
       "      <th>Volume</th>\n",
       "    </tr>\n",
       "  </thead>\n",
       "  <tbody>\n",
       "    <tr>\n",
       "      <th>0</th>\n",
       "      <td>0</td>\n",
       "      <td>HCI-010</td>\n",
       "      <td>Navitoclax</td>\n",
       "      <td>1.0</td>\n",
       "      <td>163.920800</td>\n",
       "    </tr>\n",
       "    <tr>\n",
       "      <th>1</th>\n",
       "      <td>0</td>\n",
       "      <td>HCI-010</td>\n",
       "      <td>Navitoclax</td>\n",
       "      <td>4.0</td>\n",
       "      <td>158.374381</td>\n",
       "    </tr>\n",
       "    <tr>\n",
       "      <th>2</th>\n",
       "      <td>0</td>\n",
       "      <td>HCI-010</td>\n",
       "      <td>Navitoclax</td>\n",
       "      <td>8.0</td>\n",
       "      <td>197.154048</td>\n",
       "    </tr>\n",
       "    <tr>\n",
       "      <th>3</th>\n",
       "      <td>0</td>\n",
       "      <td>HCI-010</td>\n",
       "      <td>Navitoclax</td>\n",
       "      <td>11.0</td>\n",
       "      <td>158.582177</td>\n",
       "    </tr>\n",
       "    <tr>\n",
       "      <th>4</th>\n",
       "      <td>0</td>\n",
       "      <td>HCI-010</td>\n",
       "      <td>Navitoclax</td>\n",
       "      <td>15.0</td>\n",
       "      <td>176.645000</td>\n",
       "    </tr>\n",
       "  </tbody>\n",
       "</table>\n",
       "</div>"
      ],
      "text/plain": [
       "   MID   Sample        Drug   Day      Volume\n",
       "0    0  HCI-010  Navitoclax   1.0  163.920800\n",
       "1    0  HCI-010  Navitoclax   4.0  158.374381\n",
       "2    0  HCI-010  Navitoclax   8.0  197.154048\n",
       "3    0  HCI-010  Navitoclax  11.0  158.582177\n",
       "4    0  HCI-010  Navitoclax  15.0  176.645000"
      ]
     },
     "execution_count": 8,
     "metadata": {},
     "output_type": "execute_result"
    }
   ],
   "source": [
    "df = df.rename(columns = {'Tumor Volume mm3': 'Volume'})\n",
    "cols = ['MID', 'Sample', 'Drug', 'Day', 'Volume']\n",
    "df_out = df[cols]\n",
    "df_out.head()"
   ]
  },
  {
   "cell_type": "code",
   "execution_count": 9,
   "metadata": {},
   "outputs": [],
   "source": [
    "df_out.to_csv('data/welm_pdx_clean_mid.csv', index=False)"
   ]
  },
  {
   "cell_type": "markdown",
   "metadata": {},
   "source": [
    "### Computing Stats"
   ]
  },
  {
   "cell_type": "code",
   "execution_count": 10,
   "metadata": {},
   "outputs": [
    {
     "data": {
      "text/plain": [
       "264"
      ]
     },
     "execution_count": 10,
     "metadata": {},
     "output_type": "execute_result"
    }
   ],
   "source": [
    "df_out.MID.nunique()"
   ]
  },
  {
   "cell_type": "markdown",
   "metadata": {},
   "source": [
    "### Investigating odd MIDs"
   ]
  },
  {
   "cell_type": "code",
   "execution_count": null,
   "metadata": {},
   "outputs": [],
   "source": [
    "d = pd.read_csv('../data/welm_pdx.csv')\n",
    "d.head()"
   ]
  },
  {
   "cell_type": "code",
   "execution_count": null,
   "metadata": {},
   "outputs": [],
   "source": [
    "mid_names[21]"
   ]
  },
  {
   "cell_type": "code",
   "execution_count": null,
   "metadata": {},
   "outputs": [],
   "source": [
    "s = d.loc[(d['Sample'] == 'HCI-015') & (d['Drug'] == 'Vehicle') & (d['Replicate Number'] == 'M0')]\n",
    "s"
   ]
  },
  {
   "cell_type": "code",
   "execution_count": null,
   "metadata": {},
   "outputs": [],
   "source": [
    "mid_names[24]"
   ]
  },
  {
   "cell_type": "code",
   "execution_count": null,
   "metadata": {},
   "outputs": [],
   "source": [
    "f = d.loc[(d['Sample'] == 'HCI-015') & (d['Drug'] == 'Vehicle') & (d['Replicate Number'] == 'M3')]\n",
    "f"
   ]
  },
  {
   "cell_type": "code",
   "execution_count": null,
   "metadata": {},
   "outputs": [],
   "source": []
  }
 ],
 "metadata": {
  "kernelspec": {
   "display_name": "Python 3 (ipykernel)",
   "language": "python",
   "name": "python3"
  },
  "language_info": {
   "codemirror_mode": {
    "name": "ipython",
    "version": 3
   },
   "file_extension": ".py",
   "mimetype": "text/x-python",
   "name": "python",
   "nbconvert_exporter": "python",
   "pygments_lexer": "ipython3",
   "version": "3.8.16"
  }
 },
 "nbformat": 4,
 "nbformat_minor": 4
}
