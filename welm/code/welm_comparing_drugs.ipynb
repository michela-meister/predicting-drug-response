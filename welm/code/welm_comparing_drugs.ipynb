{
 "cells": [
  {
   "cell_type": "code",
   "execution_count": 1,
   "metadata": {},
   "outputs": [],
   "source": [
    "import pandas as pd"
   ]
  },
  {
   "cell_type": "code",
   "execution_count": 2,
   "metadata": {},
   "outputs": [],
   "source": [
    "vf = pd.read_csv('../data/welm.csv')\n",
    "pf = pd.read_csv('../data/welm_pdx.csv')"
   ]
  },
  {
   "cell_type": "code",
   "execution_count": 35,
   "metadata": {},
   "outputs": [
    {
     "data": {
      "text/html": [
       "<div>\n",
       "<style scoped>\n",
       "    .dataframe tbody tr th:only-of-type {\n",
       "        vertical-align: middle;\n",
       "    }\n",
       "\n",
       "    .dataframe tbody tr th {\n",
       "        vertical-align: top;\n",
       "    }\n",
       "\n",
       "    .dataframe thead th {\n",
       "        text-align: right;\n",
       "    }\n",
       "</style>\n",
       "<table border=\"1\" class=\"dataframe\">\n",
       "  <thead>\n",
       "    <tr style=\"text-align: right;\">\n",
       "      <th></th>\n",
       "      <th>Unnamed: 0</th>\n",
       "      <th>sample_name</th>\n",
       "      <th>study_id</th>\n",
       "      <th>pubchem_compound_id</th>\n",
       "      <th>pubchem_substance_id</th>\n",
       "      <th>drug_name</th>\n",
       "      <th>concentration_uM</th>\n",
       "      <th>viability</th>\n",
       "      <th>sample_id</th>\n",
       "      <th>drug_id</th>\n",
       "      <th>log_conc</th>\n",
       "    </tr>\n",
       "  </thead>\n",
       "  <tbody>\n",
       "    <tr>\n",
       "      <th>0</th>\n",
       "      <td>365880</td>\n",
       "      <td>HCI-011.E2</td>\n",
       "      <td>welm_2022</td>\n",
       "      <td>24958200.0</td>\n",
       "      <td>85375902.0</td>\n",
       "      <td>Niraparib</td>\n",
       "      <td>10.00000</td>\n",
       "      <td>0.667715</td>\n",
       "      <td>422</td>\n",
       "      <td>1823</td>\n",
       "      <td>1.00000</td>\n",
       "    </tr>\n",
       "    <tr>\n",
       "      <th>1</th>\n",
       "      <td>365881</td>\n",
       "      <td>HCI-008</td>\n",
       "      <td>welm_2022</td>\n",
       "      <td>71236992.0</td>\n",
       "      <td>164132744.0</td>\n",
       "      <td>LY3039478</td>\n",
       "      <td>10.00000</td>\n",
       "      <td>0.938593</td>\n",
       "      <td>420</td>\n",
       "      <td>1492</td>\n",
       "      <td>1.00000</td>\n",
       "    </tr>\n",
       "    <tr>\n",
       "      <th>2</th>\n",
       "      <td>365882</td>\n",
       "      <td>HCI-002</td>\n",
       "      <td>welm_2022</td>\n",
       "      <td>51001932.0</td>\n",
       "      <td>172650844.0</td>\n",
       "      <td>GDC-0032</td>\n",
       "      <td>1.00000</td>\n",
       "      <td>0.596964</td>\n",
       "      <td>417</td>\n",
       "      <td>1161</td>\n",
       "      <td>0.00000</td>\n",
       "    </tr>\n",
       "    <tr>\n",
       "      <th>3</th>\n",
       "      <td>365883</td>\n",
       "      <td>HCI-005.E2</td>\n",
       "      <td>welm_2022</td>\n",
       "      <td>46220502.0</td>\n",
       "      <td>163621010.0</td>\n",
       "      <td>LY2835219 mesylate</td>\n",
       "      <td>0.00025</td>\n",
       "      <td>1.000000</td>\n",
       "      <td>419</td>\n",
       "      <td>1489</td>\n",
       "      <td>-3.60206</td>\n",
       "    </tr>\n",
       "    <tr>\n",
       "      <th>4</th>\n",
       "      <td>365884</td>\n",
       "      <td>HCI-002</td>\n",
       "      <td>welm_2022</td>\n",
       "      <td>NaN</td>\n",
       "      <td>NaN</td>\n",
       "      <td>Apitilosib</td>\n",
       "      <td>10.00000</td>\n",
       "      <td>0.247206</td>\n",
       "      <td>417</td>\n",
       "      <td>285</td>\n",
       "      <td>1.00000</td>\n",
       "    </tr>\n",
       "  </tbody>\n",
       "</table>\n",
       "</div>"
      ],
      "text/plain": [
       "   Unnamed: 0 sample_name   study_id  pubchem_compound_id  \\\n",
       "0      365880  HCI-011.E2  welm_2022           24958200.0   \n",
       "1      365881     HCI-008  welm_2022           71236992.0   \n",
       "2      365882     HCI-002  welm_2022           51001932.0   \n",
       "3      365883  HCI-005.E2  welm_2022           46220502.0   \n",
       "4      365884     HCI-002  welm_2022                  NaN   \n",
       "\n",
       "   pubchem_substance_id           drug_name  concentration_uM  viability  \\\n",
       "0            85375902.0           Niraparib          10.00000   0.667715   \n",
       "1           164132744.0           LY3039478          10.00000   0.938593   \n",
       "2           172650844.0            GDC-0032           1.00000   0.596964   \n",
       "3           163621010.0  LY2835219 mesylate           0.00025   1.000000   \n",
       "4                   NaN          Apitilosib          10.00000   0.247206   \n",
       "\n",
       "   sample_id  drug_id  log_conc  \n",
       "0        422     1823   1.00000  \n",
       "1        420     1492   1.00000  \n",
       "2        417     1161   0.00000  \n",
       "3        419     1489  -3.60206  \n",
       "4        417      285   1.00000  "
      ]
     },
     "execution_count": 35,
     "metadata": {},
     "output_type": "execute_result"
    }
   ],
   "source": [
    "vf.head()"
   ]
  },
  {
   "cell_type": "code",
   "execution_count": 39,
   "metadata": {},
   "outputs": [
    {
     "data": {
      "text/html": [
       "<div>\n",
       "<style scoped>\n",
       "    .dataframe tbody tr th:only-of-type {\n",
       "        vertical-align: middle;\n",
       "    }\n",
       "\n",
       "    .dataframe tbody tr th {\n",
       "        vertical-align: top;\n",
       "    }\n",
       "\n",
       "    .dataframe thead th {\n",
       "        text-align: right;\n",
       "    }\n",
       "</style>\n",
       "<table border=\"1\" class=\"dataframe\">\n",
       "  <thead>\n",
       "    <tr style=\"text-align: right;\">\n",
       "      <th></th>\n",
       "      <th>Day</th>\n",
       "      <th>Drug</th>\n",
       "      <th>Other Info</th>\n",
       "      <th>Replicate Number</th>\n",
       "      <th>Sample</th>\n",
       "      <th>Tumor Volume mm3</th>\n",
       "      <th>source_file</th>\n",
       "      <th>excel_sheet</th>\n",
       "    </tr>\n",
       "  </thead>\n",
       "  <tbody>\n",
       "    <tr>\n",
       "      <th>0</th>\n",
       "      <td>1.0</td>\n",
       "      <td>Navitoclax</td>\n",
       "      <td>NaN</td>\n",
       "      <td>M0</td>\n",
       "      <td>HCI-010</td>\n",
       "      <td>163.920800</td>\n",
       "      <td>43018_2022_337_MOESM7_ESM.xlsx</td>\n",
       "      <td>6d left</td>\n",
       "    </tr>\n",
       "    <tr>\n",
       "      <th>1</th>\n",
       "      <td>4.0</td>\n",
       "      <td>Navitoclax</td>\n",
       "      <td>NaN</td>\n",
       "      <td>M0</td>\n",
       "      <td>HCI-010</td>\n",
       "      <td>158.374381</td>\n",
       "      <td>43018_2022_337_MOESM7_ESM.xlsx</td>\n",
       "      <td>6d left</td>\n",
       "    </tr>\n",
       "    <tr>\n",
       "      <th>2</th>\n",
       "      <td>8.0</td>\n",
       "      <td>Navitoclax</td>\n",
       "      <td>NaN</td>\n",
       "      <td>M0</td>\n",
       "      <td>HCI-010</td>\n",
       "      <td>197.154048</td>\n",
       "      <td>43018_2022_337_MOESM7_ESM.xlsx</td>\n",
       "      <td>6d left</td>\n",
       "    </tr>\n",
       "    <tr>\n",
       "      <th>3</th>\n",
       "      <td>11.0</td>\n",
       "      <td>Navitoclax</td>\n",
       "      <td>NaN</td>\n",
       "      <td>M0</td>\n",
       "      <td>HCI-010</td>\n",
       "      <td>158.582177</td>\n",
       "      <td>43018_2022_337_MOESM7_ESM.xlsx</td>\n",
       "      <td>6d left</td>\n",
       "    </tr>\n",
       "    <tr>\n",
       "      <th>4</th>\n",
       "      <td>15.0</td>\n",
       "      <td>Navitoclax</td>\n",
       "      <td>NaN</td>\n",
       "      <td>M0</td>\n",
       "      <td>HCI-010</td>\n",
       "      <td>176.645000</td>\n",
       "      <td>43018_2022_337_MOESM7_ESM.xlsx</td>\n",
       "      <td>6d left</td>\n",
       "    </tr>\n",
       "  </tbody>\n",
       "</table>\n",
       "</div>"
      ],
      "text/plain": [
       "    Day        Drug Other Info Replicate Number   Sample  Tumor Volume mm3  \\\n",
       "0   1.0  Navitoclax        NaN               M0  HCI-010        163.920800   \n",
       "1   4.0  Navitoclax        NaN               M0  HCI-010        158.374381   \n",
       "2   8.0  Navitoclax        NaN               M0  HCI-010        197.154048   \n",
       "3  11.0  Navitoclax        NaN               M0  HCI-010        158.582177   \n",
       "4  15.0  Navitoclax        NaN               M0  HCI-010        176.645000   \n",
       "\n",
       "                      source_file excel_sheet  \n",
       "0  43018_2022_337_MOESM7_ESM.xlsx     6d left  \n",
       "1  43018_2022_337_MOESM7_ESM.xlsx     6d left  \n",
       "2  43018_2022_337_MOESM7_ESM.xlsx     6d left  \n",
       "3  43018_2022_337_MOESM7_ESM.xlsx     6d left  \n",
       "4  43018_2022_337_MOESM7_ESM.xlsx     6d left  "
      ]
     },
     "execution_count": 39,
     "metadata": {},
     "output_type": "execute_result"
    }
   ],
   "source": [
    "pf.head()"
   ]
  },
  {
   "cell_type": "code",
   "execution_count": 40,
   "metadata": {},
   "outputs": [],
   "source": [
    "assert len(vf) == len(vf.loc[vf['study_id'] == 'welm_2022'])"
   ]
  },
  {
   "cell_type": "markdown",
   "metadata": {},
   "source": [
    "### Comparing samples across invitro (vf) and pdx (pf) datasets"
   ]
  },
  {
   "cell_type": "code",
   "execution_count": 41,
   "metadata": {},
   "outputs": [
    {
     "name": "stdout",
     "output_type": "stream",
     "text": [
      "{'HCI-003.E2', 'HCI-017.E2', 'HCI-005.E2', 'HCI-025', 'HCI-016', 'HCI-024', 'HCI-010', 'HCI-002', 'HCI-012', 'HCI-008', 'HCI-011.E2', 'HCI-027', 'HCI-023', 'HCI-019', 'HCI-015', 'HCI-001'}\n"
     ]
    }
   ],
   "source": [
    "invitro_samples = set(vf.sample_name.unique())\n",
    "print(invitro_samples)"
   ]
  },
  {
   "cell_type": "code",
   "execution_count": 42,
   "metadata": {},
   "outputs": [
    {
     "name": "stdout",
     "output_type": "stream",
     "text": [
      "{'HCI-011', 'HCI-040', 'HCI-016', 'HCI-010', 'HCI-002', 'HCI-044EI', 'HCI-001', 'HCI-044', 'HCI-040EI', 'HCI-012', 'HCI-043', 'HCI-027', 'HCI-015', 'HCI-032', 'HCI-017', 'HCI-003', 'HCI-013', 'HCI-019', 'HCI-018', 'HCI-032EI', 'HCI-013EI', 'HCI-024', 'HCI-051', 'HCI-023'}\n"
     ]
    }
   ],
   "source": [
    "pdx_samples = set(pf.Sample.unique())\n",
    "print(pdx_samples)"
   ]
  },
  {
   "cell_type": "code",
   "execution_count": 43,
   "metadata": {},
   "outputs": [
    {
     "name": "stdout",
     "output_type": "stream",
     "text": [
      "Matching exact sample names: \n",
      "There are 10 exact sample names that match.\n"
     ]
    },
    {
     "data": {
      "text/plain": [
       "{'HCI-001',\n",
       " 'HCI-002',\n",
       " 'HCI-010',\n",
       " 'HCI-012',\n",
       " 'HCI-015',\n",
       " 'HCI-016',\n",
       " 'HCI-019',\n",
       " 'HCI-023',\n",
       " 'HCI-024',\n",
       " 'HCI-027'}"
      ]
     },
     "execution_count": 43,
     "metadata": {},
     "output_type": "execute_result"
    }
   ],
   "source": [
    "print('Matching exact sample names: ')\n",
    "intersection_set = pdx_samples.intersection(invitro_samples)\n",
    "print('There are ' + str(len(intersection_set)) + ' exact sample names that match.')\n",
    "intersection_set"
   ]
  },
  {
   "cell_type": "code",
   "execution_count": 44,
   "metadata": {},
   "outputs": [],
   "source": [
    "def collapse_sample(sample):\n",
    "    if '.' in sample:\n",
    "        return sample.split('.')[0]\n",
    "    elif 'E' in sample:\n",
    "        return sample.split('E')[0]\n",
    "    return sample"
   ]
  },
  {
   "cell_type": "code",
   "execution_count": 45,
   "metadata": {},
   "outputs": [
    {
     "name": "stdout",
     "output_type": "stream",
     "text": [
      "Matching collapsed sample names: \n",
      "There are 13 collapsed sample names that match.\n"
     ]
    },
    {
     "data": {
      "text/plain": [
       "{'HCI-001',\n",
       " 'HCI-002',\n",
       " 'HCI-003',\n",
       " 'HCI-010',\n",
       " 'HCI-011',\n",
       " 'HCI-012',\n",
       " 'HCI-015',\n",
       " 'HCI-016',\n",
       " 'HCI-017',\n",
       " 'HCI-019',\n",
       " 'HCI-023',\n",
       " 'HCI-024',\n",
       " 'HCI-027'}"
      ]
     },
     "execution_count": 45,
     "metadata": {},
     "output_type": "execute_result"
    }
   ],
   "source": [
    "pdx_samples_collapsed = set([collapse_sample(s) for s in pdx_samples])\n",
    "invitro_samples_collapsed = set([collapse_sample(s) for s in invitro_samples])\n",
    "samples_intersect_collapsed = pdx_samples_collapsed.intersection(invitro_samples_collapsed)\n",
    "\n",
    "print('Matching collapsed sample names: ')\n",
    "print('There are ' + str(len(samples_intersect_collapsed)) + ' collapsed sample names that match.')\n",
    "samples_intersect_collapsed"
   ]
  },
  {
   "cell_type": "markdown",
   "metadata": {},
   "source": [
    "### Comparing drugs across invitro (vf) and pdx (mf) datasets"
   ]
  },
  {
   "cell_type": "code",
   "execution_count": 46,
   "metadata": {},
   "outputs": [
    {
     "name": "stdout",
     "output_type": "stream",
     "text": [
      "There are 44 exact in vitro drugs: \n",
      "['Niraparib' 'LY3039478' 'GDC-0032' 'LY2835219 mesylate' 'Apitilosib'\n",
      " 'AZD5363' 'Palbociclib' 'ABT-263' '5-FU' 'LAPATINIB' 'Carboplatin'\n",
      " 'TAK-228' 'Ponatinib' 'ASLAN002' 'SN-38' 'Vismodegib' 'Larotrectinib'\n",
      " 'H-Tamoxifen' 'mk1775' 'Birinapant' 'AZD7762' 'EPZ011989' 'Doxorubicin'\n",
      " 'Tucatinib  ' 'Buparlisib' 'AZD6738' 'RO4929097\\xa0' 'Docetaxel'\n",
      " 'Paclitaxel' 'Methotrexate' 'Cobimetinib' 'Fulvestrant' 'AZD2014'\n",
      " 'Cediranib' 'DAPORINAD' 'Epirubucin' 'Gemcitabine'\n",
      " 'Vemurafenib (PLX4032, RG7204)' 'Ibrutinib' 'Olaparib' 'LDK378'\n",
      " 'EVEROLIMUS' 'Romidepsin' 'AZD8186']\n",
      "\n",
      "There are 25 exact pdx drugs: \n",
      "['Navitoclax' 'Vehicle' 'Docetaxel' 'E2 pellet only'\n",
      " 'E2 pellet + E2 water ' 'E2 ' 'OVX' 'Intact' 'E2' 'Birinapant' 'vehicle'\n",
      " 'RO4929097' 'Irinotecan' 'Birinapant + Irinotecan' 'Birinapant '\n",
      " ' Irinotecan' 'Fulvestrant (40 mg/kg)' 'Fulvestrant (200 mg/kg)'\n",
      " 'Fulvestrant' ' Fulvestrant ' 'AC-T' 'Eribulin' 'Enzalutamide'\n",
      " 'Cabozantinib' 'Talazoparib']\n"
     ]
    }
   ],
   "source": [
    "invitro_drugs = vf.drug_name.unique()\n",
    "pdx_drugs = pf.Drug.unique()\n",
    "print('There are ' + str(len(invitro_drugs)) + ' exact in vitro drugs: ')\n",
    "print(invitro_drugs)\n",
    "print('\\nThere are ' + str(len(pdx_drugs)) + ' exact pdx drugs: ')\n",
    "print(pdx_drugs)"
   ]
  },
  {
   "cell_type": "code",
   "execution_count": 73,
   "metadata": {},
   "outputs": [],
   "source": [
    "# reference to show that ABT-263 is another name for Navitoclax: \n",
    "# https://pubchem.ncbi.nlm.nih.gov/compound/Navitoclax#section=Metabolomics-Workbench-ID\n",
    "DRUG_DICT = {' Irinotecan': 'Irinotecan', ' Fulvestrant': 'Fulvestrant', ' Fulvestrant ': 'Fulvestrant', 'Birinapant ': 'Birinapant',\n",
    "            'Vehicle': 'vehicle', 'RO4929097\\xa0': 'RO4929097', 'ABT-263': 'Navitoclax', \n",
    "             'Fulvestrant (40 mg/kg)': 'Fulvestrant', 'Fulvestrant (200 mg/kg)': 'Fulvestrant'}\n",
    "vals = DRUG_DICT.values()\n",
    "vals_dict = {}\n",
    "for v in vals:\n",
    "    vals_dict[v] = v\n",
    "dict_drug = {**DRUG_DICT, **vals_dict}\n",
    "dict_drug['Docetaxel'] = 'Docetaxel'\n",
    "\n",
    "def collapse_drugs(drugs):\n",
    "    new_list = []\n",
    "    for d in drugs:\n",
    "        # From the paper, it seems that any drug involving E2, OVX, or Intact corresponds to a preparation process. \n",
    "        # We remove these drugs for now.\n",
    "        if not ('E2' in d or 'OVX' in d or 'Intact' in d):\n",
    "            if d in DRUG_DICT.keys():\n",
    "                new_list.append(DRUG_DICT[d])\n",
    "            else:\n",
    "                new_list.append(d)\n",
    "    return new_list"
   ]
  },
  {
   "cell_type": "code",
   "execution_count": 74,
   "metadata": {},
   "outputs": [
    {
     "name": "stdout",
     "output_type": "stream",
     "text": [
      "After collapsing drug names, removing preparation drugs, and collapsing Fulvestrant with different dosages...\n",
      "\n",
      "There are 44 in vitro drugs: \n",
      "{'LY3039478', 'Methotrexate', 'TAK-228', 'AZD6738', 'Birinapant', 'AZD5363', 'EPZ011989', 'mk1775', 'Olaparib', 'Cobimetinib', 'Buparlisib', 'Tucatinib  ', 'Vemurafenib (PLX4032, RG7204)', 'Fulvestrant', 'Cediranib', 'LDK378', 'Vismodegib', 'Doxorubicin', 'Ibrutinib', 'Ponatinib', 'Romidepsin', 'GDC-0032', 'AZD2014', 'SN-38', '5-FU', 'LY2835219 mesylate', 'Apitilosib', 'RO4929097', 'AZD8186', 'Paclitaxel', 'LAPATINIB', 'Navitoclax', 'ASLAN002', 'Carboplatin', 'AZD7762', 'DAPORINAD', 'Gemcitabine', 'Niraparib', 'Larotrectinib', 'Palbociclib', 'Docetaxel', 'Epirubucin', 'EVEROLIMUS', 'H-Tamoxifen'}\n",
      "\n",
      "There are 13 pdx drugs: \n",
      "{'Eribulin', 'Navitoclax', 'Birinapant', 'Docetaxel', 'Cabozantinib', 'Enzalutamide', 'Talazoparib', 'vehicle', 'Irinotecan', 'Birinapant + Irinotecan', 'RO4929097', 'Fulvestrant', 'AC-T'}\n"
     ]
    }
   ],
   "source": [
    "invitro_drugs_collapsed = set(collapse_drugs(invitro_drugs))\n",
    "pdx_drugs_collapsed = set(collapse_drugs(pdx_drugs))\n",
    "print('After collapsing drug names, removing preparation drugs, and collapsing Fulvestrant with different dosages...\\n')\n",
    "print('There are ' + str(len(invitro_drugs_collapsed)) + ' in vitro drugs: ')\n",
    "print(invitro_drugs_collapsed)\n",
    "print('\\nThere are ' + str(len(pdx_drugs_collapsed)) + ' pdx drugs: ')\n",
    "print(pdx_drugs_collapsed)"
   ]
  },
  {
   "cell_type": "code",
   "execution_count": 75,
   "metadata": {},
   "outputs": [
    {
     "name": "stdout",
     "output_type": "stream",
     "text": [
      "There are 5 collapsed drugs in both datasets.\n",
      "{'Navitoclax', 'Birinapant', 'Docetaxel', 'RO4929097', 'Fulvestrant'}\n"
     ]
    }
   ],
   "source": [
    "drug_intersection = invitro_drugs_collapsed.intersection(pdx_drugs_collapsed)\n",
    "print('There are ' + str(len(drug_intersection)) + ' collapsed drugs in both datasets.')\n",
    "print(drug_intersection)"
   ]
  },
  {
   "cell_type": "code",
   "execution_count": 76,
   "metadata": {},
   "outputs": [
    {
     "name": "stdout",
     "output_type": "stream",
     "text": [
      "{'Eribulin', 'Cabozantinib', 'Enzalutamide', 'Talazoparib', 'Irinotecan', 'Birinapant + Irinotecan', 'AC-T'}\n"
     ]
    }
   ],
   "source": [
    "pdx_drugs_remaining = pdx_drugs_collapsed.difference(drug_intersection).difference({'vehicle'})\n",
    "print(pdx_drugs_remaining)"
   ]
  },
  {
   "cell_type": "markdown",
   "metadata": {},
   "source": [
    "### How many (sample, drug) pairs match across the two datasets?"
   ]
  },
  {
   "cell_type": "code",
   "execution_count": 77,
   "metadata": {},
   "outputs": [],
   "source": [
    "samples = list(samples_intersect_collapsed)\n",
    "\n",
    "# create dict to map sample names --> collapsed names\n",
    "sample_dict = {}\n",
    "for s in list(pf.Sample.unique()) + list(vf.sample_name.unique()):\n",
    "    sample_dict[s] = collapse_sample(s)\n",
    "# create dict to map drug names --> collapsed names\n",
    "## For both datasets:\n",
    "# assign collapsed sample name\n",
    "pf['sample_c'] = pf['Sample'].map(sample_dict)\n",
    "pf['drug_c'] = pf['Drug'].map(dict_drug)\n",
    "# assign collapsed drug name\n",
    "vf['sample_c'] = vf['sample_name'].map(sample_dict)\n",
    "vf['drug_c'] = vf['drug_name'].map(dict_drug)"
   ]
  },
  {
   "cell_type": "code",
   "execution_count": 78,
   "metadata": {},
   "outputs": [
    {
     "name": "stdout",
     "output_type": "stream",
     "text": [
      "HCI-017\n",
      "pdx drugs: ['Fulvestrant' 'vehicle']\n",
      "invitro drugs: [nan 'RO4929097' 'Fulvestrant' 'Navitoclax' 'Docetaxel' 'Birinapant']\n",
      "\n",
      "\n",
      "HCI-011\n",
      "pdx drugs: ['Fulvestrant' 'vehicle']\n",
      "invitro drugs: [nan 'Docetaxel' 'Navitoclax' 'Birinapant' 'RO4929097' 'Fulvestrant']\n",
      "\n",
      "\n",
      "HCI-003\n",
      "pdx drugs: ['Fulvestrant' 'vehicle']\n",
      "invitro drugs: [nan 'Fulvestrant' 'Navitoclax' 'Birinapant' 'Docetaxel' 'RO4929097']\n",
      "\n",
      "\n",
      "HCI-016\n",
      "pdx drugs: ['Docetaxel' 'vehicle']\n",
      "invitro drugs: ['Navitoclax' nan 'Fulvestrant' 'Birinapant' 'RO4929097' 'Docetaxel']\n",
      "\n",
      "\n",
      "HCI-024\n",
      "pdx drugs: ['Navitoclax' 'vehicle' 'Docetaxel']\n",
      "invitro drugs: [nan 'Birinapant' 'Fulvestrant' 'Navitoclax' 'RO4929097' 'Docetaxel']\n",
      "\n",
      "\n",
      "HCI-010\n",
      "pdx drugs: ['Navitoclax' 'vehicle' 'Docetaxel' 'RO4929097']\n",
      "invitro drugs: [nan 'Fulvestrant' 'Birinapant' 'RO4929097' 'Navitoclax' 'Docetaxel']\n",
      "\n",
      "\n",
      "HCI-002\n",
      "pdx drugs: ['Navitoclax' 'vehicle' 'Docetaxel' 'Birinapant' 'RO4929097' 'Irinotecan'\n",
      " nan]\n",
      "invitro drugs: [nan 'Docetaxel' 'Navitoclax' 'Birinapant' 'RO4929097' 'Fulvestrant']\n",
      "\n",
      "\n",
      "HCI-012\n",
      "pdx drugs: ['Birinapant' 'vehicle' 'Irinotecan' nan]\n",
      "invitro drugs: [nan 'Birinapant' 'RO4929097' 'Fulvestrant' 'Navitoclax' 'Docetaxel']\n",
      "\n",
      "\n",
      "HCI-027\n",
      "pdx drugs: ['Navitoclax' 'vehicle' 'Docetaxel' 'Birinapant' 'RO4929097']\n",
      "invitro drugs: [nan 'Birinapant' 'Navitoclax' 'Docetaxel' 'Fulvestrant' 'RO4929097']\n",
      "\n",
      "\n",
      "HCI-023\n",
      "pdx drugs: ['Docetaxel' 'vehicle' 'Birinapant' 'Irinotecan' nan]\n",
      "invitro drugs: [nan 'RO4929097' 'Birinapant' 'Navitoclax' 'Fulvestrant' 'Docetaxel']\n",
      "\n",
      "\n",
      "HCI-019\n",
      "pdx drugs: ['Docetaxel' 'vehicle' 'Birinapant']\n",
      "invitro drugs: [nan 'Fulvestrant' 'Navitoclax' 'Birinapant' 'RO4929097' 'Docetaxel']\n",
      "\n",
      "\n",
      "HCI-015\n",
      "pdx drugs: ['Navitoclax' 'vehicle' 'Docetaxel' 'Birinapant' 'RO4929097']\n",
      "invitro drugs: [nan 'Birinapant' 'RO4929097' 'Fulvestrant' 'Navitoclax' 'Docetaxel']\n",
      "\n",
      "\n",
      "HCI-001\n",
      "pdx drugs: ['Docetaxel' 'vehicle' 'Birinapant']\n",
      "invitro drugs: [nan 'RO4929097' 'Fulvestrant' 'Birinapant' 'Navitoclax' 'Docetaxel']\n",
      "\n",
      "\n"
     ]
    }
   ],
   "source": [
    "for s in samples:\n",
    "    print(s)\n",
    "    print('pdx drugs: ' + str(pf.loc[pf.sample_c == s].drug_c.unique()))\n",
    "    print('invitro drugs: ' + str(vf.loc[vf.sample_c == s].drug_c.unique()))\n",
    "    print('\\n')"
   ]
  },
  {
   "cell_type": "code",
   "execution_count": 79,
   "metadata": {},
   "outputs": [],
   "source": [
    "pfc = pf[['sample_c', 'drug_c']].drop_duplicates()\n",
    "vfc = vf[['sample_c', 'drug_c']].drop_duplicates()\n",
    "m = pfc.merge(vfc, on=['sample_c', 'drug_c'], validate='one_to_one').dropna()"
   ]
  },
  {
   "cell_type": "code",
   "execution_count": 80,
   "metadata": {},
   "outputs": [
    {
     "data": {
      "text/html": [
       "<div>\n",
       "<style scoped>\n",
       "    .dataframe tbody tr th:only-of-type {\n",
       "        vertical-align: middle;\n",
       "    }\n",
       "\n",
       "    .dataframe tbody tr th {\n",
       "        vertical-align: top;\n",
       "    }\n",
       "\n",
       "    .dataframe thead th {\n",
       "        text-align: right;\n",
       "    }\n",
       "</style>\n",
       "<table border=\"1\" class=\"dataframe\">\n",
       "  <thead>\n",
       "    <tr style=\"text-align: right;\">\n",
       "      <th></th>\n",
       "      <th>sample_c</th>\n",
       "      <th>drug_c</th>\n",
       "    </tr>\n",
       "  </thead>\n",
       "  <tbody>\n",
       "    <tr>\n",
       "      <th>0</th>\n",
       "      <td>HCI-010</td>\n",
       "      <td>Navitoclax</td>\n",
       "    </tr>\n",
       "    <tr>\n",
       "      <th>1</th>\n",
       "      <td>HCI-024</td>\n",
       "      <td>Navitoclax</td>\n",
       "    </tr>\n",
       "    <tr>\n",
       "      <th>2</th>\n",
       "      <td>HCI-015</td>\n",
       "      <td>Navitoclax</td>\n",
       "    </tr>\n",
       "    <tr>\n",
       "      <th>3</th>\n",
       "      <td>HCI-027</td>\n",
       "      <td>Navitoclax</td>\n",
       "    </tr>\n",
       "    <tr>\n",
       "      <th>4</th>\n",
       "      <td>HCI-002</td>\n",
       "      <td>Navitoclax</td>\n",
       "    </tr>\n",
       "    <tr>\n",
       "      <th>5</th>\n",
       "      <td>HCI-023</td>\n",
       "      <td>Docetaxel</td>\n",
       "    </tr>\n",
       "    <tr>\n",
       "      <th>6</th>\n",
       "      <td>HCI-015</td>\n",
       "      <td>Docetaxel</td>\n",
       "    </tr>\n",
       "    <tr>\n",
       "      <th>7</th>\n",
       "      <td>HCI-019</td>\n",
       "      <td>Docetaxel</td>\n",
       "    </tr>\n",
       "    <tr>\n",
       "      <th>8</th>\n",
       "      <td>HCI-016</td>\n",
       "      <td>Docetaxel</td>\n",
       "    </tr>\n",
       "    <tr>\n",
       "      <th>9</th>\n",
       "      <td>HCI-002</td>\n",
       "      <td>Docetaxel</td>\n",
       "    </tr>\n",
       "    <tr>\n",
       "      <th>10</th>\n",
       "      <td>HCI-027</td>\n",
       "      <td>Docetaxel</td>\n",
       "    </tr>\n",
       "    <tr>\n",
       "      <th>11</th>\n",
       "      <td>HCI-010</td>\n",
       "      <td>Docetaxel</td>\n",
       "    </tr>\n",
       "    <tr>\n",
       "      <th>12</th>\n",
       "      <td>HCI-024</td>\n",
       "      <td>Docetaxel</td>\n",
       "    </tr>\n",
       "    <tr>\n",
       "      <th>13</th>\n",
       "      <td>HCI-001</td>\n",
       "      <td>Docetaxel</td>\n",
       "    </tr>\n",
       "    <tr>\n",
       "      <th>14</th>\n",
       "      <td>HCI-027</td>\n",
       "      <td>Birinapant</td>\n",
       "    </tr>\n",
       "    <tr>\n",
       "      <th>15</th>\n",
       "      <td>HCI-015</td>\n",
       "      <td>Birinapant</td>\n",
       "    </tr>\n",
       "    <tr>\n",
       "      <th>16</th>\n",
       "      <td>HCI-001</td>\n",
       "      <td>Birinapant</td>\n",
       "    </tr>\n",
       "    <tr>\n",
       "      <th>17</th>\n",
       "      <td>HCI-002</td>\n",
       "      <td>Birinapant</td>\n",
       "    </tr>\n",
       "    <tr>\n",
       "      <th>18</th>\n",
       "      <td>HCI-019</td>\n",
       "      <td>Birinapant</td>\n",
       "    </tr>\n",
       "    <tr>\n",
       "      <th>19</th>\n",
       "      <td>HCI-012</td>\n",
       "      <td>Birinapant</td>\n",
       "    </tr>\n",
       "    <tr>\n",
       "      <th>20</th>\n",
       "      <td>HCI-023</td>\n",
       "      <td>Birinapant</td>\n",
       "    </tr>\n",
       "    <tr>\n",
       "      <th>21</th>\n",
       "      <td>HCI-015</td>\n",
       "      <td>RO4929097</td>\n",
       "    </tr>\n",
       "    <tr>\n",
       "      <th>22</th>\n",
       "      <td>HCI-027</td>\n",
       "      <td>RO4929097</td>\n",
       "    </tr>\n",
       "    <tr>\n",
       "      <th>23</th>\n",
       "      <td>HCI-010</td>\n",
       "      <td>RO4929097</td>\n",
       "    </tr>\n",
       "    <tr>\n",
       "      <th>24</th>\n",
       "      <td>HCI-002</td>\n",
       "      <td>RO4929097</td>\n",
       "    </tr>\n",
       "    <tr>\n",
       "      <th>28</th>\n",
       "      <td>HCI-003</td>\n",
       "      <td>Fulvestrant</td>\n",
       "    </tr>\n",
       "    <tr>\n",
       "      <th>29</th>\n",
       "      <td>HCI-011</td>\n",
       "      <td>Fulvestrant</td>\n",
       "    </tr>\n",
       "    <tr>\n",
       "      <th>30</th>\n",
       "      <td>HCI-017</td>\n",
       "      <td>Fulvestrant</td>\n",
       "    </tr>\n",
       "  </tbody>\n",
       "</table>\n",
       "</div>"
      ],
      "text/plain": [
       "   sample_c       drug_c\n",
       "0   HCI-010   Navitoclax\n",
       "1   HCI-024   Navitoclax\n",
       "2   HCI-015   Navitoclax\n",
       "3   HCI-027   Navitoclax\n",
       "4   HCI-002   Navitoclax\n",
       "5   HCI-023    Docetaxel\n",
       "6   HCI-015    Docetaxel\n",
       "7   HCI-019    Docetaxel\n",
       "8   HCI-016    Docetaxel\n",
       "9   HCI-002    Docetaxel\n",
       "10  HCI-027    Docetaxel\n",
       "11  HCI-010    Docetaxel\n",
       "12  HCI-024    Docetaxel\n",
       "13  HCI-001    Docetaxel\n",
       "14  HCI-027   Birinapant\n",
       "15  HCI-015   Birinapant\n",
       "16  HCI-001   Birinapant\n",
       "17  HCI-002   Birinapant\n",
       "18  HCI-019   Birinapant\n",
       "19  HCI-012   Birinapant\n",
       "20  HCI-023   Birinapant\n",
       "21  HCI-015    RO4929097\n",
       "22  HCI-027    RO4929097\n",
       "23  HCI-010    RO4929097\n",
       "24  HCI-002    RO4929097\n",
       "28  HCI-003  Fulvestrant\n",
       "29  HCI-011  Fulvestrant\n",
       "30  HCI-017  Fulvestrant"
      ]
     },
     "execution_count": 80,
     "metadata": {},
     "output_type": "execute_result"
    }
   ],
   "source": [
    "m"
   ]
  },
  {
   "cell_type": "code",
   "execution_count": 81,
   "metadata": {},
   "outputs": [],
   "source": [
    "# Assign each Sample-Drug-Replicate in pf an MID\n",
    "gf = pf.groupby(['Sample', 'Drug', 'Replicate Number']).apply(lambda x: x.name).reset_index(name='MID')\n",
    "pf = pf.merge(gf, on=['Sample', 'Drug', 'Replicate Number'], validate='many_to_one')\n",
    "mid_names = pf['MID'].unique()\n",
    "mid_dict = {}\n",
    "for x in range(0, len(mid_names)):\n",
    "    mid_dict[mid_names[x]] = x\n",
    "pf['MID'] = pf['MID'].map(mid_dict)"
   ]
  },
  {
   "cell_type": "code",
   "execution_count": 88,
   "metadata": {},
   "outputs": [
    {
     "data": {
      "text/plain": [
       "sample_c  drug_c     \n",
       "HCI-001   Birinapant      5\n",
       "          Docetaxel       3\n",
       "HCI-002   Birinapant      5\n",
       "          Docetaxel       3\n",
       "          Navitoclax      3\n",
       "          RO4929097       5\n",
       "HCI-003   Fulvestrant    12\n",
       "HCI-010   Docetaxel       3\n",
       "          Navitoclax      3\n",
       "          RO4929097       3\n",
       "HCI-011   Fulvestrant    15\n",
       "HCI-012   Birinapant     10\n",
       "HCI-015   Birinapant      5\n",
       "          Docetaxel       3\n",
       "          Navitoclax      3\n",
       "          RO4929097       5\n",
       "HCI-016   Docetaxel       3\n",
       "HCI-017   Fulvestrant     6\n",
       "HCI-019   Birinapant      5\n",
       "          Docetaxel       3\n",
       "HCI-023   Birinapant     10\n",
       "          Docetaxel       3\n",
       "HCI-024   Docetaxel       3\n",
       "          Navitoclax      3\n",
       "HCI-027   Birinapant      5\n",
       "          Docetaxel       3\n",
       "          Navitoclax      3\n",
       "          RO4929097       5\n",
       "Name: MID, dtype: int64"
      ]
     },
     "execution_count": 88,
     "metadata": {},
     "output_type": "execute_result"
    }
   ],
   "source": [
    "m = m.merge(pf[['sample_c', 'drug_c', 'MID']].drop_duplicates(), \n",
    "            on = ['sample_c', 'drug_c'], \n",
    "            validate = 'one_to_many')\n",
    "m.groupby(['sample_c', 'drug_c']).MID.count()"
   ]
  },
  {
   "cell_type": "code",
   "execution_count": null,
   "metadata": {},
   "outputs": [],
   "source": [
    "# Navitoclax <--> ABT-263\n",
    "# R04929097 <--> R04929097\\xa0 ?\n",
    "# AC-T <--> doxurobicin cyclophosphamide paclitaxel ???"
   ]
  },
  {
   "cell_type": "code",
   "execution_count": null,
   "metadata": {},
   "outputs": [],
   "source": []
  }
 ],
 "metadata": {
  "kernelspec": {
   "display_name": "Python 3 (ipykernel)",
   "language": "python",
   "name": "python3"
  },
  "language_info": {
   "codemirror_mode": {
    "name": "ipython",
    "version": 3
   },
   "file_extension": ".py",
   "mimetype": "text/x-python",
   "name": "python",
   "nbconvert_exporter": "python",
   "pygments_lexer": "ipython3",
   "version": "3.8.16"
  }
 },
 "nbformat": 4,
 "nbformat_minor": 4
}
