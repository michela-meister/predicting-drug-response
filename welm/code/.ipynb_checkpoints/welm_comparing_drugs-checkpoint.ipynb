{
 "cells": [
  {
   "cell_type": "code",
   "execution_count": 39,
   "metadata": {},
   "outputs": [],
   "source": [
    "import pandas as pd"
   ]
  },
  {
   "cell_type": "code",
   "execution_count": 40,
   "metadata": {},
   "outputs": [],
   "source": [
    "vf = pd.read_csv('../data/welm.csv')\n",
    "pf = pd.read_csv('../data/welm_pdx.csv')"
   ]
  },
  {
   "cell_type": "code",
   "execution_count": 41,
   "metadata": {},
   "outputs": [
    {
     "data": {
      "text/html": [
       "<div>\n",
       "<style scoped>\n",
       "    .dataframe tbody tr th:only-of-type {\n",
       "        vertical-align: middle;\n",
       "    }\n",
       "\n",
       "    .dataframe tbody tr th {\n",
       "        vertical-align: top;\n",
       "    }\n",
       "\n",
       "    .dataframe thead th {\n",
       "        text-align: right;\n",
       "    }\n",
       "</style>\n",
       "<table border=\"1\" class=\"dataframe\">\n",
       "  <thead>\n",
       "    <tr style=\"text-align: right;\">\n",
       "      <th></th>\n",
       "      <th>Unnamed: 0</th>\n",
       "      <th>sample_name</th>\n",
       "      <th>study_id</th>\n",
       "      <th>pubchem_compound_id</th>\n",
       "      <th>pubchem_substance_id</th>\n",
       "      <th>drug_name</th>\n",
       "      <th>concentration_uM</th>\n",
       "      <th>viability</th>\n",
       "      <th>sample_id</th>\n",
       "      <th>drug_id</th>\n",
       "      <th>log_conc</th>\n",
       "    </tr>\n",
       "  </thead>\n",
       "  <tbody>\n",
       "    <tr>\n",
       "      <th>0</th>\n",
       "      <td>365880</td>\n",
       "      <td>HCI-011.E2</td>\n",
       "      <td>welm_2022</td>\n",
       "      <td>24958200.0</td>\n",
       "      <td>85375902.0</td>\n",
       "      <td>Niraparib</td>\n",
       "      <td>10.00000</td>\n",
       "      <td>0.667715</td>\n",
       "      <td>422</td>\n",
       "      <td>1823</td>\n",
       "      <td>1.00000</td>\n",
       "    </tr>\n",
       "    <tr>\n",
       "      <th>1</th>\n",
       "      <td>365881</td>\n",
       "      <td>HCI-008</td>\n",
       "      <td>welm_2022</td>\n",
       "      <td>71236992.0</td>\n",
       "      <td>164132744.0</td>\n",
       "      <td>LY3039478</td>\n",
       "      <td>10.00000</td>\n",
       "      <td>0.938593</td>\n",
       "      <td>420</td>\n",
       "      <td>1492</td>\n",
       "      <td>1.00000</td>\n",
       "    </tr>\n",
       "    <tr>\n",
       "      <th>2</th>\n",
       "      <td>365882</td>\n",
       "      <td>HCI-002</td>\n",
       "      <td>welm_2022</td>\n",
       "      <td>51001932.0</td>\n",
       "      <td>172650844.0</td>\n",
       "      <td>GDC-0032</td>\n",
       "      <td>1.00000</td>\n",
       "      <td>0.596964</td>\n",
       "      <td>417</td>\n",
       "      <td>1161</td>\n",
       "      <td>0.00000</td>\n",
       "    </tr>\n",
       "    <tr>\n",
       "      <th>3</th>\n",
       "      <td>365883</td>\n",
       "      <td>HCI-005.E2</td>\n",
       "      <td>welm_2022</td>\n",
       "      <td>46220502.0</td>\n",
       "      <td>163621010.0</td>\n",
       "      <td>LY2835219 mesylate</td>\n",
       "      <td>0.00025</td>\n",
       "      <td>1.000000</td>\n",
       "      <td>419</td>\n",
       "      <td>1489</td>\n",
       "      <td>-3.60206</td>\n",
       "    </tr>\n",
       "    <tr>\n",
       "      <th>4</th>\n",
       "      <td>365884</td>\n",
       "      <td>HCI-002</td>\n",
       "      <td>welm_2022</td>\n",
       "      <td>NaN</td>\n",
       "      <td>NaN</td>\n",
       "      <td>Apitilosib</td>\n",
       "      <td>10.00000</td>\n",
       "      <td>0.247206</td>\n",
       "      <td>417</td>\n",
       "      <td>285</td>\n",
       "      <td>1.00000</td>\n",
       "    </tr>\n",
       "  </tbody>\n",
       "</table>\n",
       "</div>"
      ],
      "text/plain": [
       "   Unnamed: 0 sample_name   study_id  pubchem_compound_id  \\\n",
       "0      365880  HCI-011.E2  welm_2022           24958200.0   \n",
       "1      365881     HCI-008  welm_2022           71236992.0   \n",
       "2      365882     HCI-002  welm_2022           51001932.0   \n",
       "3      365883  HCI-005.E2  welm_2022           46220502.0   \n",
       "4      365884     HCI-002  welm_2022                  NaN   \n",
       "\n",
       "   pubchem_substance_id           drug_name  concentration_uM  viability  \\\n",
       "0            85375902.0           Niraparib          10.00000   0.667715   \n",
       "1           164132744.0           LY3039478          10.00000   0.938593   \n",
       "2           172650844.0            GDC-0032           1.00000   0.596964   \n",
       "3           163621010.0  LY2835219 mesylate           0.00025   1.000000   \n",
       "4                   NaN          Apitilosib          10.00000   0.247206   \n",
       "\n",
       "   sample_id  drug_id  log_conc  \n",
       "0        422     1823   1.00000  \n",
       "1        420     1492   1.00000  \n",
       "2        417     1161   0.00000  \n",
       "3        419     1489  -3.60206  \n",
       "4        417      285   1.00000  "
      ]
     },
     "execution_count": 41,
     "metadata": {},
     "output_type": "execute_result"
    }
   ],
   "source": [
    "vf.head()"
   ]
  },
  {
   "cell_type": "code",
   "execution_count": 42,
   "metadata": {},
   "outputs": [
    {
     "data": {
      "text/html": [
       "<div>\n",
       "<style scoped>\n",
       "    .dataframe tbody tr th:only-of-type {\n",
       "        vertical-align: middle;\n",
       "    }\n",
       "\n",
       "    .dataframe tbody tr th {\n",
       "        vertical-align: top;\n",
       "    }\n",
       "\n",
       "    .dataframe thead th {\n",
       "        text-align: right;\n",
       "    }\n",
       "</style>\n",
       "<table border=\"1\" class=\"dataframe\">\n",
       "  <thead>\n",
       "    <tr style=\"text-align: right;\">\n",
       "      <th></th>\n",
       "      <th>Day</th>\n",
       "      <th>Drug</th>\n",
       "      <th>Other Info</th>\n",
       "      <th>Replicate Number</th>\n",
       "      <th>Sample</th>\n",
       "      <th>Tumor Volume mm3</th>\n",
       "      <th>source_file</th>\n",
       "      <th>excel_sheet</th>\n",
       "    </tr>\n",
       "  </thead>\n",
       "  <tbody>\n",
       "    <tr>\n",
       "      <th>0</th>\n",
       "      <td>1.0</td>\n",
       "      <td>Navitoclax</td>\n",
       "      <td>NaN</td>\n",
       "      <td>M0</td>\n",
       "      <td>HCI-010</td>\n",
       "      <td>163.920800</td>\n",
       "      <td>43018_2022_337_MOESM7_ESM.xlsx</td>\n",
       "      <td>6d left</td>\n",
       "    </tr>\n",
       "    <tr>\n",
       "      <th>1</th>\n",
       "      <td>4.0</td>\n",
       "      <td>Navitoclax</td>\n",
       "      <td>NaN</td>\n",
       "      <td>M0</td>\n",
       "      <td>HCI-010</td>\n",
       "      <td>158.374381</td>\n",
       "      <td>43018_2022_337_MOESM7_ESM.xlsx</td>\n",
       "      <td>6d left</td>\n",
       "    </tr>\n",
       "    <tr>\n",
       "      <th>2</th>\n",
       "      <td>8.0</td>\n",
       "      <td>Navitoclax</td>\n",
       "      <td>NaN</td>\n",
       "      <td>M0</td>\n",
       "      <td>HCI-010</td>\n",
       "      <td>197.154048</td>\n",
       "      <td>43018_2022_337_MOESM7_ESM.xlsx</td>\n",
       "      <td>6d left</td>\n",
       "    </tr>\n",
       "    <tr>\n",
       "      <th>3</th>\n",
       "      <td>11.0</td>\n",
       "      <td>Navitoclax</td>\n",
       "      <td>NaN</td>\n",
       "      <td>M0</td>\n",
       "      <td>HCI-010</td>\n",
       "      <td>158.582177</td>\n",
       "      <td>43018_2022_337_MOESM7_ESM.xlsx</td>\n",
       "      <td>6d left</td>\n",
       "    </tr>\n",
       "    <tr>\n",
       "      <th>4</th>\n",
       "      <td>15.0</td>\n",
       "      <td>Navitoclax</td>\n",
       "      <td>NaN</td>\n",
       "      <td>M0</td>\n",
       "      <td>HCI-010</td>\n",
       "      <td>176.645000</td>\n",
       "      <td>43018_2022_337_MOESM7_ESM.xlsx</td>\n",
       "      <td>6d left</td>\n",
       "    </tr>\n",
       "  </tbody>\n",
       "</table>\n",
       "</div>"
      ],
      "text/plain": [
       "    Day        Drug Other Info Replicate Number   Sample  Tumor Volume mm3  \\\n",
       "0   1.0  Navitoclax        NaN               M0  HCI-010        163.920800   \n",
       "1   4.0  Navitoclax        NaN               M0  HCI-010        158.374381   \n",
       "2   8.0  Navitoclax        NaN               M0  HCI-010        197.154048   \n",
       "3  11.0  Navitoclax        NaN               M0  HCI-010        158.582177   \n",
       "4  15.0  Navitoclax        NaN               M0  HCI-010        176.645000   \n",
       "\n",
       "                      source_file excel_sheet  \n",
       "0  43018_2022_337_MOESM7_ESM.xlsx     6d left  \n",
       "1  43018_2022_337_MOESM7_ESM.xlsx     6d left  \n",
       "2  43018_2022_337_MOESM7_ESM.xlsx     6d left  \n",
       "3  43018_2022_337_MOESM7_ESM.xlsx     6d left  \n",
       "4  43018_2022_337_MOESM7_ESM.xlsx     6d left  "
      ]
     },
     "execution_count": 42,
     "metadata": {},
     "output_type": "execute_result"
    }
   ],
   "source": [
    "pf.head()"
   ]
  },
  {
   "cell_type": "code",
   "execution_count": 43,
   "metadata": {},
   "outputs": [],
   "source": [
    "assert len(vf) == len(vf.loc[vf['study_id'] == 'welm_2022'])"
   ]
  },
  {
   "cell_type": "markdown",
   "metadata": {},
   "source": [
    "### Comparing samples across invitro (vf) and pdx (pf) datasets"
   ]
  },
  {
   "cell_type": "code",
   "execution_count": 44,
   "metadata": {},
   "outputs": [
    {
     "name": "stdout",
     "output_type": "stream",
     "text": [
      "{'HCI-019', 'HCI-003.E2', 'HCI-015', 'HCI-008', 'HCI-010', 'HCI-012', 'HCI-023', 'HCI-016', 'HCI-025', 'HCI-027', 'HCI-011.E2', 'HCI-017.E2', 'HCI-001', 'HCI-005.E2', 'HCI-024', 'HCI-002'}\n"
     ]
    }
   ],
   "source": [
    "invitro_samples = set(vf.sample_name.unique())\n",
    "print(invitro_samples)"
   ]
  },
  {
   "cell_type": "code",
   "execution_count": 45,
   "metadata": {},
   "outputs": [
    {
     "name": "stdout",
     "output_type": "stream",
     "text": [
      "{'HCI-040', 'HCI-043', 'HCI-010', 'HCI-040EI', 'HCI-027', 'HCI-017', 'HCI-002', 'HCI-044', 'HCI-019', 'HCI-003', 'HCI-013', 'HCI-015', 'HCI-012', 'HCI-044EI', 'HCI-032', 'HCI-051', 'HCI-023', 'HCI-016', 'HCI-001', 'HCI-011', 'HCI-018', 'HCI-024', 'HCI-032EI', 'HCI-013EI'}\n"
     ]
    }
   ],
   "source": [
    "pdx_samples = set(pf.Sample.unique())\n",
    "print(pdx_samples)"
   ]
  },
  {
   "cell_type": "code",
   "execution_count": 46,
   "metadata": {},
   "outputs": [
    {
     "name": "stdout",
     "output_type": "stream",
     "text": [
      "Matching exact sample names: \n",
      "There are 10 exact sample names that match.\n"
     ]
    },
    {
     "data": {
      "text/plain": [
       "{'HCI-001',\n",
       " 'HCI-002',\n",
       " 'HCI-010',\n",
       " 'HCI-012',\n",
       " 'HCI-015',\n",
       " 'HCI-016',\n",
       " 'HCI-019',\n",
       " 'HCI-023',\n",
       " 'HCI-024',\n",
       " 'HCI-027'}"
      ]
     },
     "execution_count": 46,
     "metadata": {},
     "output_type": "execute_result"
    }
   ],
   "source": [
    "print('Matching exact sample names: ')\n",
    "intersection_set = pdx_samples.intersection(invitro_samples)\n",
    "print('There are ' + str(len(intersection_set)) + ' exact sample names that match.')\n",
    "intersection_set"
   ]
  },
  {
   "cell_type": "code",
   "execution_count": 47,
   "metadata": {},
   "outputs": [],
   "source": [
    "def collapse_sample(sample):\n",
    "    if '.' in sample:\n",
    "        return sample.split('.')[0]\n",
    "    elif 'E' in sample:\n",
    "        return sample.split('E')[0]\n",
    "    return sample"
   ]
  },
  {
   "cell_type": "code",
   "execution_count": 98,
   "metadata": {},
   "outputs": [
    {
     "name": "stdout",
     "output_type": "stream",
     "text": [
      "Matching collapsed sample names: \n",
      "There are 13 collapsed sample names that match.\n"
     ]
    },
    {
     "data": {
      "text/plain": [
       "{'HCI-001',\n",
       " 'HCI-002',\n",
       " 'HCI-003',\n",
       " 'HCI-010',\n",
       " 'HCI-011',\n",
       " 'HCI-012',\n",
       " 'HCI-015',\n",
       " 'HCI-016',\n",
       " 'HCI-017',\n",
       " 'HCI-019',\n",
       " 'HCI-023',\n",
       " 'HCI-024',\n",
       " 'HCI-027'}"
      ]
     },
     "execution_count": 98,
     "metadata": {},
     "output_type": "execute_result"
    }
   ],
   "source": [
    "pdx_samples_collapsed = set([collapse_sample(s) for s in pdx_samples])\n",
    "invitro_samples_collapsed = set([collapse_sample(s) for s in invitro_samples])\n",
    "samples_intersect_collapsed = pdx_samples_collapsed.intersection(invitro_samples_collapsed)\n",
    "\n",
    "print('Matching collapsed sample names: ')\n",
    "print('There are ' + str(len(samples_intersect_collapsed)) + ' collapsed sample names that match.')\n",
    "samples_intersect_collapsed"
   ]
  },
  {
   "cell_type": "markdown",
   "metadata": {},
   "source": [
    "### Comparing drugs across invitro (vf) and pdx (mf) datasets"
   ]
  },
  {
   "cell_type": "code",
   "execution_count": 62,
   "metadata": {},
   "outputs": [
    {
     "name": "stdout",
     "output_type": "stream",
     "text": [
      "There are 44 exact in vitro drugs: \n",
      "['Niraparib' 'LY3039478' 'GDC-0032' 'LY2835219 mesylate' 'Apitilosib'\n",
      " 'AZD5363' 'Palbociclib' 'ABT-263' '5-FU' 'LAPATINIB' 'Carboplatin'\n",
      " 'TAK-228' 'Ponatinib' 'ASLAN002' 'SN-38' 'Vismodegib' 'Larotrectinib'\n",
      " 'H-Tamoxifen' 'mk1775' 'Birinapant' 'AZD7762' 'EPZ011989' 'Doxorubicin'\n",
      " 'Tucatinib  ' 'Buparlisib' 'AZD6738' 'RO4929097\\xa0' 'Docetaxel'\n",
      " 'Paclitaxel' 'Methotrexate' 'Cobimetinib' 'Fulvestrant' 'AZD2014'\n",
      " 'Cediranib' 'DAPORINAD' 'Epirubucin' 'Gemcitabine'\n",
      " 'Vemurafenib (PLX4032, RG7204)' 'Ibrutinib' 'Olaparib' 'LDK378'\n",
      " 'EVEROLIMUS' 'Romidepsin' 'AZD8186']\n",
      "\n",
      "There are 25 exact pdx drugs: \n",
      "['Navitoclax' 'Vehicle' 'Docetaxel' 'E2 pellet only'\n",
      " 'E2 pellet + E2 water ' 'E2 ' 'OVX' 'Intact' 'E2' 'Birinapant' 'vehicle'\n",
      " 'RO4929097' 'Irinotecan' 'Birinapant + Irinotecan' 'Birinapant '\n",
      " ' Irinotecan' 'Fulvestrant (40 mg/kg)' 'Fulvestrant (200 mg/kg)'\n",
      " 'Fulvestrant' ' Fulvestrant ' 'AC-T' 'Eribulin' 'Enzalutamide'\n",
      " 'Cabozantinib' 'Talazoparib']\n"
     ]
    }
   ],
   "source": [
    "invitro_drugs = vf.drug_name.unique()\n",
    "pdx_drugs = pf.Drug.unique()\n",
    "print('There are ' + str(len(invitro_drugs)) + ' exact in vitro drugs: ')\n",
    "print(invitro_drugs)\n",
    "print('\\nThere are ' + str(len(pdx_drugs)) + ' exact pdx drugs: ')\n",
    "print(pdx_drugs)"
   ]
  },
  {
   "cell_type": "code",
   "execution_count": 87,
   "metadata": {},
   "outputs": [],
   "source": [
    "# reference to show that ABT-263 is another name for Navitoclax: \n",
    "# https://pubchem.ncbi.nlm.nih.gov/compound/Navitoclax#section=Metabolomics-Workbench-ID\n",
    "DRUG_DICT = {' Irinotecan': 'Irinotecan', ' Fulvestrant': 'Fulvestrant', ' Fulvestrant ': 'Fulvestrant', 'Birinapant ': 'Birinapant',\n",
    "            'Vehicle': 'vehicle', 'RO4929097\\xa0': 'RO4929097', 'ABT-263': 'Navitoclax', \n",
    "             'Fulvestrant (40 mg/kg)': 'Fulvestrant', 'Fulvestrant (200 mg/kg)': 'Fulvestrant'}\n",
    "\n",
    "def collapse_drugs(drugs):\n",
    "    new_list = []\n",
    "    for d in drugs:\n",
    "        # From the paper, it seems that any drug involving E2, OVX, or Intact corresponds to a preparation process. \n",
    "        # We remove these drugs for now.\n",
    "        if not ('E2' in d or 'OVX' in d or 'Intact' in d):\n",
    "            if d in DRUG_DICT.keys():\n",
    "                new_list.append(DRUG_DICT[d])\n",
    "            else:\n",
    "                new_list.append(d)\n",
    "    return new_list"
   ]
  },
  {
   "cell_type": "code",
   "execution_count": 89,
   "metadata": {},
   "outputs": [
    {
     "name": "stdout",
     "output_type": "stream",
     "text": [
      "After collapsing drug names, removing preparation drugs, and collapsing Fulvestrant with different dosages...\n",
      "\n",
      "There are 44 in vitro drugs: \n",
      "{'Docetaxel', 'AZD7762', 'AZD5363', 'Ponatinib', 'LDK378', 'Palbociclib', 'Birinapant', 'AZD8186', 'Fulvestrant', 'Ibrutinib', 'Olaparib', 'LAPATINIB', 'Vismodegib', 'Romidepsin', 'Doxorubicin', 'Carboplatin', 'GDC-0032', 'H-Tamoxifen', 'EPZ011989', 'AZD2014', 'Cobimetinib', 'Apitilosib', 'DAPORINAD', 'Navitoclax', '5-FU', 'Methotrexate', 'LY2835219 mesylate', 'Vemurafenib (PLX4032, RG7204)', 'ASLAN002', 'Niraparib', 'Paclitaxel', 'mk1775', 'Larotrectinib', 'Buparlisib', 'Cediranib', 'LY3039478', 'EVEROLIMUS', 'Tucatinib  ', 'SN-38', 'Epirubucin', 'RO4929097', 'AZD6738', 'Gemcitabine', 'TAK-228'}\n",
      "\n",
      "There are 13 pdx drugs: \n",
      "{'Navitoclax', 'Docetaxel', 'AC-T', 'RO4929097', 'Irinotecan', 'Birinapant + Irinotecan', 'Talazoparib', 'vehicle', 'Birinapant', 'Enzalutamide', 'Fulvestrant', 'Cabozantinib', 'Eribulin'}\n"
     ]
    }
   ],
   "source": [
    "invitro_drugs_collapsed = set(collapse_drugs(invitro_drugs_collapsed))\n",
    "pdx_drugs_collapsed = set(collapse_drugs(pdx_drugs_collapsed))\n",
    "print('After collapsing drug names, removing preparation drugs, and collapsing Fulvestrant with different dosages...\\n')\n",
    "print('There are ' + str(len(invitro_drugs_collapsed)) + ' in vitro drugs: ')\n",
    "print(invitro_drugs_collapsed)\n",
    "print('\\nThere are ' + str(len(pdx_drugs_collapsed)) + ' pdx drugs: ')\n",
    "print(pdx_drugs_collapsed)"
   ]
  },
  {
   "cell_type": "code",
   "execution_count": 91,
   "metadata": {},
   "outputs": [
    {
     "name": "stdout",
     "output_type": "stream",
     "text": [
      "There are 5 collapsed drugs in both datasets.\n",
      "{'Navitoclax', 'Docetaxel', 'RO4929097', 'Birinapant', 'Fulvestrant'}\n"
     ]
    }
   ],
   "source": [
    "drug_intersection = invitro_drugs_collapsed.intersection(pdx_drugs_collapsed)\n",
    "print('There are ' + str(len(drug_intersection)) + ' collapsed drugs in both datasets.')\n",
    "print(drug_intersection)"
   ]
  },
  {
   "cell_type": "code",
   "execution_count": 97,
   "metadata": {},
   "outputs": [
    {
     "name": "stdout",
     "output_type": "stream",
     "text": [
      "{'AC-T', 'Irinotecan', 'Birinapant + Irinotecan', 'Talazoparib', 'Enzalutamide', 'Cabozantinib', 'Eribulin'}\n"
     ]
    }
   ],
   "source": [
    "pdx_drugs_remaining = pdx_drugs_collapsed.difference(drug_intersection).difference({'vehicle'})\n",
    "print(pdx_drugs_remaining)"
   ]
  },
  {
   "cell_type": "markdown",
   "metadata": {},
   "source": [
    "### How many (sample, drug) pairs match across the two datasets?"
   ]
  },
  {
   "cell_type": "code",
   "execution_count": null,
   "metadata": {},
   "outputs": [],
   "source": [
    "drugs = list(drug_intersection)\n",
    "samples = list(samples_intersect_collapsed)\n",
    "\n",
    "# create dict to map sample names --> collapsed names\n",
    "# create dict to map drug names --> collapsed names\n",
    "## For both datasets:\n",
    "# assign collapsed sample name\n",
    "# assign collapsed drug name\n",
    "\n",
    "## For mf:\n",
    "# Assign MIDs\n",
    "\n",
    "## For both datasets:\n",
    "# Select on collapsed sample, collapsed drug names\n",
    "# Join on collapsed sample, collapsed drug names\n",
    "# Count the number of MIDs for each (sample, drug) pair\n",
    "\n",
    "#==========#\n",
    "# For plotting mouse growth:\n",
    "## For each MID:\n",
    "# Select on MID\n",
    "# Plot x = Day, y = Volume\n",
    "# Save plot to file (pdf?) in common directory\n",
    "#(Offline: combine pdfs in directory into master doc you can flip through)\n",
    "\n",
    "#==========#\n",
    "# Then can try different ways of interpolating"
   ]
  },
  {
   "cell_type": "markdown",
   "metadata": {},
   "source": [
    "### Old"
   ]
  },
  {
   "cell_type": "code",
   "execution_count": null,
   "metadata": {},
   "outputs": [],
   "source": [
    "d_drugs = set(df.drug_name.unique())"
   ]
  },
  {
   "cell_type": "code",
   "execution_count": null,
   "metadata": {},
   "outputs": [],
   "source": [
    "m_drugs = set(mf.Drug.unique())"
   ]
  },
  {
   "cell_type": "code",
   "execution_count": null,
   "metadata": {},
   "outputs": [],
   "source": [
    "d_drugs.intersection(m_drugs)"
   ]
  },
  {
   "cell_type": "code",
   "execution_count": null,
   "metadata": {},
   "outputs": [],
   "source": [
    "d_drugs"
   ]
  },
  {
   "cell_type": "code",
   "execution_count": null,
   "metadata": {},
   "outputs": [],
   "source": [
    "m_drugs"
   ]
  },
  {
   "cell_type": "code",
   "execution_count": null,
   "metadata": {},
   "outputs": [],
   "source": [
    "# Navitoclax <--> ABT-263\n",
    "# R04929097 <--> R04929097\\xa0 ?\n",
    "# AC-T <--> doxurobicin cyclophosphamide paclitaxel ???"
   ]
  },
  {
   "cell_type": "code",
   "execution_count": null,
   "metadata": {},
   "outputs": [],
   "source": []
  }
 ],
 "metadata": {
  "kernelspec": {
   "display_name": "Python 3",
   "language": "python",
   "name": "python3"
  },
  "language_info": {
   "codemirror_mode": {
    "name": "ipython",
    "version": 3
   },
   "file_extension": ".py",
   "mimetype": "text/x-python",
   "name": "python",
   "nbconvert_exporter": "python",
   "pygments_lexer": "ipython3",
   "version": "3.8.5"
  }
 },
 "nbformat": 4,
 "nbformat_minor": 4
}
