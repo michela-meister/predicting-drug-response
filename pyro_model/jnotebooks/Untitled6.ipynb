{
 "cells": [
  {
   "cell_type": "code",
   "execution_count": null,
   "id": "15c58c29",
   "metadata": {},
   "outputs": [],
   "source": [
    "import numpy as np\n",
    "import pandas as pd\n",
    "from scipy import interpolate\n",
    "import sys\n",
    "\n",
    "END_DAY = 22\n",
    "MIN_VOL = 1.0\n",
    "NUM_ARGS = 4\n",
    "\n",
    "def get_start_day(df):\n",
    "\tstart_day = df.loc[df.groupby('MID')['Day'].idxmin()]\n",
    "\treturn start_day.rename(columns = {'Day': 'start', 'Volume': 'V0'})\n",
    "\n",
    "def get_last_day(df):\n",
    "\tlast_day = df.loc[df.groupby('MID')['Day'].idxmax()]\n",
    "\treturn last_day.rename(columns = {'Day': 'end', 'Volume': 'end_vol'})\n",
    "\n",
    "def add_volume_columns(df, start_day):\n",
    "\tassert len(start_day) == df.MID.nunique()\n",
    "\told_len = len(df)\n",
    "\tdf = df.merge(start_day[['MID', 'start', 'V0']], on='MID', validate='many_to_one')\n",
    "\tassert old_len == len(df)\n",
    "\t# compute functions of volume\n",
    "\tdf['V_V0'] = df['Volume'].div(df['V0'])\n",
    "\tdf['log(V_V0)'] = np.log2(df['V_V0'])\n",
    "\treturn df\n",
    "\n",
    "def drop_short_duration_mids(df, start_day, end_day):\n",
    "\t# ensure all mids start at day 1\n",
    "\tassert (start_day.start == 1).all()\n",
    "\tlast_day = get_last_day(df)\n",
    "\tmids_to_drop = last_day.loc[last_day.end < end_day].MID.unique()\n",
    "\treturn df.loc[~df.MID.isin(mids_to_drop)]\n",
    "\n",
    "def create_end_day(df, end_day):\n",
    "\tend_df = df.loc[df.Day == end_day]\n",
    "\tassert df.MID.nunique() == end_df.MID.nunique()\n",
    "\tassert end_df.Day.isin([end_day]).all()\n",
    "\treturn end_df[['MID', 'Sample', 'Drug', 'Volume', 'V_V0', 'log(V_V0)']]"
   ]
  },
  {
   "cell_type": "code",
   "execution_count": null,
   "id": "ebd709cb",
   "metadata": {},
   "outputs": [],
   "source": [
    "read_fn = '../results/2023-06-08/clean_and_split_data/split/welm_pdx_clean_mid.csv'\n",
    "df = pd.read_csv(read_fn)\n",
    "df['Volume'] = df['Volume'].clip(lower=MIN_VOL)\n",
    "start_day = get_start_day(df)\n",
    "df = add_volume_columns(df, start_day)\n",
    "df = drop_short_duration_mids(df, start_day, end_day)\n",
    "end_df = create_end_day(df, end_day)\n",
    "end_df.to_csv(write_dir + '/welm_pdx_clean_mid_volume.csv', index=False)"
   ]
  }
 ],
 "metadata": {
  "kernelspec": {
   "display_name": "Python 3 (ipykernel)",
   "language": "python",
   "name": "python3"
  },
  "language_info": {
   "codemirror_mode": {
    "name": "ipython",
    "version": 3
   },
   "file_extension": ".py",
   "mimetype": "text/x-python",
   "name": "python",
   "nbconvert_exporter": "python",
   "pygments_lexer": "ipython3",
   "version": "3.8.16"
  }
 },
 "nbformat": 4,
 "nbformat_minor": 5
}
