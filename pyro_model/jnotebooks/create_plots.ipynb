{
 "cells": [
  {
   "cell_type": "code",
   "execution_count": 2,
   "metadata": {},
   "outputs": [],
   "source": [
    "import matplotlib.pyplot as plt\n",
    "import numpy as np\n",
    "import pandas as pd\n",
    "import seaborn as sns\n",
    "\n",
    "from scipy.stats import norm, normaltest"
   ]
  },
  {
   "cell_type": "code",
   "execution_count": 20,
   "metadata": {},
   "outputs": [],
   "source": [
    "def normality_test(x, alpha):\n",
    "    k2, p = normaltest(x)\n",
    "    s = 'p = ' + str(round(p, 6)) + ' --> '\n",
    "    if p < alpha:  # null hypothesis: x comes from a normal distribution\n",
    "        s += 'p < ' + str(alpha) + '\\n'\n",
    "        s += 'The null hypothesis (that data come from normal dist) CAN be rejected.'\n",
    "    else:\n",
    "        s += 'p >= ' + str(alpha) + '\\n'\n",
    "        s += 'The null hypothesis (that data come from normal dist) CANNOT be rejected.'\n",
    "    return s, p\n",
    "\n",
    "def create_plot(val, group, min_duration, write_fn):\n",
    "    if group == 'combined':\n",
    "        x = list(df[val])\n",
    "    elif group == 'treatment':\n",
    "        x = list(df.loc[~df.control][val])\n",
    "    elif group == 'control':\n",
    "        x = list(df.loc[df.control][val])\n",
    "    else:\n",
    "        print('Error! Value group must be one of: combined, treatment, control.')\n",
    "    fig = plt.figure()\n",
    "    x_axis = np.arange(np.min(x), np.max(x), 0.001)\n",
    "    mean = np.mean(x)\n",
    "    std = np.std(x)\n",
    "    sns.histplot(x, stat='density')\n",
    "    plt.plot(x_axis, norm.pdf(x_axis, loc=mean, scale=std), color='r')\n",
    "    plt.title(val + ', ' + group + ', days >= ' + str(min_duration) + ', N = ' + str(len(x)))\n",
    "    s_normality, p = normality_test(x, .05)\n",
    "    s = 'mean: ' + str(round(mean, 3)) + ', std: ' + str(round(std, 3)) + '\\n'\n",
    "    s += s_normality\n",
    "    print(val + ', ' + group + ', p: ' + str(p))\n",
    "    fig.text(.5, -.05, s, ha='center')\n",
    "    plt.savefig(write_fn, bbox_inches='tight')\n",
    "    plt.clf()\n",
    "    plt.close()"
   ]
  },
  {
   "cell_type": "code",
   "execution_count": 16,
   "metadata": {},
   "outputs": [
    {
     "data": {
      "text/html": [
       "<div>\n",
       "<style scoped>\n",
       "    .dataframe tbody tr th:only-of-type {\n",
       "        vertical-align: middle;\n",
       "    }\n",
       "\n",
       "    .dataframe tbody tr th {\n",
       "        vertical-align: top;\n",
       "    }\n",
       "\n",
       "    .dataframe thead th {\n",
       "        text-align: right;\n",
       "    }\n",
       "</style>\n",
       "<table border=\"1\" class=\"dataframe\">\n",
       "  <thead>\n",
       "    <tr style=\"text-align: right;\">\n",
       "      <th></th>\n",
       "      <th>sample</th>\n",
       "      <th>drug</th>\n",
       "      <th>log(V_V0+1)</th>\n",
       "      <th>log(V_V0+1)_sm</th>\n",
       "      <th>log(V_V0+1)_cen</th>\n",
       "      <th>control</th>\n",
       "    </tr>\n",
       "  </thead>\n",
       "  <tbody>\n",
       "    <tr>\n",
       "      <th>0</th>\n",
       "      <td>HCI-019</td>\n",
       "      <td>Birinapant</td>\n",
       "      <td>4.249973</td>\n",
       "      <td>3.733228</td>\n",
       "      <td>0.516746</td>\n",
       "      <td>False</td>\n",
       "    </tr>\n",
       "    <tr>\n",
       "      <th>1</th>\n",
       "      <td>HCI-019</td>\n",
       "      <td>Birinapant</td>\n",
       "      <td>3.774035</td>\n",
       "      <td>3.733228</td>\n",
       "      <td>0.040807</td>\n",
       "      <td>False</td>\n",
       "    </tr>\n",
       "    <tr>\n",
       "      <th>2</th>\n",
       "      <td>HCI-019</td>\n",
       "      <td>Birinapant</td>\n",
       "      <td>4.703832</td>\n",
       "      <td>3.733228</td>\n",
       "      <td>0.970604</td>\n",
       "      <td>False</td>\n",
       "    </tr>\n",
       "    <tr>\n",
       "      <th>3</th>\n",
       "      <td>HCI-019</td>\n",
       "      <td>Birinapant</td>\n",
       "      <td>3.214331</td>\n",
       "      <td>3.733228</td>\n",
       "      <td>-0.518896</td>\n",
       "      <td>False</td>\n",
       "    </tr>\n",
       "    <tr>\n",
       "      <th>4</th>\n",
       "      <td>HCI-019</td>\n",
       "      <td>Birinapant</td>\n",
       "      <td>2.723967</td>\n",
       "      <td>3.733228</td>\n",
       "      <td>-1.009261</td>\n",
       "      <td>False</td>\n",
       "    </tr>\n",
       "  </tbody>\n",
       "</table>\n",
       "</div>"
      ],
      "text/plain": [
       "    sample        drug log(V_V0+1)  log(V_V0+1)_sm log(V_V0+1)_cen  control\n",
       "0  HCI-019  Birinapant    4.249973        3.733228        0.516746    False\n",
       "1  HCI-019  Birinapant    3.774035        3.733228        0.040807    False\n",
       "2  HCI-019  Birinapant    4.703832        3.733228        0.970604    False\n",
       "3  HCI-019  Birinapant    3.214331        3.733228       -0.518896    False\n",
       "4  HCI-019  Birinapant    2.723967        3.733228       -1.009261    False"
      ]
     },
     "execution_count": 16,
     "metadata": {},
     "output_type": "execute_result"
    }
   ],
   "source": [
    "# read in dataframe\n",
    "read_fn = '../results/2023-05-26/clean_and_split_data/split/train.pkl'\n",
    "df = pd.read_pickle(read_fn)\n",
    "# convert list to rows of datapoints\n",
    "df = df[['sample', 'drug', 'log(V_V0+1)_obs']].explode('log(V_V0+1)_obs')\n",
    "df = df.rename(columns={'log(V_V0+1)_obs': 'log(V_V0+1)'})\n",
    "# compute sample mean\n",
    "df = df.merge(df.groupby(['sample', 'drug'])['log(V_V0+1)'].mean().reset_index(name='log(V_V0+1)_sm'),\n",
    "              on=['sample', 'drug'],\n",
    "              validate='many_to_one')\n",
    "# compute mean-centered measurements\n",
    "df['log(V_V0+1)_cen'] = df['log(V_V0+1)'] - df['log(V_V0+1)_sm']\n",
    "# add control column\n",
    "df['control'] = df['drug'] == 'Vehicle'"
   ]
  },
  {
   "cell_type": "code",
   "execution_count": 21,
   "metadata": {},
   "outputs": [
    {
     "name": "stdout",
     "output_type": "stream",
     "text": [
      "log(V_V0+1)_cen, combined, p: 0.01881645328921245\n",
      "log(V_V0+1)_cen, treatment, p: 0.0744831071620139\n",
      "log(V_V0+1)_cen, control, p: 0.5695087974291817\n"
     ]
    }
   ],
   "source": [
    "val = 'log(V_V0+1)_cen'\n",
    "group = 'combined'\n",
    "min_duration = 21\n",
    "write_fn = '../test_out.png'\n",
    "create_plot(val, 'combined', min_duration, '../tt_combined.png')\n",
    "create_plot(val, 'treatment', min_duration, '../tt_treatment.png')\n",
    "create_plot(val, 'control', min_duration, '../tt_control.png')"
   ]
  },
  {
   "cell_type": "code",
   "execution_count": null,
   "metadata": {},
   "outputs": [],
   "source": []
  }
 ],
 "metadata": {
  "kernelspec": {
   "display_name": "Python 3 (ipykernel)",
   "language": "python",
   "name": "python3"
  },
  "language_info": {
   "codemirror_mode": {
    "name": "ipython",
    "version": 3
   },
   "file_extension": ".py",
   "mimetype": "text/x-python",
   "name": "python",
   "nbconvert_exporter": "python",
   "pygments_lexer": "ipython3",
   "version": "3.8.16"
  }
 },
 "nbformat": 4,
 "nbformat_minor": 4
}
