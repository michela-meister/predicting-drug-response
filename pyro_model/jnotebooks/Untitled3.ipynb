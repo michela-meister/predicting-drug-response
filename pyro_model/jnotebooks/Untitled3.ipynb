{
 "cells": [
  {
   "cell_type": "code",
   "execution_count": 1,
   "id": "cbc3df06",
   "metadata": {},
   "outputs": [],
   "source": [
    "import numpy as np\n",
    "import pandas as pd\n",
    "from scipy import interpolate\n",
    "\n",
    "MIN_VOL = 1.0\n",
    "end_day = 22"
   ]
  },
  {
   "cell_type": "code",
   "execution_count": 2,
   "id": "5b91c453",
   "metadata": {},
   "outputs": [],
   "source": [
    "def get_start_day(df):\n",
    "\tstart_day = df.loc[df.groupby('MID')['Day'].idxmin()]\n",
    "\treturn start_day.rename(columns = {'Day': 'start', 'Volume': 'V0'})\n",
    "\n",
    "def get_last_day(df):\n",
    "\tlast_day = df.loc[df.groupby('MID')['Day'].idxmax()]\n",
    "\treturn last_day.rename(columns = {'Day': 'end', 'Volume': 'end_vol'})\n",
    "\n",
    "def add_volume_columns(df, start_day):\n",
    "\tassert len(start_day) == df.MID.nunique()\n",
    "\told_len = len(df)\n",
    "\tdf = df.merge(start_day[['MID', 'start', 'V0']], on='MID', validate='many_to_one')\n",
    "\tassert old_len == len(df)\n",
    "\t# compute functions of volume\n",
    "\tdf['V_V0'] = df['Volume'].div(df['V0'])\n",
    "\tdf['log(V_V0)'] = np.log2(df['V_V0'])\n",
    "\treturn df\n",
    "\n",
    "def drop_short_duration_mids(df, start_day, end_day):\n",
    "\t# ensure all mids start at day 1\n",
    "\tassert (start_day.start == 1).all()\n",
    "\tlast_day = get_last_day(df)\n",
    "\tmids_to_drop = last_day.loc[last_day.end < end_day].MID.unique()\n",
    "\treturn df.loc[~df.MID.isin(mids_to_drop)]\n",
    "\n",
    "def create_end_day(df, end_day):\n",
    "\tend_df = df.loc[df.Day == end_day]\n",
    "\tassert df.MID.nunique() == end_df.MID.nunique()\n",
    "\tassert end_df.Day.isin([end_day]).all()\n",
    "\treturn end_df[['MID', 'Sample', 'Drug', 'Volume', 'V_V0', 'log(V_V0)']]"
   ]
  },
  {
   "cell_type": "code",
   "execution_count": 3,
   "id": "12e4216a",
   "metadata": {},
   "outputs": [
    {
     "data": {
      "text/html": [
       "<div>\n",
       "<style scoped>\n",
       "    .dataframe tbody tr th:only-of-type {\n",
       "        vertical-align: middle;\n",
       "    }\n",
       "\n",
       "    .dataframe tbody tr th {\n",
       "        vertical-align: top;\n",
       "    }\n",
       "\n",
       "    .dataframe thead th {\n",
       "        text-align: right;\n",
       "    }\n",
       "</style>\n",
       "<table border=\"1\" class=\"dataframe\">\n",
       "  <thead>\n",
       "    <tr style=\"text-align: right;\">\n",
       "      <th></th>\n",
       "      <th>MID</th>\n",
       "      <th>Sample</th>\n",
       "      <th>Drug</th>\n",
       "      <th>Day</th>\n",
       "      <th>Volume</th>\n",
       "    </tr>\n",
       "  </thead>\n",
       "  <tbody>\n",
       "    <tr>\n",
       "      <th>0</th>\n",
       "      <td>0</td>\n",
       "      <td>HCI-010</td>\n",
       "      <td>Navitoclax</td>\n",
       "      <td>1.0</td>\n",
       "      <td>163.920800</td>\n",
       "    </tr>\n",
       "    <tr>\n",
       "      <th>1</th>\n",
       "      <td>0</td>\n",
       "      <td>HCI-010</td>\n",
       "      <td>Navitoclax</td>\n",
       "      <td>4.0</td>\n",
       "      <td>158.374381</td>\n",
       "    </tr>\n",
       "    <tr>\n",
       "      <th>2</th>\n",
       "      <td>0</td>\n",
       "      <td>HCI-010</td>\n",
       "      <td>Navitoclax</td>\n",
       "      <td>8.0</td>\n",
       "      <td>197.154048</td>\n",
       "    </tr>\n",
       "    <tr>\n",
       "      <th>3</th>\n",
       "      <td>0</td>\n",
       "      <td>HCI-010</td>\n",
       "      <td>Navitoclax</td>\n",
       "      <td>11.0</td>\n",
       "      <td>158.582177</td>\n",
       "    </tr>\n",
       "    <tr>\n",
       "      <th>4</th>\n",
       "      <td>0</td>\n",
       "      <td>HCI-010</td>\n",
       "      <td>Navitoclax</td>\n",
       "      <td>15.0</td>\n",
       "      <td>176.645000</td>\n",
       "    </tr>\n",
       "  </tbody>\n",
       "</table>\n",
       "</div>"
      ],
      "text/plain": [
       "   MID   Sample        Drug   Day      Volume\n",
       "0    0  HCI-010  Navitoclax   1.0  163.920800\n",
       "1    0  HCI-010  Navitoclax   4.0  158.374381\n",
       "2    0  HCI-010  Navitoclax   8.0  197.154048\n",
       "3    0  HCI-010  Navitoclax  11.0  158.582177\n",
       "4    0  HCI-010  Navitoclax  15.0  176.645000"
      ]
     },
     "execution_count": 3,
     "metadata": {},
     "output_type": "execute_result"
    }
   ],
   "source": [
    "df = pd.read_csv('../results/2023-05-26/clean_and_split_data/welm_pdx_clean_mid.csv')\n",
    "df.head()"
   ]
  },
  {
   "cell_type": "code",
   "execution_count": 4,
   "id": "fbde7b60",
   "metadata": {},
   "outputs": [
    {
     "name": "stdout",
     "output_type": "stream",
     "text": [
      "num MIDs: 264\n"
     ]
    }
   ],
   "source": [
    "print('num MIDs: ' + str(df.MID.nunique()))"
   ]
  },
  {
   "cell_type": "code",
   "execution_count": 5,
   "id": "9cdf9c82",
   "metadata": {},
   "outputs": [],
   "source": [
    "# clip volumes\n",
    "df['Volume'] = df['Volume'].clip(lower=MIN_VOL)\n",
    "start_day = get_start_day(df)\n",
    "df = add_volume_columns(df, start_day)\n",
    "df = drop_short_duration_mids(df, start_day, end_day)\n",
    "end_df = create_end_day(df, end_day)"
   ]
  },
  {
   "cell_type": "code",
   "execution_count": null,
   "id": "654c019b",
   "metadata": {},
   "outputs": [],
   "source": [
    "df.MID.nunique()"
   ]
  },
  {
   "cell_type": "code",
   "execution_count": null,
   "id": "219c9c14",
   "metadata": {},
   "outputs": [],
   "source": [
    "end_df.MID.nunique()"
   ]
  },
  {
   "cell_type": "code",
   "execution_count": null,
   "id": "9c605439",
   "metadata": {},
   "outputs": [],
   "source": [
    "end_df.head()"
   ]
  },
  {
   "cell_type": "code",
   "execution_count": null,
   "id": "8a1b3743",
   "metadata": {},
   "outputs": [],
   "source": [
    "print('num MIDs: ' + str(df.MID.nunique()))"
   ]
  },
  {
   "cell_type": "code",
   "execution_count": null,
   "id": "83b308ea",
   "metadata": {},
   "outputs": [],
   "source": [
    "df.head()"
   ]
  },
  {
   "cell_type": "code",
   "execution_count": null,
   "id": "55ee737d",
   "metadata": {},
   "outputs": [],
   "source": [
    "def get_vol_value(mid, df, end_day, interpolation_kind):\n",
    "    if len(df.loc[(df.MID == mid) & (df.Day == end_day)]) > 0:\n",
    "        return df.loc[((df.MID == mid) & (df.Day == 22)), 'log(V_V0)'].values[0]\n",
    "    x = df.loc[df.MID == mid]['Day'].to_numpy()\n",
    "    y = df.loc[df.MID == mid]['log(V_V0)'].to_numpy()\n",
    "    assert np.max(x) > end_day\n",
    "    f = interpolate.interp1d(x, y, kind=interpolation_kind)\n",
    "    vfcn = f(end_day)\n",
    "    return vfcn"
   ]
  },
  {
   "cell_type": "code",
   "execution_count": null,
   "id": "3e2ac9b1",
   "metadata": {},
   "outputs": [],
   "source": [
    "# initialize new matrix: MID, Day, log(V_V0)\n",
    "end_df = pd.DataFrame({'MID': [], 'end': [], 'log(V_V0)': []})\n",
    "for mid in list(df.MID.unique()):\n",
    "    vol_value = get_vol_value(mid, df, end_day, 'linear')\n",
    "    end_df.loc[len(end_df)] = [mid, end_day, vol_value]\n",
    "# merge end_df with df on MID\n",
    "m = df[['MID', 'Sample', 'Drug', 'start', 'V0']].drop_duplicates()\n",
    "assert len(m) == df.MID.nunique()\n",
    "m = m.merge(end_df, on='MID', validate='many_to_one')\n",
    "m.head()"
   ]
  },
  {
   "cell_type": "code",
   "execution_count": null,
   "id": "971f5018",
   "metadata": {},
   "outputs": [],
   "source": [
    "# get mids with Day==22\n",
    "# select Day == 22 value and put in column next to it\n",
    "# for each type of interpolation, create column with day 22 value interpolated\n",
    "# compute the mse for each column\n",
    "# output the interpolation function that fits best"
   ]
  },
  {
   "cell_type": "code",
   "execution_count": null,
   "id": "99c55a19",
   "metadata": {},
   "outputs": [],
   "source": [
    "print('day22 mids in df: ' + str(df.loc[df.Day == END_DAY].MID.nunique()))\n",
    "print('>=22 mids in df: ' + str(df.loc[df.Day >= END_DAY].MID.nunique()))"
   ]
  },
  {
   "cell_type": "code",
   "execution_count": null,
   "id": "a78a92c3",
   "metadata": {},
   "outputs": [],
   "source": [
    "# CHOOSING INTERPOLATION FUNCTIONS\n",
    "END_DAY = 22\n",
    "mids_to_keep = df.loc[df.Day == END_DAY].MID.unique()\n",
    "d = df.loc[df.MID.isin(mids_to_keep)].reset_index(drop=True)\n",
    "d = d[['MID', 'Day', 'log(V_V0)']]\n",
    "holdout = d.loc[d.Day == END_DAY].reset_index(drop=True)\n",
    "holdout = holdout.rename(columns = {'log(V_V0)': 'log(V_V0)_test'})\n",
    "d = d.loc[~(d.Day == END_DAY)].reset_index(drop=True)\n",
    "# create end_df\n",
    "end_df = pd.DataFrame({'MID': [], 'end': [], 'linear': [], 'quadratic': [], 'cubic': []})\n",
    "for mid in list(d.MID.unique()):\n",
    "    linear_value = get_vol_value(mid, d, end_day, 'linear')\n",
    "    quadratic_value = get_vol_value(mid, d, end_day, 'quadratic')\n",
    "    cubic_value = get_vol_value(mid, d, end_day, 'cubic')\n",
    "    end_df.loc[len(end_df)] = [mid, end_day, linear_value, quadratic_value, cubic_value]\n",
    "end_df.head()"
   ]
  },
  {
   "cell_type": "code",
   "execution_count": null,
   "id": "efa98216",
   "metadata": {},
   "outputs": [],
   "source": [
    "print(holdout.MID.nunique())\n",
    "print(d.MID.nunique())"
   ]
  },
  {
   "cell_type": "code",
   "execution_count": null,
   "id": "4458651a",
   "metadata": {},
   "outputs": [],
   "source": [
    "holdout.head()"
   ]
  },
  {
   "cell_type": "code",
   "execution_count": null,
   "id": "1331ced9",
   "metadata": {},
   "outputs": [],
   "source": [
    "np.sum(end_df['linear'] - end_df['quadratic'])"
   ]
  },
  {
   "cell_type": "code",
   "execution_count": null,
   "id": "b127fea3",
   "metadata": {},
   "outputs": [],
   "source": [
    "m.start_vol.describe()"
   ]
  },
  {
   "cell_type": "code",
   "execution_count": null,
   "id": "55c6ce27",
   "metadata": {},
   "outputs": [],
   "source": [
    "end_df = pd.DataFrame({'MID': [], 'Day': [], 'log(V_V0)': []})\n",
    "end_df"
   ]
  },
  {
   "cell_type": "code",
   "execution_count": null,
   "id": "47aa9114",
   "metadata": {},
   "outputs": [],
   "source": [
    "end_df.loc[0] = [203, 22, 1.3]\n",
    "end_df"
   ]
  },
  {
   "cell_type": "code",
   "execution_count": null,
   "id": "154c516c",
   "metadata": {},
   "outputs": [],
   "source": [
    "end_df.head()"
   ]
  },
  {
   "cell_type": "code",
   "execution_count": null,
   "id": "315afb70",
   "metadata": {},
   "outputs": [],
   "source": [
    "df.Volume.describe()"
   ]
  },
  {
   "cell_type": "code",
   "execution_count": null,
   "id": "3eff0ba4",
   "metadata": {},
   "outputs": [],
   "source": [
    "\n",
    "interpolate_end_day(df, end_day)\n",
    "create_end_day(df, end_day)"
   ]
  },
  {
   "cell_type": "code",
   "execution_count": null,
   "id": "20db2203",
   "metadata": {},
   "outputs": [],
   "source": [
    "df = pd.DataFrame({'col1':[0,1,0],\n",
    "                   'col2':[2,3,1]})\n",
    "df"
   ]
  },
  {
   "cell_type": "code",
   "execution_count": null,
   "id": "fe0ff827",
   "metadata": {},
   "outputs": [],
   "source": [
    "\n",
    "test = df['col1'].isin([0,1]).all()\n"
   ]
  },
  {
   "cell_type": "code",
   "execution_count": null,
   "id": "fd1cc2d4",
   "metadata": {},
   "outputs": [],
   "source": []
  }
 ],
 "metadata": {
  "kernelspec": {
   "display_name": "Python 3 (ipykernel)",
   "language": "python",
   "name": "python3"
  },
  "language_info": {
   "codemirror_mode": {
    "name": "ipython",
    "version": 3
   },
   "file_extension": ".py",
   "mimetype": "text/x-python",
   "name": "python",
   "nbconvert_exporter": "python",
   "pygments_lexer": "ipython3",
   "version": "3.8.16"
  }
 },
 "nbformat": 4,
 "nbformat_minor": 5
}
