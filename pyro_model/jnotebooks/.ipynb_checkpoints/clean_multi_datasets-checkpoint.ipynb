{
 "cells": [
  {
   "cell_type": "code",
   "execution_count": 1,
   "id": "8fbb1316",
   "metadata": {},
   "outputs": [],
   "source": [
    "import numpy as np\n",
    "import pandas as pd\n",
    "import scipy\n",
    "\n",
    "CLIP_LOWER = .01\n",
    "CLIP_UPPER = .99\n",
    "\n",
    "def list_to_indices(keys):\n",
    "    n_keys = len(keys)\n",
    "    values = range(n_keys)\n",
    "    return dict(zip(keys, values))"
   ]
  },
  {
   "cell_type": "code",
   "execution_count": 2,
   "id": "ee49aec3",
   "metadata": {},
   "outputs": [],
   "source": [
    "df = pd.read_csv('~/Documents/research/tansey/msk_intern/pyro_model/data/rep-gdsc-ctd2.csv')\n",
    "# map drugs, samples to indices\n",
    "drugs = df['Drug.Name'].unique()\n",
    "samples = df['ccle'].unique()\n",
    "drug_indices = list_to_indices(drugs)\n",
    "sample_indices = list_to_indices(samples)\n",
    "df['drug_id'] = df['Drug.Name'].replace(drug_indices)\n",
    "df['sample_id'] = df['ccle'].replace(sample_indices)"
   ]
  },
  {
   "cell_type": "code",
   "execution_count": 3,
   "id": "3ebee1fc",
   "metadata": {},
   "outputs": [],
   "source": [
    "# save dataset\n",
    "df.to_csv('~/Documents/research/tansey/msk_intern/pyro_model/data/rep-gdsc-ctd2-ids.csv', index=False)"
   ]
  },
  {
   "cell_type": "code",
   "execution_count": null,
   "id": "779ff157",
   "metadata": {},
   "outputs": [],
   "source": []
  }
 ],
 "metadata": {
  "kernelspec": {
   "display_name": "Python 3 (ipykernel)",
   "language": "python",
   "name": "python3"
  },
  "language_info": {
   "codemirror_mode": {
    "name": "ipython",
    "version": 3
   },
   "file_extension": ".py",
   "mimetype": "text/x-python",
   "name": "python",
   "nbconvert_exporter": "python",
   "pygments_lexer": "ipython3",
   "version": "3.8.16"
  }
 },
 "nbformat": 4,
 "nbformat_minor": 5
}
