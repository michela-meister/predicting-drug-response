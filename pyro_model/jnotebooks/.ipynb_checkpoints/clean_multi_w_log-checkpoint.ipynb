{
 "cells": [
  {
   "cell_type": "code",
   "execution_count": 1,
   "id": "8fbb1316",
   "metadata": {},
   "outputs": [],
   "source": [
    "import numpy as np\n",
    "import pandas as pd\n",
    "import scipy\n",
    "\n",
    "CLIP_LOWER = .01\n",
    "CLIP_UPPER = .99\n",
    "\n",
    "def list_to_indices(keys):\n",
    "    n_keys = len(keys)\n",
    "    values = range(n_keys)\n",
    "    return dict(zip(keys, values))"
   ]
  },
  {
   "cell_type": "code",
   "execution_count": 2,
   "id": "ee49aec3",
   "metadata": {},
   "outputs": [],
   "source": [
    "df = pd.read_csv('~/Documents/research/tansey/msk_intern/pyro_model/data/rep-gdsc-ctd2.csv')\n",
    "columns = ['Drug.Name', 'ccle', 'REP_auc_overlap', 'CTD2_auc_overlap', 'GDSC_auc_overlap']\n",
    "df = df[columns]\n",
    "# take log of auc's\n",
    "df['log_REP_auc_overlap'] = np.log2(df['REP_auc_overlap'])\n",
    "df['log_GDSC_auc_overlap'] = np.log2(df['GDSC_auc_overlap'])\n",
    "df['log_CTD2_auc_overlap'] = np.log2(df['CTD2_auc_overlap'])\n",
    "# clip and take logit of auc's\n",
    "df['clip_REP_auc_overlap'] = df['REP_auc_overlap'].clip(lower=CLIP_LOWER, upper=CLIP_UPPER)\n",
    "df['clip_GDSC_auc_overlap'] = df['GDSC_auc_overlap'].clip(lower=CLIP_LOWER, upper=CLIP_UPPER)\n",
    "df['clip_CTD2_auc_overlap'] = df['CTD2_auc_overlap'].clip(lower=CLIP_LOWER, upper=CLIP_UPPER)\n",
    "df['logit_REP_auc_overlap'] = scipy.special.logit(df['clip_REP_auc_overlap'])\n",
    "df['logit_GDSC_auc_overlap'] = scipy.special.logit(df['clip_GDSC_auc_overlap'])\n",
    "df['logit_CTD2_auc_overlap'] = scipy.special.logit(df['clip_CTD2_auc_overlap'])\n",
    "# map drugs, samples to indices\n",
    "drugs = df['Drug.Name'].unique()\n",
    "samples = df['ccle'].unique()\n",
    "drug_indices = list_to_indices(drugs)\n",
    "sample_indices = list_to_indices(samples)\n",
    "df['drug_id'] = df['Drug.Name'].replace(drug_indices)\n",
    "df['sample_id'] = df['ccle'].replace(sample_indices)"
   ]
  },
  {
   "cell_type": "code",
   "execution_count": 3,
   "id": "3ebee1fc",
   "metadata": {},
   "outputs": [],
   "source": [
    "# save dataset\n",
    "df.to_csv('~/Documents/research/tansey/msk_intern/pyro_model/data/rep-gdsc-ctd2-clean.csv', index=False)"
   ]
  }
 ],
 "metadata": {
  "kernelspec": {
   "display_name": "Python 3 (ipykernel)",
   "language": "python",
   "name": "python3"
  },
  "language_info": {
   "codemirror_mode": {
    "name": "ipython",
    "version": 3
   },
   "file_extension": ".py",
   "mimetype": "text/x-python",
   "name": "python",
   "nbconvert_exporter": "python",
   "pygments_lexer": "ipython3",
   "version": "3.8.16"
  }
 },
 "nbformat": 4,
 "nbformat_minor": 5
}
