{
 "cells": [
  {
   "cell_type": "code",
   "execution_count": 1,
   "id": "fd66c48b",
   "metadata": {},
   "outputs": [],
   "source": [
    "import numpy as np\n",
    "import pandas as pd\n",
    "\n",
    "MIN_VOL = 1.0\n",
    "end_day = 22"
   ]
  },
  {
   "cell_type": "code",
   "execution_count": 2,
   "id": "f5ec4e13",
   "metadata": {},
   "outputs": [],
   "source": [
    "def get_start_day(df):\n",
    "\tstart_day = df.loc[df.groupby('MID')['Day'].idxmin()]\n",
    "\treturn start_day.rename(columns = {'Day': 'start', 'Volume': 'start_vol'})\n",
    "\n",
    "def get_last_day(df):\n",
    "\tlast_day = df.loc[df.groupby('MID')['Day'].idxmax()]\n",
    "\treturn last_day.rename(columns = {'Day': 'end', 'Volume': 'end_vol'})\n",
    "\n",
    "def add_volume_columns(df, start_day):\n",
    "\tassert len(start_day) == df.MID.nunique()\n",
    "\told_len = len(df)\n",
    "\tdf = df.merge(start_day[['MID', 'start', 'start_vol']], on='MID', validate='many_to_one')\n",
    "\tassert old_len == len(df)\n",
    "\t# compute functions of volume\n",
    "\tdf['V_V0'] = df['Volume'].div(df['start_vol'])\n",
    "\tdf['log(V_V0)'] = np.log2(df['V_V0'])\n",
    "\treturn df\n",
    "\n",
    "def drop_short_duration_mids(df, start_day, end_day):\n",
    "\t# ensure all mids start at day 1\n",
    "\tassert (start_day.start == 1).all()\n",
    "\tlast_day = get_last_day(df)\n",
    "\tmids_to_drop = last_day.loc[last_day.end < end_day].MID.unique()\n",
    "\treturn df.loc[~df.MID.isin(mids_to_drop)]\n",
    "\n",
    "def interpolate_end_day(df, end_day):\n",
    "\treturn df\n",
    "\n",
    "def create_end_day(df, end_day):\n",
    "\tend_df = df.loc[df.Day == end_day]\n",
    "\tassert end_df.Day.isin([end_day]).all()\n",
    "\treturn end_df[['MID', 'Sample', 'Drug', 'Volume', 'V_V0', 'log(V_V0)']]\n",
    "\n",
    "# clip volumes to 1 mm^3\n",
    "# Find V0 for each MID\n",
    "# Add V/V0 col, grouped by each MID\n",
    "# Add log(V/V0) col for each MID\n",
    "# Select MIDs with end-day > 21\n",
    "# For ea MID, interpolate log(V/V0) at day 21\n",
    "#"
   ]
  },
  {
   "cell_type": "code",
   "execution_count": 3,
   "id": "60309053",
   "metadata": {},
   "outputs": [
    {
     "data": {
      "text/html": [
       "<div>\n",
       "<style scoped>\n",
       "    .dataframe tbody tr th:only-of-type {\n",
       "        vertical-align: middle;\n",
       "    }\n",
       "\n",
       "    .dataframe tbody tr th {\n",
       "        vertical-align: top;\n",
       "    }\n",
       "\n",
       "    .dataframe thead th {\n",
       "        text-align: right;\n",
       "    }\n",
       "</style>\n",
       "<table border=\"1\" class=\"dataframe\">\n",
       "  <thead>\n",
       "    <tr style=\"text-align: right;\">\n",
       "      <th></th>\n",
       "      <th>MID</th>\n",
       "      <th>Sample</th>\n",
       "      <th>Drug</th>\n",
       "      <th>Day</th>\n",
       "      <th>Volume</th>\n",
       "    </tr>\n",
       "  </thead>\n",
       "  <tbody>\n",
       "    <tr>\n",
       "      <th>0</th>\n",
       "      <td>0</td>\n",
       "      <td>HCI-010</td>\n",
       "      <td>Navitoclax</td>\n",
       "      <td>1.0</td>\n",
       "      <td>163.920800</td>\n",
       "    </tr>\n",
       "    <tr>\n",
       "      <th>1</th>\n",
       "      <td>0</td>\n",
       "      <td>HCI-010</td>\n",
       "      <td>Navitoclax</td>\n",
       "      <td>4.0</td>\n",
       "      <td>158.374381</td>\n",
       "    </tr>\n",
       "    <tr>\n",
       "      <th>2</th>\n",
       "      <td>0</td>\n",
       "      <td>HCI-010</td>\n",
       "      <td>Navitoclax</td>\n",
       "      <td>8.0</td>\n",
       "      <td>197.154048</td>\n",
       "    </tr>\n",
       "    <tr>\n",
       "      <th>3</th>\n",
       "      <td>0</td>\n",
       "      <td>HCI-010</td>\n",
       "      <td>Navitoclax</td>\n",
       "      <td>11.0</td>\n",
       "      <td>158.582177</td>\n",
       "    </tr>\n",
       "    <tr>\n",
       "      <th>4</th>\n",
       "      <td>0</td>\n",
       "      <td>HCI-010</td>\n",
       "      <td>Navitoclax</td>\n",
       "      <td>15.0</td>\n",
       "      <td>176.645000</td>\n",
       "    </tr>\n",
       "  </tbody>\n",
       "</table>\n",
       "</div>"
      ],
      "text/plain": [
       "   MID   Sample        Drug   Day      Volume\n",
       "0    0  HCI-010  Navitoclax   1.0  163.920800\n",
       "1    0  HCI-010  Navitoclax   4.0  158.374381\n",
       "2    0  HCI-010  Navitoclax   8.0  197.154048\n",
       "3    0  HCI-010  Navitoclax  11.0  158.582177\n",
       "4    0  HCI-010  Navitoclax  15.0  176.645000"
      ]
     },
     "execution_count": 3,
     "metadata": {},
     "output_type": "execute_result"
    }
   ],
   "source": [
    "df = pd.read_csv('../results/2023-05-26/clean_and_split_data/welm_pdx_clean_mid.csv')\n",
    "df.head()"
   ]
  },
  {
   "cell_type": "code",
   "execution_count": 4,
   "id": "9f4ea027",
   "metadata": {},
   "outputs": [
    {
     "name": "stdout",
     "output_type": "stream",
     "text": [
      "num MIDs: 264\n"
     ]
    }
   ],
   "source": [
    "print('num MIDs: ' + str(df.MID.nunique()))"
   ]
  },
  {
   "cell_type": "code",
   "execution_count": 5,
   "id": "d1a40f1f",
   "metadata": {},
   "outputs": [],
   "source": [
    "# clip volumes\n",
    "df['Volume'] = df['Volume'].clip(lower=MIN_VOL)\n",
    "start_day = get_start_day(df)\n",
    "df = add_volume_columns(df, start_day)"
   ]
  },
  {
   "cell_type": "code",
   "execution_count": 6,
   "id": "36d75e45",
   "metadata": {},
   "outputs": [],
   "source": [
    "df = drop_short_duration_mids(df, start_day, end_day)"
   ]
  },
  {
   "cell_type": "code",
   "execution_count": 7,
   "id": "ded406d9",
   "metadata": {},
   "outputs": [
    {
     "name": "stdout",
     "output_type": "stream",
     "text": [
      "num MIDs: 241\n"
     ]
    }
   ],
   "source": [
    "print('num MIDs: ' + str(df.MID.nunique()))"
   ]
  },
  {
   "cell_type": "code",
   "execution_count": 8,
   "id": "783321f3",
   "metadata": {},
   "outputs": [
    {
     "data": {
      "text/html": [
       "<div>\n",
       "<style scoped>\n",
       "    .dataframe tbody tr th:only-of-type {\n",
       "        vertical-align: middle;\n",
       "    }\n",
       "\n",
       "    .dataframe tbody tr th {\n",
       "        vertical-align: top;\n",
       "    }\n",
       "\n",
       "    .dataframe thead th {\n",
       "        text-align: right;\n",
       "    }\n",
       "</style>\n",
       "<table border=\"1\" class=\"dataframe\">\n",
       "  <thead>\n",
       "    <tr style=\"text-align: right;\">\n",
       "      <th></th>\n",
       "      <th>MID</th>\n",
       "      <th>Sample</th>\n",
       "      <th>Drug</th>\n",
       "      <th>Day</th>\n",
       "      <th>Volume</th>\n",
       "      <th>start</th>\n",
       "      <th>start_vol</th>\n",
       "      <th>V_V0</th>\n",
       "      <th>log(V_V0)</th>\n",
       "    </tr>\n",
       "  </thead>\n",
       "  <tbody>\n",
       "    <tr>\n",
       "      <th>0</th>\n",
       "      <td>0</td>\n",
       "      <td>HCI-010</td>\n",
       "      <td>Navitoclax</td>\n",
       "      <td>1.0</td>\n",
       "      <td>163.920800</td>\n",
       "      <td>1.0</td>\n",
       "      <td>163.9208</td>\n",
       "      <td>1.000000</td>\n",
       "      <td>0.000000</td>\n",
       "    </tr>\n",
       "    <tr>\n",
       "      <th>1</th>\n",
       "      <td>0</td>\n",
       "      <td>HCI-010</td>\n",
       "      <td>Navitoclax</td>\n",
       "      <td>4.0</td>\n",
       "      <td>158.374381</td>\n",
       "      <td>1.0</td>\n",
       "      <td>163.9208</td>\n",
       "      <td>0.966164</td>\n",
       "      <td>-0.049660</td>\n",
       "    </tr>\n",
       "    <tr>\n",
       "      <th>2</th>\n",
       "      <td>0</td>\n",
       "      <td>HCI-010</td>\n",
       "      <td>Navitoclax</td>\n",
       "      <td>8.0</td>\n",
       "      <td>197.154048</td>\n",
       "      <td>1.0</td>\n",
       "      <td>163.9208</td>\n",
       "      <td>1.202740</td>\n",
       "      <td>0.266324</td>\n",
       "    </tr>\n",
       "    <tr>\n",
       "      <th>3</th>\n",
       "      <td>0</td>\n",
       "      <td>HCI-010</td>\n",
       "      <td>Navitoclax</td>\n",
       "      <td>11.0</td>\n",
       "      <td>158.582177</td>\n",
       "      <td>1.0</td>\n",
       "      <td>163.9208</td>\n",
       "      <td>0.967432</td>\n",
       "      <td>-0.047768</td>\n",
       "    </tr>\n",
       "    <tr>\n",
       "      <th>4</th>\n",
       "      <td>0</td>\n",
       "      <td>HCI-010</td>\n",
       "      <td>Navitoclax</td>\n",
       "      <td>15.0</td>\n",
       "      <td>176.645000</td>\n",
       "      <td>1.0</td>\n",
       "      <td>163.9208</td>\n",
       "      <td>1.077624</td>\n",
       "      <td>0.107854</td>\n",
       "    </tr>\n",
       "  </tbody>\n",
       "</table>\n",
       "</div>"
      ],
      "text/plain": [
       "   MID   Sample        Drug   Day      Volume  start  start_vol      V_V0  \\\n",
       "0    0  HCI-010  Navitoclax   1.0  163.920800    1.0   163.9208  1.000000   \n",
       "1    0  HCI-010  Navitoclax   4.0  158.374381    1.0   163.9208  0.966164   \n",
       "2    0  HCI-010  Navitoclax   8.0  197.154048    1.0   163.9208  1.202740   \n",
       "3    0  HCI-010  Navitoclax  11.0  158.582177    1.0   163.9208  0.967432   \n",
       "4    0  HCI-010  Navitoclax  15.0  176.645000    1.0   163.9208  1.077624   \n",
       "\n",
       "   log(V_V0)  \n",
       "0   0.000000  \n",
       "1  -0.049660  \n",
       "2   0.266324  \n",
       "3  -0.047768  \n",
       "4   0.107854  "
      ]
     },
     "execution_count": 8,
     "metadata": {},
     "output_type": "execute_result"
    }
   ],
   "source": [
    "df.head()"
   ]
  },
  {
   "cell_type": "code",
   "execution_count": 12,
   "id": "27a15f88",
   "metadata": {},
   "outputs": [],
   "source": [
    "def get_vol_value(mid, df, end_day):\n",
    "    if len(df.loc[(df.MID == mid) & (df.Day == end_day)]) > 0:\n",
    "        return df.loc[(df.MID == mid) & (df.Day == end_day)]['log(V_V0)']\n",
    "    x = df.loc[df.MID == mid]['Day'].to_numpy()\n",
    "    y = df.loc[df.MID == mid]['log(V_V0)'].to_numpy()\n",
    "    assert np.max(x) > end_day\n",
    "    f = scipy.interpolate.interp1d(x, y)\n",
    "    vfcn = f(end_day)\n",
    "    return vfcn"
   ]
  },
  {
   "cell_type": "code",
   "execution_count": 15,
   "id": "25669d07",
   "metadata": {},
   "outputs": [
    {
     "name": "stderr",
     "output_type": "stream",
     "text": [
      "/Users/michelameister/opt/anaconda3/lib/python3.8/site-packages/pandas/core/dtypes/cast.py:948: VisibleDeprecationWarning: Creating an ndarray from ragged nested sequences (which is a list-or-tuple of lists-or-tuples-or ndarrays with different lengths or shapes) is deprecated. If you meant to do this, you must specify 'dtype=object' when creating the ndarray.\n",
      "  element = np.asarray(element)\n"
     ]
    },
    {
     "ename": "KeyError",
     "evalue": "0",
     "output_type": "error",
     "traceback": [
      "\u001b[0;31m---------------------------------------------------------------------------\u001b[0m",
      "\u001b[0;31mKeyError\u001b[0m                                  Traceback (most recent call last)",
      "File \u001b[0;32m~/opt/anaconda3/lib/python3.8/site-packages/pandas/core/indexes/base.py:3802\u001b[0m, in \u001b[0;36mIndex.get_loc\u001b[0;34m(self, key, method, tolerance)\u001b[0m\n\u001b[1;32m   3801\u001b[0m \u001b[38;5;28;01mtry\u001b[39;00m:\n\u001b[0;32m-> 3802\u001b[0m     \u001b[38;5;28;01mreturn\u001b[39;00m \u001b[38;5;28;43mself\u001b[39;49m\u001b[38;5;241;43m.\u001b[39;49m\u001b[43m_engine\u001b[49m\u001b[38;5;241;43m.\u001b[39;49m\u001b[43mget_loc\u001b[49m\u001b[43m(\u001b[49m\u001b[43mcasted_key\u001b[49m\u001b[43m)\u001b[49m\n\u001b[1;32m   3803\u001b[0m \u001b[38;5;28;01mexcept\u001b[39;00m \u001b[38;5;167;01mKeyError\u001b[39;00m \u001b[38;5;28;01mas\u001b[39;00m err:\n",
      "File \u001b[0;32m~/opt/anaconda3/lib/python3.8/site-packages/pandas/_libs/index.pyx:138\u001b[0m, in \u001b[0;36mpandas._libs.index.IndexEngine.get_loc\u001b[0;34m()\u001b[0m\n",
      "File \u001b[0;32m~/opt/anaconda3/lib/python3.8/site-packages/pandas/_libs/index.pyx:165\u001b[0m, in \u001b[0;36mpandas._libs.index.IndexEngine.get_loc\u001b[0;34m()\u001b[0m\n",
      "File \u001b[0;32mpandas/_libs/hashtable_class_helper.pxi:2263\u001b[0m, in \u001b[0;36mpandas._libs.hashtable.Int64HashTable.get_item\u001b[0;34m()\u001b[0m\n",
      "File \u001b[0;32mpandas/_libs/hashtable_class_helper.pxi:2273\u001b[0m, in \u001b[0;36mpandas._libs.hashtable.Int64HashTable.get_item\u001b[0;34m()\u001b[0m\n",
      "\u001b[0;31mKeyError\u001b[0m: 0",
      "\nThe above exception was the direct cause of the following exception:\n",
      "\u001b[0;31mKeyError\u001b[0m                                  Traceback (most recent call last)",
      "Cell \u001b[0;32mIn[15], line 6\u001b[0m\n\u001b[1;32m      4\u001b[0m     vol_value \u001b[38;5;241m=\u001b[39m get_vol_value(mid, df, end_day)\n\u001b[1;32m      5\u001b[0m     end_df\u001b[38;5;241m.\u001b[39mloc[\u001b[38;5;28mlen\u001b[39m(end_df)] \u001b[38;5;241m=\u001b[39m [mid, end_day, vol_value]\n\u001b[0;32m----> 6\u001b[0m     \u001b[38;5;28mprint\u001b[39m(\u001b[43mvol_value\u001b[49m\u001b[43m[\u001b[49m\u001b[38;5;241;43m0\u001b[39;49m\u001b[43m]\u001b[49m)\n\u001b[1;32m      7\u001b[0m     \u001b[38;5;66;03m# append MID, end_day, end_vol to end_df \u001b[39;00m\n\u001b[1;32m      8\u001b[0m end_df\n",
      "File \u001b[0;32m~/opt/anaconda3/lib/python3.8/site-packages/pandas/core/series.py:981\u001b[0m, in \u001b[0;36mSeries.__getitem__\u001b[0;34m(self, key)\u001b[0m\n\u001b[1;32m    978\u001b[0m     \u001b[38;5;28;01mreturn\u001b[39;00m \u001b[38;5;28mself\u001b[39m\u001b[38;5;241m.\u001b[39m_values[key]\n\u001b[1;32m    980\u001b[0m \u001b[38;5;28;01melif\u001b[39;00m key_is_scalar:\n\u001b[0;32m--> 981\u001b[0m     \u001b[38;5;28;01mreturn\u001b[39;00m \u001b[38;5;28;43mself\u001b[39;49m\u001b[38;5;241;43m.\u001b[39;49m\u001b[43m_get_value\u001b[49m\u001b[43m(\u001b[49m\u001b[43mkey\u001b[49m\u001b[43m)\u001b[49m\n\u001b[1;32m    983\u001b[0m \u001b[38;5;28;01mif\u001b[39;00m is_hashable(key):\n\u001b[1;32m    984\u001b[0m     \u001b[38;5;66;03m# Otherwise index.get_value will raise InvalidIndexError\u001b[39;00m\n\u001b[1;32m    985\u001b[0m     \u001b[38;5;28;01mtry\u001b[39;00m:\n\u001b[1;32m    986\u001b[0m         \u001b[38;5;66;03m# For labels that don't resolve as scalars like tuples and frozensets\u001b[39;00m\n",
      "File \u001b[0;32m~/opt/anaconda3/lib/python3.8/site-packages/pandas/core/series.py:1089\u001b[0m, in \u001b[0;36mSeries._get_value\u001b[0;34m(self, label, takeable)\u001b[0m\n\u001b[1;32m   1086\u001b[0m     \u001b[38;5;28;01mreturn\u001b[39;00m \u001b[38;5;28mself\u001b[39m\u001b[38;5;241m.\u001b[39m_values[label]\n\u001b[1;32m   1088\u001b[0m \u001b[38;5;66;03m# Similar to Index.get_value, but we do not fall back to positional\u001b[39;00m\n\u001b[0;32m-> 1089\u001b[0m loc \u001b[38;5;241m=\u001b[39m \u001b[38;5;28;43mself\u001b[39;49m\u001b[38;5;241;43m.\u001b[39;49m\u001b[43mindex\u001b[49m\u001b[38;5;241;43m.\u001b[39;49m\u001b[43mget_loc\u001b[49m\u001b[43m(\u001b[49m\u001b[43mlabel\u001b[49m\u001b[43m)\u001b[49m\n\u001b[1;32m   1090\u001b[0m \u001b[38;5;28;01mreturn\u001b[39;00m \u001b[38;5;28mself\u001b[39m\u001b[38;5;241m.\u001b[39mindex\u001b[38;5;241m.\u001b[39m_get_values_for_loc(\u001b[38;5;28mself\u001b[39m, loc, label)\n",
      "File \u001b[0;32m~/opt/anaconda3/lib/python3.8/site-packages/pandas/core/indexes/base.py:3804\u001b[0m, in \u001b[0;36mIndex.get_loc\u001b[0;34m(self, key, method, tolerance)\u001b[0m\n\u001b[1;32m   3802\u001b[0m     \u001b[38;5;28;01mreturn\u001b[39;00m \u001b[38;5;28mself\u001b[39m\u001b[38;5;241m.\u001b[39m_engine\u001b[38;5;241m.\u001b[39mget_loc(casted_key)\n\u001b[1;32m   3803\u001b[0m \u001b[38;5;28;01mexcept\u001b[39;00m \u001b[38;5;167;01mKeyError\u001b[39;00m \u001b[38;5;28;01mas\u001b[39;00m err:\n\u001b[0;32m-> 3804\u001b[0m     \u001b[38;5;28;01mraise\u001b[39;00m \u001b[38;5;167;01mKeyError\u001b[39;00m(key) \u001b[38;5;28;01mfrom\u001b[39;00m \u001b[38;5;21;01merr\u001b[39;00m\n\u001b[1;32m   3805\u001b[0m \u001b[38;5;28;01mexcept\u001b[39;00m \u001b[38;5;167;01mTypeError\u001b[39;00m:\n\u001b[1;32m   3806\u001b[0m     \u001b[38;5;66;03m# If we have a listlike key, _check_indexing_error will raise\u001b[39;00m\n\u001b[1;32m   3807\u001b[0m     \u001b[38;5;66;03m#  InvalidIndexError. Otherwise we fall through and re-raise\u001b[39;00m\n\u001b[1;32m   3808\u001b[0m     \u001b[38;5;66;03m#  the TypeError.\u001b[39;00m\n\u001b[1;32m   3809\u001b[0m     \u001b[38;5;28mself\u001b[39m\u001b[38;5;241m.\u001b[39m_check_indexing_error(key)\n",
      "\u001b[0;31mKeyError\u001b[0m: 0"
     ]
    }
   ],
   "source": [
    "# initialize new matrix: MID, Day, log(V_V0)\n",
    "end_df = pd.DataFrame({'MID': [], 'Day': [], 'log(V_V0)': []})\n",
    "for mid in list(df.MID.unique()):\n",
    "    vol_value = get_vol_value(mid, df, end_day)\n",
    "    end_df.loc[len(end_df)] = [mid, end_day, vol_value]\n",
    "    print(vol_value)\n",
    "    # append MID, end_day, end_vol to end_df \n",
    "end_df"
   ]
  },
  {
   "cell_type": "code",
   "execution_count": null,
   "id": "d446b078",
   "metadata": {},
   "outputs": [],
   "source": []
  },
  {
   "cell_type": "code",
   "execution_count": null,
   "id": "34c47d29",
   "metadata": {},
   "outputs": [],
   "source": [
    "end_df = pd.DataFrame({'MID': [], 'Day': [], 'log(V_V0)': []})\n",
    "end_df"
   ]
  },
  {
   "cell_type": "code",
   "execution_count": null,
   "id": "b93e8063",
   "metadata": {},
   "outputs": [],
   "source": [
    "end_df.loc[0] = [203, 22, 1.3]\n",
    "end_df"
   ]
  },
  {
   "cell_type": "code",
   "execution_count": null,
   "id": "439f0154",
   "metadata": {},
   "outputs": [],
   "source": [
    "end_df.head()"
   ]
  },
  {
   "cell_type": "code",
   "execution_count": null,
   "id": "13bbc019",
   "metadata": {},
   "outputs": [],
   "source": [
    "df.Volume.describe()"
   ]
  },
  {
   "cell_type": "code",
   "execution_count": null,
   "id": "56b5f92c",
   "metadata": {},
   "outputs": [],
   "source": [
    "\n",
    "interpolate_end_day(df, end_day)\n",
    "create_end_day(df, end_day)"
   ]
  },
  {
   "cell_type": "code",
   "execution_count": null,
   "id": "1c037790",
   "metadata": {},
   "outputs": [],
   "source": [
    "df = pd.DataFrame({'col1':[0,1,0],\n",
    "                   'col2':[2,3,1]})\n",
    "df"
   ]
  },
  {
   "cell_type": "code",
   "execution_count": null,
   "id": "8c463dbf",
   "metadata": {},
   "outputs": [],
   "source": [
    "\n",
    "test = df['col1'].isin([0,1]).all()\n"
   ]
  },
  {
   "cell_type": "code",
   "execution_count": null,
   "id": "be83a18b",
   "metadata": {},
   "outputs": [],
   "source": []
  }
 ],
 "metadata": {
  "kernelspec": {
   "display_name": "Python 3 (ipykernel)",
   "language": "python",
   "name": "python3"
  },
  "language_info": {
   "codemirror_mode": {
    "name": "ipython",
    "version": 3
   },
   "file_extension": ".py",
   "mimetype": "text/x-python",
   "name": "python",
   "nbconvert_exporter": "python",
   "pygments_lexer": "ipython3",
   "version": "3.8.16"
  }
 },
 "nbformat": 4,
 "nbformat_minor": 5
}
