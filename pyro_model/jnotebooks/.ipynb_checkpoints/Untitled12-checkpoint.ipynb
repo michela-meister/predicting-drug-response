{
 "cells": [
  {
   "cell_type": "code",
   "execution_count": 35,
   "id": "34ef47e2",
   "metadata": {},
   "outputs": [],
   "source": [
    "import numpy as np\n",
    "import pandas as pd\n",
    "from sklearn.model_selection import KFold\n",
    "\n",
    "split_type = 'sample_split'"
   ]
  },
  {
   "cell_type": "code",
   "execution_count": 41,
   "id": "73520083",
   "metadata": {},
   "outputs": [],
   "source": [
    "def split_by_pairs(df, col1, col2, train_pairs, test_pairs):\n",
    "    df['pair'] = list(zip(df[col1], df[col2]))\n",
    "    train_df = df.loc[df['pair'].isin(train_pairs)]\n",
    "    test_df = df.loc[df['pair'].isin(test_pairs)]\n",
    "    assert set(train_df['pair']).isdisjoint(set(test_df['pair']))\n",
    "    print('train_df: ')\n",
    "    print(train_df)\n",
    "    print('test_df: ')\n",
    "    print(test_df)\n",
    "    assert len(train_df) + len(test_df) == len(df)\n",
    "    return train_df, test_df\n",
    "\n",
    "def split_by_samples(df, col1, train_samples, test_samples):\n",
    "    train_df = df.loc[df['sample_id'].isin(train_samples)]\n",
    "    test_df = df.loc[df['sample_id'].isin(test_samples)]\n",
    "    assert set(train_df['sample_id'].isdisjoint(set(test_df['sample_id'])))\n",
    "    assert len(train_df) + len(test_df) == len(df)\n",
    "    return train_df, test_df\n",
    "\n",
    "def split_dataframe(df, col1, col2, X, split_type, train_index, test_index):\n",
    "    print(train_index)\n",
    "    train_vals = X[train_index]\n",
    "    test_vals = X[test_index]\n",
    "    if split_type == 'random_split':\n",
    "        train_vals = list(map(tuple, train_vals))\n",
    "        test_vals = list(map(tuple, test_vals))\n",
    "        train_df, test_df = split_by_pairs(df, col1, col2, train_vals, test_vals)\n",
    "    elif split_type == 'sample_split':\n",
    "        train_df, test_df = split_by_samples(df, col1, train_vals, test_vals)\n",
    "    else:\n",
    "        print('Error! Need valid split_type.')\n",
    "        return\n",
    "    return train_df, test_df\n",
    "        \n",
    "def get_items_to_split(df, split_type):\n",
    "    if split_type == 'random_split':\n",
    "        # split by pairs\n",
    "        X = df[['sample_id', 'drug_id']].to_numpy()\n",
    "    elif split_type == 'sample_split':\n",
    "        X = np.array(list(df['sample_id'].unique()))\n",
    "    else:\n",
    "        print('Error! split_type must be in random_split or sample_split.')\n",
    "        return\n",
    "    return X"
   ]
  },
  {
   "cell_type": "code",
   "execution_count": 42,
   "id": "700ac80a",
   "metadata": {},
   "outputs": [
    {
     "data": {
      "text/html": [
       "<div>\n",
       "<style scoped>\n",
       "    .dataframe tbody tr th:only-of-type {\n",
       "        vertical-align: middle;\n",
       "    }\n",
       "\n",
       "    .dataframe tbody tr th {\n",
       "        vertical-align: top;\n",
       "    }\n",
       "\n",
       "    .dataframe thead th {\n",
       "        text-align: right;\n",
       "    }\n",
       "</style>\n",
       "<table border=\"1\" class=\"dataframe\">\n",
       "  <thead>\n",
       "    <tr style=\"text-align: right;\">\n",
       "      <th></th>\n",
       "      <th>sample_id</th>\n",
       "      <th>drug_id</th>\n",
       "      <th>value</th>\n",
       "    </tr>\n",
       "  </thead>\n",
       "  <tbody>\n",
       "    <tr>\n",
       "      <th>0</th>\n",
       "      <td>1</td>\n",
       "      <td>1</td>\n",
       "      <td>10</td>\n",
       "    </tr>\n",
       "    <tr>\n",
       "      <th>1</th>\n",
       "      <td>1</td>\n",
       "      <td>2</td>\n",
       "      <td>20</td>\n",
       "    </tr>\n",
       "    <tr>\n",
       "      <th>2</th>\n",
       "      <td>2</td>\n",
       "      <td>3</td>\n",
       "      <td>30</td>\n",
       "    </tr>\n",
       "    <tr>\n",
       "      <th>3</th>\n",
       "      <td>2</td>\n",
       "      <td>1</td>\n",
       "      <td>40</td>\n",
       "    </tr>\n",
       "    <tr>\n",
       "      <th>4</th>\n",
       "      <td>3</td>\n",
       "      <td>2</td>\n",
       "      <td>50</td>\n",
       "    </tr>\n",
       "  </tbody>\n",
       "</table>\n",
       "</div>"
      ],
      "text/plain": [
       "   sample_id  drug_id  value\n",
       "0          1        1     10\n",
       "1          1        2     20\n",
       "2          2        3     30\n",
       "3          2        1     40\n",
       "4          3        2     50"
      ]
     },
     "execution_count": 42,
     "metadata": {},
     "output_type": "execute_result"
    }
   ],
   "source": [
    "data = {'sample_id': [1, 1, 2, 2, 3, 3, 4, 4, 5, 5], 'drug_id': [1, 2, 3, 1, 2, 3, 1, 2, 3, 1], \n",
    "       'value': [10, 20, 30, 40, 50, 60, 70, 80, 90, 100]}\n",
    "df = pd.DataFrame(data=data)\n",
    "df.head()"
   ]
  },
  {
   "cell_type": "code",
   "execution_count": 43,
   "id": "2981cfc7",
   "metadata": {},
   "outputs": [
    {
     "data": {
      "text/plain": [
       "array([1, 2, 3, 4, 5])"
      ]
     },
     "execution_count": 43,
     "metadata": {},
     "output_type": "execute_result"
    }
   ],
   "source": [
    "X = get_items_to_split(df, split_type)\n",
    "X"
   ]
  },
  {
   "cell_type": "code",
   "execution_count": 44,
   "id": "3fd5973f",
   "metadata": {},
   "outputs": [
    {
     "name": "stdout",
     "output_type": "stream",
     "text": [
      "Fold 0:\n",
      " Train: index=[0 1 3 4]\n",
      " Test: index=[2]\n",
      "[0 1 3 4]\n"
     ]
    },
    {
     "ename": "TypeError",
     "evalue": "split_by_samples() takes 4 positional arguments but 5 were given",
     "output_type": "error",
     "traceback": [
      "\u001b[0;31m---------------------------------------------------------------------------\u001b[0m",
      "\u001b[0;31mTypeError\u001b[0m                                 Traceback (most recent call last)",
      "Cell \u001b[0;32mIn[44], line 7\u001b[0m\n\u001b[1;32m      5\u001b[0m \u001b[38;5;28mprint\u001b[39m(\u001b[38;5;124mf\u001b[39m\u001b[38;5;124m\"\u001b[39m\u001b[38;5;124m Train: index=\u001b[39m\u001b[38;5;132;01m{\u001b[39;00mtrain_index\u001b[38;5;132;01m}\u001b[39;00m\u001b[38;5;124m\"\u001b[39m)\n\u001b[1;32m      6\u001b[0m \u001b[38;5;28mprint\u001b[39m(\u001b[38;5;124mf\u001b[39m\u001b[38;5;124m\"\u001b[39m\u001b[38;5;124m Test: index=\u001b[39m\u001b[38;5;132;01m{\u001b[39;00mval_index\u001b[38;5;132;01m}\u001b[39;00m\u001b[38;5;124m\"\u001b[39m)\n\u001b[0;32m----> 7\u001b[0m train_df, val_df \u001b[38;5;241m=\u001b[39m \u001b[43msplit_dataframe\u001b[49m\u001b[43m(\u001b[49m\u001b[43mdf\u001b[49m\u001b[43m,\u001b[49m\u001b[43m \u001b[49m\u001b[38;5;124;43m'\u001b[39;49m\u001b[38;5;124;43msample_id\u001b[39;49m\u001b[38;5;124;43m'\u001b[39;49m\u001b[43m,\u001b[49m\u001b[43m \u001b[49m\u001b[38;5;124;43m'\u001b[39;49m\u001b[38;5;124;43mdrug_id\u001b[39;49m\u001b[38;5;124;43m'\u001b[39;49m\u001b[43m,\u001b[49m\u001b[43m \u001b[49m\u001b[43mX\u001b[49m\u001b[43m,\u001b[49m\u001b[43m \u001b[49m\u001b[43msplit_type\u001b[49m\u001b[43m,\u001b[49m\u001b[43m \u001b[49m\u001b[43mtrain_index\u001b[49m\u001b[43m,\u001b[49m\u001b[43m \u001b[49m\u001b[43mval_index\u001b[49m\u001b[43m)\u001b[49m\n",
      "Cell \u001b[0;32mIn[41], line 29\u001b[0m, in \u001b[0;36msplit_dataframe\u001b[0;34m(df, col1, col2, X, split_type, train_index, test_index)\u001b[0m\n\u001b[1;32m     27\u001b[0m     train_df, test_df \u001b[38;5;241m=\u001b[39m split_by_pairs(df, col1, col2, train_vals, test_vals)\n\u001b[1;32m     28\u001b[0m \u001b[38;5;28;01melif\u001b[39;00m split_type \u001b[38;5;241m==\u001b[39m \u001b[38;5;124m'\u001b[39m\u001b[38;5;124msample_split\u001b[39m\u001b[38;5;124m'\u001b[39m:\n\u001b[0;32m---> 29\u001b[0m     train_df, test_df \u001b[38;5;241m=\u001b[39m \u001b[43msplit_by_samples\u001b[49m\u001b[43m(\u001b[49m\u001b[43mdf\u001b[49m\u001b[43m,\u001b[49m\u001b[43m \u001b[49m\u001b[43mcol1\u001b[49m\u001b[43m,\u001b[49m\u001b[43m \u001b[49m\u001b[43mcol2\u001b[49m\u001b[43m,\u001b[49m\u001b[43m \u001b[49m\u001b[43mtrain_vals\u001b[49m\u001b[43m,\u001b[49m\u001b[43m \u001b[49m\u001b[43mtest_vals\u001b[49m\u001b[43m)\u001b[49m\n\u001b[1;32m     30\u001b[0m \u001b[38;5;28;01melse\u001b[39;00m:\n\u001b[1;32m     31\u001b[0m     \u001b[38;5;28mprint\u001b[39m(\u001b[38;5;124m'\u001b[39m\u001b[38;5;124mError! Need valid split_type.\u001b[39m\u001b[38;5;124m'\u001b[39m)\n",
      "\u001b[0;31mTypeError\u001b[0m: split_by_samples() takes 4 positional arguments but 5 were given"
     ]
    }
   ],
   "source": [
    "kf = KFold(n_splits=5, random_state=0, shuffle=True)\n",
    "kf.get_n_splits(X)\n",
    "for i, (train_index, val_index) in enumerate(kf.split(X)):\n",
    "    print(f\"Fold {i}:\")\n",
    "    print(f\" Train: index={train_index}\")\n",
    "    print(f\" Test: index={val_index}\")\n",
    "    train_df, val_df = split_dataframe(df, 'sample_id', 'drug_id', X, split_type, train_index, val_index)"
   ]
  },
  {
   "cell_type": "code",
   "execution_count": null,
   "id": "86547039",
   "metadata": {},
   "outputs": [],
   "source": []
  }
 ],
 "metadata": {
  "kernelspec": {
   "display_name": "Python 3 (ipykernel)",
   "language": "python",
   "name": "python3"
  },
  "language_info": {
   "codemirror_mode": {
    "name": "ipython",
    "version": 3
   },
   "file_extension": ".py",
   "mimetype": "text/x-python",
   "name": "python",
   "nbconvert_exporter": "python",
   "pygments_lexer": "ipython3",
   "version": "3.8.16"
  }
 },
 "nbformat": 4,
 "nbformat_minor": 5
}
