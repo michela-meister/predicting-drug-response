{
 "cells": [
  {
   "cell_type": "code",
   "execution_count": 2,
   "id": "ca68eed3",
   "metadata": {},
   "outputs": [],
   "source": [
    "import numpy as np\n",
    "import pandas as pd"
   ]
  },
  {
   "cell_type": "code",
   "execution_count": 5,
   "id": "75a5671f",
   "metadata": {},
   "outputs": [],
   "source": [
    "read_fn = '../data/welm_pdx.csv'"
   ]
  },
  {
   "cell_type": "code",
   "execution_count": 6,
   "id": "e0f5a0c8",
   "metadata": {},
   "outputs": [],
   "source": [
    "df = pd.read_csv(read_fn)"
   ]
  },
  {
   "cell_type": "code",
   "execution_count": 7,
   "id": "f85bf453",
   "metadata": {},
   "outputs": [
    {
     "name": "stdout",
     "output_type": "stream",
     "text": [
      "391\n"
     ]
    }
   ],
   "source": [
    "num_day1 = len(df.loc[df.Day == 1])\n",
    "print(num_day1)"
   ]
  },
  {
   "cell_type": "code",
   "execution_count": 8,
   "id": "7d4642e4",
   "metadata": {},
   "outputs": [
    {
     "name": "stdout",
     "output_type": "stream",
     "text": [
      "94\n"
     ]
    }
   ],
   "source": [
    "num_day21 = len(df.loc[df.Day == 21])\n",
    "print(num_day21)"
   ]
  },
  {
   "cell_type": "code",
   "execution_count": 9,
   "id": "9a27d50b",
   "metadata": {},
   "outputs": [
    {
     "name": "stdout",
     "output_type": "stream",
     "text": [
      "3103\n"
     ]
    }
   ],
   "source": [
    "num_grtr_21 = len(df.loc[df.Day >= 21])\n",
    "print(num_grtr_21)"
   ]
  },
  {
   "cell_type": "code",
   "execution_count": null,
   "id": "10196255",
   "metadata": {},
   "outputs": [],
   "source": []
  }
 ],
 "metadata": {
  "kernelspec": {
   "display_name": "Python 3 (ipykernel)",
   "language": "python",
   "name": "python3"
  },
  "language_info": {
   "codemirror_mode": {
    "name": "ipython",
    "version": 3
   },
   "file_extension": ".py",
   "mimetype": "text/x-python",
   "name": "python",
   "nbconvert_exporter": "python",
   "pygments_lexer": "ipython3",
   "version": "3.8.16"
  }
 },
 "nbformat": 4,
 "nbformat_minor": 5
}
