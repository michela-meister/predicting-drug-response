{
 "cells": [
  {
   "cell_type": "code",
   "execution_count": 2,
   "id": "397d2caf",
   "metadata": {},
   "outputs": [],
   "source": [
    "import numpy as np\n",
    "import pickle\n",
    "\n",
    "def read_pickle(fn):\n",
    "    with open(fn, 'rb') as handle:\n",
    "        obj = pickle.load(handle)\n",
    "    return obj"
   ]
  },
  {
   "cell_type": "code",
   "execution_count": 6,
   "id": "0878e315",
   "metadata": {},
   "outputs": [
    {
     "data": {
      "text/plain": [
       "array([251, 181, 165,  19, 263, 208,  13, 259, 162, 215, 104, 167,   8,\n",
       "       294, 211, 134, 138])"
      ]
     },
     "execution_count": 6,
     "metadata": {},
     "output_type": "execute_result"
    }
   ],
   "source": [
    "fn = '../fold_info/fold_list.pkl'\n",
    "folds = read_pickle(fn)\n",
    "folds[0]"
   ]
  },
  {
   "cell_type": "code",
   "execution_count": 7,
   "id": "ffb8d5f6",
   "metadata": {},
   "outputs": [
    {
     "data": {
      "text/plain": [
       "array([183,  41,  12,  90, 282,  16,   4, 237, 198,  64, 290, 288, 253,\n",
       "       118,  48,  15])"
      ]
     },
     "execution_count": 7,
     "metadata": {},
     "output_type": "execute_result"
    }
   ],
   "source": [
    "folds[1]"
   ]
  },
  {
   "cell_type": "code",
   "execution_count": 9,
   "id": "41875ef2",
   "metadata": {},
   "outputs": [],
   "source": [
    "assert set(folds[0]).isdisjoint(set(folds[1]))"
   ]
  },
  {
   "cell_type": "code",
   "execution_count": null,
   "id": "590c2470",
   "metadata": {},
   "outputs": [],
   "source": []
  }
 ],
 "metadata": {
  "kernelspec": {
   "display_name": "Python 3 (ipykernel)",
   "language": "python",
   "name": "python3"
  },
  "language_info": {
   "codemirror_mode": {
    "name": "ipython",
    "version": 3
   },
   "file_extension": ".py",
   "mimetype": "text/x-python",
   "name": "python",
   "nbconvert_exporter": "python",
   "pygments_lexer": "ipython3",
   "version": "3.8.16"
  }
 },
 "nbformat": 4,
 "nbformat_minor": 5
}
