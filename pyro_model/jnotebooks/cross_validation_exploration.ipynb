{
 "cells": [
  {
   "cell_type": "code",
   "execution_count": 1,
   "id": "10d88df1",
   "metadata": {},
   "outputs": [],
   "source": [
    "import numpy as np\n",
    "import pandas as pd"
   ]
  },
  {
   "cell_type": "code",
   "execution_count": 2,
   "id": "83d3d740",
   "metadata": {},
   "outputs": [
    {
     "data": {
      "text/html": [
       "<div>\n",
       "<style scoped>\n",
       "    .dataframe tbody tr th:only-of-type {\n",
       "        vertical-align: middle;\n",
       "    }\n",
       "\n",
       "    .dataframe tbody tr th {\n",
       "        vertical-align: top;\n",
       "    }\n",
       "\n",
       "    .dataframe thead th {\n",
       "        text-align: right;\n",
       "    }\n",
       "</style>\n",
       "<table border=\"1\" class=\"dataframe\">\n",
       "  <thead>\n",
       "    <tr style=\"text-align: right;\">\n",
       "      <th></th>\n",
       "      <th>MID</th>\n",
       "      <th>Sample</th>\n",
       "      <th>Drug</th>\n",
       "      <th>log(V_V0)</th>\n",
       "    </tr>\n",
       "  </thead>\n",
       "  <tbody>\n",
       "    <tr>\n",
       "      <th>0</th>\n",
       "      <td>21</td>\n",
       "      <td>HCI-023</td>\n",
       "      <td>Docetaxel</td>\n",
       "      <td>5.306245</td>\n",
       "    </tr>\n",
       "    <tr>\n",
       "      <th>1</th>\n",
       "      <td>22</td>\n",
       "      <td>HCI-023</td>\n",
       "      <td>Docetaxel</td>\n",
       "      <td>5.306245</td>\n",
       "    </tr>\n",
       "    <tr>\n",
       "      <th>2</th>\n",
       "      <td>23</td>\n",
       "      <td>HCI-023</td>\n",
       "      <td>Docetaxel</td>\n",
       "      <td>5.306245</td>\n",
       "    </tr>\n",
       "    <tr>\n",
       "      <th>3</th>\n",
       "      <td>24</td>\n",
       "      <td>HCI-023</td>\n",
       "      <td>Vehicle</td>\n",
       "      <td>5.306245</td>\n",
       "    </tr>\n",
       "    <tr>\n",
       "      <th>4</th>\n",
       "      <td>25</td>\n",
       "      <td>HCI-023</td>\n",
       "      <td>Vehicle</td>\n",
       "      <td>5.306245</td>\n",
       "    </tr>\n",
       "  </tbody>\n",
       "</table>\n",
       "</div>"
      ],
      "text/plain": [
       "   MID   Sample       Drug  log(V_V0)\n",
       "0   21  HCI-023  Docetaxel   5.306245\n",
       "1   22  HCI-023  Docetaxel   5.306245\n",
       "2   23  HCI-023  Docetaxel   5.306245\n",
       "3   24  HCI-023    Vehicle   5.306245\n",
       "4   25  HCI-023    Vehicle   5.306245"
      ]
     },
     "execution_count": 2,
     "metadata": {},
     "output_type": "execute_result"
    }
   ],
   "source": [
    "data_fn = '../results/2023-06-12/clean_and_split_data/welm_pdx_clean_mid_volume.csv'\n",
    "df = pd.read_csv(data_fn)\n",
    "df.head()"
   ]
  },
  {
   "cell_type": "code",
   "execution_count": 3,
   "id": "b9484e4e",
   "metadata": {},
   "outputs": [
    {
     "data": {
      "text/plain": [
       "array(['Docetaxel', 'Vehicle', 'RO4929097', 'Fulvestrant (40 mg/kg)',\n",
       "       'Fulvestrant (200 mg/kg)', 'Navitoclax', 'Birinapant',\n",
       "       'Irinotecan', 'Birinapant + Irinotecan'], dtype=object)"
      ]
     },
     "execution_count": 3,
     "metadata": {},
     "output_type": "execute_result"
    }
   ],
   "source": [
    "df.Drug.unique()"
   ]
  },
  {
   "cell_type": "code",
   "execution_count": 4,
   "id": "6416eeb7",
   "metadata": {},
   "outputs": [],
   "source": [
    "# Collapse Fulvestrant drugs\n",
    "drug_map = {'Fulvestrant (200 mg/kg)': 'Fulvestrant', 'Fulvestrant (40 mg/kg)': 'Fulvestrant'}\n",
    "df['Drug'] = df['Drug'].replace(drug_map)"
   ]
  },
  {
   "cell_type": "code",
   "execution_count": 5,
   "id": "6ef2a9f4",
   "metadata": {},
   "outputs": [
    {
     "data": {
      "text/html": [
       "<div>\n",
       "<style scoped>\n",
       "    .dataframe tbody tr th:only-of-type {\n",
       "        vertical-align: middle;\n",
       "    }\n",
       "\n",
       "    .dataframe tbody tr th {\n",
       "        vertical-align: top;\n",
       "    }\n",
       "\n",
       "    .dataframe thead th {\n",
       "        text-align: right;\n",
       "    }\n",
       "</style>\n",
       "<table border=\"1\" class=\"dataframe\">\n",
       "  <thead>\n",
       "    <tr style=\"text-align: right;\">\n",
       "      <th></th>\n",
       "      <th>MID</th>\n",
       "      <th>Sample</th>\n",
       "      <th>Drug</th>\n",
       "      <th>log(V_V0)</th>\n",
       "    </tr>\n",
       "  </thead>\n",
       "  <tbody>\n",
       "    <tr>\n",
       "      <th>0</th>\n",
       "      <td>21</td>\n",
       "      <td>HCI-023</td>\n",
       "      <td>Docetaxel</td>\n",
       "      <td>5.306245</td>\n",
       "    </tr>\n",
       "    <tr>\n",
       "      <th>1</th>\n",
       "      <td>22</td>\n",
       "      <td>HCI-023</td>\n",
       "      <td>Docetaxel</td>\n",
       "      <td>5.306245</td>\n",
       "    </tr>\n",
       "    <tr>\n",
       "      <th>2</th>\n",
       "      <td>23</td>\n",
       "      <td>HCI-023</td>\n",
       "      <td>Docetaxel</td>\n",
       "      <td>5.306245</td>\n",
       "    </tr>\n",
       "    <tr>\n",
       "      <th>3</th>\n",
       "      <td>24</td>\n",
       "      <td>HCI-023</td>\n",
       "      <td>Vehicle</td>\n",
       "      <td>5.306245</td>\n",
       "    </tr>\n",
       "    <tr>\n",
       "      <th>4</th>\n",
       "      <td>25</td>\n",
       "      <td>HCI-023</td>\n",
       "      <td>Vehicle</td>\n",
       "      <td>5.306245</td>\n",
       "    </tr>\n",
       "  </tbody>\n",
       "</table>\n",
       "</div>"
      ],
      "text/plain": [
       "   MID   Sample       Drug  log(V_V0)\n",
       "0   21  HCI-023  Docetaxel   5.306245\n",
       "1   22  HCI-023  Docetaxel   5.306245\n",
       "2   23  HCI-023  Docetaxel   5.306245\n",
       "3   24  HCI-023    Vehicle   5.306245\n",
       "4   25  HCI-023    Vehicle   5.306245"
      ]
     },
     "execution_count": 5,
     "metadata": {},
     "output_type": "execute_result"
    }
   ],
   "source": [
    "df.head()"
   ]
  },
  {
   "cell_type": "markdown",
   "id": "390c6de2",
   "metadata": {},
   "source": [
    "### Samples"
   ]
  },
  {
   "cell_type": "code",
   "execution_count": 11,
   "id": "173466c8",
   "metadata": {},
   "outputs": [
    {
     "name": "stdout",
     "output_type": "stream",
     "text": [
      "Number of samples in dataset: 13\n",
      "['HCI-023', 'HCI-002', 'HCI-003', 'HCI-010', 'HCI-024', 'HCI-015', 'HCI-027', 'HCI-019', 'HCI-016', 'HCI-001', 'HCI-012', 'HCI-011', 'HCI-017']\n"
     ]
    }
   ],
   "source": [
    "samples = list(df.Sample.unique())\n",
    "n_samples = len(samples)\n",
    "print('Number of samples in dataset: ' + str(n_samples))\n",
    "print(samples)"
   ]
  },
  {
   "cell_type": "markdown",
   "id": "eb35e847",
   "metadata": {},
   "source": [
    "### Drugs"
   ]
  },
  {
   "cell_type": "code",
   "execution_count": 9,
   "id": "3670110e",
   "metadata": {},
   "outputs": [
    {
     "name": "stdout",
     "output_type": "stream",
     "text": [
      "Number of drugs in dataset, including vehicle: 8\n",
      "['Docetaxel', 'Vehicle', 'RO4929097', 'Fulvestrant', 'Navitoclax', 'Birinapant', 'Irinotecan', 'Birinapant + Irinotecan']\n"
     ]
    }
   ],
   "source": [
    "drugs = list(df.Drug.unique())\n",
    "n_drugs = len(drugs)\n",
    "print('Number of drugs in dataset, including vehicle: ' + str(n_drugs))\n",
    "print(drugs)"
   ]
  },
  {
   "cell_type": "markdown",
   "id": "427d0965",
   "metadata": {},
   "source": [
    "### Sample-Drug Pairs"
   ]
  },
  {
   "cell_type": "code",
   "execution_count": 13,
   "id": "533c3ee9",
   "metadata": {},
   "outputs": [
    {
     "name": "stdout",
     "output_type": "stream",
     "text": [
      "Number of sample-drug pairs in dataset: 47\n",
      "[('HCI-023', 'Docetaxel'), ('HCI-023', 'Vehicle'), ('HCI-002', 'Docetaxel'), ('HCI-002', 'Vehicle'), ('HCI-002', 'RO4929097'), ('HCI-003', 'Fulvestrant'), ('HCI-003', 'Vehicle'), ('HCI-010', 'Navitoclax'), ('HCI-024', 'Navitoclax'), ('HCI-015', 'Navitoclax'), ('HCI-027', 'Navitoclax'), ('HCI-002', 'Navitoclax'), ('HCI-015', 'Docetaxel'), ('HCI-015', 'Vehicle'), ('HCI-019', 'Docetaxel'), ('HCI-019', 'Vehicle'), ('HCI-016', 'Docetaxel'), ('HCI-016', 'Vehicle'), ('HCI-027', 'Docetaxel'), ('HCI-027', 'Vehicle'), ('HCI-010', 'Docetaxel'), ('HCI-010', 'Vehicle'), ('HCI-024', 'Docetaxel'), ('HCI-024', 'Vehicle'), ('HCI-001', 'Docetaxel'), ('HCI-001', 'Vehicle'), ('HCI-027', 'Birinapant'), ('HCI-015', 'Birinapant'), ('HCI-001', 'Birinapant'), ('HCI-002', 'Birinapant'), ('HCI-019', 'Birinapant'), ('HCI-012', 'Birinapant'), ('HCI-023', 'Birinapant'), ('HCI-012', 'Vehicle'), ('HCI-015', 'RO4929097'), ('HCI-027', 'RO4929097'), ('HCI-010', 'RO4929097'), ('HCI-002', 'Irinotecan'), ('HCI-002', 'Birinapant + Irinotecan'), ('HCI-012', 'Irinotecan'), ('HCI-012', 'Birinapant + Irinotecan'), ('HCI-023', 'Irinotecan'), ('HCI-023', 'Birinapant + Irinotecan'), ('HCI-011', 'Fulvestrant'), ('HCI-011', 'Vehicle'), ('HCI-017', 'Fulvestrant'), ('HCI-017', 'Vehicle')]\n"
     ]
    }
   ],
   "source": [
    "df['pair'] = df[['Sample', 'Drug']].apply(tuple, axis=1)\n",
    "pairs = list(df.pair.unique())\n",
    "n_pairs = len(pairs)\n",
    "print('Number of sample-drug pairs in dataset: ' + str(n_pairs))\n",
    "print(pairs)"
   ]
  },
  {
   "cell_type": "markdown",
   "id": "96cfef5a",
   "metadata": {},
   "source": [
    "First we need to find the number of pairs each drug appears in. This is a clear lower bound on the number of folds possible."
   ]
  },
  {
   "cell_type": "code",
   "execution_count": 17,
   "id": "ff059fa4",
   "metadata": {},
   "outputs": [
    {
     "data": {
      "text/plain": [
       "Drug\n",
       "Birinapant                  7\n",
       "Birinapant + Irinotecan     3\n",
       "Docetaxel                   9\n",
       "Fulvestrant                 3\n",
       "Irinotecan                  3\n",
       "Navitoclax                  5\n",
       "RO4929097                   4\n",
       "Vehicle                    13\n",
       "Name: pair, dtype: int64"
      ]
     },
     "execution_count": 17,
     "metadata": {},
     "output_type": "execute_result"
    }
   ],
   "source": [
    "d = df[['Sample', 'Drug', 'pair']].drop_duplicates()\n",
    "d = d.groupby('Drug')['pair'].count()\n",
    "d"
   ]
  },
  {
   "cell_type": "markdown",
   "id": "e084248e",
   "metadata": {},
   "source": [
    "So it seems at best we could have 3 distinct test sets covering all drugs. Let's see if this is possible..."
   ]
  },
  {
   "cell_type": "code",
   "execution_count": 18,
   "id": "7053329f",
   "metadata": {},
   "outputs": [
    {
     "data": {
      "text/plain": [
       "Drug\n",
       "Birinapant                 7\n",
       "Birinapant + Irinotecan    3\n",
       "Docetaxel                  9\n",
       "Fulvestrant                3\n",
       "Irinotecan                 3\n",
       "Name: pair, dtype: int64"
      ]
     },
     "execution_count": 18,
     "metadata": {},
     "output_type": "execute_result"
    }
   ],
   "source": [
    "m = pd.merge(d, on='Drug', )"
   ]
  },
  {
   "cell_type": "code",
   "execution_count": 7,
   "id": "2e4c2744",
   "metadata": {},
   "outputs": [],
   "source": [
    "# Constraints:\n",
    "# (0) No (sample, drug) pair in the test appears in the training set.\n",
    "# (1) Every drug in the test set appears in the training set\n",
    "# (2) Every sample in the test set appears in the training set\n",
    "# (3) Test set includes 20-25% of the sample, drug pairs\n",
    "# --------------------\n",
    "# (3) Fulvestrant dosages are collapsed to one drug\n",
    "# (4) What about Birinapant, Irinotecan, Birinapant + Irinotecan?"
   ]
  },
  {
   "cell_type": "code",
   "execution_count": null,
   "id": "1caf1496",
   "metadata": {},
   "outputs": [],
   "source": [
    "# Options for train-test splits:\n",
    "# (A) Hold out a block of samples, drugs: What is the max test set size feasible?\n",
    "# (B) K-fold: requires K *disjoint* test sets ---> How many disjoint test sets are feasible?\n",
    "# (C) Random train-test splits: how much overlap will they have?"
   ]
  }
 ],
 "metadata": {
  "kernelspec": {
   "display_name": "Python 3 (ipykernel)",
   "language": "python",
   "name": "python3"
  },
  "language_info": {
   "codemirror_mode": {
    "name": "ipython",
    "version": 3
   },
   "file_extension": ".py",
   "mimetype": "text/x-python",
   "name": "python",
   "nbconvert_exporter": "python",
   "pygments_lexer": "ipython3",
   "version": "3.8.16"
  }
 },
 "nbformat": 4,
 "nbformat_minor": 5
}
