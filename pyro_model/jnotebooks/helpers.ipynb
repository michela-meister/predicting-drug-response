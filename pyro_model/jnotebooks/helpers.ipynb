{
 "cells": [
  {
   "cell_type": "code",
   "execution_count": 1,
   "id": "2a09dbe7",
   "metadata": {},
   "outputs": [],
   "source": [
    "# with constant variance = 1\n",
    "def model(obs_data, mask, sample_means, drug_means):\n",
    "    nsamples, ndrugs = obs_data.shape\n",
    "    # define samples\n",
    "    s = []\n",
    "    for i in range(nsamples):\n",
    "        sample_name = 's' + str(i)\n",
    "        s.append(pyro.sample(sample_name, dist.Normal(sample_means[i], 1)))\n",
    "    # define drugs\n",
    "    d = []\n",
    "    for i in range(ndrugs):\n",
    "        drug_name = 'd' + str(i)\n",
    "        d.append(pyro.sample(drug_name, dist.Normal(drug_means[i], 1)))\n",
    "    result = torch.empty((nsamples, ndrugs), dtype=torch.int32)\n",
    "    sigma = pyro.param(\"sigma\", lambda: torch.ones(()), constraint=constraints.positive)\n",
    "    for i in range(nsamples):\n",
    "        for j in range(ndrugs):\n",
    "            result[i, j] = pyro.sample(f\"obs_{i,j}\", \n",
    "                                       dist.Normal(s[i] * d[j], sigma), \n",
    "                                       obs=obs_data[i,j] if mask[i,j] else None)\n",
    "    return result"
   ]
  },
  {
   "cell_type": "code",
   "execution_count": null,
   "id": "1b2b0452",
   "metadata": {},
   "outputs": [],
   "source": []
  }
 ],
 "metadata": {
  "kernelspec": {
   "display_name": "Python 3 (ipykernel)",
   "language": "python",
   "name": "python3"
  },
  "language_info": {
   "codemirror_mode": {
    "name": "ipython",
    "version": 3
   },
   "file_extension": ".py",
   "mimetype": "text/x-python",
   "name": "python",
   "nbconvert_exporter": "python",
   "pygments_lexer": "ipython3",
   "version": "3.8.16"
  }
 },
 "nbformat": 4,
 "nbformat_minor": 5
}
