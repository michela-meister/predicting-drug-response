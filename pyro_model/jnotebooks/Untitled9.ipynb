{
 "cells": [
  {
   "cell_type": "code",
   "execution_count": 1,
   "id": "9ae329f3",
   "metadata": {},
   "outputs": [],
   "source": [
    "import matplotlib.pyplot as plt\n",
    "import numpy as np\n",
    "import pandas as pd"
   ]
  },
  {
   "cell_type": "code",
   "execution_count": 2,
   "id": "114cebf3",
   "metadata": {},
   "outputs": [],
   "source": [
    "fn = '~/Documents/research/tansey/msk_intern/pyro_model/data/rep-gdsc-ctd2-mean-log.csv'\n",
    "df = pd.read_csv(fn)"
   ]
  },
  {
   "cell_type": "code",
   "execution_count": 3,
   "id": "44f7fe4c",
   "metadata": {},
   "outputs": [
    {
     "data": {
      "text/plain": [
       "318"
      ]
     },
     "execution_count": 3,
     "metadata": {},
     "output_type": "execute_result"
    }
   ],
   "source": [
    "df.sample_id.nunique()"
   ]
  },
  {
   "cell_type": "code",
   "execution_count": null,
   "id": "46bae265",
   "metadata": {},
   "outputs": [],
   "source": [
    "def get_splits(seed, sample_ids, n_folds):\n",
    "    np.random.seed(seed)\n",
    "    sample_ids = np.array(df.sample_id.unique())\n",
    "    perm = np.random.permutation(sample_ids)\n",
    "    idx = np.round(np.linspace(0, len(sample_ids), n_folds)).astype(int)\n",
    "    splits = []\n",
    "for i in range(0, len(idx) - 1):\n",
    "    start = idx[i]\n",
    "    end = idx[i + 1]\n",
    "    splits.append(perm[start:end])\n",
    "splits"
   ]
  },
  {
   "cell_type": "code",
   "execution_count": 4,
   "id": "9fb30a7b",
   "metadata": {},
   "outputs": [
    {
     "data": {
      "text/plain": [
       "array([162, 205,  78,   1, 139,  43, 287, 136, 216,  18, 159,   7, 239,\n",
       "        60, 223, 125,  27, 120, 123, 206, 201, 227, 164, 221,  46, 315,\n",
       "       110, 248, 255, 142, 259, 276, 225, 224, 230, 199, 197, 231, 124,\n",
       "        88, 292, 134, 284, 247, 126, 195, 295, 241, 169, 261,  56, 171,\n",
       "       160, 175, 103, 282,  15,  69,  23,  75, 296, 243, 104,  64, 203,\n",
       "       298, 260, 128, 301,  10,  80,  54,  97,  65, 178, 208,  19, 188,\n",
       "        41,  59, 266, 132, 200, 204, 281,  40, 269,  32, 157, 118, 267,\n",
       "       257, 246, 308,  61, 254, 166, 291, 189,  85,  31, 184, 252,  52,\n",
       "        26, 194, 304, 256,  29, 149, 279, 219,   3, 177, 111, 234, 293,\n",
       "       235,  48,  47,  96,  98, 233, 264, 278, 209, 174,  62, 220,  99,\n",
       "       306, 112,  37, 154, 297,  83, 213, 191,  42,  87, 187,  55,  22,\n",
       "       217, 253, 101,  11, 218, 108, 307,  25, 117,  81, 300, 229, 161,\n",
       "        82, 156, 198, 262,  74, 145, 130, 113, 286, 288, 294,  28,  24,\n",
       "       168, 148, 242, 115, 311, 129,  77, 289,  34,  90, 179, 133, 144,\n",
       "       210, 222,  73, 299, 127,  57,  44,  92, 244, 303, 146, 140, 158,\n",
       "       317, 138,  20,  67, 109, 302,  12,  16,  35, 173,  89,  45, 272,\n",
       "       236, 152, 313, 121, 277,  51, 107,  39, 186, 116, 122, 309, 165,\n",
       "         6, 182, 153,  21, 258,   9, 151, 163, 232,  50, 190, 196, 271,\n",
       "       147, 250, 310, 268, 150, 249, 102, 305,  33,  76, 119, 237, 114,\n",
       "        95,  84, 170, 312,  94, 214,  38,  71,   5,  36, 180, 176, 263,\n",
       "       215, 207, 212, 265,  70, 131, 185, 275,   0, 285,  68, 314,  17,\n",
       "        30, 106,  13,  72, 273, 202, 192, 274, 172, 167, 238, 283, 181,\n",
       "        63, 105,   2, 251, 183, 270, 193,  49, 135,  91,   4, 100, 211,\n",
       "       245, 141, 155,  86,  93, 137,  58, 228, 143, 316, 240, 290,  14,\n",
       "       226,  66,  53,  79, 280,   8])"
      ]
     },
     "execution_count": 4,
     "metadata": {},
     "output_type": "execute_result"
    }
   ],
   "source": [
    "# generate split for\n",
    "\n",
    "perm"
   ]
  },
  {
   "cell_type": "code",
   "execution_count": 5,
   "id": "98102b0d",
   "metadata": {},
   "outputs": [
    {
     "data": {
      "text/plain": [
       "array([  0,  32,  64,  95, 127, 159, 191, 223, 254, 286, 318])"
      ]
     },
     "execution_count": 5,
     "metadata": {},
     "output_type": "execute_result"
    }
   ],
   "source": [
    "idx = np.round(np.linspace(0, len(sample_ids), n_folds)).astype(int)\n",
    "idx"
   ]
  },
  {
   "cell_type": "code",
   "execution_count": 6,
   "id": "0958e39a",
   "metadata": {},
   "outputs": [
    {
     "data": {
      "text/plain": [
       "[array([162, 205,  78,   1, 139,  43, 287, 136, 216,  18, 159,   7, 239,\n",
       "         60, 223, 125,  27, 120, 123, 206, 201, 227, 164, 221,  46, 315,\n",
       "        110, 248, 255, 142, 259, 276]),\n",
       " array([225, 224, 230, 199, 197, 231, 124,  88, 292, 134, 284, 247, 126,\n",
       "        195, 295, 241, 169, 261,  56, 171, 160, 175, 103, 282,  15,  69,\n",
       "         23,  75, 296, 243, 104,  64]),\n",
       " array([203, 298, 260, 128, 301,  10,  80,  54,  97,  65, 178, 208,  19,\n",
       "        188,  41,  59, 266, 132, 200, 204, 281,  40, 269,  32, 157, 118,\n",
       "        267, 257, 246, 308,  61]),\n",
       " array([254, 166, 291, 189,  85,  31, 184, 252,  52,  26, 194, 304, 256,\n",
       "         29, 149, 279, 219,   3, 177, 111, 234, 293, 235,  48,  47,  96,\n",
       "         98, 233, 264, 278, 209, 174]),\n",
       " array([ 62, 220,  99, 306, 112,  37, 154, 297,  83, 213, 191,  42,  87,\n",
       "        187,  55,  22, 217, 253, 101,  11, 218, 108, 307,  25, 117,  81,\n",
       "        300, 229, 161,  82, 156, 198]),\n",
       " array([262,  74, 145, 130, 113, 286, 288, 294,  28,  24, 168, 148, 242,\n",
       "        115, 311, 129,  77, 289,  34,  90, 179, 133, 144, 210, 222,  73,\n",
       "        299, 127,  57,  44,  92, 244]),\n",
       " array([303, 146, 140, 158, 317, 138,  20,  67, 109, 302,  12,  16,  35,\n",
       "        173,  89,  45, 272, 236, 152, 313, 121, 277,  51, 107,  39, 186,\n",
       "        116, 122, 309, 165,   6, 182]),\n",
       " array([153,  21, 258,   9, 151, 163, 232,  50, 190, 196, 271, 147, 250,\n",
       "        310, 268, 150, 249, 102, 305,  33,  76, 119, 237, 114,  95,  84,\n",
       "        170, 312,  94, 214,  38]),\n",
       " array([ 71,   5,  36, 180, 176, 263, 215, 207, 212, 265,  70, 131, 185,\n",
       "        275,   0, 285,  68, 314,  17,  30, 106,  13,  72, 273, 202, 192,\n",
       "        274, 172, 167, 238, 283, 181]),\n",
       " array([ 63, 105,   2, 251, 183, 270, 193,  49, 135,  91,   4, 100, 211,\n",
       "        245, 141, 155,  86,  93, 137,  58, 228, 143, 316, 240, 290,  14,\n",
       "        226,  66,  53,  79, 280,   8])]"
      ]
     },
     "execution_count": 6,
     "metadata": {},
     "output_type": "execute_result"
    }
   ],
   "source": [
    "splits = []\n",
    "for i in range(0, len(idx) - 1):\n",
    "    start = idx[i]\n",
    "    end = idx[i + 1]\n",
    "    splits.append(perm[start:end])\n",
    "splits"
   ]
  },
  {
   "cell_type": "code",
   "execution_count": 7,
   "id": "b322daac",
   "metadata": {},
   "outputs": [
    {
     "name": "stdout",
     "output_type": "stream",
     "text": [
      "32\n",
      "32\n",
      "31\n",
      "32\n",
      "32\n",
      "32\n",
      "32\n",
      "31\n",
      "32\n",
      "32\n"
     ]
    }
   ],
   "source": [
    "for split in splits:\n",
    "    print(len(split))"
   ]
  },
  {
   "cell_type": "code",
   "execution_count": 44,
   "id": "d5553c87",
   "metadata": {},
   "outputs": [],
   "source": [
    "# save splits to a file"
   ]
  },
  {
   "cell_type": "code",
   "execution_count": 45,
   "id": "3fd3e311",
   "metadata": {},
   "outputs": [],
   "source": [
    "# read in splits from file\n",
    "# using split_seed, index into correct split\n",
    "# split dataframe based on that split --> train_df, test_df"
   ]
  },
  {
   "cell_type": "code",
   "execution_count": 8,
   "id": "c42491bc",
   "metadata": {},
   "outputs": [],
   "source": [
    "split_seed = 2\n",
    "test_samples = splits[split_seed]\n",
    "test_df = df.loc[df.sample_id.isin(test_samples)]\n",
    "train_df = df.loc[~df.sample_id.isin(test_samples)]\n",
    "# return train_df, test_df"
   ]
  },
  {
   "cell_type": "code",
   "execution_count": null,
   "id": "c32c6714",
   "metadata": {},
   "outputs": [],
   "source": []
  }
 ],
 "metadata": {
  "kernelspec": {
   "display_name": "Python 3 (ipykernel)",
   "language": "python",
   "name": "python3"
  },
  "language_info": {
   "codemirror_mode": {
    "name": "ipython",
    "version": 3
   },
   "file_extension": ".py",
   "mimetype": "text/x-python",
   "name": "python",
   "nbconvert_exporter": "python",
   "pygments_lexer": "ipython3",
   "version": "3.8.16"
  }
 },
 "nbformat": 4,
 "nbformat_minor": 5
}
