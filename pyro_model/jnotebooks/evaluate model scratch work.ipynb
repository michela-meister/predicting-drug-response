{
 "cells": [
  {
   "cell_type": "code",
   "execution_count": 9,
   "id": "121675b6",
   "metadata": {},
   "outputs": [],
   "source": [
    "import matplotlib.pyplot as plt\n",
    "import numpy as np\n",
    "import pandas as pd\n",
    "import pickle\n",
    "import seaborn as sns\n",
    "import sys\n",
    "\n",
    "from scipy import stats\n",
    "\n",
    "N_SYNTH = 200\n",
    "LO = .05\n",
    "HI = .95\n",
    "NBINS = 20\n",
    "NUM_ARGS = 4\n",
    "\n",
    "def predict(mcmc_samples, s_test_idx, d_test_idx):\n",
    "    assert len(s_test_idx) == len(d_test_idx)\n",
    "    n = len(s_test_idx)\n",
    "    # read in mcmc samples for each variable\n",
    "    s = np.array(mcmc_samples['s']) \n",
    "    d = np.array(mcmc_samples['d'])\n",
    "    a = np.array(mcmc_samples['a'])\n",
    "    a_s = np.array(mcmc_samples['a_s'])\n",
    "    a_d = np.array(mcmc_samples['a_d'])\n",
    "    # combine above matrices to create mu\n",
    "    m = s.shape[0]\n",
    "    mu = np.multiply(s[0:m, s_test_idx], d[0:m, d_test_idx]) + a_s[0:m, s_test_idx] + a_d[0:m, d_test_idx] + a\n",
    "    assert (mu.shape[0] == m) and (mu.shape[1] == n)\n",
    "    return mu\n",
    "\n",
    "def r_squared(mu, test):\n",
    "    means = np.mean(mu, axis=0)\n",
    "    assert means.shape[0] == test.shape[0]\n",
    "    pearson_corr = np.corrcoef(test, means)\n",
    "    r = pearson_corr[0, 1]\n",
    "    return np.power(r, 2)\n",
    "\n",
    "# function to compute coverage\n",
    "def coverage(mu, test, n_synth, hi, lo):\n",
    "    # generate synthetic samples from normal distribution with mean mu\n",
    "    m = mu.shape[0]\n",
    "    n = mu.shape[1]\n",
    "    mean = np.tile(mu, (n_synth, 1, 1))\n",
    "    synth = mean + np.random.normal(loc=0, scale=1, size=(n_synth, m, n))\n",
    "    # sort along synthetic axis\n",
    "    sorted_synth = np.sort(synth, axis=0)\n",
    "    # compute hi and lo index\n",
    "    lo_idx = int(np.ceil(lo * n_synth))\n",
    "    hi_idx = int(np.floor(hi * n_synth))\n",
    "    # get synthetic samples at hi and lo indices\n",
    "    lo_bound = sorted_synth[lo_idx, :, :]\n",
    "    hi_bound = sorted_synth[hi_idx, :, :]\n",
    "    # is test in [hi, lo]?\n",
    "    tiled_test = np.tile(test, (m, 1))\n",
    "    return np.sum((lo_bound < tiled_test) & (tiled_test < hi_bound), axis=1) / (1.0 * len(test))\n",
    "\n",
    "\n",
    "mcmc_samples_fn = '../results/2023-06-08/run_model/mcmc_samples.pkl'\n",
    "test_fn = '../results/2023-06-08/clean_and_split_data/split/test.pkl'\n",
    "\n",
    "# read in mcmc samples\n",
    "with open(mcmc_samples_fn, 'rb') as handle:\n",
    "    mcmc_samples = pickle.load(handle)\n",
    "    \n",
    "# reach in test data\n",
    "with open(test_fn, 'rb') as handle:\n",
    "    test_df = pickle.load(handle)"
   ]
  },
  {
   "cell_type": "code",
   "execution_count": 11,
   "id": "c82ff099",
   "metadata": {},
   "outputs": [
    {
     "ename": "KeyError",
     "evalue": "0",
     "output_type": "error",
     "traceback": [
      "\u001b[0;31m---------------------------------------------------------------------------\u001b[0m",
      "\u001b[0;31mKeyError\u001b[0m                                  Traceback (most recent call last)",
      "Cell \u001b[0;32mIn[11], line 1\u001b[0m\n\u001b[0;32m----> 1\u001b[0m \u001b[43mmcmc_samples\u001b[49m\u001b[43m[\u001b[49m\u001b[38;5;241;43m0\u001b[39;49m\u001b[43m]\u001b[49m\n",
      "\u001b[0;31mKeyError\u001b[0m: 0"
     ]
    }
   ],
   "source": [
    "mcmc_samples[0]"
   ]
  },
  {
   "cell_type": "code",
   "execution_count": 2,
   "id": "868940dc",
   "metadata": {},
   "outputs": [],
   "source": [
    "test = test_df['log(V_V0)'].to_numpy().astype(float)\n",
    "# get mcmc_samples, s_test_idx, d_test_idx\n",
    "s_test_idx = test_df['s_idx'].to_numpy()\n",
    "d_test_idx = test_df['d_idx'].to_numpy()\n",
    "mu = predict(mcmc_samples, s_test_idx, d_test_idx)"
   ]
  },
  {
   "cell_type": "code",
   "execution_count": 8,
   "id": "c25b6bc7",
   "metadata": {},
   "outputs": [
    {
     "name": "stdout",
     "output_type": "stream",
     "text": [
      "r-squared: 0.008762352081759637\n",
      "mean fracs: 0.48015625\n",
      "median fracs: 0.4765625\n"
     ]
    },
    {
     "data": {
      "image/png": "[encoded data removed]",
      "text/plain": [
       "<Figure size 640x480 with 1 Axes>"
      ]
     },
     "metadata": {},
     "output_type": "display_data"
    }
   ],
   "source": [
    "r_sq = r_squared(mu, test)\n",
    "fracs = coverage(mu, test, N_SYNTH, HI, LO)\n",
    "# produce plot w/ fracs, r_sq\n",
    "print('r-squared: ' + str(r_sq))\n",
    "plt.hist(fracs, bins=NBINS)\n",
    "print('mean fracs: ' + str(np.mean(fracs)))\n",
    "print('median fracs: ' + str(np.median(fracs)))"
   ]
  }
 ],
 "metadata": {
  "kernelspec": {
   "display_name": "Python 3 (ipykernel)",
   "language": "python",
   "name": "python3"
  },
  "language_info": {
   "codemirror_mode": {
    "name": "ipython",
    "version": 3
   },
   "file_extension": ".py",
   "mimetype": "text/x-python",
   "name": "python",
   "nbconvert_exporter": "python",
   "pygments_lexer": "ipython3",
   "version": "3.8.16"
  }
 },
 "nbformat": 4,
 "nbformat_minor": 5
}
