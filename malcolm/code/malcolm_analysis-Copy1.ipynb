{
 "cells": [
  {
   "cell_type": "code",
   "execution_count": 5,
   "metadata": {},
   "outputs": [],
   "source": [
    "import matplotlib.pyplot as plt\n",
    "import numpy as np\n",
    "import pandas as pd"
   ]
  },
  {
   "cell_type": "code",
   "execution_count": 6,
   "metadata": {},
   "outputs": [],
   "source": [
    "DATA = '../data/malcolm_clean_w_duration.csv'"
   ]
  },
  {
   "cell_type": "code",
   "execution_count": 7,
   "metadata": {},
   "outputs": [
    {
     "name": "stdout",
     "output_type": "stream",
     "text": [
      "number of rows: 1663\n",
      "number of unique mids: 1663\n"
     ]
    }
   ],
   "source": [
    "df = pd.read_csv(DATA)\n",
    "print('number of rows: ' + str(len(df)))\n",
    "print('number of unique mids: ' + str(df.MID.nunique()))"
   ]
  },
  {
   "cell_type": "code",
   "execution_count": 8,
   "metadata": {},
   "outputs": [
    {
     "data": {
      "text/html": [
       "<div>\n",
       "<style scoped>\n",
       "    .dataframe tbody tr th:only-of-type {\n",
       "        vertical-align: middle;\n",
       "    }\n",
       "\n",
       "    .dataframe tbody tr th {\n",
       "        vertical-align: top;\n",
       "    }\n",
       "\n",
       "    .dataframe thead th {\n",
       "        text-align: right;\n",
       "    }\n",
       "</style>\n",
       "<table border=\"1\" class=\"dataframe\">\n",
       "  <thead>\n",
       "    <tr style=\"text-align: right;\">\n",
       "      <th></th>\n",
       "      <th>Study</th>\n",
       "      <th>Group</th>\n",
       "      <th>Drug</th>\n",
       "      <th>Control</th>\n",
       "      <th>MID</th>\n",
       "      <th>start</th>\n",
       "      <th>start_size</th>\n",
       "      <th>end</th>\n",
       "      <th>end_size</th>\n",
       "      <th>duration</th>\n",
       "    </tr>\n",
       "  </thead>\n",
       "  <tbody>\n",
       "    <tr>\n",
       "      <th>0</th>\n",
       "      <td>J000100672</td>\n",
       "      <td>3</td>\n",
       "      <td>Cisplatin</td>\n",
       "      <td>0.0</td>\n",
       "      <td>396-11</td>\n",
       "      <td>0.0</td>\n",
       "      <td>212.49</td>\n",
       "      <td>27.0</td>\n",
       "      <td>1275.52</td>\n",
       "      <td>27.0</td>\n",
       "    </tr>\n",
       "    <tr>\n",
       "      <th>1</th>\n",
       "      <td>J000100672</td>\n",
       "      <td>3</td>\n",
       "      <td>Cisplatin</td>\n",
       "      <td>0.0</td>\n",
       "      <td>396-20</td>\n",
       "      <td>0.0</td>\n",
       "      <td>180.48</td>\n",
       "      <td>27.0</td>\n",
       "      <td>1115.51</td>\n",
       "      <td>27.0</td>\n",
       "    </tr>\n",
       "    <tr>\n",
       "      <th>2</th>\n",
       "      <td>J000100672</td>\n",
       "      <td>3</td>\n",
       "      <td>Cisplatin</td>\n",
       "      <td>0.0</td>\n",
       "      <td>396-21</td>\n",
       "      <td>0.0</td>\n",
       "      <td>76.94</td>\n",
       "      <td>27.0</td>\n",
       "      <td>1056.95</td>\n",
       "      <td>27.0</td>\n",
       "    </tr>\n",
       "    <tr>\n",
       "      <th>3</th>\n",
       "      <td>J000100672</td>\n",
       "      <td>3</td>\n",
       "      <td>Cisplatin</td>\n",
       "      <td>0.0</td>\n",
       "      <td>396-31</td>\n",
       "      <td>0.0</td>\n",
       "      <td>151.44</td>\n",
       "      <td>27.0</td>\n",
       "      <td>1330.26</td>\n",
       "      <td>27.0</td>\n",
       "    </tr>\n",
       "    <tr>\n",
       "      <th>4</th>\n",
       "      <td>J000100672</td>\n",
       "      <td>3</td>\n",
       "      <td>Cisplatin</td>\n",
       "      <td>0.0</td>\n",
       "      <td>396-32</td>\n",
       "      <td>0.0</td>\n",
       "      <td>127.70</td>\n",
       "      <td>27.0</td>\n",
       "      <td>746.38</td>\n",
       "      <td>27.0</td>\n",
       "    </tr>\n",
       "  </tbody>\n",
       "</table>\n",
       "</div>"
      ],
      "text/plain": [
       "        Study Group       Drug  Control     MID  start  start_size   end  \\\n",
       "0  J000100672     3  Cisplatin      0.0  396-11    0.0      212.49  27.0   \n",
       "1  J000100672     3  Cisplatin      0.0  396-20    0.0      180.48  27.0   \n",
       "2  J000100672     3  Cisplatin      0.0  396-21    0.0       76.94  27.0   \n",
       "3  J000100672     3  Cisplatin      0.0  396-31    0.0      151.44  27.0   \n",
       "4  J000100672     3  Cisplatin      0.0  396-32    0.0      127.70  27.0   \n",
       "\n",
       "   end_size  duration  \n",
       "0   1275.52      27.0  \n",
       "1   1115.51      27.0  \n",
       "2   1056.95      27.0  \n",
       "3   1330.26      27.0  \n",
       "4    746.38      27.0  "
      ]
     },
     "execution_count": 8,
     "metadata": {},
     "output_type": "execute_result"
    }
   ],
   "source": [
    "df.head()"
   ]
  },
  {
   "cell_type": "code",
   "execution_count": 5,
   "metadata": {},
   "outputs": [],
   "source": [
    "m = df[['Study', 'Cohort', 'Control', 'MID', 'Day', 'Size']]\n",
    "m.head()\n",
    "day0 = m.loc[m.Day == 0]\n",
    "day0 = day0.rename(columns={'Size': 'V0'})\n",
    "day28 = m.loc[m.Day == 28]\n",
    "day28 = day28.rename(columns={'Size': 'V28'})\n",
    "m = day0.merge(day28, on=['Study', 'Cohort', 'Control', 'MID'], validate='many_to_many')\n",
    "m = m[['Study', 'Cohort', 'Control', 'MID', 'V0', 'V28']]"
   ]
  },
  {
   "cell_type": "code",
   "execution_count": 40,
   "metadata": {},
   "outputs": [
    {
     "name": "stdout",
     "output_type": "stream",
     "text": [
      "day0 unique mids: 773\n",
      "day28 unique mids: 623\n",
      "m unique mids: 324\n"
     ]
    }
   ],
   "source": [
    "print('day0 unique mids: ' + str(day0.MID.nunique()))\n",
    "print('day28 unique mids: ' + str(day28.MID.nunique()))\n",
    "print('m unique mids: ' + str(m.MID.nunique()))"
   ]
  },
  {
   "cell_type": "code",
   "execution_count": 6,
   "metadata": {},
   "outputs": [
    {
     "data": {
      "text/html": [
       "<div>\n",
       "<style scoped>\n",
       "    .dataframe tbody tr th:only-of-type {\n",
       "        vertical-align: middle;\n",
       "    }\n",
       "\n",
       "    .dataframe tbody tr th {\n",
       "        vertical-align: top;\n",
       "    }\n",
       "\n",
       "    .dataframe thead th {\n",
       "        text-align: right;\n",
       "    }\n",
       "</style>\n",
       "<table border=\"1\" class=\"dataframe\">\n",
       "  <thead>\n",
       "    <tr style=\"text-align: right;\">\n",
       "      <th></th>\n",
       "      <th>Study</th>\n",
       "      <th>Cohort</th>\n",
       "      <th>Control</th>\n",
       "      <th>MID</th>\n",
       "      <th>V0</th>\n",
       "      <th>V28</th>\n",
       "    </tr>\n",
       "  </thead>\n",
       "  <tbody>\n",
       "    <tr>\n",
       "      <th>0</th>\n",
       "      <td>J000101173</td>\n",
       "      <td>('J000101173', 'Group 3 Cisplatin')</td>\n",
       "      <td>0.0</td>\n",
       "      <td>173-17</td>\n",
       "      <td>90.62</td>\n",
       "      <td>459.42</td>\n",
       "    </tr>\n",
       "    <tr>\n",
       "      <th>1</th>\n",
       "      <td>J000101173</td>\n",
       "      <td>('J000101173', 'Group 3 Cisplatin')</td>\n",
       "      <td>0.0</td>\n",
       "      <td>173-18</td>\n",
       "      <td>221.97</td>\n",
       "      <td>483.71</td>\n",
       "    </tr>\n",
       "    <tr>\n",
       "      <th>2</th>\n",
       "      <td>J000101173</td>\n",
       "      <td>('J000101173', 'Group 3 Cisplatin')</td>\n",
       "      <td>0.0</td>\n",
       "      <td>173-20</td>\n",
       "      <td>100.00</td>\n",
       "      <td>346.87</td>\n",
       "    </tr>\n",
       "    <tr>\n",
       "      <th>3</th>\n",
       "      <td>J000101173</td>\n",
       "      <td>('J000101173', 'Group 3 Cisplatin')</td>\n",
       "      <td>0.0</td>\n",
       "      <td>173-25</td>\n",
       "      <td>91.73</td>\n",
       "      <td>418.22</td>\n",
       "    </tr>\n",
       "    <tr>\n",
       "      <th>4</th>\n",
       "      <td>J000101173</td>\n",
       "      <td>('J000101173', 'Group 3 Cisplatin')</td>\n",
       "      <td>0.0</td>\n",
       "      <td>173-26</td>\n",
       "      <td>82.65</td>\n",
       "      <td>402.09</td>\n",
       "    </tr>\n",
       "  </tbody>\n",
       "</table>\n",
       "</div>"
      ],
      "text/plain": [
       "        Study                               Cohort  Control     MID      V0  \\\n",
       "0  J000101173  ('J000101173', 'Group 3 Cisplatin')      0.0  173-17   90.62   \n",
       "1  J000101173  ('J000101173', 'Group 3 Cisplatin')      0.0  173-18  221.97   \n",
       "2  J000101173  ('J000101173', 'Group 3 Cisplatin')      0.0  173-20  100.00   \n",
       "3  J000101173  ('J000101173', 'Group 3 Cisplatin')      0.0  173-25   91.73   \n",
       "4  J000101173  ('J000101173', 'Group 3 Cisplatin')      0.0  173-26   82.65   \n",
       "\n",
       "      V28  \n",
       "0  459.42  \n",
       "1  483.71  \n",
       "2  346.87  \n",
       "3  418.22  \n",
       "4  402.09  "
      ]
     },
     "execution_count": 6,
     "metadata": {},
     "output_type": "execute_result"
    }
   ],
   "source": [
    "m.head()"
   ]
  },
  {
   "cell_type": "code",
   "execution_count": 7,
   "metadata": {},
   "outputs": [
    {
     "data": {
      "text/html": [
       "<div>\n",
       "<style scoped>\n",
       "    .dataframe tbody tr th:only-of-type {\n",
       "        vertical-align: middle;\n",
       "    }\n",
       "\n",
       "    .dataframe tbody tr th {\n",
       "        vertical-align: top;\n",
       "    }\n",
       "\n",
       "    .dataframe thead th {\n",
       "        text-align: right;\n",
       "    }\n",
       "</style>\n",
       "<table border=\"1\" class=\"dataframe\">\n",
       "  <thead>\n",
       "    <tr style=\"text-align: right;\">\n",
       "      <th></th>\n",
       "      <th>Study</th>\n",
       "      <th>Cohort</th>\n",
       "      <th>Control</th>\n",
       "      <th>MID</th>\n",
       "      <th>V0</th>\n",
       "      <th>V28</th>\n",
       "      <th>V28/V0</th>\n",
       "    </tr>\n",
       "  </thead>\n",
       "  <tbody>\n",
       "    <tr>\n",
       "      <th>0</th>\n",
       "      <td>J000101173</td>\n",
       "      <td>('J000101173', 'Group 3 Cisplatin')</td>\n",
       "      <td>0.0</td>\n",
       "      <td>173-17</td>\n",
       "      <td>90.62</td>\n",
       "      <td>459.42</td>\n",
       "      <td>5.069742</td>\n",
       "    </tr>\n",
       "    <tr>\n",
       "      <th>1</th>\n",
       "      <td>J000101173</td>\n",
       "      <td>('J000101173', 'Group 3 Cisplatin')</td>\n",
       "      <td>0.0</td>\n",
       "      <td>173-18</td>\n",
       "      <td>221.97</td>\n",
       "      <td>483.71</td>\n",
       "      <td>2.179168</td>\n",
       "    </tr>\n",
       "    <tr>\n",
       "      <th>2</th>\n",
       "      <td>J000101173</td>\n",
       "      <td>('J000101173', 'Group 3 Cisplatin')</td>\n",
       "      <td>0.0</td>\n",
       "      <td>173-20</td>\n",
       "      <td>100.00</td>\n",
       "      <td>346.87</td>\n",
       "      <td>3.468700</td>\n",
       "    </tr>\n",
       "    <tr>\n",
       "      <th>3</th>\n",
       "      <td>J000101173</td>\n",
       "      <td>('J000101173', 'Group 3 Cisplatin')</td>\n",
       "      <td>0.0</td>\n",
       "      <td>173-25</td>\n",
       "      <td>91.73</td>\n",
       "      <td>418.22</td>\n",
       "      <td>4.559250</td>\n",
       "    </tr>\n",
       "    <tr>\n",
       "      <th>4</th>\n",
       "      <td>J000101173</td>\n",
       "      <td>('J000101173', 'Group 3 Cisplatin')</td>\n",
       "      <td>0.0</td>\n",
       "      <td>173-26</td>\n",
       "      <td>82.65</td>\n",
       "      <td>402.09</td>\n",
       "      <td>4.864973</td>\n",
       "    </tr>\n",
       "  </tbody>\n",
       "</table>\n",
       "</div>"
      ],
      "text/plain": [
       "        Study                               Cohort  Control     MID      V0  \\\n",
       "0  J000101173  ('J000101173', 'Group 3 Cisplatin')      0.0  173-17   90.62   \n",
       "1  J000101173  ('J000101173', 'Group 3 Cisplatin')      0.0  173-18  221.97   \n",
       "2  J000101173  ('J000101173', 'Group 3 Cisplatin')      0.0  173-20  100.00   \n",
       "3  J000101173  ('J000101173', 'Group 3 Cisplatin')      0.0  173-25   91.73   \n",
       "4  J000101173  ('J000101173', 'Group 3 Cisplatin')      0.0  173-26   82.65   \n",
       "\n",
       "      V28    V28/V0  \n",
       "0  459.42  5.069742  \n",
       "1  483.71  2.179168  \n",
       "2  346.87  3.468700  \n",
       "3  418.22  4.559250  \n",
       "4  402.09  4.864973  "
      ]
     },
     "execution_count": 7,
     "metadata": {},
     "output_type": "execute_result"
    }
   ],
   "source": [
    "m['V28/V0'] = m['V28']/m['V0']\n",
    "m.head()"
   ]
  },
  {
   "cell_type": "code",
   "execution_count": 8,
   "metadata": {},
   "outputs": [
    {
     "data": {
      "text/html": [
       "<div>\n",
       "<style scoped>\n",
       "    .dataframe tbody tr th:only-of-type {\n",
       "        vertical-align: middle;\n",
       "    }\n",
       "\n",
       "    .dataframe tbody tr th {\n",
       "        vertical-align: top;\n",
       "    }\n",
       "\n",
       "    .dataframe thead th {\n",
       "        text-align: right;\n",
       "    }\n",
       "</style>\n",
       "<table border=\"1\" class=\"dataframe\">\n",
       "  <thead>\n",
       "    <tr style=\"text-align: right;\">\n",
       "      <th></th>\n",
       "      <th>Study</th>\n",
       "      <th>Cohort</th>\n",
       "      <th>Control</th>\n",
       "      <th>MID</th>\n",
       "      <th>V0</th>\n",
       "      <th>V28</th>\n",
       "      <th>V28/V0</th>\n",
       "      <th>V28/V0_sm</th>\n",
       "    </tr>\n",
       "  </thead>\n",
       "  <tbody>\n",
       "    <tr>\n",
       "      <th>0</th>\n",
       "      <td>J000101173</td>\n",
       "      <td>('J000101173', 'Group 3 Cisplatin')</td>\n",
       "      <td>0.0</td>\n",
       "      <td>173-17</td>\n",
       "      <td>90.62</td>\n",
       "      <td>459.42</td>\n",
       "      <td>5.069742</td>\n",
       "      <td>3.866524</td>\n",
       "    </tr>\n",
       "    <tr>\n",
       "      <th>1</th>\n",
       "      <td>J000101173</td>\n",
       "      <td>('J000101173', 'Group 3 Cisplatin')</td>\n",
       "      <td>0.0</td>\n",
       "      <td>173-18</td>\n",
       "      <td>221.97</td>\n",
       "      <td>483.71</td>\n",
       "      <td>2.179168</td>\n",
       "      <td>3.866524</td>\n",
       "    </tr>\n",
       "    <tr>\n",
       "      <th>2</th>\n",
       "      <td>J000101173</td>\n",
       "      <td>('J000101173', 'Group 3 Cisplatin')</td>\n",
       "      <td>0.0</td>\n",
       "      <td>173-20</td>\n",
       "      <td>100.00</td>\n",
       "      <td>346.87</td>\n",
       "      <td>3.468700</td>\n",
       "      <td>3.866524</td>\n",
       "    </tr>\n",
       "    <tr>\n",
       "      <th>3</th>\n",
       "      <td>J000101173</td>\n",
       "      <td>('J000101173', 'Group 3 Cisplatin')</td>\n",
       "      <td>0.0</td>\n",
       "      <td>173-25</td>\n",
       "      <td>91.73</td>\n",
       "      <td>418.22</td>\n",
       "      <td>4.559250</td>\n",
       "      <td>3.866524</td>\n",
       "    </tr>\n",
       "    <tr>\n",
       "      <th>4</th>\n",
       "      <td>J000101173</td>\n",
       "      <td>('J000101173', 'Group 3 Cisplatin')</td>\n",
       "      <td>0.0</td>\n",
       "      <td>173-26</td>\n",
       "      <td>82.65</td>\n",
       "      <td>402.09</td>\n",
       "      <td>4.864973</td>\n",
       "      <td>3.866524</td>\n",
       "    </tr>\n",
       "  </tbody>\n",
       "</table>\n",
       "</div>"
      ],
      "text/plain": [
       "        Study                               Cohort  Control     MID      V0  \\\n",
       "0  J000101173  ('J000101173', 'Group 3 Cisplatin')      0.0  173-17   90.62   \n",
       "1  J000101173  ('J000101173', 'Group 3 Cisplatin')      0.0  173-18  221.97   \n",
       "2  J000101173  ('J000101173', 'Group 3 Cisplatin')      0.0  173-20  100.00   \n",
       "3  J000101173  ('J000101173', 'Group 3 Cisplatin')      0.0  173-25   91.73   \n",
       "4  J000101173  ('J000101173', 'Group 3 Cisplatin')      0.0  173-26   82.65   \n",
       "\n",
       "      V28    V28/V0  V28/V0_sm  \n",
       "0  459.42  5.069742   3.866524  \n",
       "1  483.71  2.179168   3.866524  \n",
       "2  346.87  3.468700   3.866524  \n",
       "3  418.22  4.559250   3.866524  \n",
       "4  402.09  4.864973   3.866524  "
      ]
     },
     "execution_count": 8,
     "metadata": {},
     "output_type": "execute_result"
    }
   ],
   "source": [
    "sm = m.groupby('Cohort')['V28/V0'].mean().reset_index(name='V28/V0_sm')\n",
    "m = m.merge(sm, on=['Cohort'], validate='many_to_one')\n",
    "m.head()"
   ]
  },
  {
   "cell_type": "code",
   "execution_count": 9,
   "metadata": {},
   "outputs": [
    {
     "data": {
      "text/html": [
       "<div>\n",
       "<style scoped>\n",
       "    .dataframe tbody tr th:only-of-type {\n",
       "        vertical-align: middle;\n",
       "    }\n",
       "\n",
       "    .dataframe tbody tr th {\n",
       "        vertical-align: top;\n",
       "    }\n",
       "\n",
       "    .dataframe thead th {\n",
       "        text-align: right;\n",
       "    }\n",
       "</style>\n",
       "<table border=\"1\" class=\"dataframe\">\n",
       "  <thead>\n",
       "    <tr style=\"text-align: right;\">\n",
       "      <th></th>\n",
       "      <th>V28/V0_sm</th>\n",
       "    </tr>\n",
       "  </thead>\n",
       "  <tbody>\n",
       "    <tr>\n",
       "      <th>count</th>\n",
       "      <td>45.000000</td>\n",
       "    </tr>\n",
       "    <tr>\n",
       "      <th>mean</th>\n",
       "      <td>3.963445</td>\n",
       "    </tr>\n",
       "    <tr>\n",
       "      <th>std</th>\n",
       "      <td>2.680816</td>\n",
       "    </tr>\n",
       "    <tr>\n",
       "      <th>min</th>\n",
       "      <td>0.656194</td>\n",
       "    </tr>\n",
       "    <tr>\n",
       "      <th>25%</th>\n",
       "      <td>1.837185</td>\n",
       "    </tr>\n",
       "    <tr>\n",
       "      <th>50%</th>\n",
       "      <td>3.518140</td>\n",
       "    </tr>\n",
       "    <tr>\n",
       "      <th>75%</th>\n",
       "      <td>5.687443</td>\n",
       "    </tr>\n",
       "    <tr>\n",
       "      <th>max</th>\n",
       "      <td>12.116899</td>\n",
       "    </tr>\n",
       "  </tbody>\n",
       "</table>\n",
       "</div>"
      ],
      "text/plain": [
       "       V28/V0_sm\n",
       "count  45.000000\n",
       "mean    3.963445\n",
       "std     2.680816\n",
       "min     0.656194\n",
       "25%     1.837185\n",
       "50%     3.518140\n",
       "75%     5.687443\n",
       "max    12.116899"
      ]
     },
     "execution_count": 9,
     "metadata": {},
     "output_type": "execute_result"
    }
   ],
   "source": [
    "sm.describe()"
   ]
  },
  {
   "cell_type": "code",
   "execution_count": 10,
   "metadata": {},
   "outputs": [
    {
     "data": {
      "text/html": [
       "<div>\n",
       "<style scoped>\n",
       "    .dataframe tbody tr th:only-of-type {\n",
       "        vertical-align: middle;\n",
       "    }\n",
       "\n",
       "    .dataframe tbody tr th {\n",
       "        vertical-align: top;\n",
       "    }\n",
       "\n",
       "    .dataframe thead th {\n",
       "        text-align: right;\n",
       "    }\n",
       "</style>\n",
       "<table border=\"1\" class=\"dataframe\">\n",
       "  <thead>\n",
       "    <tr style=\"text-align: right;\">\n",
       "      <th></th>\n",
       "      <th>Study</th>\n",
       "      <th>Cohort</th>\n",
       "      <th>Control</th>\n",
       "      <th>MID</th>\n",
       "      <th>V0</th>\n",
       "      <th>V28</th>\n",
       "      <th>V28/V0</th>\n",
       "      <th>V28/V0_sm</th>\n",
       "      <th>V28/V0_cen</th>\n",
       "    </tr>\n",
       "  </thead>\n",
       "  <tbody>\n",
       "    <tr>\n",
       "      <th>0</th>\n",
       "      <td>J000101173</td>\n",
       "      <td>('J000101173', 'Group 3 Cisplatin')</td>\n",
       "      <td>0.0</td>\n",
       "      <td>173-17</td>\n",
       "      <td>90.62</td>\n",
       "      <td>459.42</td>\n",
       "      <td>5.069742</td>\n",
       "      <td>3.866524</td>\n",
       "      <td>1.203218</td>\n",
       "    </tr>\n",
       "    <tr>\n",
       "      <th>1</th>\n",
       "      <td>J000101173</td>\n",
       "      <td>('J000101173', 'Group 3 Cisplatin')</td>\n",
       "      <td>0.0</td>\n",
       "      <td>173-18</td>\n",
       "      <td>221.97</td>\n",
       "      <td>483.71</td>\n",
       "      <td>2.179168</td>\n",
       "      <td>3.866524</td>\n",
       "      <td>-1.687356</td>\n",
       "    </tr>\n",
       "    <tr>\n",
       "      <th>2</th>\n",
       "      <td>J000101173</td>\n",
       "      <td>('J000101173', 'Group 3 Cisplatin')</td>\n",
       "      <td>0.0</td>\n",
       "      <td>173-20</td>\n",
       "      <td>100.00</td>\n",
       "      <td>346.87</td>\n",
       "      <td>3.468700</td>\n",
       "      <td>3.866524</td>\n",
       "      <td>-0.397824</td>\n",
       "    </tr>\n",
       "    <tr>\n",
       "      <th>3</th>\n",
       "      <td>J000101173</td>\n",
       "      <td>('J000101173', 'Group 3 Cisplatin')</td>\n",
       "      <td>0.0</td>\n",
       "      <td>173-25</td>\n",
       "      <td>91.73</td>\n",
       "      <td>418.22</td>\n",
       "      <td>4.559250</td>\n",
       "      <td>3.866524</td>\n",
       "      <td>0.692726</td>\n",
       "    </tr>\n",
       "    <tr>\n",
       "      <th>4</th>\n",
       "      <td>J000101173</td>\n",
       "      <td>('J000101173', 'Group 3 Cisplatin')</td>\n",
       "      <td>0.0</td>\n",
       "      <td>173-26</td>\n",
       "      <td>82.65</td>\n",
       "      <td>402.09</td>\n",
       "      <td>4.864973</td>\n",
       "      <td>3.866524</td>\n",
       "      <td>0.998449</td>\n",
       "    </tr>\n",
       "  </tbody>\n",
       "</table>\n",
       "</div>"
      ],
      "text/plain": [
       "        Study                               Cohort  Control     MID      V0  \\\n",
       "0  J000101173  ('J000101173', 'Group 3 Cisplatin')      0.0  173-17   90.62   \n",
       "1  J000101173  ('J000101173', 'Group 3 Cisplatin')      0.0  173-18  221.97   \n",
       "2  J000101173  ('J000101173', 'Group 3 Cisplatin')      0.0  173-20  100.00   \n",
       "3  J000101173  ('J000101173', 'Group 3 Cisplatin')      0.0  173-25   91.73   \n",
       "4  J000101173  ('J000101173', 'Group 3 Cisplatin')      0.0  173-26   82.65   \n",
       "\n",
       "      V28    V28/V0  V28/V0_sm  V28/V0_cen  \n",
       "0  459.42  5.069742   3.866524    1.203218  \n",
       "1  483.71  2.179168   3.866524   -1.687356  \n",
       "2  346.87  3.468700   3.866524   -0.397824  \n",
       "3  418.22  4.559250   3.866524    0.692726  \n",
       "4  402.09  4.864973   3.866524    0.998449  "
      ]
     },
     "execution_count": 10,
     "metadata": {},
     "output_type": "execute_result"
    }
   ],
   "source": [
    "m['V28/V0_cen'] = m['V28/V0'] - m['V28/V0_sm']\n",
    "m.head()"
   ]
  },
  {
   "cell_type": "code",
   "execution_count": 11,
   "metadata": {},
   "outputs": [
    {
     "data": {
      "text/html": [
       "<div>\n",
       "<style scoped>\n",
       "    .dataframe tbody tr th:only-of-type {\n",
       "        vertical-align: middle;\n",
       "    }\n",
       "\n",
       "    .dataframe tbody tr th {\n",
       "        vertical-align: top;\n",
       "    }\n",
       "\n",
       "    .dataframe thead th {\n",
       "        text-align: right;\n",
       "    }\n",
       "</style>\n",
       "<table border=\"1\" class=\"dataframe\">\n",
       "  <thead>\n",
       "    <tr style=\"text-align: right;\">\n",
       "      <th></th>\n",
       "      <th>Study</th>\n",
       "      <th>Cohort</th>\n",
       "      <th>Control</th>\n",
       "      <th>MID</th>\n",
       "      <th>V0</th>\n",
       "      <th>V28</th>\n",
       "      <th>V28/V0</th>\n",
       "      <th>V28/V0_sm</th>\n",
       "      <th>V28/V0_cen</th>\n",
       "    </tr>\n",
       "  </thead>\n",
       "  <tbody>\n",
       "    <tr>\n",
       "      <th>0</th>\n",
       "      <td>J000101173</td>\n",
       "      <td>('J000101173', 'Group 3 Cisplatin')</td>\n",
       "      <td>0.0</td>\n",
       "      <td>173-17</td>\n",
       "      <td>90.62</td>\n",
       "      <td>459.42</td>\n",
       "      <td>5.069742</td>\n",
       "      <td>3.866524</td>\n",
       "      <td>1.203218</td>\n",
       "    </tr>\n",
       "    <tr>\n",
       "      <th>1</th>\n",
       "      <td>J000101173</td>\n",
       "      <td>('J000101173', 'Group 3 Cisplatin')</td>\n",
       "      <td>0.0</td>\n",
       "      <td>173-18</td>\n",
       "      <td>221.97</td>\n",
       "      <td>483.71</td>\n",
       "      <td>2.179168</td>\n",
       "      <td>3.866524</td>\n",
       "      <td>-1.687356</td>\n",
       "    </tr>\n",
       "    <tr>\n",
       "      <th>2</th>\n",
       "      <td>J000101173</td>\n",
       "      <td>('J000101173', 'Group 3 Cisplatin')</td>\n",
       "      <td>0.0</td>\n",
       "      <td>173-20</td>\n",
       "      <td>100.00</td>\n",
       "      <td>346.87</td>\n",
       "      <td>3.468700</td>\n",
       "      <td>3.866524</td>\n",
       "      <td>-0.397824</td>\n",
       "    </tr>\n",
       "    <tr>\n",
       "      <th>3</th>\n",
       "      <td>J000101173</td>\n",
       "      <td>('J000101173', 'Group 3 Cisplatin')</td>\n",
       "      <td>0.0</td>\n",
       "      <td>173-25</td>\n",
       "      <td>91.73</td>\n",
       "      <td>418.22</td>\n",
       "      <td>4.559250</td>\n",
       "      <td>3.866524</td>\n",
       "      <td>0.692726</td>\n",
       "    </tr>\n",
       "    <tr>\n",
       "      <th>4</th>\n",
       "      <td>J000101173</td>\n",
       "      <td>('J000101173', 'Group 3 Cisplatin')</td>\n",
       "      <td>0.0</td>\n",
       "      <td>173-26</td>\n",
       "      <td>82.65</td>\n",
       "      <td>402.09</td>\n",
       "      <td>4.864973</td>\n",
       "      <td>3.866524</td>\n",
       "      <td>0.998449</td>\n",
       "    </tr>\n",
       "  </tbody>\n",
       "</table>\n",
       "</div>"
      ],
      "text/plain": [
       "        Study                               Cohort  Control     MID      V0  \\\n",
       "0  J000101173  ('J000101173', 'Group 3 Cisplatin')      0.0  173-17   90.62   \n",
       "1  J000101173  ('J000101173', 'Group 3 Cisplatin')      0.0  173-18  221.97   \n",
       "2  J000101173  ('J000101173', 'Group 3 Cisplatin')      0.0  173-20  100.00   \n",
       "3  J000101173  ('J000101173', 'Group 3 Cisplatin')      0.0  173-25   91.73   \n",
       "4  J000101173  ('J000101173', 'Group 3 Cisplatin')      0.0  173-26   82.65   \n",
       "\n",
       "      V28    V28/V0  V28/V0_sm  V28/V0_cen  \n",
       "0  459.42  5.069742   3.866524    1.203218  \n",
       "1  483.71  2.179168   3.866524   -1.687356  \n",
       "2  346.87  3.468700   3.866524   -0.397824  \n",
       "3  418.22  4.559250   3.866524    0.692726  \n",
       "4  402.09  4.864973   3.866524    0.998449  "
      ]
     },
     "execution_count": 11,
     "metadata": {},
     "output_type": "execute_result"
    }
   ],
   "source": [
    "m.head()"
   ]
  },
  {
   "cell_type": "code",
   "execution_count": 12,
   "metadata": {},
   "outputs": [
    {
     "data": {
      "text/plain": [
       "(array([  2.,  34., 160., 137.,  18.,  10.,   2.,   1.,   1.,   1.]),\n",
       " array([-5.72619050e+00, -3.81808316e+00, -1.90997582e+00, -1.86847244e-03,\n",
       "         1.90623887e+00,  3.81434622e+00,  5.72245356e+00,  7.63056090e+00,\n",
       "         9.53866825e+00,  1.14467756e+01,  1.33548829e+01]),\n",
       " <BarContainer object of 10 artists>)"
      ]
     },
     "execution_count": 12,
     "metadata": {},
     "output_type": "execute_result"
    },
    {
     "data": {
      "image/png": "[encoded data removed]",
      "text/plain": [
       "<Figure size 432x288 with 1 Axes>"
      ]
     },
     "metadata": {
      "needs_background": "light"
     },
     "output_type": "display_data"
    }
   ],
   "source": [
    "plt.hist(list(m['V28/V0_cen']))"
   ]
  },
  {
   "cell_type": "code",
   "execution_count": 13,
   "metadata": {},
   "outputs": [
    {
     "data": {
      "text/plain": [
       "(array([  1.,  13.,  20.,  40., 121., 111.,  26.,  14.,   8.,   5.,   1.,\n",
       "          2.,   1.,   0.,   1.,   0.,   0.,   0.,   1.,   0.]),\n",
       " array([-5, -4, -3, -2, -1,  0,  1,  2,  3,  4,  5,  6,  7,  8,  9, 10, 11,\n",
       "        12, 13, 14, 15]),\n",
       " <BarContainer object of 20 artists>)"
      ]
     },
     "execution_count": 13,
     "metadata": {},
     "output_type": "execute_result"
    },
    {
     "data": {
      "image/png": "[encoded data removed]",
      "text/plain": [
       "<Figure size 432x288 with 1 Axes>"
      ]
     },
     "metadata": {
      "needs_background": "light"
     },
     "output_type": "display_data"
    }
   ],
   "source": [
    "plt.hist(list(m['V28/V0_cen']), bins = [-5, -4, -3, -2, -1, 0, 1, 2, 3, 4, 5, 6, 7, 8, 9, 10, 11, 12, 13, 14, 15])"
   ]
  },
  {
   "cell_type": "code",
   "execution_count": 14,
   "metadata": {},
   "outputs": [
    {
     "data": {
      "text/html": [
       "<div>\n",
       "<style scoped>\n",
       "    .dataframe tbody tr th:only-of-type {\n",
       "        vertical-align: middle;\n",
       "    }\n",
       "\n",
       "    .dataframe tbody tr th {\n",
       "        vertical-align: top;\n",
       "    }\n",
       "\n",
       "    .dataframe thead th {\n",
       "        text-align: right;\n",
       "    }\n",
       "</style>\n",
       "<table border=\"1\" class=\"dataframe\">\n",
       "  <thead>\n",
       "    <tr style=\"text-align: right;\">\n",
       "      <th></th>\n",
       "      <th>Study</th>\n",
       "      <th>Cohort</th>\n",
       "      <th>Control</th>\n",
       "      <th>MID</th>\n",
       "      <th>V0</th>\n",
       "      <th>V28</th>\n",
       "      <th>V28/V0</th>\n",
       "      <th>V28/V0_sm</th>\n",
       "      <th>V28/V0_cen</th>\n",
       "    </tr>\n",
       "  </thead>\n",
       "  <tbody>\n",
       "    <tr>\n",
       "      <th>131</th>\n",
       "      <td>J000101173</td>\n",
       "      <td>('J000101173', 'Group 1 Vehicle')</td>\n",
       "      <td>1.0</td>\n",
       "      <td>173-02</td>\n",
       "      <td>172.49</td>\n",
       "      <td>882.80</td>\n",
       "      <td>5.117978</td>\n",
       "      <td>6.050728</td>\n",
       "      <td>-0.932750</td>\n",
       "    </tr>\n",
       "    <tr>\n",
       "      <th>132</th>\n",
       "      <td>J000101173</td>\n",
       "      <td>('J000101173', 'Group 1 Vehicle')</td>\n",
       "      <td>1.0</td>\n",
       "      <td>173-03</td>\n",
       "      <td>85.55</td>\n",
       "      <td>1660.15</td>\n",
       "      <td>19.405611</td>\n",
       "      <td>6.050728</td>\n",
       "      <td>13.354883</td>\n",
       "    </tr>\n",
       "    <tr>\n",
       "      <th>133</th>\n",
       "      <td>J000101173</td>\n",
       "      <td>('J000101173', 'Group 1 Vehicle')</td>\n",
       "      <td>1.0</td>\n",
       "      <td>173-06</td>\n",
       "      <td>98.16</td>\n",
       "      <td>624.50</td>\n",
       "      <td>6.362062</td>\n",
       "      <td>6.050728</td>\n",
       "      <td>0.311334</td>\n",
       "    </tr>\n",
       "    <tr>\n",
       "      <th>134</th>\n",
       "      <td>J000101173</td>\n",
       "      <td>('J000101173', 'Group 1 Vehicle')</td>\n",
       "      <td>1.0</td>\n",
       "      <td>173-09</td>\n",
       "      <td>124.32</td>\n",
       "      <td>419.17</td>\n",
       "      <td>3.371702</td>\n",
       "      <td>6.050728</td>\n",
       "      <td>-2.679026</td>\n",
       "    </tr>\n",
       "    <tr>\n",
       "      <th>135</th>\n",
       "      <td>J000101173</td>\n",
       "      <td>('J000101173', 'Group 1 Vehicle')</td>\n",
       "      <td>1.0</td>\n",
       "      <td>173-12</td>\n",
       "      <td>122.35</td>\n",
       "      <td>869.84</td>\n",
       "      <td>7.109440</td>\n",
       "      <td>6.050728</td>\n",
       "      <td>1.058712</td>\n",
       "    </tr>\n",
       "  </tbody>\n",
       "</table>\n",
       "</div>"
      ],
      "text/plain": [
       "          Study                             Cohort  Control     MID      V0  \\\n",
       "131  J000101173  ('J000101173', 'Group 1 Vehicle')      1.0  173-02  172.49   \n",
       "132  J000101173  ('J000101173', 'Group 1 Vehicle')      1.0  173-03   85.55   \n",
       "133  J000101173  ('J000101173', 'Group 1 Vehicle')      1.0  173-06   98.16   \n",
       "134  J000101173  ('J000101173', 'Group 1 Vehicle')      1.0  173-09  124.32   \n",
       "135  J000101173  ('J000101173', 'Group 1 Vehicle')      1.0  173-12  122.35   \n",
       "\n",
       "         V28     V28/V0  V28/V0_sm  V28/V0_cen  \n",
       "131   882.80   5.117978   6.050728   -0.932750  \n",
       "132  1660.15  19.405611   6.050728   13.354883  \n",
       "133   624.50   6.362062   6.050728    0.311334  \n",
       "134   419.17   3.371702   6.050728   -2.679026  \n",
       "135   869.84   7.109440   6.050728    1.058712  "
      ]
     },
     "execution_count": 14,
     "metadata": {},
     "output_type": "execute_result"
    }
   ],
   "source": [
    "c = m.loc[m.Control == 1]\n",
    "c.head()"
   ]
  },
  {
   "cell_type": "code",
   "execution_count": 15,
   "metadata": {},
   "outputs": [],
   "source": [
    "# each study has exactly one control\n",
    "assert(c.groupby('Study').Cohort.nunique().max() == 1)\n",
    "assert(c.groupby('Study').Cohort.nunique().min() == 1)"
   ]
  },
  {
   "cell_type": "code",
   "execution_count": 16,
   "metadata": {},
   "outputs": [
    {
     "data": {
      "text/html": [
       "<div>\n",
       "<style scoped>\n",
       "    .dataframe tbody tr th:only-of-type {\n",
       "        vertical-align: middle;\n",
       "    }\n",
       "\n",
       "    .dataframe tbody tr th {\n",
       "        vertical-align: top;\n",
       "    }\n",
       "\n",
       "    .dataframe thead th {\n",
       "        text-align: right;\n",
       "    }\n",
       "</style>\n",
       "<table border=\"1\" class=\"dataframe\">\n",
       "  <thead>\n",
       "    <tr style=\"text-align: right;\">\n",
       "      <th></th>\n",
       "      <th>C0_sm</th>\n",
       "    </tr>\n",
       "  </thead>\n",
       "  <tbody>\n",
       "    <tr>\n",
       "      <th>count</th>\n",
       "      <td>14.000000</td>\n",
       "    </tr>\n",
       "    <tr>\n",
       "      <th>mean</th>\n",
       "      <td>139.383148</td>\n",
       "    </tr>\n",
       "    <tr>\n",
       "      <th>std</th>\n",
       "      <td>31.717330</td>\n",
       "    </tr>\n",
       "    <tr>\n",
       "      <th>min</th>\n",
       "      <td>104.420000</td>\n",
       "    </tr>\n",
       "    <tr>\n",
       "      <th>25%</th>\n",
       "      <td>110.602455</td>\n",
       "    </tr>\n",
       "    <tr>\n",
       "      <th>50%</th>\n",
       "      <td>133.138542</td>\n",
       "    </tr>\n",
       "    <tr>\n",
       "      <th>75%</th>\n",
       "      <td>167.941500</td>\n",
       "    </tr>\n",
       "    <tr>\n",
       "      <th>max</th>\n",
       "      <td>187.166667</td>\n",
       "    </tr>\n",
       "  </tbody>\n",
       "</table>\n",
       "</div>"
      ],
      "text/plain": [
       "            C0_sm\n",
       "count   14.000000\n",
       "mean   139.383148\n",
       "std     31.717330\n",
       "min    104.420000\n",
       "25%    110.602455\n",
       "50%    133.138542\n",
       "75%    167.941500\n",
       "max    187.166667"
      ]
     },
     "execution_count": 16,
     "metadata": {},
     "output_type": "execute_result"
    }
   ],
   "source": [
    "c = c[['Study', 'Cohort', 'Control', 'MID', 'V0']]\n",
    "csm = c.groupby('Study')['V0'].mean().reset_index(name='C0_sm')\n",
    "csm.describe()"
   ]
  },
  {
   "cell_type": "code",
   "execution_count": 17,
   "metadata": {},
   "outputs": [
    {
     "data": {
      "text/html": [
       "<div>\n",
       "<style scoped>\n",
       "    .dataframe tbody tr th:only-of-type {\n",
       "        vertical-align: middle;\n",
       "    }\n",
       "\n",
       "    .dataframe tbody tr th {\n",
       "        vertical-align: top;\n",
       "    }\n",
       "\n",
       "    .dataframe thead th {\n",
       "        text-align: right;\n",
       "    }\n",
       "</style>\n",
       "<table border=\"1\" class=\"dataframe\">\n",
       "  <thead>\n",
       "    <tr style=\"text-align: right;\">\n",
       "      <th></th>\n",
       "      <th>Study</th>\n",
       "      <th>C0_sm</th>\n",
       "    </tr>\n",
       "  </thead>\n",
       "  <tbody>\n",
       "    <tr>\n",
       "      <th>0</th>\n",
       "      <td>J000101173</td>\n",
       "      <td>123.992222</td>\n",
       "    </tr>\n",
       "    <tr>\n",
       "      <th>1</th>\n",
       "      <td>TM00194</td>\n",
       "      <td>110.173750</td>\n",
       "    </tr>\n",
       "    <tr>\n",
       "      <th>2</th>\n",
       "      <td>TM00196</td>\n",
       "      <td>187.166667</td>\n",
       "    </tr>\n",
       "    <tr>\n",
       "      <th>3</th>\n",
       "      <td>TM00202</td>\n",
       "      <td>111.888571</td>\n",
       "    </tr>\n",
       "    <tr>\n",
       "      <th>4</th>\n",
       "      <td>TM00203_2</td>\n",
       "      <td>141.840000</td>\n",
       "    </tr>\n",
       "  </tbody>\n",
       "</table>\n",
       "</div>"
      ],
      "text/plain": [
       "        Study       C0_sm\n",
       "0  J000101173  123.992222\n",
       "1     TM00194  110.173750\n",
       "2     TM00196  187.166667\n",
       "3     TM00202  111.888571\n",
       "4   TM00203_2  141.840000"
      ]
     },
     "execution_count": 17,
     "metadata": {},
     "output_type": "execute_result"
    }
   ],
   "source": [
    "csm.head()"
   ]
  },
  {
   "cell_type": "code",
   "execution_count": 18,
   "metadata": {},
   "outputs": [
    {
     "data": {
      "text/html": [
       "<div>\n",
       "<style scoped>\n",
       "    .dataframe tbody tr th:only-of-type {\n",
       "        vertical-align: middle;\n",
       "    }\n",
       "\n",
       "    .dataframe tbody tr th {\n",
       "        vertical-align: top;\n",
       "    }\n",
       "\n",
       "    .dataframe thead th {\n",
       "        text-align: right;\n",
       "    }\n",
       "</style>\n",
       "<table border=\"1\" class=\"dataframe\">\n",
       "  <thead>\n",
       "    <tr style=\"text-align: right;\">\n",
       "      <th></th>\n",
       "      <th>Study</th>\n",
       "      <th>Cohort</th>\n",
       "      <th>Control</th>\n",
       "      <th>MID</th>\n",
       "      <th>V0</th>\n",
       "      <th>V28</th>\n",
       "      <th>V28/V0</th>\n",
       "      <th>V28/V0_sm</th>\n",
       "      <th>V28/V0_cen</th>\n",
       "      <th>C0_sm</th>\n",
       "    </tr>\n",
       "  </thead>\n",
       "  <tbody>\n",
       "    <tr>\n",
       "      <th>0</th>\n",
       "      <td>J000101173</td>\n",
       "      <td>('J000101173', 'Group 3 Cisplatin')</td>\n",
       "      <td>0.0</td>\n",
       "      <td>173-17</td>\n",
       "      <td>90.62</td>\n",
       "      <td>459.42</td>\n",
       "      <td>5.069742</td>\n",
       "      <td>3.866524</td>\n",
       "      <td>1.203218</td>\n",
       "      <td>123.992222</td>\n",
       "    </tr>\n",
       "    <tr>\n",
       "      <th>1</th>\n",
       "      <td>J000101173</td>\n",
       "      <td>('J000101173', 'Group 3 Cisplatin')</td>\n",
       "      <td>0.0</td>\n",
       "      <td>173-18</td>\n",
       "      <td>221.97</td>\n",
       "      <td>483.71</td>\n",
       "      <td>2.179168</td>\n",
       "      <td>3.866524</td>\n",
       "      <td>-1.687356</td>\n",
       "      <td>123.992222</td>\n",
       "    </tr>\n",
       "    <tr>\n",
       "      <th>2</th>\n",
       "      <td>J000101173</td>\n",
       "      <td>('J000101173', 'Group 3 Cisplatin')</td>\n",
       "      <td>0.0</td>\n",
       "      <td>173-20</td>\n",
       "      <td>100.00</td>\n",
       "      <td>346.87</td>\n",
       "      <td>3.468700</td>\n",
       "      <td>3.866524</td>\n",
       "      <td>-0.397824</td>\n",
       "      <td>123.992222</td>\n",
       "    </tr>\n",
       "    <tr>\n",
       "      <th>3</th>\n",
       "      <td>J000101173</td>\n",
       "      <td>('J000101173', 'Group 3 Cisplatin')</td>\n",
       "      <td>0.0</td>\n",
       "      <td>173-25</td>\n",
       "      <td>91.73</td>\n",
       "      <td>418.22</td>\n",
       "      <td>4.559250</td>\n",
       "      <td>3.866524</td>\n",
       "      <td>0.692726</td>\n",
       "      <td>123.992222</td>\n",
       "    </tr>\n",
       "    <tr>\n",
       "      <th>4</th>\n",
       "      <td>J000101173</td>\n",
       "      <td>('J000101173', 'Group 3 Cisplatin')</td>\n",
       "      <td>0.0</td>\n",
       "      <td>173-26</td>\n",
       "      <td>82.65</td>\n",
       "      <td>402.09</td>\n",
       "      <td>4.864973</td>\n",
       "      <td>3.866524</td>\n",
       "      <td>0.998449</td>\n",
       "      <td>123.992222</td>\n",
       "    </tr>\n",
       "  </tbody>\n",
       "</table>\n",
       "</div>"
      ],
      "text/plain": [
       "        Study                               Cohort  Control     MID      V0  \\\n",
       "0  J000101173  ('J000101173', 'Group 3 Cisplatin')      0.0  173-17   90.62   \n",
       "1  J000101173  ('J000101173', 'Group 3 Cisplatin')      0.0  173-18  221.97   \n",
       "2  J000101173  ('J000101173', 'Group 3 Cisplatin')      0.0  173-20  100.00   \n",
       "3  J000101173  ('J000101173', 'Group 3 Cisplatin')      0.0  173-25   91.73   \n",
       "4  J000101173  ('J000101173', 'Group 3 Cisplatin')      0.0  173-26   82.65   \n",
       "\n",
       "      V28    V28/V0  V28/V0_sm  V28/V0_cen       C0_sm  \n",
       "0  459.42  5.069742   3.866524    1.203218  123.992222  \n",
       "1  483.71  2.179168   3.866524   -1.687356  123.992222  \n",
       "2  346.87  3.468700   3.866524   -0.397824  123.992222  \n",
       "3  418.22  4.559250   3.866524    0.692726  123.992222  \n",
       "4  402.09  4.864973   3.866524    0.998449  123.992222  "
      ]
     },
     "execution_count": 18,
     "metadata": {},
     "output_type": "execute_result"
    }
   ],
   "source": [
    "m = m.merge(csm, on=['Study'], validate='many_to_one')\n",
    "m.head()"
   ]
  },
  {
   "cell_type": "code",
   "execution_count": 19,
   "metadata": {},
   "outputs": [],
   "source": [
    "m['V28/C0'] = m['V28'] / m['C0_sm']\n",
    "samp_mean = m.groupby('Cohort')['V28/C0'].mean().reset_index(name='V28/C0_sm')"
   ]
  },
  {
   "cell_type": "code",
   "execution_count": 20,
   "metadata": {},
   "outputs": [
    {
     "data": {
      "text/html": [
       "<div>\n",
       "<style scoped>\n",
       "    .dataframe tbody tr th:only-of-type {\n",
       "        vertical-align: middle;\n",
       "    }\n",
       "\n",
       "    .dataframe tbody tr th {\n",
       "        vertical-align: top;\n",
       "    }\n",
       "\n",
       "    .dataframe thead th {\n",
       "        text-align: right;\n",
       "    }\n",
       "</style>\n",
       "<table border=\"1\" class=\"dataframe\">\n",
       "  <thead>\n",
       "    <tr style=\"text-align: right;\">\n",
       "      <th></th>\n",
       "      <th>Study</th>\n",
       "      <th>Cohort</th>\n",
       "      <th>Control</th>\n",
       "      <th>MID</th>\n",
       "      <th>V0</th>\n",
       "      <th>V28</th>\n",
       "      <th>V28/V0</th>\n",
       "      <th>V28/V0_sm</th>\n",
       "      <th>V28/V0_cen</th>\n",
       "      <th>C0_sm</th>\n",
       "      <th>V28/C0</th>\n",
       "      <th>V28/C0_sm</th>\n",
       "    </tr>\n",
       "  </thead>\n",
       "  <tbody>\n",
       "    <tr>\n",
       "      <th>0</th>\n",
       "      <td>J000101173</td>\n",
       "      <td>('J000101173', 'Group 3 Cisplatin')</td>\n",
       "      <td>0.0</td>\n",
       "      <td>173-17</td>\n",
       "      <td>90.62</td>\n",
       "      <td>459.42</td>\n",
       "      <td>5.069742</td>\n",
       "      <td>3.866524</td>\n",
       "      <td>1.203218</td>\n",
       "      <td>123.992222</td>\n",
       "      <td>3.705232</td>\n",
       "      <td>3.58242</td>\n",
       "    </tr>\n",
       "    <tr>\n",
       "      <th>1</th>\n",
       "      <td>J000101173</td>\n",
       "      <td>('J000101173', 'Group 3 Cisplatin')</td>\n",
       "      <td>0.0</td>\n",
       "      <td>173-18</td>\n",
       "      <td>221.97</td>\n",
       "      <td>483.71</td>\n",
       "      <td>2.179168</td>\n",
       "      <td>3.866524</td>\n",
       "      <td>-1.687356</td>\n",
       "      <td>123.992222</td>\n",
       "      <td>3.901132</td>\n",
       "      <td>3.58242</td>\n",
       "    </tr>\n",
       "    <tr>\n",
       "      <th>2</th>\n",
       "      <td>J000101173</td>\n",
       "      <td>('J000101173', 'Group 3 Cisplatin')</td>\n",
       "      <td>0.0</td>\n",
       "      <td>173-20</td>\n",
       "      <td>100.00</td>\n",
       "      <td>346.87</td>\n",
       "      <td>3.468700</td>\n",
       "      <td>3.866524</td>\n",
       "      <td>-0.397824</td>\n",
       "      <td>123.992222</td>\n",
       "      <td>2.797514</td>\n",
       "      <td>3.58242</td>\n",
       "    </tr>\n",
       "    <tr>\n",
       "      <th>3</th>\n",
       "      <td>J000101173</td>\n",
       "      <td>('J000101173', 'Group 3 Cisplatin')</td>\n",
       "      <td>0.0</td>\n",
       "      <td>173-25</td>\n",
       "      <td>91.73</td>\n",
       "      <td>418.22</td>\n",
       "      <td>4.559250</td>\n",
       "      <td>3.866524</td>\n",
       "      <td>0.692726</td>\n",
       "      <td>123.992222</td>\n",
       "      <td>3.372954</td>\n",
       "      <td>3.58242</td>\n",
       "    </tr>\n",
       "    <tr>\n",
       "      <th>4</th>\n",
       "      <td>J000101173</td>\n",
       "      <td>('J000101173', 'Group 3 Cisplatin')</td>\n",
       "      <td>0.0</td>\n",
       "      <td>173-26</td>\n",
       "      <td>82.65</td>\n",
       "      <td>402.09</td>\n",
       "      <td>4.864973</td>\n",
       "      <td>3.866524</td>\n",
       "      <td>0.998449</td>\n",
       "      <td>123.992222</td>\n",
       "      <td>3.242865</td>\n",
       "      <td>3.58242</td>\n",
       "    </tr>\n",
       "  </tbody>\n",
       "</table>\n",
       "</div>"
      ],
      "text/plain": [
       "        Study                               Cohort  Control     MID      V0  \\\n",
       "0  J000101173  ('J000101173', 'Group 3 Cisplatin')      0.0  173-17   90.62   \n",
       "1  J000101173  ('J000101173', 'Group 3 Cisplatin')      0.0  173-18  221.97   \n",
       "2  J000101173  ('J000101173', 'Group 3 Cisplatin')      0.0  173-20  100.00   \n",
       "3  J000101173  ('J000101173', 'Group 3 Cisplatin')      0.0  173-25   91.73   \n",
       "4  J000101173  ('J000101173', 'Group 3 Cisplatin')      0.0  173-26   82.65   \n",
       "\n",
       "      V28    V28/V0  V28/V0_sm  V28/V0_cen       C0_sm    V28/C0  V28/C0_sm  \n",
       "0  459.42  5.069742   3.866524    1.203218  123.992222  3.705232    3.58242  \n",
       "1  483.71  2.179168   3.866524   -1.687356  123.992222  3.901132    3.58242  \n",
       "2  346.87  3.468700   3.866524   -0.397824  123.992222  2.797514    3.58242  \n",
       "3  418.22  4.559250   3.866524    0.692726  123.992222  3.372954    3.58242  \n",
       "4  402.09  4.864973   3.866524    0.998449  123.992222  3.242865    3.58242  "
      ]
     },
     "execution_count": 20,
     "metadata": {},
     "output_type": "execute_result"
    }
   ],
   "source": [
    "m = m.merge(samp_mean, on=['Cohort'], validate='many_to_one')\n",
    "m.head()"
   ]
  },
  {
   "cell_type": "code",
   "execution_count": 21,
   "metadata": {},
   "outputs": [
    {
     "data": {
      "text/html": [
       "<div>\n",
       "<style scoped>\n",
       "    .dataframe tbody tr th:only-of-type {\n",
       "        vertical-align: middle;\n",
       "    }\n",
       "\n",
       "    .dataframe tbody tr th {\n",
       "        vertical-align: top;\n",
       "    }\n",
       "\n",
       "    .dataframe thead th {\n",
       "        text-align: right;\n",
       "    }\n",
       "</style>\n",
       "<table border=\"1\" class=\"dataframe\">\n",
       "  <thead>\n",
       "    <tr style=\"text-align: right;\">\n",
       "      <th></th>\n",
       "      <th>Study</th>\n",
       "      <th>Cohort</th>\n",
       "      <th>Control</th>\n",
       "      <th>MID</th>\n",
       "      <th>V0</th>\n",
       "      <th>V28</th>\n",
       "      <th>V28/V0</th>\n",
       "      <th>V28/V0_sm</th>\n",
       "      <th>V28/V0_cen</th>\n",
       "      <th>C0_sm</th>\n",
       "      <th>V28/C0</th>\n",
       "      <th>V28/C0_sm</th>\n",
       "      <th>V28/C0_cen</th>\n",
       "    </tr>\n",
       "  </thead>\n",
       "  <tbody>\n",
       "    <tr>\n",
       "      <th>0</th>\n",
       "      <td>J000101173</td>\n",
       "      <td>('J000101173', 'Group 3 Cisplatin')</td>\n",
       "      <td>0.0</td>\n",
       "      <td>173-17</td>\n",
       "      <td>90.62</td>\n",
       "      <td>459.42</td>\n",
       "      <td>5.069742</td>\n",
       "      <td>3.866524</td>\n",
       "      <td>1.203218</td>\n",
       "      <td>123.992222</td>\n",
       "      <td>3.705232</td>\n",
       "      <td>3.58242</td>\n",
       "      <td>0.122812</td>\n",
       "    </tr>\n",
       "    <tr>\n",
       "      <th>1</th>\n",
       "      <td>J000101173</td>\n",
       "      <td>('J000101173', 'Group 3 Cisplatin')</td>\n",
       "      <td>0.0</td>\n",
       "      <td>173-18</td>\n",
       "      <td>221.97</td>\n",
       "      <td>483.71</td>\n",
       "      <td>2.179168</td>\n",
       "      <td>3.866524</td>\n",
       "      <td>-1.687356</td>\n",
       "      <td>123.992222</td>\n",
       "      <td>3.901132</td>\n",
       "      <td>3.58242</td>\n",
       "      <td>0.318712</td>\n",
       "    </tr>\n",
       "    <tr>\n",
       "      <th>2</th>\n",
       "      <td>J000101173</td>\n",
       "      <td>('J000101173', 'Group 3 Cisplatin')</td>\n",
       "      <td>0.0</td>\n",
       "      <td>173-20</td>\n",
       "      <td>100.00</td>\n",
       "      <td>346.87</td>\n",
       "      <td>3.468700</td>\n",
       "      <td>3.866524</td>\n",
       "      <td>-0.397824</td>\n",
       "      <td>123.992222</td>\n",
       "      <td>2.797514</td>\n",
       "      <td>3.58242</td>\n",
       "      <td>-0.784906</td>\n",
       "    </tr>\n",
       "    <tr>\n",
       "      <th>3</th>\n",
       "      <td>J000101173</td>\n",
       "      <td>('J000101173', 'Group 3 Cisplatin')</td>\n",
       "      <td>0.0</td>\n",
       "      <td>173-25</td>\n",
       "      <td>91.73</td>\n",
       "      <td>418.22</td>\n",
       "      <td>4.559250</td>\n",
       "      <td>3.866524</td>\n",
       "      <td>0.692726</td>\n",
       "      <td>123.992222</td>\n",
       "      <td>3.372954</td>\n",
       "      <td>3.58242</td>\n",
       "      <td>-0.209467</td>\n",
       "    </tr>\n",
       "    <tr>\n",
       "      <th>4</th>\n",
       "      <td>J000101173</td>\n",
       "      <td>('J000101173', 'Group 3 Cisplatin')</td>\n",
       "      <td>0.0</td>\n",
       "      <td>173-26</td>\n",
       "      <td>82.65</td>\n",
       "      <td>402.09</td>\n",
       "      <td>4.864973</td>\n",
       "      <td>3.866524</td>\n",
       "      <td>0.998449</td>\n",
       "      <td>123.992222</td>\n",
       "      <td>3.242865</td>\n",
       "      <td>3.58242</td>\n",
       "      <td>-0.339555</td>\n",
       "    </tr>\n",
       "  </tbody>\n",
       "</table>\n",
       "</div>"
      ],
      "text/plain": [
       "        Study                               Cohort  Control     MID      V0  \\\n",
       "0  J000101173  ('J000101173', 'Group 3 Cisplatin')      0.0  173-17   90.62   \n",
       "1  J000101173  ('J000101173', 'Group 3 Cisplatin')      0.0  173-18  221.97   \n",
       "2  J000101173  ('J000101173', 'Group 3 Cisplatin')      0.0  173-20  100.00   \n",
       "3  J000101173  ('J000101173', 'Group 3 Cisplatin')      0.0  173-25   91.73   \n",
       "4  J000101173  ('J000101173', 'Group 3 Cisplatin')      0.0  173-26   82.65   \n",
       "\n",
       "      V28    V28/V0  V28/V0_sm  V28/V0_cen       C0_sm    V28/C0  V28/C0_sm  \\\n",
       "0  459.42  5.069742   3.866524    1.203218  123.992222  3.705232    3.58242   \n",
       "1  483.71  2.179168   3.866524   -1.687356  123.992222  3.901132    3.58242   \n",
       "2  346.87  3.468700   3.866524   -0.397824  123.992222  2.797514    3.58242   \n",
       "3  418.22  4.559250   3.866524    0.692726  123.992222  3.372954    3.58242   \n",
       "4  402.09  4.864973   3.866524    0.998449  123.992222  3.242865    3.58242   \n",
       "\n",
       "   V28/C0_cen  \n",
       "0    0.122812  \n",
       "1    0.318712  \n",
       "2   -0.784906  \n",
       "3   -0.209467  \n",
       "4   -0.339555  "
      ]
     },
     "execution_count": 21,
     "metadata": {},
     "output_type": "execute_result"
    }
   ],
   "source": [
    "m['V28/C0_cen'] = m['V28/C0'] - m['V28/C0_sm']\n",
    "m.head()"
   ]
  },
  {
   "cell_type": "code",
   "execution_count": 22,
   "metadata": {},
   "outputs": [
    {
     "name": "stdout",
     "output_type": "stream",
     "text": [
      "324\n"
     ]
    },
    {
     "data": {
      "image/png": "[encoded data removed]",
      "text/plain": [
       "<Figure size 432x288 with 1 Axes>"
      ]
     },
     "metadata": {
      "needs_background": "light"
     },
     "output_type": "display_data"
    }
   ],
   "source": [
    "plt.hist(list(m['V28/C0_cen']))\n",
    "print(m.MID.nunique())"
   ]
  },
  {
   "cell_type": "code",
   "execution_count": 23,
   "metadata": {},
   "outputs": [
    {
     "data": {
      "text/plain": [
       "(array([  3.,   9.,  14.,  43., 115.,  72.,  34.,  12.,   7.,   4.,   3.,\n",
       "          1.,   2.,   0.,   1.,   0.,   1.,   0.,   0.,   0.]),\n",
       " array([-5, -4, -3, -2, -1,  0,  1,  2,  3,  4,  5,  6,  7,  8,  9, 10, 11,\n",
       "        12, 13, 14, 15]),\n",
       " <BarContainer object of 20 artists>)"
      ]
     },
     "execution_count": 23,
     "metadata": {},
     "output_type": "execute_result"
    },
    {
     "data": {
      "image/png": "[encoded data removed]",
      "text/plain": [
       "<Figure size 432x288 with 1 Axes>"
      ]
     },
     "metadata": {
      "needs_background": "light"
     },
     "output_type": "display_data"
    }
   ],
   "source": [
    "plt.hist(list(m['V28/C0_cen']), bins = [-5, -4, -3, -2, -1, 0, 1, 2, 3, 4, 5, 6, 7, 8, 9, 10, 11, 12, 13, 14, 15])"
   ]
  },
  {
   "cell_type": "code",
   "execution_count": 24,
   "metadata": {},
   "outputs": [],
   "source": [
    "m['lg_V28/C0'] = np.log(m['V28/C0'])"
   ]
  },
  {
   "cell_type": "code",
   "execution_count": 25,
   "metadata": {},
   "outputs": [],
   "source": [
    "lg_sm = m.groupby('Cohort')['lg_V28/C0'].mean().reset_index(name='lg_V28/C0_sm')"
   ]
  },
  {
   "cell_type": "code",
   "execution_count": 26,
   "metadata": {},
   "outputs": [
    {
     "data": {
      "text/html": [
       "<div>\n",
       "<style scoped>\n",
       "    .dataframe tbody tr th:only-of-type {\n",
       "        vertical-align: middle;\n",
       "    }\n",
       "\n",
       "    .dataframe tbody tr th {\n",
       "        vertical-align: top;\n",
       "    }\n",
       "\n",
       "    .dataframe thead th {\n",
       "        text-align: right;\n",
       "    }\n",
       "</style>\n",
       "<table border=\"1\" class=\"dataframe\">\n",
       "  <thead>\n",
       "    <tr style=\"text-align: right;\">\n",
       "      <th></th>\n",
       "      <th>Study</th>\n",
       "      <th>Cohort</th>\n",
       "      <th>Control</th>\n",
       "      <th>MID</th>\n",
       "      <th>V0</th>\n",
       "      <th>V28</th>\n",
       "      <th>V28/V0</th>\n",
       "      <th>V28/V0_sm</th>\n",
       "      <th>V28/V0_cen</th>\n",
       "      <th>C0_sm</th>\n",
       "      <th>V28/C0</th>\n",
       "      <th>V28/C0_sm</th>\n",
       "      <th>V28/C0_cen</th>\n",
       "      <th>lg_V28/C0</th>\n",
       "      <th>lg_V28/C0_sm</th>\n",
       "    </tr>\n",
       "  </thead>\n",
       "  <tbody>\n",
       "    <tr>\n",
       "      <th>0</th>\n",
       "      <td>J000101173</td>\n",
       "      <td>('J000101173', 'Group 3 Cisplatin')</td>\n",
       "      <td>0.0</td>\n",
       "      <td>173-17</td>\n",
       "      <td>90.62</td>\n",
       "      <td>459.42</td>\n",
       "      <td>5.069742</td>\n",
       "      <td>3.866524</td>\n",
       "      <td>1.203218</td>\n",
       "      <td>123.992222</td>\n",
       "      <td>3.705232</td>\n",
       "      <td>3.58242</td>\n",
       "      <td>0.122812</td>\n",
       "      <td>1.309746</td>\n",
       "      <td>1.24595</td>\n",
       "    </tr>\n",
       "    <tr>\n",
       "      <th>1</th>\n",
       "      <td>J000101173</td>\n",
       "      <td>('J000101173', 'Group 3 Cisplatin')</td>\n",
       "      <td>0.0</td>\n",
       "      <td>173-18</td>\n",
       "      <td>221.97</td>\n",
       "      <td>483.71</td>\n",
       "      <td>2.179168</td>\n",
       "      <td>3.866524</td>\n",
       "      <td>-1.687356</td>\n",
       "      <td>123.992222</td>\n",
       "      <td>3.901132</td>\n",
       "      <td>3.58242</td>\n",
       "      <td>0.318712</td>\n",
       "      <td>1.361267</td>\n",
       "      <td>1.24595</td>\n",
       "    </tr>\n",
       "    <tr>\n",
       "      <th>2</th>\n",
       "      <td>J000101173</td>\n",
       "      <td>('J000101173', 'Group 3 Cisplatin')</td>\n",
       "      <td>0.0</td>\n",
       "      <td>173-20</td>\n",
       "      <td>100.00</td>\n",
       "      <td>346.87</td>\n",
       "      <td>3.468700</td>\n",
       "      <td>3.866524</td>\n",
       "      <td>-0.397824</td>\n",
       "      <td>123.992222</td>\n",
       "      <td>2.797514</td>\n",
       "      <td>3.58242</td>\n",
       "      <td>-0.784906</td>\n",
       "      <td>1.028731</td>\n",
       "      <td>1.24595</td>\n",
       "    </tr>\n",
       "    <tr>\n",
       "      <th>3</th>\n",
       "      <td>J000101173</td>\n",
       "      <td>('J000101173', 'Group 3 Cisplatin')</td>\n",
       "      <td>0.0</td>\n",
       "      <td>173-25</td>\n",
       "      <td>91.73</td>\n",
       "      <td>418.22</td>\n",
       "      <td>4.559250</td>\n",
       "      <td>3.866524</td>\n",
       "      <td>0.692726</td>\n",
       "      <td>123.992222</td>\n",
       "      <td>3.372954</td>\n",
       "      <td>3.58242</td>\n",
       "      <td>-0.209467</td>\n",
       "      <td>1.215789</td>\n",
       "      <td>1.24595</td>\n",
       "    </tr>\n",
       "    <tr>\n",
       "      <th>4</th>\n",
       "      <td>J000101173</td>\n",
       "      <td>('J000101173', 'Group 3 Cisplatin')</td>\n",
       "      <td>0.0</td>\n",
       "      <td>173-26</td>\n",
       "      <td>82.65</td>\n",
       "      <td>402.09</td>\n",
       "      <td>4.864973</td>\n",
       "      <td>3.866524</td>\n",
       "      <td>0.998449</td>\n",
       "      <td>123.992222</td>\n",
       "      <td>3.242865</td>\n",
       "      <td>3.58242</td>\n",
       "      <td>-0.339555</td>\n",
       "      <td>1.176457</td>\n",
       "      <td>1.24595</td>\n",
       "    </tr>\n",
       "  </tbody>\n",
       "</table>\n",
       "</div>"
      ],
      "text/plain": [
       "        Study                               Cohort  Control     MID      V0  \\\n",
       "0  J000101173  ('J000101173', 'Group 3 Cisplatin')      0.0  173-17   90.62   \n",
       "1  J000101173  ('J000101173', 'Group 3 Cisplatin')      0.0  173-18  221.97   \n",
       "2  J000101173  ('J000101173', 'Group 3 Cisplatin')      0.0  173-20  100.00   \n",
       "3  J000101173  ('J000101173', 'Group 3 Cisplatin')      0.0  173-25   91.73   \n",
       "4  J000101173  ('J000101173', 'Group 3 Cisplatin')      0.0  173-26   82.65   \n",
       "\n",
       "      V28    V28/V0  V28/V0_sm  V28/V0_cen       C0_sm    V28/C0  V28/C0_sm  \\\n",
       "0  459.42  5.069742   3.866524    1.203218  123.992222  3.705232    3.58242   \n",
       "1  483.71  2.179168   3.866524   -1.687356  123.992222  3.901132    3.58242   \n",
       "2  346.87  3.468700   3.866524   -0.397824  123.992222  2.797514    3.58242   \n",
       "3  418.22  4.559250   3.866524    0.692726  123.992222  3.372954    3.58242   \n",
       "4  402.09  4.864973   3.866524    0.998449  123.992222  3.242865    3.58242   \n",
       "\n",
       "   V28/C0_cen  lg_V28/C0  lg_V28/C0_sm  \n",
       "0    0.122812   1.309746       1.24595  \n",
       "1    0.318712   1.361267       1.24595  \n",
       "2   -0.784906   1.028731       1.24595  \n",
       "3   -0.209467   1.215789       1.24595  \n",
       "4   -0.339555   1.176457       1.24595  "
      ]
     },
     "execution_count": 26,
     "metadata": {},
     "output_type": "execute_result"
    }
   ],
   "source": [
    "m = m.merge(lg_sm, on=['Cohort'], validate='many_to_one')\n",
    "m.head()"
   ]
  },
  {
   "cell_type": "code",
   "execution_count": 27,
   "metadata": {},
   "outputs": [],
   "source": [
    "m['lg_V28/C0_cen'] = m['lg_V28/C0'] - m['lg_V28/C0_sm']"
   ]
  },
  {
   "cell_type": "code",
   "execution_count": 28,
   "metadata": {},
   "outputs": [
    {
     "data": {
      "text/plain": [
       "(array([ 3.,  5.,  9., 22., 64., 81., 70., 49., 15.,  6.]),\n",
       " array([-1.68766703, -1.3933882 , -1.09910936, -0.80483052, -0.51055168,\n",
       "        -0.21627285,  0.07800599,  0.37228483,  0.66656367,  0.9608425 ,\n",
       "         1.25512134]),\n",
       " <BarContainer object of 10 artists>)"
      ]
     },
     "execution_count": 28,
     "metadata": {},
     "output_type": "execute_result"
    },
    {
     "data": {
      "image/png": "[encoded data removed]",
      "text/plain": [
       "<Figure size 432x288 with 1 Axes>"
      ]
     },
     "metadata": {
      "needs_background": "light"
     },
     "output_type": "display_data"
    }
   ],
   "source": [
    "plt.hist(m['lg_V28/C0_cen'])"
   ]
  },
  {
   "cell_type": "code",
   "execution_count": 29,
   "metadata": {
    "scrolled": true
   },
   "outputs": [
    {
     "data": {
      "text/plain": [
       "(array([  0.,   0.,   3.,   5.,  33., 122., 115.,  41.,   5.,   0.,   0.]),\n",
       " array([-3. , -2.5, -2. , -1.5, -1. , -0.5,  0. ,  0.5,  1. ,  1.5,  2. ,\n",
       "         2.5]),\n",
       " <BarContainer object of 11 artists>)"
      ]
     },
     "execution_count": 29,
     "metadata": {},
     "output_type": "execute_result"
    },
    {
     "data": {
      "image/png": "[encoded data removed]",
      "text/plain": [
       "<Figure size 432x288 with 1 Axes>"
      ]
     },
     "metadata": {
      "needs_background": "light"
     },
     "output_type": "display_data"
    }
   ],
   "source": [
    "plt.hist(m['lg_V28/C0_cen'], bins = [-3, -2.5, -2, -1.5, -1, -.5, 0, .5, 1, 1.5, 2, 2.5])"
   ]
  },
  {
   "cell_type": "code",
   "execution_count": 36,
   "metadata": {},
   "outputs": [
    {
     "name": "stdout",
     "output_type": "stream",
     "text": [
      "211\n"
     ]
    },
    {
     "data": {
      "text/plain": [
       "(array([ 1.,  0.,  1.,  0.,  3.,  6., 21., 89., 56., 19.,  6.,  5.,  2.,\n",
       "         1.,  0.,  0.,  0.,  0.,  0.,  1.]),\n",
       " array([-8, -7, -6, -5, -4, -3, -2, -1,  0,  1,  2,  3,  4,  5,  6,  7,  8,\n",
       "         9, 10, 11, 12]),\n",
       " <BarContainer object of 20 artists>)"
      ]
     },
     "execution_count": 36,
     "metadata": {},
     "output_type": "execute_result"
    },
    {
     "data": {
      "image/png": "[encoded data removed]",
      "text/plain": [
       "<Figure size 432x288 with 1 Axes>"
      ]
     },
     "metadata": {
      "needs_background": "light"
     },
     "output_type": "display_data"
    }
   ],
   "source": [
    "m_treat = m.loc[m.Control == 0]\n",
    "m_control = m.loc[m.Control == 1]\n",
    "print(m_treat.MID.nunique())\n",
    "plt.hist(m_treat['V28/C0_cen'], bins = [x for x in range(-8, 13)])"
   ]
  },
  {
   "cell_type": "code",
   "execution_count": 38,
   "metadata": {},
   "outputs": [
    {
     "name": "stdout",
     "output_type": "stream",
     "text": [
      "113\n"
     ]
    },
    {
     "data": {
      "text/plain": [
       "(array([ 2.,  8., 18., 39., 27.,  9.,  3.,  3.,  2.,  2.]),\n",
       " array([-6.06934695, -4.53615399, -3.00296103, -1.46976807,  0.0634249 ,\n",
       "         1.59661786,  3.12981082,  4.66300378,  6.19619675,  7.72938971,\n",
       "         9.26258267]),\n",
       " <BarContainer object of 10 artists>)"
      ]
     },
     "execution_count": 38,
     "metadata": {},
     "output_type": "execute_result"
    },
    {
     "data": {
      "image/png": "[encoded data removed]",
      "text/plain": [
       "<Figure size 432x288 with 1 Axes>"
      ]
     },
     "metadata": {
      "needs_background": "light"
     },
     "output_type": "display_data"
    }
   ],
   "source": [
    "print(m_control.MID.nunique())\n",
    "plt.hist(m_control['V28/C0_cen'])"
   ]
  },
  {
   "cell_type": "code",
   "execution_count": 47,
   "metadata": {},
   "outputs": [
    {
     "data": {
      "text/plain": [
       "<Figure size 432x288 with 0 Axes>"
      ]
     },
     "metadata": {},
     "output_type": "display_data"
    }
   ],
   "source": [
    "SAVE_DIR = '../results/2023-03-28/'\n",
    "\n",
    "# plot V28/C0 combined\n",
    "fn = SAVE_DIR + 'V28_C0_combined.png'\n",
    "n = m.MID.nunique()\n",
    "plt.hist(m['V28/C0_cen'], bins = [x for x in range(-8, 13)])\n",
    "plt.title('Volume@28 / Control@0, Combined, N = ' + str(n))\n",
    "plt.savefig(fn)\n",
    "plt.clf()\n",
    "# plot V28/C0 treat\n",
    "fn = SAVE_DIR + 'V28_C0_treat.png'\n",
    "n = m_treat.MID.nunique()\n",
    "plt.hist(m_treat['V28/C0_cen'], bins = [x for x in range(-8, 13)])\n",
    "plt.title('Volume@28 / Control@0, Treatment, N = ' + str(n))\n",
    "plt.savefig(fn)\n",
    "plt.clf()\n",
    "# plot V28/C0 control\n",
    "fn = SAVE_DIR + 'V28_C0_control.png'\n",
    "n = m_control.MID.nunique()\n",
    "plt.hist(m_control['V28/C0_cen'], bins = [x for x in range(-7, 10)])\n",
    "plt.title('Volume@28 / Control@0, Control, N = ' + str(n))\n",
    "plt.savefig(fn)\n",
    "plt.clf()\n",
    "\n",
    "# plot V28/V0 combined\n",
    "# plot V28/V0 treat\n",
    "# plot V28/V0 control\n",
    "\n",
    "# plot lg_V28/C0 combined\n",
    "# plot lg_V28/C0 treat\n",
    "# plot lg_V28/C0 control"
   ]
  },
  {
   "cell_type": "code",
   "execution_count": 49,
   "metadata": {},
   "outputs": [
    {
     "data": {
      "text/plain": [
       "<Figure size 432x288 with 0 Axes>"
      ]
     },
     "metadata": {},
     "output_type": "display_data"
    }
   ],
   "source": [
    "# plot V28/V0 combined\n",
    "fn = SAVE_DIR + 'V28_V0_combined.png'\n",
    "n = m.MID.nunique()\n",
    "plt.hist(m['V28/V0_cen'], bins = [x for x in range(-6, 13)])\n",
    "plt.title('Volume@28 / Volume@0, Combined, N = ' + str(n))\n",
    "plt.savefig(fn)\n",
    "plt.clf()\n",
    "# plot V28/V0 treat\n",
    "fn = SAVE_DIR + 'V28_V0_treat.png'\n",
    "n = m_treat.MID.nunique()\n",
    "plt.hist(m_treat['V28/V0_cen'], bins = [x for x in range(-6, 13)])\n",
    "plt.title('Volume@28 / Volume@0, Treatment, N = ' + str(n))\n",
    "plt.savefig(fn)\n",
    "plt.clf()\n",
    "# plot V28/V0 control\n",
    "fn = SAVE_DIR + 'V28_V0_control.png'\n",
    "n = m_control.MID.nunique()\n",
    "plt.hist(m_control['V28/V0_cen'], bins = [x for x in range(-6, 13)])\n",
    "plt.title('Volume@28 / Volume@0, Control, N = ' + str(n))\n",
    "plt.savefig(fn)\n",
    "plt.clf()"
   ]
  },
  {
   "cell_type": "code",
   "execution_count": 52,
   "metadata": {},
   "outputs": [
    {
     "data": {
      "text/plain": [
       "<Figure size 432x288 with 0 Axes>"
      ]
     },
     "metadata": {},
     "output_type": "display_data"
    }
   ],
   "source": [
    "# plot lg_V28/C0 combined\n",
    "fn = SAVE_DIR + 'lg_V28_C0_combined.png'\n",
    "n = m.MID.nunique()\n",
    "plt.hist(m['lg_V28/C0_cen'])\n",
    "plt.title('log(Volume@28 / Control@0), Combined, N = ' + str(n))\n",
    "plt.savefig(fn)\n",
    "plt.clf()\n",
    "# plot lg_V28/C0 treat\n",
    "fn = SAVE_DIR + 'lg_V28_C0_treat.png'\n",
    "n = m_treat.MID.nunique()\n",
    "plt.hist(m_treat['lg_V28/C0_cen'])\n",
    "plt.title('log(Volume@28 / Control@0), Treatment, N = ' + str(n))\n",
    "plt.savefig(fn)\n",
    "plt.clf()\n",
    "# plot lg_V28/C0 control\n",
    "fn = SAVE_DIR + 'lg_V28_C0_control.png'\n",
    "n = m_control.MID.nunique()\n",
    "plt.hist(m_control['lg_V28/C0_cen'])\n",
    "plt.title('log(Volume@28 / Control@0), Control, N = ' + str(n))\n",
    "plt.savefig(fn)\n",
    "plt.clf()"
   ]
  },
  {
   "cell_type": "code",
   "execution_count": null,
   "metadata": {},
   "outputs": [],
   "source": []
  }
 ],
 "metadata": {
  "kernelspec": {
   "display_name": "Python 3",
   "language": "python",
   "name": "python3"
  },
  "language_info": {
   "codemirror_mode": {
    "name": "ipython",
    "version": 3
   },
   "file_extension": ".py",
   "mimetype": "text/x-python",
   "name": "python",
   "nbconvert_exporter": "python",
   "pygments_lexer": "ipython3",
   "version": "3.8.5"
  }
 },
 "nbformat": 4,
 "nbformat_minor": 4
}
