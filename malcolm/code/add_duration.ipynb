{
 "cells": [
  {
   "cell_type": "code",
   "execution_count": 1,
   "metadata": {},
   "outputs": [],
   "source": [
    "import pandas as pd"
   ]
  },
  {
   "cell_type": "code",
   "execution_count": 2,
   "metadata": {},
   "outputs": [],
   "source": [
    "DATA = '../data/malcolm_clean.csv'\n",
    "SAVE_FN = '../data/malcolm_clean_w_duration.csv'\n",
    "df = pd.read_csv(DATA)"
   ]
  },
  {
   "cell_type": "code",
   "execution_count": 3,
   "metadata": {},
   "outputs": [],
   "source": [
    "# create columns with earliest day + size\n",
    "start_day = df.loc[df.groupby('MID')['Day'].idxmin()] \n",
    "assert(len(start_day) == df.MID.nunique())\n",
    "# create columns with latest day + size\n",
    "end_day = df.loc[df.groupby('MID')['Day'].idxmax()]\n",
    "assert(len(end_day) == df.MID.nunique())"
   ]
  },
  {
   "cell_type": "code",
   "execution_count": 4,
   "metadata": {},
   "outputs": [
    {
     "data": {
      "text/plain": [
       "count    1663.000000\n",
       "mean       -0.345159\n",
       "std         0.645208\n",
       "min        -1.000000\n",
       "25%        -1.000000\n",
       "50%         0.000000\n",
       "75%         0.000000\n",
       "max         1.000000\n",
       "Name: Day, dtype: float64"
      ]
     },
     "execution_count": 4,
     "metadata": {},
     "output_type": "execute_result"
    }
   ],
   "source": [
    "start_day['Day'].describe()"
   ]
  },
  {
   "cell_type": "code",
   "execution_count": 5,
   "metadata": {},
   "outputs": [
    {
     "data": {
      "text/plain": [
       "count    1663.000000\n",
       "mean       24.734215\n",
       "std         4.628206\n",
       "min        -1.000000\n",
       "25%        22.000000\n",
       "50%        27.000000\n",
       "75%        28.000000\n",
       "max        28.000000\n",
       "Name: Day, dtype: float64"
      ]
     },
     "execution_count": 5,
     "metadata": {},
     "output_type": "execute_result"
    }
   ],
   "source": [
    "end_day['Day'].describe()"
   ]
  },
  {
   "cell_type": "code",
   "execution_count": 6,
   "metadata": {},
   "outputs": [
    {
     "data": {
      "text/html": [
       "<div>\n",
       "<style scoped>\n",
       "    .dataframe tbody tr th:only-of-type {\n",
       "        vertical-align: middle;\n",
       "    }\n",
       "\n",
       "    .dataframe tbody tr th {\n",
       "        vertical-align: top;\n",
       "    }\n",
       "\n",
       "    .dataframe thead th {\n",
       "        text-align: right;\n",
       "    }\n",
       "</style>\n",
       "<table border=\"1\" class=\"dataframe\">\n",
       "  <thead>\n",
       "    <tr style=\"text-align: right;\">\n",
       "      <th></th>\n",
       "      <th>Study</th>\n",
       "      <th>Group</th>\n",
       "      <th>Drug</th>\n",
       "      <th>Control</th>\n",
       "      <th>MID</th>\n",
       "      <th>start</th>\n",
       "      <th>start_size</th>\n",
       "      <th>end</th>\n",
       "      <th>end_size</th>\n",
       "      <th>duration</th>\n",
       "    </tr>\n",
       "  </thead>\n",
       "  <tbody>\n",
       "    <tr>\n",
       "      <th>0</th>\n",
       "      <td>J000100672</td>\n",
       "      <td>3</td>\n",
       "      <td>Cisplatin</td>\n",
       "      <td>0.0</td>\n",
       "      <td>396-11</td>\n",
       "      <td>0.0</td>\n",
       "      <td>212.49</td>\n",
       "      <td>27.0</td>\n",
       "      <td>1275.52</td>\n",
       "      <td>27.0</td>\n",
       "    </tr>\n",
       "    <tr>\n",
       "      <th>1</th>\n",
       "      <td>J000100672</td>\n",
       "      <td>3</td>\n",
       "      <td>Cisplatin</td>\n",
       "      <td>0.0</td>\n",
       "      <td>396-20</td>\n",
       "      <td>0.0</td>\n",
       "      <td>180.48</td>\n",
       "      <td>27.0</td>\n",
       "      <td>1115.51</td>\n",
       "      <td>27.0</td>\n",
       "    </tr>\n",
       "    <tr>\n",
       "      <th>2</th>\n",
       "      <td>J000100672</td>\n",
       "      <td>3</td>\n",
       "      <td>Cisplatin</td>\n",
       "      <td>0.0</td>\n",
       "      <td>396-21</td>\n",
       "      <td>0.0</td>\n",
       "      <td>76.94</td>\n",
       "      <td>27.0</td>\n",
       "      <td>1056.95</td>\n",
       "      <td>27.0</td>\n",
       "    </tr>\n",
       "    <tr>\n",
       "      <th>3</th>\n",
       "      <td>J000100672</td>\n",
       "      <td>3</td>\n",
       "      <td>Cisplatin</td>\n",
       "      <td>0.0</td>\n",
       "      <td>396-31</td>\n",
       "      <td>0.0</td>\n",
       "      <td>151.44</td>\n",
       "      <td>27.0</td>\n",
       "      <td>1330.26</td>\n",
       "      <td>27.0</td>\n",
       "    </tr>\n",
       "    <tr>\n",
       "      <th>4</th>\n",
       "      <td>J000100672</td>\n",
       "      <td>3</td>\n",
       "      <td>Cisplatin</td>\n",
       "      <td>0.0</td>\n",
       "      <td>396-32</td>\n",
       "      <td>0.0</td>\n",
       "      <td>127.70</td>\n",
       "      <td>27.0</td>\n",
       "      <td>746.38</td>\n",
       "      <td>27.0</td>\n",
       "    </tr>\n",
       "  </tbody>\n",
       "</table>\n",
       "</div>"
      ],
      "text/plain": [
       "        Study Group       Drug  Control     MID  start  start_size   end  \\\n",
       "0  J000100672     3  Cisplatin      0.0  396-11    0.0      212.49  27.0   \n",
       "1  J000100672     3  Cisplatin      0.0  396-20    0.0      180.48  27.0   \n",
       "2  J000100672     3  Cisplatin      0.0  396-21    0.0       76.94  27.0   \n",
       "3  J000100672     3  Cisplatin      0.0  396-31    0.0      151.44  27.0   \n",
       "4  J000100672     3  Cisplatin      0.0  396-32    0.0      127.70  27.0   \n",
       "\n",
       "   end_size  duration  \n",
       "0   1275.52      27.0  \n",
       "1   1115.51      27.0  \n",
       "2   1056.95      27.0  \n",
       "3   1330.26      27.0  \n",
       "4    746.38      27.0  "
      ]
     },
     "execution_count": 6,
     "metadata": {},
     "output_type": "execute_result"
    }
   ],
   "source": [
    "d = df[['Study', 'Group', 'Drug', 'Control', 'MID']].drop_duplicates()\n",
    "nmids = d.MID.nunique()\n",
    "assert(len(d) == nmids)\n",
    "start_day = start_day.rename(columns = {'Day': 'start', 'Size': 'start_size'})\n",
    "end_day = end_day.rename(columns = {'Day': 'end', 'Size': 'end_size'})\n",
    "d = d.merge(start_day[['MID', 'start', 'start_size']], on='MID', validate='one_to_one')\n",
    "assert(len(d) == nmids)\n",
    "d = d.merge(end_day[['MID', 'end', 'end_size']], on='MID', validate='one_to_one')\n",
    "assert(len(d) == nmids)\n",
    "d['duration'] = d['end'] - d['start']\n",
    "d.head()"
   ]
  },
  {
   "cell_type": "code",
   "execution_count": 7,
   "metadata": {},
   "outputs": [
    {
     "data": {
      "text/plain": [
       "count    1663.000000\n",
       "mean       25.079375\n",
       "std         4.694616\n",
       "min         0.000000\n",
       "25%        22.000000\n",
       "50%        27.000000\n",
       "75%        28.000000\n",
       "max        29.000000\n",
       "Name: duration, dtype: float64"
      ]
     },
     "execution_count": 7,
     "metadata": {},
     "output_type": "execute_result"
    }
   ],
   "source": [
    "d['duration'].describe()"
   ]
  },
  {
   "cell_type": "code",
   "execution_count": 9,
   "metadata": {},
   "outputs": [
    {
     "data": {
      "text/plain": [
       "1663"
      ]
     },
     "execution_count": 9,
     "metadata": {},
     "output_type": "execute_result"
    }
   ],
   "source": [
    "d.MID.nunique()"
   ]
  },
  {
   "cell_type": "code",
   "execution_count": 10,
   "metadata": {},
   "outputs": [
    {
     "data": {
      "text/plain": [
       "1445"
      ]
     },
     "execution_count": 10,
     "metadata": {},
     "output_type": "execute_result"
    }
   ],
   "source": [
    "d.loc[d.duration >= 21].MID.nunique()"
   ]
  },
  {
   "cell_type": "code",
   "execution_count": 8,
   "metadata": {},
   "outputs": [],
   "source": [
    "d.to_csv(SAVE_FN, index=False)"
   ]
  }
 ],
 "metadata": {
  "kernelspec": {
   "display_name": "Python 3",
   "language": "python",
   "name": "python3"
  },
  "language_info": {
   "codemirror_mode": {
    "name": "ipython",
    "version": 3
   },
   "file_extension": ".py",
   "mimetype": "text/x-python",
   "name": "python",
   "nbconvert_exporter": "python",
   "pygments_lexer": "ipython3",
   "version": "3.8.5"
  }
 },
 "nbformat": 4,
 "nbformat_minor": 4
}
