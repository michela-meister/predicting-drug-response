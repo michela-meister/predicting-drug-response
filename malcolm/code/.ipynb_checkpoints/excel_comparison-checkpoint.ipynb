{
 "cells": [
  {
   "cell_type": "code",
   "execution_count": 45,
   "metadata": {},
   "outputs": [],
   "source": [
    "import pandas as pd"
   ]
  },
  {
   "cell_type": "code",
   "execution_count": 62,
   "metadata": {},
   "outputs": [],
   "source": [
    "EXCEL_DATA = '../paper/peerj-07-6586-s001-michela-edits.xlsx'\n",
    "ef0 = pd.read_excel(EXCEL_DATA, header=0, sheet_name=0)\n",
    "ef1 = pd.read_excel(EXCEL_DATA, header=0, sheet_name=1)"
   ]
  },
  {
   "cell_type": "code",
   "execution_count": 63,
   "metadata": {},
   "outputs": [
    {
     "data": {
      "text/html": [
       "<div>\n",
       "<style scoped>\n",
       "    .dataframe tbody tr th:only-of-type {\n",
       "        vertical-align: middle;\n",
       "    }\n",
       "\n",
       "    .dataframe tbody tr th {\n",
       "        vertical-align: top;\n",
       "    }\n",
       "\n",
       "    .dataframe thead th {\n",
       "        text-align: right;\n",
       "    }\n",
       "</style>\n",
       "<table border=\"1\" class=\"dataframe\">\n",
       "  <thead>\n",
       "    <tr style=\"text-align: right;\">\n",
       "      <th></th>\n",
       "      <th>Model</th>\n",
       "      <th>Primary Site</th>\n",
       "      <th>Specimen Site</th>\n",
       "      <th>Clinical Diagnosis</th>\n",
       "      <th>Primary/Met</th>\n",
       "      <th>Passage</th>\n",
       "      <th>Study Duration</th>\n",
       "      <th>C_N</th>\n",
       "      <th>C: Average Start Size (mm3)</th>\n",
       "      <th>C: Min Start Size (mm3) C</th>\n",
       "      <th>C: Max Start Size (mm3)</th>\n",
       "      <th>T_N</th>\n",
       "      <th>T: Average Start Size (mm3)</th>\n",
       "      <th>T: Min Start Size (mm3)</th>\n",
       "      <th>T: Max Start Size (mm3)</th>\n",
       "    </tr>\n",
       "  </thead>\n",
       "  <tbody>\n",
       "    <tr>\n",
       "      <th>0</th>\n",
       "      <td>J000079689</td>\n",
       "      <td>Retroperitoneum</td>\n",
       "      <td>Retroperitoneum</td>\n",
       "      <td>neuroblastoma</td>\n",
       "      <td>Metastatic</td>\n",
       "      <td>2</td>\n",
       "      <td>28</td>\n",
       "      <td>5</td>\n",
       "      <td>220.570000</td>\n",
       "      <td>103.19</td>\n",
       "      <td>326.86</td>\n",
       "      <td>6</td>\n",
       "      <td>180.285714</td>\n",
       "      <td>100.80</td>\n",
       "      <td>272.49</td>\n",
       "    </tr>\n",
       "    <tr>\n",
       "      <th>1</th>\n",
       "      <td>J000080739</td>\n",
       "      <td>Breast</td>\n",
       "      <td>Breast</td>\n",
       "      <td>invasive ductal carcinoma</td>\n",
       "      <td>Primary</td>\n",
       "      <td>2</td>\n",
       "      <td>21</td>\n",
       "      <td>10</td>\n",
       "      <td>143.070000</td>\n",
       "      <td>72.27</td>\n",
       "      <td>286.43</td>\n",
       "      <td>10</td>\n",
       "      <td>141.323000</td>\n",
       "      <td>73.00</td>\n",
       "      <td>264.13</td>\n",
       "    </tr>\n",
       "    <tr>\n",
       "      <th>2</th>\n",
       "      <td>J000096652</td>\n",
       "      <td>Lung</td>\n",
       "      <td>Lung</td>\n",
       "      <td>lung adenocarcinoma</td>\n",
       "      <td>Primary</td>\n",
       "      <td>6</td>\n",
       "      <td>21</td>\n",
       "      <td>4</td>\n",
       "      <td>146.971429</td>\n",
       "      <td>80.65</td>\n",
       "      <td>207.55</td>\n",
       "      <td>6</td>\n",
       "      <td>150.492857</td>\n",
       "      <td>89.60</td>\n",
       "      <td>221.29</td>\n",
       "    </tr>\n",
       "    <tr>\n",
       "      <th>3</th>\n",
       "      <td>J000099327</td>\n",
       "      <td>Breast</td>\n",
       "      <td>Breast</td>\n",
       "      <td>invasive ductal carcinoma</td>\n",
       "      <td>Recurrent</td>\n",
       "      <td>3</td>\n",
       "      <td>14</td>\n",
       "      <td>10</td>\n",
       "      <td>138.325455</td>\n",
       "      <td>70.27</td>\n",
       "      <td>262.92</td>\n",
       "      <td>10</td>\n",
       "      <td>137.826364</td>\n",
       "      <td>78.66</td>\n",
       "      <td>293.52</td>\n",
       "    </tr>\n",
       "    <tr>\n",
       "      <th>4</th>\n",
       "      <td>J000100646</td>\n",
       "      <td>Bladder</td>\n",
       "      <td>Bladder</td>\n",
       "      <td>urinary bladder cancer</td>\n",
       "      <td>Primary</td>\n",
       "      <td>3</td>\n",
       "      <td>28</td>\n",
       "      <td>10</td>\n",
       "      <td>130.913000</td>\n",
       "      <td>95.66</td>\n",
       "      <td>223.39</td>\n",
       "      <td>10</td>\n",
       "      <td>131.276000</td>\n",
       "      <td>96.94</td>\n",
       "      <td>221.43</td>\n",
       "    </tr>\n",
       "  </tbody>\n",
       "</table>\n",
       "</div>"
      ],
      "text/plain": [
       "        Model     Primary Site    Specimen Site         Clinical Diagnosis  \\\n",
       "0  J000079689  Retroperitoneum  Retroperitoneum              neuroblastoma   \n",
       "1  J000080739           Breast           Breast  invasive ductal carcinoma   \n",
       "2  J000096652             Lung             Lung        lung adenocarcinoma   \n",
       "3  J000099327           Breast           Breast  invasive ductal carcinoma   \n",
       "4  J000100646          Bladder          Bladder     urinary bladder cancer   \n",
       "\n",
       "  Primary/Met  Passage  Study Duration  C_N  C: Average Start Size (mm3)  \\\n",
       "0  Metastatic        2              28    5                   220.570000   \n",
       "1     Primary        2              21   10                   143.070000   \n",
       "2     Primary        6              21    4                   146.971429   \n",
       "3   Recurrent        3              14   10                   138.325455   \n",
       "4     Primary        3              28   10                   130.913000   \n",
       "\n",
       "   C: Min Start Size (mm3) C  C: Max Start Size (mm3)  T_N  \\\n",
       "0                     103.19                   326.86    6   \n",
       "1                      72.27                   286.43   10   \n",
       "2                      80.65                   207.55    6   \n",
       "3                      70.27                   262.92   10   \n",
       "4                      95.66                   223.39   10   \n",
       "\n",
       "   T: Average Start Size (mm3)  T: Min Start Size (mm3)   \\\n",
       "0                   180.285714                    100.80   \n",
       "1                   141.323000                     73.00   \n",
       "2                   150.492857                     89.60   \n",
       "3                   137.826364                     78.66   \n",
       "4                   131.276000                     96.94   \n",
       "\n",
       "   T: Max Start Size (mm3)  \n",
       "0                   272.49  \n",
       "1                   264.13  \n",
       "2                   221.29  \n",
       "3                   293.52  \n",
       "4                   221.43  "
      ]
     },
     "execution_count": 63,
     "metadata": {},
     "output_type": "execute_result"
    }
   ],
   "source": [
    "ef0.head()"
   ]
  },
  {
   "cell_type": "code",
   "execution_count": 72,
   "metadata": {},
   "outputs": [
    {
     "data": {
      "text/plain": [
       "['J000080739',\n",
       " 'J000096652',\n",
       " 'J000099327',\n",
       " 'J000100674',\n",
       " 'J000104256',\n",
       " 'TM00090',\n",
       " 'TM00099',\n",
       " 'TM00107',\n",
       " 'TM00186',\n",
       " 'TM00192',\n",
       " 'TM00231',\n",
       " 'TM00356',\n",
       " 'TM00784',\n",
       " 'TM01029',\n",
       " 'TM01039',\n",
       " 'TM01149',\n",
       " 'TM01273']"
      ]
     },
     "execution_count": 72,
     "metadata": {},
     "output_type": "execute_result"
    }
   ],
   "source": [
    "# studies with duration <= 21\n",
    "ss = list(ef0.loc[ef0['Study Duration'] <= 21]['Model']) + list(ef1.loc[ef1['Study Duration'] <= 21]['Model'])\n",
    "ss"
   ]
  },
  {
   "cell_type": "code",
   "execution_count": 73,
   "metadata": {},
   "outputs": [
    {
     "data": {
      "text/plain": [
       "['J000079689',\n",
       " 'J000100646',\n",
       " 'J000100672',\n",
       " 'J000100675',\n",
       " 'J000101173',\n",
       " 'J000102184',\n",
       " 'J000102630',\n",
       " 'J000102680',\n",
       " 'J000103634',\n",
       " 'J000103917',\n",
       " 'J000104518',\n",
       " 'J000105006',\n",
       " 'J000106560',\n",
       " 'TM00091',\n",
       " 'TM00096',\n",
       " 'TM00097',\n",
       " 'TM00098',\n",
       " 'TM00103',\n",
       " 'TM00185',\n",
       " 'TM00188',\n",
       " 'TM00193',\n",
       " 'TM00194',\n",
       " 'TM00196',\n",
       " 'TM00199',\n",
       " 'TM00202',\n",
       " 'TM00203',\n",
       " 'TM00208',\n",
       " 'TM00212',\n",
       " 'TM00213',\n",
       " 'TM00214',\n",
       " 'TM00219',\n",
       " 'TM00222',\n",
       " 'TM00226',\n",
       " 'TM00233',\n",
       " 'TM00246',\n",
       " 'TM00253',\n",
       " 'TM00256',\n",
       " 'TM00298',\n",
       " 'TM00302',\n",
       " 'TM00335',\n",
       " 'TM00355',\n",
       " 'TM00386',\n",
       " 'TM00387',\n",
       " 'TM00702',\n",
       " 'TM00832',\n",
       " 'TM00877',\n",
       " 'TM00999',\n",
       " 'TM01075',\n",
       " 'TM01079',\n",
       " 'TM01087',\n",
       " 'TM01117',\n",
       " 'TM01278',\n",
       " 'TM01563',\n",
       " 'J000100675',\n",
       " 'J000101173',\n",
       " 'J000102184',\n",
       " 'J000103634',\n",
       " 'J000100646',\n",
       " 'TM00199',\n",
       " 'TM00208',\n",
       " 'TM00226',\n",
       " 'TM00253',\n",
       " 'TM00256',\n",
       " 'TM00335',\n",
       " 'TM00832',\n",
       " 'TM00877',\n",
       " 'TM00091',\n",
       " 'TM00214',\n",
       " 'TM00387',\n",
       " 'TM00096',\n",
       " 'J000104518',\n",
       " 'TM00098',\n",
       " 'J000105006',\n",
       " 'J000106560',\n",
       " 'TM00103',\n",
       " 'TM00219',\n",
       " 'TM00298',\n",
       " 'TM00355',\n",
       " 'TM00386',\n",
       " 'TM00302',\n",
       " 'TM01075',\n",
       " 'TM00999',\n",
       " 'J000102680',\n",
       " 'TM01079',\n",
       " 'TM01117',\n",
       " 'TM00188',\n",
       " 'TM00193',\n",
       " 'TM00194',\n",
       " 'TM00203',\n",
       " 'TM00702',\n",
       " 'TM01278',\n",
       " 'TM01087',\n",
       " 'TM01563',\n",
       " 'TM00212',\n",
       " 'J000100672',\n",
       " 'J000102630',\n",
       " 'TM00185',\n",
       " 'TM00202',\n",
       " 'TM00246',\n",
       " 'TM00233',\n",
       " 'TM00213',\n",
       " 'J000079689',\n",
       " 'TM00196',\n",
       " 'J000103917',\n",
       " 'TM00222',\n",
       " 'TM00097']"
      ]
     },
     "execution_count": 73,
     "metadata": {},
     "output_type": "execute_result"
    }
   ],
   "source": [
    "s28 = list(ef0.loc[ef0['Study Duration'] >= 28]['Model']) + list(ef1.loc[ef1['Study Duration'] >= 28]['Model'])\n",
    "s28"
   ]
  },
  {
   "cell_type": "code",
   "execution_count": null,
   "metadata": {},
   "outputs": [],
   "source": [
    "## need to create dataframe d!"
   ]
  },
  {
   "cell_type": "code",
   "execution_count": 91,
   "metadata": {},
   "outputs": [],
   "source": [
    "short_duration_studies = d.loc[d.duration <= 21].Study.unique()"
   ]
  },
  {
   "cell_type": "code",
   "execution_count": 92,
   "metadata": {},
   "outputs": [
    {
     "data": {
      "text/plain": [
       "array(['J000100672', 'TM00090', 'TM00097', 'TM01117', 'TM01273',\n",
       "       'J000100674', 'TM00107', 'J000080739', 'J000099327', 'J000104256',\n",
       "       'TM01029', 'J000104518', 'TM01563', 'J000096652', 'TM00186',\n",
       "       'TM00212', 'TM00233', 'J000079689', 'TM01039', 'TM01149',\n",
       "       'TM00784', 'TM00302', 'TM01278', 'J000103634', 'TM00103',\n",
       "       'J000103917', 'TM00091', 'TM00099', 'TM00199', 'TM00203_2',\n",
       "       'TM00387', 'TM00356', 'TM00196', 'TM00213', 'TM01087'],\n",
       "      dtype=object)"
      ]
     },
     "execution_count": 92,
     "metadata": {},
     "output_type": "execute_result"
    }
   ],
   "source": [
    "short_duration_studies"
   ]
  },
  {
   "cell_type": "code",
   "execution_count": 93,
   "metadata": {},
   "outputs": [
    {
     "data": {
      "text/plain": [
       "15"
      ]
     },
     "execution_count": 93,
     "metadata": {},
     "output_type": "execute_result"
    }
   ],
   "source": [
    "len(set(ss).intersection(set(short_duration_studies)))"
   ]
  },
  {
   "cell_type": "code",
   "execution_count": 94,
   "metadata": {},
   "outputs": [
    {
     "data": {
      "text/plain": [
       "35"
      ]
     },
     "execution_count": 94,
     "metadata": {},
     "output_type": "execute_result"
    }
   ],
   "source": [
    "len(set(short_duration_studies))"
   ]
  },
  {
   "cell_type": "code",
   "execution_count": 29,
   "metadata": {},
   "outputs": [
    {
     "data": {
      "text/plain": [
       "911"
      ]
     },
     "execution_count": 29,
     "metadata": {},
     "output_type": "execute_result"
    }
   ],
   "source": [
    "d.loc[d.duration >= 27].MID.nunique()"
   ]
  }
 ],
 "metadata": {
  "kernelspec": {
   "display_name": "Python 3",
   "language": "python",
   "name": "python3"
  },
  "language_info": {
   "codemirror_mode": {
    "name": "ipython",
    "version": 3
   },
   "file_extension": ".py",
   "mimetype": "text/x-python",
   "name": "python",
   "nbconvert_exporter": "python",
   "pygments_lexer": "ipython3",
   "version": "3.8.5"
  }
 },
 "nbformat": 4,
 "nbformat_minor": 4
}
