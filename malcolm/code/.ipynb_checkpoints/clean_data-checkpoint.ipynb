{
 "cells": [
  {
   "cell_type": "code",
   "execution_count": 1,
   "metadata": {},
   "outputs": [],
   "source": [
    "import matplotlib.pyplot as plt\n",
    "import pandas as pd"
   ]
  },
  {
   "cell_type": "code",
   "execution_count": 2,
   "metadata": {},
   "outputs": [],
   "source": [
    "DATA = '../paper/peerj-07-6586-s003.csv'\n",
    "SAVE_FN = '../data/malcolm_clean.csv'"
   ]
  },
  {
   "cell_type": "code",
   "execution_count": 3,
   "metadata": {},
   "outputs": [
    {
     "name": "stdout",
     "output_type": "stream",
     "text": [
      "number of rows: 15433\n",
      "number of unique MIDs: 1776\n"
     ]
    }
   ],
   "source": [
    "df = pd.read_csv(DATA)\n",
    "df.head()\n",
    "len1 = len(df)\n",
    "nmid1 = df.MID.nunique()\n",
    "print('number of rows: ' + str(len1))\n",
    "print('number of unique MIDs: ' + str(nmid1))"
   ]
  },
  {
   "cell_type": "code",
   "execution_count": 4,
   "metadata": {},
   "outputs": [
    {
     "data": {
      "text/html": [
       "<div>\n",
       "<style scoped>\n",
       "    .dataframe tbody tr th:only-of-type {\n",
       "        vertical-align: middle;\n",
       "    }\n",
       "\n",
       "    .dataframe tbody tr th {\n",
       "        vertical-align: top;\n",
       "    }\n",
       "\n",
       "    .dataframe thead th {\n",
       "        text-align: right;\n",
       "    }\n",
       "</style>\n",
       "<table border=\"1\" class=\"dataframe\">\n",
       "  <thead>\n",
       "    <tr style=\"text-align: right;\">\n",
       "      <th></th>\n",
       "      <th>Study</th>\n",
       "      <th>Study_ID</th>\n",
       "      <th>Group</th>\n",
       "      <th>Drug</th>\n",
       "      <th>Control</th>\n",
       "      <th>MID</th>\n",
       "      <th>Day</th>\n",
       "      <th>Size</th>\n",
       "    </tr>\n",
       "  </thead>\n",
       "  <tbody>\n",
       "    <tr>\n",
       "      <th>0</th>\n",
       "      <td>J000100672</td>\n",
       "      <td>42396T_2CAOS</td>\n",
       "      <td>3</td>\n",
       "      <td>Cisplatin</td>\n",
       "      <td>0.0</td>\n",
       "      <td>396-11</td>\n",
       "      <td>0.0</td>\n",
       "      <td>212.49</td>\n",
       "    </tr>\n",
       "    <tr>\n",
       "      <th>1</th>\n",
       "      <td>J000100672</td>\n",
       "      <td>42396T_2CAOS</td>\n",
       "      <td>3</td>\n",
       "      <td>Cisplatin</td>\n",
       "      <td>0.0</td>\n",
       "      <td>396-11</td>\n",
       "      <td>3.0</td>\n",
       "      <td>322.60</td>\n",
       "    </tr>\n",
       "    <tr>\n",
       "      <th>2</th>\n",
       "      <td>J000100672</td>\n",
       "      <td>42396T_2CAOS</td>\n",
       "      <td>3</td>\n",
       "      <td>Cisplatin</td>\n",
       "      <td>0.0</td>\n",
       "      <td>396-11</td>\n",
       "      <td>6.0</td>\n",
       "      <td>368.00</td>\n",
       "    </tr>\n",
       "    <tr>\n",
       "      <th>3</th>\n",
       "      <td>J000100672</td>\n",
       "      <td>42396T_2CAOS</td>\n",
       "      <td>3</td>\n",
       "      <td>Cisplatin</td>\n",
       "      <td>0.0</td>\n",
       "      <td>396-11</td>\n",
       "      <td>10.0</td>\n",
       "      <td>538.42</td>\n",
       "    </tr>\n",
       "    <tr>\n",
       "      <th>4</th>\n",
       "      <td>J000100672</td>\n",
       "      <td>42396T_2CAOS</td>\n",
       "      <td>3</td>\n",
       "      <td>Cisplatin</td>\n",
       "      <td>0.0</td>\n",
       "      <td>396-11</td>\n",
       "      <td>13.0</td>\n",
       "      <td>743.13</td>\n",
       "    </tr>\n",
       "  </tbody>\n",
       "</table>\n",
       "</div>"
      ],
      "text/plain": [
       "        Study      Study_ID Group       Drug  Control     MID   Day    Size\n",
       "0  J000100672  42396T_2CAOS     3  Cisplatin      0.0  396-11   0.0  212.49\n",
       "1  J000100672  42396T_2CAOS     3  Cisplatin      0.0  396-11   3.0  322.60\n",
       "2  J000100672  42396T_2CAOS     3  Cisplatin      0.0  396-11   6.0  368.00\n",
       "3  J000100672  42396T_2CAOS     3  Cisplatin      0.0  396-11  10.0  538.42\n",
       "4  J000100672  42396T_2CAOS     3  Cisplatin      0.0  396-11  13.0  743.13"
      ]
     },
     "execution_count": 4,
     "metadata": {},
     "output_type": "execute_result"
    }
   ],
   "source": [
    "df.head()"
   ]
  },
  {
   "cell_type": "code",
   "execution_count": 5,
   "metadata": {},
   "outputs": [
    {
     "name": "stdout",
     "output_type": "stream",
     "text": [
      "dropped 638 rows with NaNs\n",
      "number of unique MIDs: 1776\n"
     ]
    }
   ],
   "source": [
    "# remove rows with NaNs\n",
    "df = df.dropna()\n",
    "len2 = len(df)\n",
    "nmid2 = df.MID.nunique()\n",
    "print('dropped ' + str(len1 - len2) + ' rows with NaNs')\n",
    "print('number of unique MIDs: ' + str(nmid2))"
   ]
  },
  {
   "cell_type": "code",
   "execution_count": 6,
   "metadata": {},
   "outputs": [
    {
     "name": "stdout",
     "output_type": "stream",
     "text": [
      "dropped 9 rows corresponding to MIDs with incorrect data\n",
      "number of unique MIDs: 1775\n"
     ]
    }
   ],
   "source": [
    "# remove MIDs with incorrect data: \"217-01\", \"703-029\" \n",
    "#('peerj-07-6586-s004.r', line 30, instructs to remove these MIDs)\n",
    "bad_mids = list(set([\"217-01\", \"703-029\"]).intersection(set(df.MID.unique())))\n",
    "df = df.loc[df['MID'].isin(bad_mids) == False]\n",
    "len3 = len(df)\n",
    "nmid3 = df.MID.nunique()\n",
    "assert(nmid2 - nmid3 == len(bad_mids))\n",
    "print('dropped ' + str(len2 - len3) + ' rows corresponding to MIDs with incorrect data')\n",
    "print('number of unique MIDs: ' + str(nmid3))"
   ]
  },
  {
   "cell_type": "code",
   "execution_count": 7,
   "metadata": {},
   "outputs": [
    {
     "name": "stdout",
     "output_type": "stream",
     "text": [
      "dropped 228 rows corresponding to MIDs in treatment and control groups\n",
      "number of unique MIDs: 1762\n"
     ]
    }
   ],
   "source": [
    "# remove MIDs in treatment and control\n",
    "mids_control = df.loc[df.Control == 1, 'MID'].unique()\n",
    "mids_treat = df.loc[df.Control == 0, 'MID'].unique()\n",
    "mids_in_treat_and_control = list(set(mids_control).intersection(set(mids_treat)))\n",
    "df = df.loc[df['MID'].isin(mids_in_treat_and_control) == False]\n",
    "len4 = len(df)\n",
    "nmid4 = df.MID.nunique()\n",
    "assert(nmid3 - nmid4 == len(mids_in_treat_and_control))\n",
    "print('dropped ' + str(len3 - len4) + ' rows corresponding to MIDs in treatment and control groups')\n",
    "print('number of unique MIDs: ' + str(nmid4))"
   ]
  },
  {
   "cell_type": "code",
   "execution_count": 8,
   "metadata": {},
   "outputs": [],
   "source": [
    "# assert a one-to-one mapping from Study to Study_ID\n",
    "study_df = df[['Study', 'Study_ID']]\n",
    "study_df = study_df.drop_duplicates()\n",
    "assert((len(study_df) == df.Study.nunique()) and (len(study_df) == df.Study_ID.nunique()))\n",
    "\n",
    "# since there is a one-to-one mapping between Study and Study_ID, and since the R-code for Malcolm paper \n",
    "# only seems to reference Study, we drop Study_ID\n",
    "df = df[['Study', 'Group', 'Drug', 'Control', 'MID', 'Day', 'Size']]"
   ]
  },
  {
   "cell_type": "code",
   "execution_count": 9,
   "metadata": {},
   "outputs": [
    {
     "name": "stdout",
     "output_type": "stream",
     "text": [
      "number of studies: 72\n",
      "Study: \n",
      "['J000100672', 'TM00090', 'TM00096', 'TM00091', 'TM00097', 'TM00098', 'TM00099', 'TM01278', 'TM01117', 'TM01273', 'J000101173', 'J000100674', 'J000100675', 'J000103634', 'TM00103', 'TM00386', 'J000103917', 'J000102184', 'TM00107', 'TM00999', 'J000080739', 'J000099327', 'TM01079', 'J000100646', 'J000104256', 'TM01029', 'J000104518', 'J000105006', 'J000104944', 'TM00877', 'TM01563', 'TM00199', 'TM00219', 'TM00256', 'TM00194', 'TM00246', 'J000096652', 'TM00186', 'TM00355', 'TM00193', 'TM00212', 'TM00214', 'TM00222', 'TM00233', 'TM00253', 'TM00832', 'J000079689', 'TM00387', 'TM01039', 'TM00298', 'TM00335', 'TM00702', 'TM01149', 'J000106560', 'TM01075', 'J000102680', 'J000102630', 'TM00185', 'TM00188', 'TM00356', 'TM00192', 'TM00196', 'TM00202', 'TM00203_1', 'TM00208', 'TM00213', 'TM00226', 'TM00231', 'TM00784', 'TM00302', 'TM01087', 'TM00203_2']\n"
     ]
    }
   ],
   "source": [
    "# examine Study\n",
    "print('number of studies: ' + str(df.Study.nunique()))\n",
    "print('Study: ')\n",
    "print(list(df.Study.unique()))"
   ]
  },
  {
   "cell_type": "code",
   "execution_count": 10,
   "metadata": {},
   "outputs": [
    {
     "name": "stdout",
     "output_type": "stream",
     "text": [
      "number of groups: 73\n",
      "Group: \n",
      "['3', 'Gr 3: Cisplatin', 'Group 3 Cisplatin', 'Group 3 IV Cisplatin', 'Group 3 Cisplatin IV', 'IV Cisplatin', 'Group 3: Cisplatin', '3: Cisplatin', 'Cisplatin', 'GRP2 - Cisplatin', 'Group 2 IV Cisplatin', 'GRP3 - Cisplatin', 'Group 2 Ciplatin IV', 'Grp3- IV Cisplatin', 'Grp3_Cisplatin', 'Grp3 IV Cisplatin', 'Grp8_Cisplatin', 'Grp3 Cis Top', 'Group 2 Cisplatin IV', 'Grp 2 IV Cisplatin', 'GRP3 IV Cisplatin', 'Group 2', 'Group 3', 'Grp3_IV Cisplatin', 'CMC', 'Group 1 Vechicle PO', 'GRP1 - Vehicle', 'Gr 1: Vehicle', 'Group 1 D5W', 'Group 1 IV D5W', 'Group 1 D5W IV', 'IV D5W', 'Group 1 Vehicle', 'Group 1: D5W', '1: D5W', 'Vehicle', 'Vehicle (D5W)', '1', 'Grp1- IV D5W', 'Grp1_vehicle', 'Grp1 IV D5W', 'Grp1 D5W', 'Grp 1 IV D5W', 'GRP1 IV D5W', 'Group 1', 'Grp1 IV D5w', 'Grp1_IV D5W', 'Grp 1 D5W+ 0.5% CMC', 'Group 1 IV+PO Vehicl', 'Grp1_Vehicle', 'Gr 2: Docetaxel', 'Group 2 Docetaxel', 'Group 2 IV Docetaxel', 'Group 2 Decetaxel IV', 'IV Docetaxel', 'Group 2: Docetaxel', '2: Docetaxel', 'Group 2 Docetaxel IV', 'Docetaxel', '2', 'Docetaxel (QD7 x 2)', 'GRP2 - Docetaxel', 'Grp 2 Docetaxel IV', 'Group 3 IV Docetaxel', 'Grp2- IV Docetaxel', 'Grp2_Docetaxel', 'Grp2 IV Docetaxel', 'Grp7_Docetaxel', 'Grp2 Doc Top', 'GRP2 IV Docetaxel', 'Grp2 IV Doce', 'Group 4', 'Grp2_IV Docetaxel']\n"
     ]
    }
   ],
   "source": [
    "# examine Group\n",
    "print('number of groups: ' + str(df.Group.nunique()))\n",
    "print('Group: ')\n",
    "print(list(df.Group.unique()))"
   ]
  },
  {
   "cell_type": "code",
   "execution_count": 11,
   "metadata": {},
   "outputs": [
    {
     "name": "stdout",
     "output_type": "stream",
     "text": [
      "number of drugs: 7\n",
      "Drug: \n",
      "['Cisplatin', 'CMC', 'D5W', 'D5W + CMC', 'DMSO', 'Docetaxel', 'None']\n"
     ]
    }
   ],
   "source": [
    "# examine Drug\n",
    "print('number of drugs: ' + str(df.Drug.nunique()))\n",
    "print('Drug: ')\n",
    "print(list(df.Drug.unique()))"
   ]
  },
  {
   "cell_type": "markdown",
   "metadata": {},
   "source": [
    "### Description of drugs and vehicle control from Malcolm et al.\n",
    "\"Mice were then randomly categorized into study groups and treated with either 2.0 mg/kg IV cisplatin once per week for up to three weeks, 10.0 mg/kg IV docetaxel once per week for up to three weeks, or a vehicle control. The compound and dosing schedule for vehicle controls varied across studies because of other treatment groups that were run simultaneously with cisplatin or docetaxel. Most models (66) used 5.0 ml/kg IV 5% dextrose in water; the remaining used one of the following alternatives: (1) 10.0 ml/kg PO 0.5% CMC daily (3 models), (2) 5.0 ml/kg PO 2.5% DMSO in PBS daily (1 model), (3) 5.0 ml/kg IV combination of 5% dextrose in water and 0.5% CMC (1 model).\"\n",
    "\n",
    "From this, I'm assuming that the treatments are:    \n",
    "Cisplatin --> 2.0 mg/kg IV cisplatin once per week for up to three weeks    \n",
    "Docetaxel --> 10.0 mg/kg IV docetaxel once per week for up to three weeks    \n",
    "\n",
    "And that the controls are:    \n",
    "CMC --> 10.0 ml/kg PO 0.5% CMC daily (3 models)         \n",
    "D5W --> used 5.0 ml/kg IV 5% dextrose in water (66 models)        \n",
    "D5W + CMC --> 5.0 ml/kg IV combination of 5% dextrose in water and 0.5% CMC (1 model)        \n",
    "DMSO --> 5.0 ml/kg PO 2.5% DMSO in PBS daily (1 model)"
   ]
  },
  {
   "cell_type": "code",
   "execution_count": 12,
   "metadata": {},
   "outputs": [
    {
     "name": "stdout",
     "output_type": "stream",
     "text": [
      "dropped 72 rows with Drug = None\n"
     ]
    }
   ],
   "source": [
    "# Drop rows with drug set to 'None'\n",
    "df = df.loc[df.Drug != 'None']\n",
    "len5 = len(df)\n",
    "print('dropped ' + str(len4 - len5) + ' rows with Drug = None')"
   ]
  },
  {
   "cell_type": "code",
   "execution_count": 13,
   "metadata": {},
   "outputs": [
    {
     "name": "stdout",
     "output_type": "stream",
     "text": [
      "number of studies for each treatment drug\n",
      "Cisplatin: 71\n",
      "Docetaxel: 58\n"
     ]
    }
   ],
   "source": [
    "# find number of studies per treatment drug\n",
    "print('number of studies for each treatment drug')\n",
    "print('Cisplatin: ' + str(df.loc[df.Drug == 'Cisplatin', 'Study'].nunique()))\n",
    "print('Docetaxel: ' + str(df.loc[df.Drug == 'Docetaxel', 'Study'].nunique()))"
   ]
  },
  {
   "cell_type": "markdown",
   "metadata": {},
   "source": [
    "### Note on treatment drugs\n",
    "Note that the paper says that there are 66 D5W studies and 1 D5W + CMC study, but we found 65 D5W studies and 2 D5W + CMC studies."
   ]
  },
  {
   "cell_type": "code",
   "execution_count": 14,
   "metadata": {
    "scrolled": true
   },
   "outputs": [
    {
     "name": "stdout",
     "output_type": "stream",
     "text": [
      "number of studies for each control drug\n",
      "CMC: 3\n",
      "D5W: 65\n",
      "D5W + CMC: 2\n",
      "DMSO: 1\n"
     ]
    }
   ],
   "source": [
    "# check number of studies per control drug\n",
    "print('number of studies for each control drug')\n",
    "print('CMC: ' + str(df.loc[df.Drug == 'CMC', 'Study'].nunique()))\n",
    "print('D5W: ' + str(df.loc[df.Drug == 'D5W', 'Study'].nunique()))\n",
    "print('D5W + CMC: ' + str(df.loc[df.Drug == 'D5W + CMC', 'Study'].nunique()))\n",
    "print('DMSO: ' + str(df.loc[df.Drug == 'DMSO', 'Study'].nunique()))"
   ]
  },
  {
   "cell_type": "code",
   "execution_count": 15,
   "metadata": {},
   "outputs": [],
   "source": [
    "treat_drugs = ['Cisplatin', 'Docetaxel']\n",
    "control_drugs = ['CMC', 'D5W', 'D5W + CMC', 'DMSO']\n",
    "\n",
    "# check that all drugs are in either treatment or control\n",
    "df = df.loc[df.Drug.isin(treat_drugs + control_drugs)]\n",
    "len6 = len(df)\n",
    "assert(len5 == len6)"
   ]
  },
  {
   "cell_type": "code",
   "execution_count": 16,
   "metadata": {},
   "outputs": [],
   "source": [
    "# assert that all treatment drugs are labeled Control=0\n",
    "assert(df.loc[df.Drug.isin(treat_drugs), 'Control'].unique() == 0)\n",
    "\n",
    "#and all control drugs are labeled Control=1\n",
    "assert(df.loc[df.Drug.isin(control_drugs), 'Control'].unique() == 1)"
   ]
  },
  {
   "cell_type": "markdown",
   "metadata": {},
   "source": [
    "### Remove mids in multiple studies (ie mice w multiple tumor samples)"
   ]
  },
  {
   "cell_type": "code",
   "execution_count": 17,
   "metadata": {},
   "outputs": [],
   "source": [
    "# remove mids in multiple studies\n",
    "mid_studies = df.groupby('MID')['Study'].nunique().reset_index(name='num_studies')\n",
    "mid_mult_studies = mid_studies.loc[mid_studies.num_studies > 1].MID"
   ]
  },
  {
   "cell_type": "code",
   "execution_count": 18,
   "metadata": {},
   "outputs": [
    {
     "name": "stdout",
     "output_type": "stream",
     "text": [
      "dropped 20 MIDs associated with multiple studies\n",
      "number of unique mids: 1734\n"
     ]
    }
   ],
   "source": [
    "old_nmids = df.MID.nunique()\n",
    "df = df.loc[df.MID.isin(mid_mult_studies) == False]\n",
    "print('dropped ' + str(len(mid_mult_studies)) + ' MIDs associated with multiple studies')\n",
    "print('number of unique mids: ' + str(len(df.MID.unique())))"
   ]
  },
  {
   "cell_type": "code",
   "execution_count": 19,
   "metadata": {},
   "outputs": [],
   "source": [
    "assert (old_nmids - df.MID.nunique() == len(mid_mult_studies))\n",
    "# assert that each MID belongs to exactly one study\n",
    "assert(df.groupby('MID')['Study'].nunique().max() == 1)"
   ]
  },
  {
   "cell_type": "markdown",
   "metadata": {},
   "source": [
    "### Groups\n",
    "Mice in the same group all receive the same treatment. This refers to the treatment of the mice, but not the study or tumor status of the mice. Mice in the same group may belong to different studies. "
   ]
  },
  {
   "cell_type": "code",
   "execution_count": 20,
   "metadata": {},
   "outputs": [],
   "source": [
    "# assert that every mouse belongs to exactly 1 group \n",
    "assert(df.groupby('MID')['Group'].nunique().max() == 1)"
   ]
  },
  {
   "cell_type": "code",
   "execution_count": 21,
   "metadata": {},
   "outputs": [
    {
     "name": "stdout",
     "output_type": "stream",
     "text": [
      "dropped 1 groups with multiple drugs\n",
      "number of unique mids: 1683\n"
     ]
    }
   ],
   "source": [
    "# check for groups with multiple drugs\n",
    "grp_drugs = df.groupby('Group')['Drug'].nunique().reset_index(name='num_drugs')\n",
    "groups_w_multiple_drugs = grp_drugs.loc[grp_drugs['num_drugs'] > 1, 'Group'].unique()\n",
    "old_ngrps = df.Group.nunique()\n",
    "old_nmids = df.MID.nunique()\n",
    "df = df.loc[df.Group.isin(groups_w_multiple_drugs) == False]\n",
    "assert(old_ngrps - len(groups_w_multiple_drugs) == df.Group.nunique())\n",
    "print('dropped ' + str(len(groups_w_multiple_drugs)) + ' groups with multiple drugs')\n",
    "print('dropped ' + str(old_nmids - df.MID.nunique()) + ' MIDS in groups with multiple drugs')\n",
    "print('number of unique mids: ' + str(df.MID.nunique()))"
   ]
  },
  {
   "cell_type": "code",
   "execution_count": 22,
   "metadata": {},
   "outputs": [],
   "source": [
    "# assert that every group has exactly one drug\n",
    "assert(df.groupby('Group')['Drug'].nunique().max() == 1)"
   ]
  },
  {
   "cell_type": "code",
   "execution_count": 23,
   "metadata": {},
   "outputs": [],
   "source": [
    "# assert that every group has exactly 1 control value\n",
    "assert(df.groupby('Group')['Control'].nunique().max() == 1)"
   ]
  },
  {
   "cell_type": "markdown",
   "metadata": {},
   "source": [
    "### Do (Study, Drug) pairs have multiple Groups? Are the resulting Groups mostly the same?"
   ]
  },
  {
   "cell_type": "code",
   "execution_count": 24,
   "metadata": {},
   "outputs": [
    {
     "name": "stdout",
     "output_type": "stream",
     "text": [
      "number of (Study, Drug) pairs with > 1 Group: 1\n"
     ]
    },
    {
     "data": {
      "text/html": [
       "<div>\n",
       "<style scoped>\n",
       "    .dataframe tbody tr th:only-of-type {\n",
       "        vertical-align: middle;\n",
       "    }\n",
       "\n",
       "    .dataframe tbody tr th {\n",
       "        vertical-align: top;\n",
       "    }\n",
       "\n",
       "    .dataframe thead th {\n",
       "        text-align: right;\n",
       "    }\n",
       "</style>\n",
       "<table border=\"1\" class=\"dataframe\">\n",
       "  <thead>\n",
       "    <tr style=\"text-align: right;\">\n",
       "      <th></th>\n",
       "      <th>Study</th>\n",
       "      <th>Drug</th>\n",
       "      <th>num_groups</th>\n",
       "    </tr>\n",
       "  </thead>\n",
       "  <tbody>\n",
       "    <tr>\n",
       "      <th>119</th>\n",
       "      <td>TM00231</td>\n",
       "      <td>Cisplatin</td>\n",
       "      <td>2</td>\n",
       "    </tr>\n",
       "  </tbody>\n",
       "</table>\n",
       "</div>"
      ],
      "text/plain": [
       "       Study       Drug  num_groups\n",
       "119  TM00231  Cisplatin           2"
      ]
     },
     "execution_count": 24,
     "metadata": {},
     "output_type": "execute_result"
    }
   ],
   "source": [
    "gf = df.groupby(['Study', 'Drug'])['Group'].nunique().reset_index(name='num_groups')\n",
    "print('number of (Study, Drug) pairs with > 1 Group: ' + str(len(gf.loc[gf.num_groups > 1])))\n",
    "gf.loc[gf.num_groups > 1]"
   ]
  },
  {
   "cell_type": "code",
   "execution_count": 25,
   "metadata": {},
   "outputs": [
    {
     "name": "stdout",
     "output_type": "stream",
     "text": [
      "groups corresponding to (TM00231, Cisplatin): ['Group 2', 'Group 3']\n"
     ]
    }
   ],
   "source": [
    "gf_mult_groups = list(df.loc[(df.Study == 'TM00231') & (df.Drug == 'Cisplatin')]['Group'].unique())\n",
    "print('groups corresponding to (TM00231, Cisplatin): ' + str(gf_mult_groups))"
   ]
  },
  {
   "cell_type": "code",
   "execution_count": 26,
   "metadata": {},
   "outputs": [
    {
     "name": "stdout",
     "output_type": "stream",
     "text": [
      "num rows dropped due to removing (TM00231, Cisplatin) pair: 140\n",
      "number of unique mids: 1663\n"
     ]
    }
   ],
   "source": [
    "old_len = len(df)\n",
    "old_mids = df.MID.nunique()\n",
    "df = df.loc[~((df.Study == 'TM00231') & (df.Drug == 'Cisplatin'))]\n",
    "new_len = len(df)\n",
    "new_mids = df.MID.nunique()\n",
    "print('num rows dropped due to removing (TM00231, Cisplatin) pair: ' + str(old_len - new_len))\n",
    "print('dropped ' + str(old_mids - new_mids) + ' MIDs in (Study, Drug) pairs with multiple groups')\n",
    "print('number of unique mids: ' + str(new_mids))"
   ]
  },
  {
   "cell_type": "markdown",
   "metadata": {},
   "source": [
    "Now we can stratify mice by Study and Drug. Any mice with in the same Study and Drug receive the same PDX and treatment."
   ]
  },
  {
   "cell_type": "code",
   "execution_count": 27,
   "metadata": {},
   "outputs": [],
   "source": [
    "# assert each mid is in exactly 1 study\n",
    "assert(df.groupby('MID').Study.nunique().max() == 1)\n",
    "# assert each mid is in exactly 1 drug\n",
    "assert(df.groupby('MID').Drug.nunique().max() == 1)\n",
    "# assert each mid is in exactly 1 group\n",
    "assert(df.groupby('MID').Group.nunique().max() == 1)\n",
    "# assert each mid is in exactly 1 control\n",
    "assert(df.groupby('MID').Control.nunique().max() == 1)\n",
    "# assert each (study, drug) pair has exactly 1 group\n",
    "assert(df.groupby(['Study', 'Drug']).Group.nunique().max() == 1)\n",
    "# assert each (study, drug) pair has exactly 1 control\n",
    "assert(df.groupby(['Study', 'Drug']).Control.nunique().max() == 1)"
   ]
  },
  {
   "cell_type": "code",
   "execution_count": 28,
   "metadata": {},
   "outputs": [],
   "source": [
    "# save df\n",
    "df.to_csv(SAVE_FN, index=False)"
   ]
  }
 ],
 "metadata": {
  "kernelspec": {
   "display_name": "Python 3",
   "language": "python",
   "name": "python3"
  },
  "language_info": {
   "codemirror_mode": {
    "name": "ipython",
    "version": 3
   },
   "file_extension": ".py",
   "mimetype": "text/x-python",
   "name": "python",
   "nbconvert_exporter": "python",
   "pygments_lexer": "ipython3",
   "version": "3.8.5"
  }
 },
 "nbformat": 4,
 "nbformat_minor": 4
}
