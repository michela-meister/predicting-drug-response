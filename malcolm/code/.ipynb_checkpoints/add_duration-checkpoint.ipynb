{
 "cells": [
  {
   "cell_type": "code",
   "execution_count": 1,
   "metadata": {},
   "outputs": [],
   "source": [
    "import pandas as pd"
   ]
  },
  {
   "cell_type": "code",
   "execution_count": 2,
   "metadata": {},
   "outputs": [],
   "source": [
    "DATA = '../paper/malcolm_clean.csv'\n",
    "df = pd.read_csv(DATA)"
   ]
  },
  {
   "cell_type": "code",
   "execution_count": 9,
   "metadata": {},
   "outputs": [],
   "source": [
    "num_grps = df.groupby(['Study', 'Drug'])['Group'].nunique().reset_index(name='num_groups')"
   ]
  },
  {
   "cell_type": "code",
   "execution_count": 10,
   "metadata": {},
   "outputs": [
    {
     "data": {
      "text/html": [
       "<div>\n",
       "<style scoped>\n",
       "    .dataframe tbody tr th:only-of-type {\n",
       "        vertical-align: middle;\n",
       "    }\n",
       "\n",
       "    .dataframe tbody tr th {\n",
       "        vertical-align: top;\n",
       "    }\n",
       "\n",
       "    .dataframe thead th {\n",
       "        text-align: right;\n",
       "    }\n",
       "</style>\n",
       "<table border=\"1\" class=\"dataframe\">\n",
       "  <thead>\n",
       "    <tr style=\"text-align: right;\">\n",
       "      <th></th>\n",
       "      <th>num_groups</th>\n",
       "    </tr>\n",
       "  </thead>\n",
       "  <tbody>\n",
       "    <tr>\n",
       "      <th>count</th>\n",
       "      <td>193.000000</td>\n",
       "    </tr>\n",
       "    <tr>\n",
       "      <th>mean</th>\n",
       "      <td>1.005181</td>\n",
       "    </tr>\n",
       "    <tr>\n",
       "      <th>std</th>\n",
       "      <td>0.071982</td>\n",
       "    </tr>\n",
       "    <tr>\n",
       "      <th>min</th>\n",
       "      <td>1.000000</td>\n",
       "    </tr>\n",
       "    <tr>\n",
       "      <th>25%</th>\n",
       "      <td>1.000000</td>\n",
       "    </tr>\n",
       "    <tr>\n",
       "      <th>50%</th>\n",
       "      <td>1.000000</td>\n",
       "    </tr>\n",
       "    <tr>\n",
       "      <th>75%</th>\n",
       "      <td>1.000000</td>\n",
       "    </tr>\n",
       "    <tr>\n",
       "      <th>max</th>\n",
       "      <td>2.000000</td>\n",
       "    </tr>\n",
       "  </tbody>\n",
       "</table>\n",
       "</div>"
      ],
      "text/plain": [
       "       num_groups\n",
       "count  193.000000\n",
       "mean     1.005181\n",
       "std      0.071982\n",
       "min      1.000000\n",
       "25%      1.000000\n",
       "50%      1.000000\n",
       "75%      1.000000\n",
       "max      2.000000"
      ]
     },
     "execution_count": 10,
     "metadata": {},
     "output_type": "execute_result"
    }
   ],
   "source": [
    "num_grps.describe()"
   ]
  },
  {
   "cell_type": "code",
   "execution_count": 11,
   "metadata": {},
   "outputs": [
    {
     "data": {
      "text/html": [
       "<div>\n",
       "<style scoped>\n",
       "    .dataframe tbody tr th:only-of-type {\n",
       "        vertical-align: middle;\n",
       "    }\n",
       "\n",
       "    .dataframe tbody tr th {\n",
       "        vertical-align: top;\n",
       "    }\n",
       "\n",
       "    .dataframe thead th {\n",
       "        text-align: right;\n",
       "    }\n",
       "</style>\n",
       "<table border=\"1\" class=\"dataframe\">\n",
       "  <thead>\n",
       "    <tr style=\"text-align: right;\">\n",
       "      <th></th>\n",
       "      <th>Study</th>\n",
       "      <th>Drug</th>\n",
       "      <th>num_groups</th>\n",
       "    </tr>\n",
       "  </thead>\n",
       "  <tbody>\n",
       "    <tr>\n",
       "      <th>119</th>\n",
       "      <td>TM00231</td>\n",
       "      <td>Cisplatin</td>\n",
       "      <td>2</td>\n",
       "    </tr>\n",
       "  </tbody>\n",
       "</table>\n",
       "</div>"
      ],
      "text/plain": [
       "       Study       Drug  num_groups\n",
       "119  TM00231  Cisplatin           2"
      ]
     },
     "execution_count": 11,
     "metadata": {},
     "output_type": "execute_result"
    }
   ],
   "source": [
    "num_grps.loc[num_grps['num_groups'] > 1]"
   ]
  },
  {
   "cell_type": "code",
   "execution_count": 12,
   "metadata": {},
   "outputs": [],
   "source": [
    "# Only 1 (study, drug) pair with two groups; could simply eliminate this study?"
   ]
  },
  {
   "cell_type": "code",
   "execution_count": 14,
   "metadata": {},
   "outputs": [
    {
     "name": "stdout",
     "output_type": "stream",
     "text": [
      "1683\n"
     ]
    }
   ],
   "source": [
    "print(df.MID.nunique())"
   ]
  },
  {
   "cell_type": "code",
   "execution_count": 13,
   "metadata": {},
   "outputs": [
    {
     "name": "stdout",
     "output_type": "stream",
     "text": [
      "1683\n"
     ]
    }
   ],
   "source": [
    "d = df.loc[df.Day <= 2]\n",
    "print(d.MID.nunique())"
   ]
  },
  {
   "cell_type": "code",
   "execution_count": 15,
   "metadata": {},
   "outputs": [
    {
     "name": "stdout",
     "output_type": "stream",
     "text": [
      "1439\n"
     ]
    }
   ],
   "source": [
    "d21 = df.loc[df.Day >= 21]\n",
    "print(d21.MID.nunique())"
   ]
  },
  {
   "cell_type": "code",
   "execution_count": 16,
   "metadata": {},
   "outputs": [
    {
     "name": "stdout",
     "output_type": "stream",
     "text": [
      "1192\n"
     ]
    }
   ],
   "source": [
    "print(df.loc[df.Day >= 25].MID.nunique())"
   ]
  },
  {
   "cell_type": "code",
   "execution_count": 18,
   "metadata": {},
   "outputs": [
    {
     "name": "stdout",
     "output_type": "stream",
     "text": [
      "910\n"
     ]
    }
   ],
   "source": [
    "print(df.loc[df.Day >= 27].MID.nunique())"
   ]
  },
  {
   "cell_type": "code",
   "execution_count": 17,
   "metadata": {},
   "outputs": [
    {
     "name": "stdout",
     "output_type": "stream",
     "text": [
      "910\n"
     ]
    }
   ],
   "source": [
    "print(df.loc[df.Day >= 27].MID.nunique())"
   ]
  },
  {
   "cell_type": "code",
   "execution_count": 19,
   "metadata": {},
   "outputs": [],
   "source": [
    "# compare to excel study files: could split by studies lasting less than / more than 3 weeks\n",
    "# could set up start_day and end_day where start_day is in [0, 2] and end_day is >= 25?"
   ]
  },
  {
   "cell_type": "code",
   "execution_count": 21,
   "metadata": {},
   "outputs": [],
   "source": [
    "d_start = df.loc[df.Day <= 2]\n",
    "#grp_day = d_start.groupby('MID')['Day'].min()\n",
    "\n",
    "max_days = d_start.loc[d_start.groupby('MID')['Day'].idxmin()] "
   ]
  },
  {
   "cell_type": "code",
   "execution_count": 22,
   "metadata": {},
   "outputs": [
    {
     "data": {
      "text/html": [
       "<div>\n",
       "<style scoped>\n",
       "    .dataframe tbody tr th:only-of-type {\n",
       "        vertical-align: middle;\n",
       "    }\n",
       "\n",
       "    .dataframe tbody tr th {\n",
       "        vertical-align: top;\n",
       "    }\n",
       "\n",
       "    .dataframe thead th {\n",
       "        text-align: right;\n",
       "    }\n",
       "</style>\n",
       "<table border=\"1\" class=\"dataframe\">\n",
       "  <thead>\n",
       "    <tr style=\"text-align: right;\">\n",
       "      <th></th>\n",
       "      <th>Study</th>\n",
       "      <th>Group</th>\n",
       "      <th>Drug</th>\n",
       "      <th>Control</th>\n",
       "      <th>MID</th>\n",
       "      <th>Day</th>\n",
       "      <th>Size</th>\n",
       "      <th>Cohort</th>\n",
       "    </tr>\n",
       "  </thead>\n",
       "  <tbody>\n",
       "    <tr>\n",
       "      <th>12030</th>\n",
       "      <td>TM00214</td>\n",
       "      <td>Docetaxel</td>\n",
       "      <td>Docetaxel</td>\n",
       "      <td>0.0</td>\n",
       "      <td>011_1</td>\n",
       "      <td>-1.0</td>\n",
       "      <td>231.28</td>\n",
       "      <td>('TM00214', 'Docetaxel')</td>\n",
       "    </tr>\n",
       "    <tr>\n",
       "      <th>2892</th>\n",
       "      <td>TM00214</td>\n",
       "      <td>Cisplatin</td>\n",
       "      <td>Cisplatin</td>\n",
       "      <td>0.0</td>\n",
       "      <td>011_10</td>\n",
       "      <td>-1.0</td>\n",
       "      <td>124.69</td>\n",
       "      <td>('TM00214', 'Cisplatin')</td>\n",
       "    </tr>\n",
       "    <tr>\n",
       "      <th>2901</th>\n",
       "      <td>TM00214</td>\n",
       "      <td>Cisplatin</td>\n",
       "      <td>Cisplatin</td>\n",
       "      <td>0.0</td>\n",
       "      <td>011_11</td>\n",
       "      <td>-1.0</td>\n",
       "      <td>231.03</td>\n",
       "      <td>('TM00214', 'Cisplatin')</td>\n",
       "    </tr>\n",
       "    <tr>\n",
       "      <th>2910</th>\n",
       "      <td>TM00214</td>\n",
       "      <td>Cisplatin</td>\n",
       "      <td>Cisplatin</td>\n",
       "      <td>0.0</td>\n",
       "      <td>011_12</td>\n",
       "      <td>-1.0</td>\n",
       "      <td>240.83</td>\n",
       "      <td>('TM00214', 'Cisplatin')</td>\n",
       "    </tr>\n",
       "    <tr>\n",
       "      <th>12039</th>\n",
       "      <td>TM00214</td>\n",
       "      <td>Docetaxel</td>\n",
       "      <td>Docetaxel</td>\n",
       "      <td>0.0</td>\n",
       "      <td>011_13</td>\n",
       "      <td>-1.0</td>\n",
       "      <td>268.54</td>\n",
       "      <td>('TM00214', 'Docetaxel')</td>\n",
       "    </tr>\n",
       "    <tr>\n",
       "      <th>...</th>\n",
       "      <td>...</td>\n",
       "      <td>...</td>\n",
       "      <td>...</td>\n",
       "      <td>...</td>\n",
       "      <td>...</td>\n",
       "      <td>...</td>\n",
       "      <td>...</td>\n",
       "      <td>...</td>\n",
       "    </tr>\n",
       "    <tr>\n",
       "      <th>13506</th>\n",
       "      <td>TM00231</td>\n",
       "      <td>Group 4</td>\n",
       "      <td>Docetaxel</td>\n",
       "      <td>0.0</td>\n",
       "      <td>PRD0082</td>\n",
       "      <td>1.0</td>\n",
       "      <td>251.34</td>\n",
       "      <td>('TM00231', 'Group 4')</td>\n",
       "    </tr>\n",
       "    <tr>\n",
       "      <th>4775</th>\n",
       "      <td>TM00231</td>\n",
       "      <td>Group 2</td>\n",
       "      <td>Cisplatin</td>\n",
       "      <td>0.0</td>\n",
       "      <td>PRD0085</td>\n",
       "      <td>1.0</td>\n",
       "      <td>159.78</td>\n",
       "      <td>('TM00231', 'Group 2')</td>\n",
       "    </tr>\n",
       "    <tr>\n",
       "      <th>4782</th>\n",
       "      <td>TM00231</td>\n",
       "      <td>Group 2</td>\n",
       "      <td>Cisplatin</td>\n",
       "      <td>0.0</td>\n",
       "      <td>PRD0088</td>\n",
       "      <td>1.0</td>\n",
       "      <td>179.97</td>\n",
       "      <td>('TM00231', 'Group 2')</td>\n",
       "    </tr>\n",
       "    <tr>\n",
       "      <th>4789</th>\n",
       "      <td>TM00231</td>\n",
       "      <td>Group 2</td>\n",
       "      <td>Cisplatin</td>\n",
       "      <td>0.0</td>\n",
       "      <td>PRD0095</td>\n",
       "      <td>1.0</td>\n",
       "      <td>127.58</td>\n",
       "      <td>('TM00231', 'Group 2')</td>\n",
       "    </tr>\n",
       "    <tr>\n",
       "      <th>4859</th>\n",
       "      <td>TM00231</td>\n",
       "      <td>Group 3</td>\n",
       "      <td>Cisplatin</td>\n",
       "      <td>0.0</td>\n",
       "      <td>PRD0096</td>\n",
       "      <td>1.0</td>\n",
       "      <td>174.56</td>\n",
       "      <td>('TM00231', 'Group 3')</td>\n",
       "    </tr>\n",
       "  </tbody>\n",
       "</table>\n",
       "<p>1683 rows × 8 columns</p>\n",
       "</div>"
      ],
      "text/plain": [
       "         Study      Group       Drug  Control      MID  Day    Size  \\\n",
       "12030  TM00214  Docetaxel  Docetaxel      0.0    011_1 -1.0  231.28   \n",
       "2892   TM00214  Cisplatin  Cisplatin      0.0   011_10 -1.0  124.69   \n",
       "2901   TM00214  Cisplatin  Cisplatin      0.0   011_11 -1.0  231.03   \n",
       "2910   TM00214  Cisplatin  Cisplatin      0.0   011_12 -1.0  240.83   \n",
       "12039  TM00214  Docetaxel  Docetaxel      0.0   011_13 -1.0  268.54   \n",
       "...        ...        ...        ...      ...      ...  ...     ...   \n",
       "13506  TM00231    Group 4  Docetaxel      0.0  PRD0082  1.0  251.34   \n",
       "4775   TM00231    Group 2  Cisplatin      0.0  PRD0085  1.0  159.78   \n",
       "4782   TM00231    Group 2  Cisplatin      0.0  PRD0088  1.0  179.97   \n",
       "4789   TM00231    Group 2  Cisplatin      0.0  PRD0095  1.0  127.58   \n",
       "4859   TM00231    Group 3  Cisplatin      0.0  PRD0096  1.0  174.56   \n",
       "\n",
       "                         Cohort  \n",
       "12030  ('TM00214', 'Docetaxel')  \n",
       "2892   ('TM00214', 'Cisplatin')  \n",
       "2901   ('TM00214', 'Cisplatin')  \n",
       "2910   ('TM00214', 'Cisplatin')  \n",
       "12039  ('TM00214', 'Docetaxel')  \n",
       "...                         ...  \n",
       "13506    ('TM00231', 'Group 4')  \n",
       "4775     ('TM00231', 'Group 2')  \n",
       "4782     ('TM00231', 'Group 2')  \n",
       "4789     ('TM00231', 'Group 2')  \n",
       "4859     ('TM00231', 'Group 3')  \n",
       "\n",
       "[1683 rows x 8 columns]"
      ]
     },
     "execution_count": 22,
     "metadata": {},
     "output_type": "execute_result"
    }
   ],
   "source": [
    "max_days"
   ]
  },
  {
   "cell_type": "code",
   "execution_count": null,
   "metadata": {},
   "outputs": [],
   "source": []
  }
 ],
 "metadata": {
  "kernelspec": {
   "display_name": "Python 3",
   "language": "python",
   "name": "python3"
  },
  "language_info": {
   "codemirror_mode": {
    "name": "ipython",
    "version": 3
   },
   "file_extension": ".py",
   "mimetype": "text/x-python",
   "name": "python",
   "nbconvert_exporter": "python",
   "pygments_lexer": "ipython3",
   "version": "3.8.5"
  }
 },
 "nbformat": 4,
 "nbformat_minor": 4
}
