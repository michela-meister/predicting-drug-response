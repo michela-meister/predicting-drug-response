{
 "cells": [
  {
   "cell_type": "code",
   "execution_count": 1,
   "metadata": {},
   "outputs": [],
   "source": [
    "import numpy as np\n",
    "import pandas as pd"
   ]
  },
  {
   "cell_type": "code",
   "execution_count": 2,
   "metadata": {},
   "outputs": [],
   "source": [
    "DATA = '../data/malcolm_clean_w_duration.csv'\n",
    "SAVE_DIR = '../data/'\n",
    "DURATIONS = [21, 25, 27, 28]"
   ]
  },
  {
   "cell_type": "code",
   "execution_count": 3,
   "metadata": {},
   "outputs": [
    {
     "name": "stdout",
     "output_type": "stream",
     "text": [
      "number of rows: 1663\n",
      "number of unique mids: 1663\n"
     ]
    }
   ],
   "source": [
    "df = pd.read_csv(DATA)\n",
    "print('number of rows: ' + str(len(df)))\n",
    "print('number of unique mids: ' + str(df.MID.nunique()))"
   ]
  },
  {
   "cell_type": "code",
   "execution_count": 4,
   "metadata": {},
   "outputs": [
    {
     "data": {
      "text/html": [
       "<div>\n",
       "<style scoped>\n",
       "    .dataframe tbody tr th:only-of-type {\n",
       "        vertical-align: middle;\n",
       "    }\n",
       "\n",
       "    .dataframe tbody tr th {\n",
       "        vertical-align: top;\n",
       "    }\n",
       "\n",
       "    .dataframe thead th {\n",
       "        text-align: right;\n",
       "    }\n",
       "</style>\n",
       "<table border=\"1\" class=\"dataframe\">\n",
       "  <thead>\n",
       "    <tr style=\"text-align: right;\">\n",
       "      <th></th>\n",
       "      <th>Study</th>\n",
       "      <th>Group</th>\n",
       "      <th>Drug</th>\n",
       "      <th>Control</th>\n",
       "      <th>MID</th>\n",
       "      <th>start</th>\n",
       "      <th>start_size</th>\n",
       "      <th>end</th>\n",
       "      <th>end_size</th>\n",
       "      <th>duration</th>\n",
       "    </tr>\n",
       "  </thead>\n",
       "  <tbody>\n",
       "    <tr>\n",
       "      <th>0</th>\n",
       "      <td>J000100672</td>\n",
       "      <td>3</td>\n",
       "      <td>Cisplatin</td>\n",
       "      <td>0.0</td>\n",
       "      <td>396-11</td>\n",
       "      <td>0.0</td>\n",
       "      <td>212.49</td>\n",
       "      <td>27.0</td>\n",
       "      <td>1275.52</td>\n",
       "      <td>27.0</td>\n",
       "    </tr>\n",
       "    <tr>\n",
       "      <th>1</th>\n",
       "      <td>J000100672</td>\n",
       "      <td>3</td>\n",
       "      <td>Cisplatin</td>\n",
       "      <td>0.0</td>\n",
       "      <td>396-20</td>\n",
       "      <td>0.0</td>\n",
       "      <td>180.48</td>\n",
       "      <td>27.0</td>\n",
       "      <td>1115.51</td>\n",
       "      <td>27.0</td>\n",
       "    </tr>\n",
       "    <tr>\n",
       "      <th>2</th>\n",
       "      <td>J000100672</td>\n",
       "      <td>3</td>\n",
       "      <td>Cisplatin</td>\n",
       "      <td>0.0</td>\n",
       "      <td>396-21</td>\n",
       "      <td>0.0</td>\n",
       "      <td>76.94</td>\n",
       "      <td>27.0</td>\n",
       "      <td>1056.95</td>\n",
       "      <td>27.0</td>\n",
       "    </tr>\n",
       "    <tr>\n",
       "      <th>3</th>\n",
       "      <td>J000100672</td>\n",
       "      <td>3</td>\n",
       "      <td>Cisplatin</td>\n",
       "      <td>0.0</td>\n",
       "      <td>396-31</td>\n",
       "      <td>0.0</td>\n",
       "      <td>151.44</td>\n",
       "      <td>27.0</td>\n",
       "      <td>1330.26</td>\n",
       "      <td>27.0</td>\n",
       "    </tr>\n",
       "    <tr>\n",
       "      <th>4</th>\n",
       "      <td>J000100672</td>\n",
       "      <td>3</td>\n",
       "      <td>Cisplatin</td>\n",
       "      <td>0.0</td>\n",
       "      <td>396-32</td>\n",
       "      <td>0.0</td>\n",
       "      <td>127.70</td>\n",
       "      <td>27.0</td>\n",
       "      <td>746.38</td>\n",
       "      <td>27.0</td>\n",
       "    </tr>\n",
       "  </tbody>\n",
       "</table>\n",
       "</div>"
      ],
      "text/plain": [
       "        Study Group       Drug  Control     MID  start  start_size   end  \\\n",
       "0  J000100672     3  Cisplatin      0.0  396-11    0.0      212.49  27.0   \n",
       "1  J000100672     3  Cisplatin      0.0  396-20    0.0      180.48  27.0   \n",
       "2  J000100672     3  Cisplatin      0.0  396-21    0.0       76.94  27.0   \n",
       "3  J000100672     3  Cisplatin      0.0  396-31    0.0      151.44  27.0   \n",
       "4  J000100672     3  Cisplatin      0.0  396-32    0.0      127.70  27.0   \n",
       "\n",
       "   end_size  duration  \n",
       "0   1275.52      27.0  \n",
       "1   1115.51      27.0  \n",
       "2   1056.95      27.0  \n",
       "3   1330.26      27.0  \n",
       "4    746.38      27.0  "
      ]
     },
     "execution_count": 4,
     "metadata": {},
     "output_type": "execute_result"
    }
   ],
   "source": [
    "df.head()"
   ]
  },
  {
   "cell_type": "code",
   "execution_count": 5,
   "metadata": {},
   "outputs": [],
   "source": [
    "def process_data(df, min_duration, fn):\n",
    "    d = df.loc[df.duration >= min_duration]\n",
    "    d = d[['Study', 'Group', 'Drug', 'Control', 'MID', 'start_size', 'end_size', 'duration']]\n",
    "    d = d.rename(columns={'start_size': 'V0', 'end_size': 'V'})\n",
    "    # Compute V/V0, centered\n",
    "    d['V/V0'] = d['V']/d['V0']\n",
    "    d = d.merge(d.groupby(['Study', 'Drug'])['V/V0'].mean().reset_index(name='V/V0_sm'),\n",
    "                on=['Study', 'Drug'],\n",
    "                validate='many_to_one')\n",
    "    d['V/V0_cen'] = d['V/V0'] - d['V/V0_sm']\n",
    "    # Compute C0 for each Study-Drug pair\n",
    "    c = d.loc[d.Control == 1]\n",
    "    # each study has exactly one control\n",
    "    assert(c.groupby('Study').Drug.nunique().max() == 1)\n",
    "    assert(c.groupby('Study').Drug.nunique().min() == 1)\n",
    "    assert(c.groupby('Study').Group.nunique().max() == 1)\n",
    "    assert(c.groupby('Study').Group.nunique().min() == 1)\n",
    "    assert((c.Control == 1).all())\n",
    "    # Get C0 for each (Study, Drug) pair\n",
    "    c = c[['Study', 'Group', 'Control', 'MID', 'V0']]\n",
    "    d = d.merge(c.groupby('Study')['V0'].mean().reset_index(name='C0'),\n",
    "                on=['Study'], \n",
    "                validate='many_to_one')\n",
    "    # Compute V/C0, centered\n",
    "    d['V/C0'] = d['V'] / d['C0']\n",
    "    d = d.merge(d.groupby(['Study', 'Drug'])['V/C0'].mean().reset_index(name='V/C0_sm'),\n",
    "                on=['Study', 'Drug'],\n",
    "                validate='many_to_one')\n",
    "    d['V/C0_cen'] = d['V/C0'] - d['V/C0_sm']\n",
    "    # Compute log(V/C0), centered\n",
    "    d['lg_V/C0'] = np.log(d['V/C0'])\n",
    "    d = d.merge(d.groupby(['Study', 'Drug'])['lg_V/C0'].mean().reset_index(name='lg_V/C0_sm'))\n",
    "    d['lg_V/C0_cen'] = d['lg_V/C0'] - d['lg_V/C0_sm']\n",
    "    d.to_csv(fn, index=False)"
   ]
  },
  {
   "cell_type": "code",
   "execution_count": 6,
   "metadata": {},
   "outputs": [],
   "source": [
    "# process data for each duration\n",
    "for min_duration in DURATIONS:\n",
    "    fn = SAVE_DIR + 'min_duration_' + str(min_duration) + '.csv'\n",
    "    process_data(df, min_duration, fn)"
   ]
  },
  {
   "cell_type": "code",
   "execution_count": 8,
   "metadata": {},
   "outputs": [
    {
     "data": {
      "text/plain": [
       "1445"
      ]
     },
     "execution_count": 8,
     "metadata": {},
     "output_type": "execute_result"
    }
   ],
   "source": [
    "df.loc[df.duration >= 21].MID.nunique()"
   ]
  },
  {
   "cell_type": "code",
   "execution_count": null,
   "metadata": {},
   "outputs": [],
   "source": []
  }
 ],
 "metadata": {
  "kernelspec": {
   "display_name": "Python 3",
   "language": "python",
   "name": "python3"
  },
  "language_info": {
   "codemirror_mode": {
    "name": "ipython",
    "version": 3
   },
   "file_extension": ".py",
   "mimetype": "text/x-python",
   "name": "python",
   "nbconvert_exporter": "python",
   "pygments_lexer": "ipython3",
   "version": "3.8.5"
  }
 },
 "nbformat": 4,
 "nbformat_minor": 4
}
