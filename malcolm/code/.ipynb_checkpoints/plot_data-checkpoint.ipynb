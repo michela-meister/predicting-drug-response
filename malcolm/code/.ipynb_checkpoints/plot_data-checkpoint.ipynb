{
 "cells": [
  {
   "cell_type": "code",
   "execution_count": 17,
   "metadata": {},
   "outputs": [],
   "source": [
    "import matplotlib.pyplot as plt\n",
    "import numpy as np\n",
    "import pandas as pd\n",
    "import seaborn as sns\n",
    "\n",
    "from scipy.stats import norm, normaltest"
   ]
  },
  {
   "cell_type": "code",
   "execution_count": 2,
   "metadata": {},
   "outputs": [],
   "source": [
    "MIN_DURATIONS = [21, 25, 27, 28]\n",
    "DATA_DIR = '../data/'\n",
    "BASE_DIR = '../results/2023-04-04/'\n",
    "DICT = {'V/V0_cen': 'V/V0', 'V/C0_cen': 'V/C0', 'lg_V/C0_cen': 'ln(V/C0)'}"
   ]
  },
  {
   "cell_type": "code",
   "execution_count": 25,
   "metadata": {},
   "outputs": [],
   "source": [
    "def normality_test(x, alpha):\n",
    "    k2, p = normaltest(x)\n",
    "    print(p)\n",
    "    if p < alpha:  # null hypothesis: x comes from a normal distribution\n",
    "        print(\"Null hypothesis: the data come from a normal distriubtion.\\n The null hypothesis can be rejected.\")\n",
    "    else:\n",
    "        print(\"Null hypothesis: the data come from a normal distribution.\\n The null hypothesis cannot be rejected.\")"
   ]
  },
  {
   "cell_type": "code",
   "execution_count": 26,
   "metadata": {},
   "outputs": [],
   "source": [
    "def create_plot(val, group, fn):\n",
    "    if group == 'combined':\n",
    "        x = list(df[val])\n",
    "    elif group == 'treatment':\n",
    "        x = list(df.loc[df.Control == 0][val])\n",
    "    elif group == 'control':\n",
    "        x = list(df.loc[df.Control == 1][val])\n",
    "    else:\n",
    "        print('Error! Value group must be one of: combined, treatment, control.')\n",
    "    x_axis = np.arange(np.min(x), np.max(x), 0.001)\n",
    "    sns.histplot(x, stat='density')\n",
    "    mean = np.mean(x)\n",
    "    std = np.std(x)\n",
    "    plt.plot(x_axis, norm.pdf(x_axis, loc=mean, scale=std), color='r')\n",
    "    N = len(x)\n",
    "    plt.title(DICT[val] + ', ' + group + ', N = ' + str(N))\n",
    "    plt.xlabel('mean: ' + str(round(mean, 3)) + ', std: ' + str(round(std, 3)))\n",
    "    #plt.savefig(fn)\n",
    "    plt.clf()\n",
    "    normality_test(x, .05)"
   ]
  },
  {
   "cell_type": "code",
   "execution_count": 27,
   "metadata": {},
   "outputs": [
    {
     "name": "stdout",
     "output_type": "stream",
     "text": [
      "V/V0_cen: combined\n",
      "1.0191452698792723e-143\n",
      "Null hypothesis: the data come from a normal distriubtion.\n",
      " The null hypothesis can be rejected.\n",
      "V/C0_cen: combined\n",
      "3.3721035006810134e-72\n",
      "Null hypothesis: the data come from a normal distriubtion.\n",
      " The null hypothesis can be rejected.\n",
      "lg_V/C0_cen: combined\n",
      "3.7312194889870014e-19\n",
      "Null hypothesis: the data come from a normal distriubtion.\n",
      " The null hypothesis can be rejected.\n",
      "V/V0_cen: treatment\n",
      "1.0633310552113026e-148\n",
      "Null hypothesis: the data come from a normal distriubtion.\n",
      " The null hypothesis can be rejected.\n",
      "V/C0_cen: treatment\n",
      "8.850836653905646e-68\n",
      "Null hypothesis: the data come from a normal distriubtion.\n",
      " The null hypothesis can be rejected.\n",
      "lg_V/C0_cen: treatment\n",
      "1.2052961664694528e-14\n",
      "Null hypothesis: the data come from a normal distriubtion.\n",
      " The null hypothesis can be rejected.\n",
      "V/V0_cen: control\n",
      "1.9149643734810633e-31\n",
      "Null hypothesis: the data come from a normal distriubtion.\n",
      " The null hypothesis can be rejected.\n",
      "V/C0_cen: control\n",
      "9.96254005130841e-15\n",
      "Null hypothesis: the data come from a normal distriubtion.\n",
      " The null hypothesis can be rejected.\n",
      "lg_V/C0_cen: control\n",
      "0.018210295489122383\n",
      "Null hypothesis: the data come from a normal distriubtion.\n",
      " The null hypothesis can be rejected.\n",
      "V/V0_cen: combined\n",
      "1.4726653413773984e-134\n",
      "Null hypothesis: the data come from a normal distriubtion.\n",
      " The null hypothesis can be rejected.\n",
      "V/C0_cen: combined\n",
      "1.7197121494583016e-70\n",
      "Null hypothesis: the data come from a normal distriubtion.\n",
      " The null hypothesis can be rejected.\n",
      "lg_V/C0_cen: combined\n",
      "2.5778337993511114e-20\n",
      "Null hypothesis: the data come from a normal distriubtion.\n",
      " The null hypothesis can be rejected.\n",
      "V/V0_cen: treatment\n",
      "9.884608399356895e-126\n",
      "Null hypothesis: the data come from a normal distriubtion.\n",
      " The null hypothesis can be rejected.\n",
      "V/C0_cen: treatment\n",
      "1.301852909739763e-66\n",
      "Null hypothesis: the data come from a normal distriubtion.\n",
      " The null hypothesis can be rejected.\n",
      "lg_V/C0_cen: treatment\n",
      "8.054941324878311e-18\n",
      "Null hypothesis: the data come from a normal distriubtion.\n",
      " The null hypothesis can be rejected.\n",
      "V/V0_cen: control\n",
      "8.514817774372599e-34\n",
      "Null hypothesis: the data come from a normal distriubtion.\n",
      " The null hypothesis can be rejected.\n",
      "V/C0_cen: control\n",
      "2.6314492022043077e-15\n",
      "Null hypothesis: the data come from a normal distriubtion.\n",
      " The null hypothesis can be rejected.\n",
      "lg_V/C0_cen: control\n",
      "0.2161392633801063\n",
      "Null hypothesis: the data come from a normal distribution.\n",
      " The null hypothesis cannot be rejected.\n",
      "V/V0_cen: combined\n",
      "6.669881491288896e-62\n",
      "Null hypothesis: the data come from a normal distriubtion.\n",
      " The null hypothesis can be rejected.\n",
      "V/C0_cen: combined\n",
      "2.1567176420632163e-40\n",
      "Null hypothesis: the data come from a normal distriubtion.\n",
      " The null hypothesis can be rejected.\n",
      "lg_V/C0_cen: combined\n",
      "6.252664303276707e-15\n",
      "Null hypothesis: the data come from a normal distriubtion.\n",
      " The null hypothesis can be rejected.\n",
      "V/V0_cen: treatment\n",
      "3.218075281999851e-59\n",
      "Null hypothesis: the data come from a normal distriubtion.\n",
      " The null hypothesis can be rejected.\n",
      "V/C0_cen: treatment\n",
      "8.03295190439294e-39\n",
      "Null hypothesis: the data come from a normal distriubtion.\n",
      " The null hypothesis can be rejected.\n",
      "lg_V/C0_cen: treatment\n",
      "4.077887554576954e-12\n",
      "Null hypothesis: the data come from a normal distriubtion.\n",
      " The null hypothesis can be rejected.\n",
      "V/V0_cen: control\n",
      "3.3567142196525925e-14\n",
      "Null hypothesis: the data come from a normal distriubtion.\n",
      " The null hypothesis can be rejected.\n",
      "V/C0_cen: control\n",
      "2.913436471413252e-08\n",
      "Null hypothesis: the data come from a normal distriubtion.\n",
      " The null hypothesis can be rejected.\n",
      "lg_V/C0_cen: control\n",
      "0.11239625284212668\n",
      "Null hypothesis: the data come from a normal distribution.\n",
      " The null hypothesis cannot be rejected.\n",
      "V/V0_cen: combined\n",
      "1.324034286599377e-61\n",
      "Null hypothesis: the data come from a normal distriubtion.\n",
      " The null hypothesis can be rejected.\n",
      "V/C0_cen: combined\n",
      "3.6316848997774773e-38\n",
      "Null hypothesis: the data come from a normal distriubtion.\n",
      " The null hypothesis can be rejected.\n",
      "lg_V/C0_cen: combined\n",
      "2.657657893826496e-14\n",
      "Null hypothesis: the data come from a normal distriubtion.\n",
      " The null hypothesis can be rejected.\n",
      "V/V0_cen: treatment\n",
      "6.691951522503558e-53\n",
      "Null hypothesis: the data come from a normal distriubtion.\n",
      " The null hypothesis can be rejected.\n",
      "V/C0_cen: treatment\n",
      "1.0719533341259414e-35\n",
      "Null hypothesis: the data come from a normal distriubtion.\n",
      " The null hypothesis can be rejected.\n",
      "lg_V/C0_cen: treatment\n",
      "6.721448517572877e-12\n",
      "Null hypothesis: the data come from a normal distriubtion.\n",
      " The null hypothesis can be rejected.\n",
      "V/V0_cen: control\n",
      "1.4184918551205506e-16\n",
      "Null hypothesis: the data come from a normal distriubtion.\n",
      " The null hypothesis can be rejected.\n",
      "V/C0_cen: control\n",
      "3.5412517340670486e-08\n",
      "Null hypothesis: the data come from a normal distriubtion.\n",
      " The null hypothesis can be rejected.\n",
      "lg_V/C0_cen: control\n",
      "0.19252850072591524\n",
      "Null hypothesis: the data come from a normal distribution.\n",
      " The null hypothesis cannot be rejected.\n"
     ]
    },
    {
     "data": {
      "text/plain": [
       "<Figure size 432x288 with 0 Axes>"
      ]
     },
     "metadata": {},
     "output_type": "display_data"
    }
   ],
   "source": [
    "for min_duration in MIN_DURATIONS:\n",
    "    data_fn = DATA_DIR + 'min_duration_' + str(min_duration) + '.csv'\n",
    "    save_dir = BASE_DIR + 'min_duration_' + str(min_duration) + '/'\n",
    "    df = pd.read_csv(data_fn)\n",
    "    for group in ['combined', 'treatment', 'control']:\n",
    "        for val in ['V/V0_cen', 'V/C0_cen', 'lg_V/C0_cen']:\n",
    "            print(val + ': ' + group)\n",
    "            save_fn = save_dir + val.replace('/', '_') + '-' + group + '.png'\n",
    "            create_plot(val, group, save_fn)"
   ]
  },
  {
   "cell_type": "code",
   "execution_count": null,
   "metadata": {},
   "outputs": [],
   "source": [
    "# for each min_duration\n",
    "#### read in dataframe\n",
    "#### make density plot w curve\n",
    "#### make histogram plot\n",
    "#### save"
   ]
  },
  {
   "cell_type": "code",
   "execution_count": null,
   "metadata": {},
   "outputs": [],
   "source": [
    "DATA = '../data/min_duration_28.csv'\n",
    "df = pd.read_csv(DATA)\n",
    "df.head()"
   ]
  },
  {
   "cell_type": "code",
   "execution_count": null,
   "metadata": {},
   "outputs": [],
   "source": [
    "sns.histplot(list(df['V/V0_cen']))"
   ]
  },
  {
   "cell_type": "code",
   "execution_count": null,
   "metadata": {},
   "outputs": [],
   "source": [
    "sns.histplot(list(df['V/C0_cen']))"
   ]
  },
  {
   "cell_type": "code",
   "execution_count": null,
   "metadata": {},
   "outputs": [],
   "source": [
    "sns.histplot(list(df['lg_V/C0_cen']))"
   ]
  },
  {
   "cell_type": "code",
   "execution_count": null,
   "metadata": {},
   "outputs": [],
   "source": [
    "x = list(df['lg_V/C0_cen'])\n",
    "x_axis = np.arange(-2, 2, 0.001)\n",
    "sns.histplot(x, stat='density')\n",
    "plt.plot(x_axis, norm.pdf(x_axis, loc=np.mean(x), scale=np.std(x)), color='r')\n",
    "plt.show()\n",
    "sns.histplot(x)\n",
    "plt.savefig('../results/2023-04-03/tester.png')"
   ]
  },
  {
   "cell_type": "code",
   "execution_count": null,
   "metadata": {},
   "outputs": [],
   "source": [
    "plt.plot(x_axis, norm.pdf(x_axis, np.mean(x), np.std(x)))\n",
    "plt.show()"
   ]
  },
  {
   "cell_type": "code",
   "execution_count": null,
   "metadata": {},
   "outputs": [],
   "source": [
    "len(x)"
   ]
  },
  {
   "cell_type": "code",
   "execution_count": null,
   "metadata": {},
   "outputs": [],
   "source": [
    "# Plot between -10 and 10 with .001 steps.\n",
    "mean = \n",
    "plt.plot(x_axis, norm.pdf(x_axis,0,2))\n",
    "plt.show()\n"
   ]
  }
 ],
 "metadata": {
  "kernelspec": {
   "display_name": "Python 3",
   "language": "python",
   "name": "python3"
  },
  "language_info": {
   "codemirror_mode": {
    "name": "ipython",
    "version": 3
   },
   "file_extension": ".py",
   "mimetype": "text/x-python",
   "name": "python",
   "nbconvert_exporter": "python",
   "pygments_lexer": "ipython3",
   "version": "3.8.5"
  }
 },
 "nbformat": 4,
 "nbformat_minor": 4
}
