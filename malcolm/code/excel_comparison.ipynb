{
 "cells": [
  {
   "cell_type": "code",
   "execution_count": 24,
   "metadata": {},
   "outputs": [],
   "source": [
    "import pandas as pd"
   ]
  },
  {
   "cell_type": "code",
   "execution_count": 48,
   "metadata": {},
   "outputs": [],
   "source": [
    "DATA = '../data/malcolm_clean_w_duration.csv'\n",
    "df = pd.read_csv(DATA)"
   ]
  },
  {
   "cell_type": "code",
   "execution_count": 26,
   "metadata": {},
   "outputs": [
    {
     "data": {
      "text/plain": [
       "1663"
      ]
     },
     "execution_count": 26,
     "metadata": {},
     "output_type": "execute_result"
    }
   ],
   "source": [
    "df.MID.nunique()"
   ]
  },
  {
   "cell_type": "code",
   "execution_count": 27,
   "metadata": {},
   "outputs": [
    {
     "data": {
      "text/plain": [
       "1445"
      ]
     },
     "execution_count": 27,
     "metadata": {},
     "output_type": "execute_result"
    }
   ],
   "source": [
    "df.loc[df.duration >= 21].MID.nunique()"
   ]
  },
  {
   "cell_type": "code",
   "execution_count": 58,
   "metadata": {},
   "outputs": [],
   "source": [
    "sf = df.loc[df.duration < 21]"
   ]
  },
  {
   "cell_type": "code",
   "execution_count": 59,
   "metadata": {},
   "outputs": [
    {
     "data": {
      "text/plain": [
       "113"
      ]
     },
     "execution_count": 59,
     "metadata": {},
     "output_type": "execute_result"
    }
   ],
   "source": [
    "sf.loc[sf.Study.isin(ss_cis)].MID.nunique()"
   ]
  },
  {
   "cell_type": "code",
   "execution_count": 61,
   "metadata": {},
   "outputs": [
    {
     "data": {
      "text/plain": [
       "count     49.000000\n",
       "mean     153.110204\n",
       "std      165.275164\n",
       "min        4.670000\n",
       "25%       48.700000\n",
       "50%      102.160000\n",
       "75%      222.510000\n",
       "max      776.050000\n",
       "Name: end_size, dtype: float64"
      ]
     },
     "execution_count": 61,
     "metadata": {},
     "output_type": "execute_result"
    }
   ],
   "source": [
    "# not in short studies\n",
    "ns = sf.loc[sf.Study.isin(ss_cis) == False]\n",
    "ns.end_size.describe()"
   ]
  },
  {
   "cell_type": "code",
   "execution_count": 65,
   "metadata": {},
   "outputs": [
    {
     "data": {
      "text/plain": [
       "count    49.000000\n",
       "mean      1.213209\n",
       "std       1.355780\n",
       "min       0.033751\n",
       "25%       0.466051\n",
       "50%       1.000000\n",
       "75%       1.496243\n",
       "max       8.609385\n",
       "dtype: float64"
      ]
     },
     "execution_count": 65,
     "metadata": {},
     "output_type": "execute_result"
    }
   ],
   "source": [
    "(ns['end_size']/ns['start_size']).describe()"
   ]
  },
  {
   "cell_type": "code",
   "execution_count": 63,
   "metadata": {},
   "outputs": [
    {
     "data": {
      "text/plain": [
       "count     817.000000\n",
       "mean      552.781897\n",
       "std       551.691683\n",
       "min         5.250000\n",
       "25%       162.750000\n",
       "50%       361.680000\n",
       "75%       720.560000\n",
       "max      2970.510000\n",
       "Name: end_size, dtype: float64"
      ]
     },
     "execution_count": 63,
     "metadata": {},
     "output_type": "execute_result"
    }
   ],
   "source": [
    "df.loc[df.duration >= 28].end_size.describe()"
   ]
  },
  {
   "cell_type": "code",
   "execution_count": 28,
   "metadata": {},
   "outputs": [
    {
     "data": {
      "text/plain": [
       "1159"
      ]
     },
     "execution_count": 28,
     "metadata": {},
     "output_type": "execute_result"
    }
   ],
   "source": [
    "df.loc[df.duration >= 25].MID.nunique()"
   ]
  },
  {
   "cell_type": "code",
   "execution_count": 29,
   "metadata": {},
   "outputs": [
    {
     "data": {
      "text/plain": [
       "911"
      ]
     },
     "execution_count": 29,
     "metadata": {},
     "output_type": "execute_result"
    }
   ],
   "source": [
    "df.loc[df.duration >= 27].MID.nunique()"
   ]
  },
  {
   "cell_type": "code",
   "execution_count": 30,
   "metadata": {},
   "outputs": [
    {
     "data": {
      "text/plain": [
       "817"
      ]
     },
     "execution_count": 30,
     "metadata": {},
     "output_type": "execute_result"
    }
   ],
   "source": [
    "df.loc[df.duration >= 28].MID.nunique()"
   ]
  },
  {
   "cell_type": "code",
   "execution_count": 31,
   "metadata": {},
   "outputs": [
    {
     "data": {
      "text/plain": [
       "1370"
      ]
     },
     "execution_count": 31,
     "metadata": {},
     "output_type": "execute_result"
    }
   ],
   "source": [
    "d21 = pd.read_csv('../data/min_duration_21.csv')\n",
    "d21.MID.nunique()"
   ]
  },
  {
   "cell_type": "code",
   "execution_count": 32,
   "metadata": {},
   "outputs": [
    {
     "data": {
      "text/plain": [
       "1663"
      ]
     },
     "execution_count": 32,
     "metadata": {},
     "output_type": "execute_result"
    }
   ],
   "source": [
    "df.MID.nunique()"
   ]
  },
  {
   "cell_type": "code",
   "execution_count": 33,
   "metadata": {},
   "outputs": [],
   "source": [
    "EXCEL_DATA = '../paper/peerj-07-6586-s001-michela-edits.xlsx'\n",
    "# cisplatin spreadsheet\n",
    "ef_cis = pd.read_excel(EXCEL_DATA, header=0, sheet_name=0)\n",
    "# docetaxel spreadsheet\n",
    "ef_doc = pd.read_excel(EXCEL_DATA, header=0, sheet_name=1)"
   ]
  },
  {
   "cell_type": "code",
   "execution_count": 34,
   "metadata": {},
   "outputs": [
    {
     "data": {
      "text/html": [
       "<div>\n",
       "<style scoped>\n",
       "    .dataframe tbody tr th:only-of-type {\n",
       "        vertical-align: middle;\n",
       "    }\n",
       "\n",
       "    .dataframe tbody tr th {\n",
       "        vertical-align: top;\n",
       "    }\n",
       "\n",
       "    .dataframe thead th {\n",
       "        text-align: right;\n",
       "    }\n",
       "</style>\n",
       "<table border=\"1\" class=\"dataframe\">\n",
       "  <thead>\n",
       "    <tr style=\"text-align: right;\">\n",
       "      <th></th>\n",
       "      <th>Model</th>\n",
       "      <th>Primary Site</th>\n",
       "      <th>Specimen Site</th>\n",
       "      <th>Clinical Diagnosis</th>\n",
       "      <th>Primary/Met</th>\n",
       "      <th>Passage</th>\n",
       "      <th>Study Duration</th>\n",
       "      <th>C_N</th>\n",
       "      <th>C: Average Start Size (mm3)</th>\n",
       "      <th>C: Min Start Size (mm3) C</th>\n",
       "      <th>C: Max Start Size (mm3)</th>\n",
       "      <th>T_N</th>\n",
       "      <th>T: Average Start Size (mm3)</th>\n",
       "      <th>T: Min Start Size (mm3)</th>\n",
       "      <th>T: Max Start Size (mm3)</th>\n",
       "    </tr>\n",
       "  </thead>\n",
       "  <tbody>\n",
       "    <tr>\n",
       "      <th>0</th>\n",
       "      <td>J000079689</td>\n",
       "      <td>Retroperitoneum</td>\n",
       "      <td>Retroperitoneum</td>\n",
       "      <td>neuroblastoma</td>\n",
       "      <td>Metastatic</td>\n",
       "      <td>2</td>\n",
       "      <td>28</td>\n",
       "      <td>5</td>\n",
       "      <td>220.570000</td>\n",
       "      <td>103.19</td>\n",
       "      <td>326.86</td>\n",
       "      <td>6</td>\n",
       "      <td>180.285714</td>\n",
       "      <td>100.80</td>\n",
       "      <td>272.49</td>\n",
       "    </tr>\n",
       "    <tr>\n",
       "      <th>1</th>\n",
       "      <td>J000080739</td>\n",
       "      <td>Breast</td>\n",
       "      <td>Breast</td>\n",
       "      <td>invasive ductal carcinoma</td>\n",
       "      <td>Primary</td>\n",
       "      <td>2</td>\n",
       "      <td>21</td>\n",
       "      <td>10</td>\n",
       "      <td>143.070000</td>\n",
       "      <td>72.27</td>\n",
       "      <td>286.43</td>\n",
       "      <td>10</td>\n",
       "      <td>141.323000</td>\n",
       "      <td>73.00</td>\n",
       "      <td>264.13</td>\n",
       "    </tr>\n",
       "    <tr>\n",
       "      <th>2</th>\n",
       "      <td>J000096652</td>\n",
       "      <td>Lung</td>\n",
       "      <td>Lung</td>\n",
       "      <td>lung adenocarcinoma</td>\n",
       "      <td>Primary</td>\n",
       "      <td>6</td>\n",
       "      <td>21</td>\n",
       "      <td>4</td>\n",
       "      <td>146.971429</td>\n",
       "      <td>80.65</td>\n",
       "      <td>207.55</td>\n",
       "      <td>6</td>\n",
       "      <td>150.492857</td>\n",
       "      <td>89.60</td>\n",
       "      <td>221.29</td>\n",
       "    </tr>\n",
       "    <tr>\n",
       "      <th>3</th>\n",
       "      <td>J000099327</td>\n",
       "      <td>Breast</td>\n",
       "      <td>Breast</td>\n",
       "      <td>invasive ductal carcinoma</td>\n",
       "      <td>Recurrent</td>\n",
       "      <td>3</td>\n",
       "      <td>14</td>\n",
       "      <td>10</td>\n",
       "      <td>138.325455</td>\n",
       "      <td>70.27</td>\n",
       "      <td>262.92</td>\n",
       "      <td>10</td>\n",
       "      <td>137.826364</td>\n",
       "      <td>78.66</td>\n",
       "      <td>293.52</td>\n",
       "    </tr>\n",
       "    <tr>\n",
       "      <th>4</th>\n",
       "      <td>J000100646</td>\n",
       "      <td>Bladder</td>\n",
       "      <td>Bladder</td>\n",
       "      <td>urinary bladder cancer</td>\n",
       "      <td>Primary</td>\n",
       "      <td>3</td>\n",
       "      <td>28</td>\n",
       "      <td>10</td>\n",
       "      <td>130.913000</td>\n",
       "      <td>95.66</td>\n",
       "      <td>223.39</td>\n",
       "      <td>10</td>\n",
       "      <td>131.276000</td>\n",
       "      <td>96.94</td>\n",
       "      <td>221.43</td>\n",
       "    </tr>\n",
       "  </tbody>\n",
       "</table>\n",
       "</div>"
      ],
      "text/plain": [
       "        Model     Primary Site    Specimen Site         Clinical Diagnosis  \\\n",
       "0  J000079689  Retroperitoneum  Retroperitoneum              neuroblastoma   \n",
       "1  J000080739           Breast           Breast  invasive ductal carcinoma   \n",
       "2  J000096652             Lung             Lung        lung adenocarcinoma   \n",
       "3  J000099327           Breast           Breast  invasive ductal carcinoma   \n",
       "4  J000100646          Bladder          Bladder     urinary bladder cancer   \n",
       "\n",
       "  Primary/Met  Passage  Study Duration  C_N  C: Average Start Size (mm3)  \\\n",
       "0  Metastatic        2              28    5                   220.570000   \n",
       "1     Primary        2              21   10                   143.070000   \n",
       "2     Primary        6              21    4                   146.971429   \n",
       "3   Recurrent        3              14   10                   138.325455   \n",
       "4     Primary        3              28   10                   130.913000   \n",
       "\n",
       "   C: Min Start Size (mm3) C  C: Max Start Size (mm3)  T_N  \\\n",
       "0                     103.19                   326.86    6   \n",
       "1                      72.27                   286.43   10   \n",
       "2                      80.65                   207.55    6   \n",
       "3                      70.27                   262.92   10   \n",
       "4                      95.66                   223.39   10   \n",
       "\n",
       "   T: Average Start Size (mm3)  T: Min Start Size (mm3)   \\\n",
       "0                   180.285714                    100.80   \n",
       "1                   141.323000                     73.00   \n",
       "2                   150.492857                     89.60   \n",
       "3                   137.826364                     78.66   \n",
       "4                   131.276000                     96.94   \n",
       "\n",
       "   T: Max Start Size (mm3)  \n",
       "0                   272.49  \n",
       "1                   264.13  \n",
       "2                   221.29  \n",
       "3                   293.52  \n",
       "4                   221.43  "
      ]
     },
     "execution_count": 34,
     "metadata": {},
     "output_type": "execute_result"
    }
   ],
   "source": [
    "ef_cis.head()"
   ]
  },
  {
   "cell_type": "code",
   "execution_count": 43,
   "metadata": {},
   "outputs": [],
   "source": [
    "# studies with duration <= 21\n",
    "ss_cis = list(ef_cis.loc[ef_cis['Study Duration'] <= 21]['Model']) \n",
    "ss_doc = list(ef_doc.loc[ef_doc['Study Duration'] <= 21]['Model'])"
   ]
  },
  {
   "cell_type": "code",
   "execution_count": 44,
   "metadata": {},
   "outputs": [
    {
     "data": {
      "text/plain": [
       "['J000080739',\n",
       " 'J000096652',\n",
       " 'J000099327',\n",
       " 'J000100674',\n",
       " 'J000104256',\n",
       " 'TM00090',\n",
       " 'TM00099',\n",
       " 'TM00107',\n",
       " 'TM00186',\n",
       " 'TM00192',\n",
       " 'TM00231',\n",
       " 'TM00356',\n",
       " 'TM00784',\n",
       " 'TM01029',\n",
       " 'TM01039',\n",
       " 'TM01149',\n",
       " 'TM01273']"
      ]
     },
     "execution_count": 44,
     "metadata": {},
     "output_type": "execute_result"
    }
   ],
   "source": [
    "ss_cis"
   ]
  },
  {
   "cell_type": "code",
   "execution_count": 37,
   "metadata": {},
   "outputs": [
    {
     "data": {
      "text/plain": [
       "[]"
      ]
     },
     "execution_count": 37,
     "metadata": {},
     "output_type": "execute_result"
    }
   ],
   "source": [
    "ss_doc"
   ]
  },
  {
   "cell_type": "code",
   "execution_count": 38,
   "metadata": {},
   "outputs": [],
   "source": [
    "ss = ss_cis + ss_doc"
   ]
  },
  {
   "cell_type": "code",
   "execution_count": 49,
   "metadata": {},
   "outputs": [
    {
     "data": {
      "text/plain": [
       "359"
      ]
     },
     "execution_count": 49,
     "metadata": {},
     "output_type": "execute_result"
    }
   ],
   "source": [
    "df.loc[df.duration <= 21].MID.nunique()"
   ]
  },
  {
   "cell_type": "code",
   "execution_count": 50,
   "metadata": {},
   "outputs": [
    {
     "name": "stdout",
     "output_type": "stream",
     "text": [
      "dropped studies <= 21 days\n",
      "dropped 141 MIDs associated with studies <= 21 days\n",
      "number of unique mids: 1522\n"
     ]
    }
   ],
   "source": [
    "old_mids = df.MID.nunique()\n",
    "df = df.loc[~((df.Study.isin(ss)) & (df.Drug == 'Cisplatin'))]\n",
    "new_mids = df.MID.nunique()\n",
    "print('dropped studies <= 21 days')\n",
    "print('dropped ' + str(old_mids - new_mids) + ' MIDs associated with studies <= 21 days')\n",
    "print('number of unique mids: ' + str(df.MID.nunique()))"
   ]
  },
  {
   "cell_type": "code",
   "execution_count": 52,
   "metadata": {},
   "outputs": [
    {
     "data": {
      "text/plain": [
       "162"
      ]
     },
     "execution_count": 52,
     "metadata": {},
     "output_type": "execute_result"
    }
   ],
   "source": [
    "df.loc[df.duration < 21].MID.nunique()"
   ]
  },
  {
   "cell_type": "code",
   "execution_count": 53,
   "metadata": {},
   "outputs": [
    {
     "data": {
      "text/plain": [
       "count    261.000000\n",
       "mean      19.570881\n",
       "std        3.022950\n",
       "min        0.000000\n",
       "25%       18.000000\n",
       "50%       21.000000\n",
       "75%       22.000000\n",
       "max       24.000000\n",
       "Name: duration, dtype: float64"
      ]
     },
     "execution_count": 53,
     "metadata": {},
     "output_type": "execute_result"
    }
   ],
   "source": [
    "df.loc[df.Study.isin(ss_cis)].duration.describe()"
   ]
  },
  {
   "cell_type": "code",
   "execution_count": null,
   "metadata": {},
   "outputs": [],
   "source": [
    "df.loc[df.duration >= 21].MID.nunique()"
   ]
  },
  {
   "cell_type": "code",
   "execution_count": null,
   "metadata": {},
   "outputs": [],
   "source": [
    "df.loc[df.duration >= 25].MID.nunique()"
   ]
  },
  {
   "cell_type": "code",
   "execution_count": null,
   "metadata": {},
   "outputs": [],
   "source": [
    "df.loc[df.duration < 25].duration.describe()"
   ]
  },
  {
   "cell_type": "code",
   "execution_count": null,
   "metadata": {},
   "outputs": [],
   "source": [
    "s28 = list(ef0.loc[ef0['Study Duration'] >= 28]['Model']) + list(ef1.loc[ef1['Study Duration'] >= 28]['Model'])\n",
    "s28"
   ]
  },
  {
   "cell_type": "code",
   "execution_count": null,
   "metadata": {},
   "outputs": [],
   "source": [
    "## need to create dataframe d!"
   ]
  },
  {
   "cell_type": "code",
   "execution_count": null,
   "metadata": {},
   "outputs": [],
   "source": [
    "short_duration_studies = d.loc[d.duration <= 21].Study.unique()"
   ]
  },
  {
   "cell_type": "code",
   "execution_count": null,
   "metadata": {},
   "outputs": [],
   "source": [
    "short_duration_studies"
   ]
  },
  {
   "cell_type": "code",
   "execution_count": null,
   "metadata": {},
   "outputs": [],
   "source": [
    "len(set(ss).intersection(set(short_duration_studies)))"
   ]
  },
  {
   "cell_type": "code",
   "execution_count": null,
   "metadata": {},
   "outputs": [],
   "source": [
    "len(set(short_duration_studies))"
   ]
  },
  {
   "cell_type": "code",
   "execution_count": null,
   "metadata": {},
   "outputs": [],
   "source": [
    "d.loc[d.duration >= 27].MID.nunique()"
   ]
  }
 ],
 "metadata": {
  "kernelspec": {
   "display_name": "Python 3",
   "language": "python",
   "name": "python3"
  },
  "language_info": {
   "codemirror_mode": {
    "name": "ipython",
    "version": 3
   },
   "file_extension": ".py",
   "mimetype": "text/x-python",
   "name": "python",
   "nbconvert_exporter": "python",
   "pygments_lexer": "ipython3",
   "version": "3.8.5"
  }
 },
 "nbformat": 4,
 "nbformat_minor": 4
}
