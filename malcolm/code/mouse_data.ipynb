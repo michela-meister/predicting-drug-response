{
 "cells": [
  {
   "cell_type": "code",
   "execution_count": 1,
   "metadata": {},
   "outputs": [],
   "source": [
    "import pandas as pd\n",
    "import matplotlib.pyplot as plt"
   ]
  },
  {
   "cell_type": "code",
   "execution_count": 14,
   "metadata": {},
   "outputs": [],
   "source": [
    "def size_on_day(d, day):\n",
    "    d_day_x = d.loc[d.Day == day]\n",
    "    d_day_x = d_day_x[['MID', 'Size']]\n",
    "    colname = 'Day-' + str(day) + '-Size'\n",
    "    d_day_x = d_day_x.rename(columns = {'Size': colname})\n",
    "    return d_day_x"
   ]
  },
  {
   "cell_type": "code",
   "execution_count": 2,
   "metadata": {},
   "outputs": [],
   "source": [
    "DATA = \"~/Documents/research/tansey/datasets/supplemental_table_3_-_raw_volume_data_with_control.csv\""
   ]
  },
  {
   "cell_type": "code",
   "execution_count": 3,
   "metadata": {},
   "outputs": [
    {
     "data": {
      "text/html": [
       "<div>\n",
       "<style scoped>\n",
       "    .dataframe tbody tr th:only-of-type {\n",
       "        vertical-align: middle;\n",
       "    }\n",
       "\n",
       "    .dataframe tbody tr th {\n",
       "        vertical-align: top;\n",
       "    }\n",
       "\n",
       "    .dataframe thead th {\n",
       "        text-align: right;\n",
       "    }\n",
       "</style>\n",
       "<table border=\"1\" class=\"dataframe\">\n",
       "  <thead>\n",
       "    <tr style=\"text-align: right;\">\n",
       "      <th></th>\n",
       "      <th>Study</th>\n",
       "      <th>Study_ID</th>\n",
       "      <th>Group</th>\n",
       "      <th>Drug</th>\n",
       "      <th>Control</th>\n",
       "      <th>MID</th>\n",
       "      <th>Day</th>\n",
       "      <th>Size</th>\n",
       "    </tr>\n",
       "  </thead>\n",
       "  <tbody>\n",
       "    <tr>\n",
       "      <th>0</th>\n",
       "      <td>J000100672</td>\n",
       "      <td>42396T_2CAOS</td>\n",
       "      <td>3</td>\n",
       "      <td>Cisplatin</td>\n",
       "      <td>0.0</td>\n",
       "      <td>396-11</td>\n",
       "      <td>0.0</td>\n",
       "      <td>212.49</td>\n",
       "    </tr>\n",
       "    <tr>\n",
       "      <th>1</th>\n",
       "      <td>J000100672</td>\n",
       "      <td>42396T_2CAOS</td>\n",
       "      <td>3</td>\n",
       "      <td>Cisplatin</td>\n",
       "      <td>0.0</td>\n",
       "      <td>396-11</td>\n",
       "      <td>3.0</td>\n",
       "      <td>322.60</td>\n",
       "    </tr>\n",
       "    <tr>\n",
       "      <th>2</th>\n",
       "      <td>J000100672</td>\n",
       "      <td>42396T_2CAOS</td>\n",
       "      <td>3</td>\n",
       "      <td>Cisplatin</td>\n",
       "      <td>0.0</td>\n",
       "      <td>396-11</td>\n",
       "      <td>6.0</td>\n",
       "      <td>368.00</td>\n",
       "    </tr>\n",
       "    <tr>\n",
       "      <th>3</th>\n",
       "      <td>J000100672</td>\n",
       "      <td>42396T_2CAOS</td>\n",
       "      <td>3</td>\n",
       "      <td>Cisplatin</td>\n",
       "      <td>0.0</td>\n",
       "      <td>396-11</td>\n",
       "      <td>10.0</td>\n",
       "      <td>538.42</td>\n",
       "    </tr>\n",
       "    <tr>\n",
       "      <th>4</th>\n",
       "      <td>J000100672</td>\n",
       "      <td>42396T_2CAOS</td>\n",
       "      <td>3</td>\n",
       "      <td>Cisplatin</td>\n",
       "      <td>0.0</td>\n",
       "      <td>396-11</td>\n",
       "      <td>13.0</td>\n",
       "      <td>743.13</td>\n",
       "    </tr>\n",
       "  </tbody>\n",
       "</table>\n",
       "</div>"
      ],
      "text/plain": [
       "        Study      Study_ID Group       Drug  Control     MID   Day    Size\n",
       "0  J000100672  42396T_2CAOS     3  Cisplatin      0.0  396-11   0.0  212.49\n",
       "1  J000100672  42396T_2CAOS     3  Cisplatin      0.0  396-11   3.0  322.60\n",
       "2  J000100672  42396T_2CAOS     3  Cisplatin      0.0  396-11   6.0  368.00\n",
       "3  J000100672  42396T_2CAOS     3  Cisplatin      0.0  396-11  10.0  538.42\n",
       "4  J000100672  42396T_2CAOS     3  Cisplatin      0.0  396-11  13.0  743.13"
      ]
     },
     "execution_count": 3,
     "metadata": {},
     "output_type": "execute_result"
    }
   ],
   "source": [
    "df = pd.read_csv(DATA)\n",
    "df.head()"
   ]
  },
  {
   "cell_type": "code",
   "execution_count": 6,
   "metadata": {},
   "outputs": [
    {
     "data": {
      "text/plain": [
       "15433"
      ]
     },
     "execution_count": 6,
     "metadata": {},
     "output_type": "execute_result"
    }
   ],
   "source": [
    "l1 = len(df)\n",
    "l1"
   ]
  },
  {
   "cell_type": "code",
   "execution_count": 7,
   "metadata": {},
   "outputs": [],
   "source": [
    "df = df[df['Study'].notna()]"
   ]
  },
  {
   "cell_type": "code",
   "execution_count": 9,
   "metadata": {},
   "outputs": [
    {
     "name": "stdout",
     "output_type": "stream",
     "text": [
      "dropped 638 rows with nans\n"
     ]
    }
   ],
   "source": [
    "l2 = len(df)\n",
    "for col in df.columns:\n",
    "    assert(len(df.loc[df[col].isna()]) == 0)\n",
    "print('dropped ' + str(l1 - l2) + ' rows with nans')"
   ]
  },
  {
   "cell_type": "code",
   "execution_count": 10,
   "metadata": {},
   "outputs": [],
   "source": [
    "df = df[df['Day'] >= 0]"
   ]
  },
  {
   "cell_type": "code",
   "execution_count": 11,
   "metadata": {},
   "outputs": [
    {
     "name": "stdout",
     "output_type": "stream",
     "text": [
      "dropped 798 rows with Day < 0\n"
     ]
    }
   ],
   "source": [
    "l3 = len(df)\n",
    "print('dropped ' + str(l2 - l3) + ' rows with Day < 0')"
   ]
  },
  {
   "cell_type": "code",
   "execution_count": 12,
   "metadata": {},
   "outputs": [
    {
     "data": {
      "text/html": [
       "<div>\n",
       "<style scoped>\n",
       "    .dataframe tbody tr th:only-of-type {\n",
       "        vertical-align: middle;\n",
       "    }\n",
       "\n",
       "    .dataframe tbody tr th {\n",
       "        vertical-align: top;\n",
       "    }\n",
       "\n",
       "    .dataframe thead th {\n",
       "        text-align: right;\n",
       "    }\n",
       "</style>\n",
       "<table border=\"1\" class=\"dataframe\">\n",
       "  <thead>\n",
       "    <tr style=\"text-align: right;\">\n",
       "      <th></th>\n",
       "      <th>Study_ID</th>\n",
       "      <th>Drug</th>\n",
       "      <th>Control</th>\n",
       "      <th>MID</th>\n",
       "      <th>Day</th>\n",
       "      <th>Size</th>\n",
       "    </tr>\n",
       "  </thead>\n",
       "  <tbody>\n",
       "    <tr>\n",
       "      <th>0</th>\n",
       "      <td>42396T_2CAOS</td>\n",
       "      <td>Cisplatin</td>\n",
       "      <td>0.0</td>\n",
       "      <td>396-11</td>\n",
       "      <td>0.0</td>\n",
       "      <td>212.49</td>\n",
       "    </tr>\n",
       "    <tr>\n",
       "      <th>1</th>\n",
       "      <td>42396T_2CAOS</td>\n",
       "      <td>Cisplatin</td>\n",
       "      <td>0.0</td>\n",
       "      <td>396-11</td>\n",
       "      <td>3.0</td>\n",
       "      <td>322.60</td>\n",
       "    </tr>\n",
       "    <tr>\n",
       "      <th>2</th>\n",
       "      <td>42396T_2CAOS</td>\n",
       "      <td>Cisplatin</td>\n",
       "      <td>0.0</td>\n",
       "      <td>396-11</td>\n",
       "      <td>6.0</td>\n",
       "      <td>368.00</td>\n",
       "    </tr>\n",
       "    <tr>\n",
       "      <th>3</th>\n",
       "      <td>42396T_2CAOS</td>\n",
       "      <td>Cisplatin</td>\n",
       "      <td>0.0</td>\n",
       "      <td>396-11</td>\n",
       "      <td>10.0</td>\n",
       "      <td>538.42</td>\n",
       "    </tr>\n",
       "    <tr>\n",
       "      <th>4</th>\n",
       "      <td>42396T_2CAOS</td>\n",
       "      <td>Cisplatin</td>\n",
       "      <td>0.0</td>\n",
       "      <td>396-11</td>\n",
       "      <td>13.0</td>\n",
       "      <td>743.13</td>\n",
       "    </tr>\n",
       "  </tbody>\n",
       "</table>\n",
       "</div>"
      ],
      "text/plain": [
       "       Study_ID       Drug  Control     MID   Day    Size\n",
       "0  42396T_2CAOS  Cisplatin      0.0  396-11   0.0  212.49\n",
       "1  42396T_2CAOS  Cisplatin      0.0  396-11   3.0  322.60\n",
       "2  42396T_2CAOS  Cisplatin      0.0  396-11   6.0  368.00\n",
       "3  42396T_2CAOS  Cisplatin      0.0  396-11  10.0  538.42\n",
       "4  42396T_2CAOS  Cisplatin      0.0  396-11  13.0  743.13"
      ]
     },
     "execution_count": 12,
     "metadata": {},
     "output_type": "execute_result"
    }
   ],
   "source": [
    "df = df[['Study_ID', 'Drug', 'Control', 'MID', 'Day', 'Size']]\n",
    "df.head()"
   ]
  },
  {
   "cell_type": "code",
   "execution_count": 13,
   "metadata": {},
   "outputs": [],
   "source": [
    "old_len = len(df)"
   ]
  },
  {
   "cell_type": "code",
   "execution_count": 15,
   "metadata": {},
   "outputs": [
    {
     "data": {
      "text/plain": [
       "1775"
      ]
     },
     "execution_count": 15,
     "metadata": {},
     "output_type": "execute_result"
    }
   ],
   "source": [
    "mids = pd.DataFrame(df.MID).drop_duplicates()\n",
    "len(mids)"
   ]
  },
  {
   "cell_type": "code",
   "execution_count": 16,
   "metadata": {},
   "outputs": [
    {
     "data": {
      "text/html": [
       "<div>\n",
       "<style scoped>\n",
       "    .dataframe tbody tr th:only-of-type {\n",
       "        vertical-align: middle;\n",
       "    }\n",
       "\n",
       "    .dataframe tbody tr th {\n",
       "        vertical-align: top;\n",
       "    }\n",
       "\n",
       "    .dataframe thead th {\n",
       "        text-align: right;\n",
       "    }\n",
       "</style>\n",
       "<table border=\"1\" class=\"dataframe\">\n",
       "  <thead>\n",
       "    <tr style=\"text-align: right;\">\n",
       "      <th></th>\n",
       "      <th>MID</th>\n",
       "    </tr>\n",
       "  </thead>\n",
       "  <tbody>\n",
       "    <tr>\n",
       "      <th>0</th>\n",
       "      <td>396-11</td>\n",
       "    </tr>\n",
       "    <tr>\n",
       "      <th>9</th>\n",
       "      <td>396-20</td>\n",
       "    </tr>\n",
       "    <tr>\n",
       "      <th>18</th>\n",
       "      <td>396-21</td>\n",
       "    </tr>\n",
       "    <tr>\n",
       "      <th>27</th>\n",
       "      <td>396-31</td>\n",
       "    </tr>\n",
       "    <tr>\n",
       "      <th>36</th>\n",
       "      <td>396-32</td>\n",
       "    </tr>\n",
       "  </tbody>\n",
       "</table>\n",
       "</div>"
      ],
      "text/plain": [
       "       MID\n",
       "0   396-11\n",
       "9   396-20\n",
       "18  396-21\n",
       "27  396-31\n",
       "36  396-32"
      ]
     },
     "execution_count": 16,
     "metadata": {},
     "output_type": "execute_result"
    }
   ],
   "source": [
    "mids.head()"
   ]
  },
  {
   "cell_type": "code",
   "execution_count": 17,
   "metadata": {},
   "outputs": [
    {
     "name": "stdout",
     "output_type": "stream",
     "text": [
      "834\n",
      "656\n",
      "1775\n",
      "834\n",
      "399\n"
     ]
    }
   ],
   "source": [
    "start_day = 0\n",
    "end_day = 28\n",
    "start_size = size_on_day(df, start_day)\n",
    "print(len(start_size))\n",
    "end_size = size_on_day(df, end_day)\n",
    "print(len(end_size))\n",
    "print(len(mids))\n",
    "mids = mids.merge(start_size, on='MID', validate='one_to_one')\n",
    "print(len(mids))\n",
    "mids = mids.merge(end_size, on='MID', validate='one_to_one')\n",
    "print(len(mids))"
   ]
  },
  {
   "cell_type": "code",
   "execution_count": 18,
   "metadata": {},
   "outputs": [
    {
     "name": "stdout",
     "output_type": "stream",
     "text": [
      "        MID  Day-0-Size  Day-28-Size\n",
      "0    173-17       90.62       459.42\n",
      "1    173-18      221.97       483.71\n",
      "2    173-20      100.00       346.87\n",
      "3    173-25       91.73       418.22\n",
      "4    173-26       82.65       402.09\n",
      "..      ...         ...          ...\n",
      "394  179_39      118.98       117.85\n",
      "395  179_42      294.91       316.28\n",
      "396  179_44      114.02       138.32\n",
      "397  179_52       94.59        69.76\n",
      "398  179_54      202.29       229.38\n",
      "\n",
      "[399 rows x 3 columns]\n"
     ]
    }
   ],
   "source": [
    "print(mids)"
   ]
  },
  {
   "cell_type": "code",
   "execution_count": 19,
   "metadata": {},
   "outputs": [
    {
     "name": "stdout",
     "output_type": "stream",
     "text": [
      "399\n",
      "13997\n"
     ]
    }
   ],
   "source": [
    "print(len(mids))\n",
    "print(len(df))"
   ]
  },
  {
   "cell_type": "code",
   "execution_count": 20,
   "metadata": {},
   "outputs": [],
   "source": [
    "df = df[['Study_ID', 'Drug', 'Control', 'MID']].merge(mids, on='MID', validate='many_to_one')"
   ]
  },
  {
   "cell_type": "code",
   "execution_count": 21,
   "metadata": {},
   "outputs": [
    {
     "data": {
      "text/plain": [
       "3557"
      ]
     },
     "execution_count": 21,
     "metadata": {},
     "output_type": "execute_result"
    }
   ],
   "source": [
    "len(df)"
   ]
  },
  {
   "cell_type": "code",
   "execution_count": 22,
   "metadata": {},
   "outputs": [],
   "source": [
    "df = df.drop_duplicates()"
   ]
  },
  {
   "cell_type": "code",
   "execution_count": 23,
   "metadata": {},
   "outputs": [
    {
     "data": {
      "text/plain": [
       "411"
      ]
     },
     "execution_count": 23,
     "metadata": {},
     "output_type": "execute_result"
    }
   ],
   "source": [
    "len(df)"
   ]
  },
  {
   "cell_type": "code",
   "execution_count": 24,
   "metadata": {},
   "outputs": [
    {
     "data": {
      "text/html": [
       "<div>\n",
       "<style scoped>\n",
       "    .dataframe tbody tr th:only-of-type {\n",
       "        vertical-align: middle;\n",
       "    }\n",
       "\n",
       "    .dataframe tbody tr th {\n",
       "        vertical-align: top;\n",
       "    }\n",
       "\n",
       "    .dataframe thead th {\n",
       "        text-align: right;\n",
       "    }\n",
       "</style>\n",
       "<table border=\"1\" class=\"dataframe\">\n",
       "  <thead>\n",
       "    <tr style=\"text-align: right;\">\n",
       "      <th></th>\n",
       "      <th>Study_ID</th>\n",
       "      <th>Drug</th>\n",
       "      <th>Control</th>\n",
       "      <th>MID</th>\n",
       "      <th>Day-0-Size</th>\n",
       "      <th>Day-28-Size</th>\n",
       "    </tr>\n",
       "  </thead>\n",
       "  <tbody>\n",
       "    <tr>\n",
       "      <th>0</th>\n",
       "      <td>JW215_07T101173</td>\n",
       "      <td>Cisplatin</td>\n",
       "      <td>0.0</td>\n",
       "      <td>173-17</td>\n",
       "      <td>90.62</td>\n",
       "      <td>459.42</td>\n",
       "    </tr>\n",
       "    <tr>\n",
       "      <th>9</th>\n",
       "      <td>JW215_07T101173</td>\n",
       "      <td>Cisplatin</td>\n",
       "      <td>0.0</td>\n",
       "      <td>173-18</td>\n",
       "      <td>221.97</td>\n",
       "      <td>483.71</td>\n",
       "    </tr>\n",
       "    <tr>\n",
       "      <th>18</th>\n",
       "      <td>JW215_07T101173</td>\n",
       "      <td>Cisplatin</td>\n",
       "      <td>0.0</td>\n",
       "      <td>173-20</td>\n",
       "      <td>100.00</td>\n",
       "      <td>346.87</td>\n",
       "    </tr>\n",
       "    <tr>\n",
       "      <th>27</th>\n",
       "      <td>JW215_07T101173</td>\n",
       "      <td>Cisplatin</td>\n",
       "      <td>0.0</td>\n",
       "      <td>173-25</td>\n",
       "      <td>91.73</td>\n",
       "      <td>418.22</td>\n",
       "    </tr>\n",
       "    <tr>\n",
       "      <th>36</th>\n",
       "      <td>JW215_07T101173</td>\n",
       "      <td>Cisplatin</td>\n",
       "      <td>0.0</td>\n",
       "      <td>173-26</td>\n",
       "      <td>82.65</td>\n",
       "      <td>402.09</td>\n",
       "    </tr>\n",
       "  </tbody>\n",
       "</table>\n",
       "</div>"
      ],
      "text/plain": [
       "           Study_ID       Drug  Control     MID  Day-0-Size  Day-28-Size\n",
       "0   JW215_07T101173  Cisplatin      0.0  173-17       90.62       459.42\n",
       "9   JW215_07T101173  Cisplatin      0.0  173-18      221.97       483.71\n",
       "18  JW215_07T101173  Cisplatin      0.0  173-20      100.00       346.87\n",
       "27  JW215_07T101173  Cisplatin      0.0  173-25       91.73       418.22\n",
       "36  JW215_07T101173  Cisplatin      0.0  173-26       82.65       402.09"
      ]
     },
     "execution_count": 24,
     "metadata": {},
     "output_type": "execute_result"
    }
   ],
   "source": [
    "df.head()"
   ]
  },
  {
   "cell_type": "code",
   "execution_count": 25,
   "metadata": {},
   "outputs": [],
   "source": [
    "treat_mids = df.loc[df['Control'] == 1.0].MID.unique()\n",
    "control_mids = df.loc[df['Control'] == 0.0].MID.unique()\n",
    "intersection_mids = list(set(treat_mids).intersection(set(control_mids)))"
   ]
  },
  {
   "cell_type": "code",
   "execution_count": 26,
   "metadata": {},
   "outputs": [],
   "source": [
    "df = df.loc[df['MID'].isin(intersection_mids) == False]"
   ]
  },
  {
   "cell_type": "code",
   "execution_count": 27,
   "metadata": {},
   "outputs": [
    {
     "data": {
      "text/plain": [
       "400"
      ]
     },
     "execution_count": 27,
     "metadata": {},
     "output_type": "execute_result"
    }
   ],
   "source": [
    "len(df)"
   ]
  },
  {
   "cell_type": "code",
   "execution_count": 28,
   "metadata": {},
   "outputs": [],
   "source": [
    "treat = df.loc[df['Control'] == 0.0]\n",
    "control = df.loc[df['Control'] == 1.0]"
   ]
  },
  {
   "cell_type": "code",
   "execution_count": 29,
   "metadata": {},
   "outputs": [
    {
     "data": {
      "text/html": [
       "<div>\n",
       "<style scoped>\n",
       "    .dataframe tbody tr th:only-of-type {\n",
       "        vertical-align: middle;\n",
       "    }\n",
       "\n",
       "    .dataframe tbody tr th {\n",
       "        vertical-align: top;\n",
       "    }\n",
       "\n",
       "    .dataframe thead th {\n",
       "        text-align: right;\n",
       "    }\n",
       "</style>\n",
       "<table border=\"1\" class=\"dataframe\">\n",
       "  <thead>\n",
       "    <tr style=\"text-align: right;\">\n",
       "      <th></th>\n",
       "      <th>Study_ID</th>\n",
       "      <th>Drug</th>\n",
       "      <th>Control</th>\n",
       "      <th>MID</th>\n",
       "      <th>Day-0-Size</th>\n",
       "      <th>Day-28-Size</th>\n",
       "    </tr>\n",
       "  </thead>\n",
       "  <tbody>\n",
       "    <tr>\n",
       "      <th>1296</th>\n",
       "      <td>JW215_07T101173</td>\n",
       "      <td>D5W</td>\n",
       "      <td>1.0</td>\n",
       "      <td>173-02</td>\n",
       "      <td>172.49</td>\n",
       "      <td>882.80</td>\n",
       "    </tr>\n",
       "    <tr>\n",
       "      <th>1305</th>\n",
       "      <td>JW215_07T101173</td>\n",
       "      <td>D5W</td>\n",
       "      <td>1.0</td>\n",
       "      <td>173-03</td>\n",
       "      <td>85.55</td>\n",
       "      <td>1660.15</td>\n",
       "    </tr>\n",
       "    <tr>\n",
       "      <th>1314</th>\n",
       "      <td>JW215_07T101173</td>\n",
       "      <td>D5W</td>\n",
       "      <td>1.0</td>\n",
       "      <td>173-06</td>\n",
       "      <td>98.16</td>\n",
       "      <td>624.50</td>\n",
       "    </tr>\n",
       "    <tr>\n",
       "      <th>1323</th>\n",
       "      <td>JW215_07T101173</td>\n",
       "      <td>D5W</td>\n",
       "      <td>1.0</td>\n",
       "      <td>173-09</td>\n",
       "      <td>124.32</td>\n",
       "      <td>419.17</td>\n",
       "    </tr>\n",
       "    <tr>\n",
       "      <th>1332</th>\n",
       "      <td>JW215_07T101173</td>\n",
       "      <td>D5W</td>\n",
       "      <td>1.0</td>\n",
       "      <td>173-12</td>\n",
       "      <td>122.35</td>\n",
       "      <td>869.84</td>\n",
       "    </tr>\n",
       "  </tbody>\n",
       "</table>\n",
       "</div>"
      ],
      "text/plain": [
       "             Study_ID Drug  Control     MID  Day-0-Size  Day-28-Size\n",
       "1296  JW215_07T101173  D5W      1.0  173-02      172.49       882.80\n",
       "1305  JW215_07T101173  D5W      1.0  173-03       85.55      1660.15\n",
       "1314  JW215_07T101173  D5W      1.0  173-06       98.16       624.50\n",
       "1323  JW215_07T101173  D5W      1.0  173-09      124.32       419.17\n",
       "1332  JW215_07T101173  D5W      1.0  173-12      122.35       869.84"
      ]
     },
     "execution_count": 29,
     "metadata": {},
     "output_type": "execute_result"
    }
   ],
   "source": [
    "control.head()"
   ]
  },
  {
   "cell_type": "code",
   "execution_count": 30,
   "metadata": {},
   "outputs": [
    {
     "name": "stderr",
     "output_type": "stream",
     "text": [
      "<ipython-input-30-9a994a089c4a>:1: SettingWithCopyWarning: \n",
      "A value is trying to be set on a copy of a slice from a DataFrame.\n",
      "Try using .loc[row_indexer,col_indexer] = value instead\n",
      "\n",
      "See the caveats in the documentation: https://pandas.pydata.org/pandas-docs/stable/user_guide/indexing.html#returning-a-view-versus-a-copy\n",
      "  control['relative_vol'] = control['Day-28-Size'] / control['Day-0-Size']\n"
     ]
    }
   ],
   "source": [
    "control['relative_vol'] = control['Day-28-Size'] / control['Day-0-Size']"
   ]
  },
  {
   "cell_type": "code",
   "execution_count": 31,
   "metadata": {},
   "outputs": [],
   "source": [
    "c_mean_vol = control.groupby('Study_ID')['Day-28-Size'].mean().to_frame(name='c_mean_vol').reset_index()\n",
    "c_med_vol= control.groupby('Study_ID')['Day-28-Size'].median().to_frame(name='c_med_vol').reset_index()\n",
    "c_mean_rel_vol = control.groupby('Study_ID')['relative_vol'].mean().to_frame(name='c_mean_rel_vol').reset_index()\n",
    "c_med_rel_vol = control.groupby('Study_ID')['relative_vol'].median().to_frame(name='c_med_rel_vol').reset_index()"
   ]
  },
  {
   "cell_type": "code",
   "execution_count": 32,
   "metadata": {},
   "outputs": [],
   "source": [
    "control_study_ID = control.Study_ID.to_frame().drop_duplicates()"
   ]
  },
  {
   "cell_type": "code",
   "execution_count": 33,
   "metadata": {},
   "outputs": [],
   "source": [
    "control_study_ID = control_study_ID.merge(c_mean_vol, on='Study_ID', validate='one_to_one')\n",
    "control_study_ID = control_study_ID.merge(c_med_vol, on='Study_ID', validate='one_to_one')\n",
    "control_study_ID = control_study_ID.merge(c_mean_rel_vol, on='Study_ID', validate='one_to_one')\n",
    "control_study_ID = control_study_ID.merge(c_med_rel_vol, on='Study_ID', validate='one_to_one')"
   ]
  },
  {
   "cell_type": "code",
   "execution_count": 34,
   "metadata": {},
   "outputs": [
    {
     "data": {
      "text/html": [
       "<div>\n",
       "<style scoped>\n",
       "    .dataframe tbody tr th:only-of-type {\n",
       "        vertical-align: middle;\n",
       "    }\n",
       "\n",
       "    .dataframe tbody tr th {\n",
       "        vertical-align: top;\n",
       "    }\n",
       "\n",
       "    .dataframe thead th {\n",
       "        text-align: right;\n",
       "    }\n",
       "</style>\n",
       "<table border=\"1\" class=\"dataframe\">\n",
       "  <thead>\n",
       "    <tr style=\"text-align: right;\">\n",
       "      <th></th>\n",
       "      <th>Study_ID</th>\n",
       "      <th>c_mean_vol</th>\n",
       "      <th>c_med_vol</th>\n",
       "      <th>c_mean_rel_vol</th>\n",
       "      <th>c_med_rel_vol</th>\n",
       "    </tr>\n",
       "  </thead>\n",
       "  <tbody>\n",
       "    <tr>\n",
       "      <th>0</th>\n",
       "      <td>JW215_07T101173</td>\n",
       "      <td>692.697778</td>\n",
       "      <td>624.500</td>\n",
       "      <td>6.050728</td>\n",
       "      <td>3.927095</td>\n",
       "    </tr>\n",
       "    <tr>\n",
       "      <th>1</th>\n",
       "      <td>JW215_11TBR0869</td>\n",
       "      <td>921.060000</td>\n",
       "      <td>921.060</td>\n",
       "      <td>9.907067</td>\n",
       "      <td>9.907067</td>\n",
       "    </tr>\n",
       "    <tr>\n",
       "      <th>2</th>\n",
       "      <td>JW226_03TJ102630</td>\n",
       "      <td>706.787500</td>\n",
       "      <td>680.605</td>\n",
       "      <td>6.070190</td>\n",
       "      <td>5.436284</td>\n",
       "    </tr>\n",
       "    <tr>\n",
       "      <th>3</th>\n",
       "      <td>JW215_12TBR0555</td>\n",
       "      <td>407.373750</td>\n",
       "      <td>355.890</td>\n",
       "      <td>3.215851</td>\n",
       "      <td>3.383921</td>\n",
       "    </tr>\n",
       "    <tr>\n",
       "      <th>4</th>\n",
       "      <td>JW216_05TJ105006</td>\n",
       "      <td>591.220000</td>\n",
       "      <td>591.220</td>\n",
       "      <td>5.402723</td>\n",
       "      <td>5.402723</td>\n",
       "    </tr>\n",
       "    <tr>\n",
       "      <th>5</th>\n",
       "      <td>JW217_04TLG1049</td>\n",
       "      <td>374.336667</td>\n",
       "      <td>370.390</td>\n",
       "      <td>3.518140</td>\n",
       "      <td>3.917126</td>\n",
       "    </tr>\n",
       "    <tr>\n",
       "      <th>6</th>\n",
       "      <td>JW217_05TLG1265</td>\n",
       "      <td>543.057000</td>\n",
       "      <td>513.720</td>\n",
       "      <td>5.671043</td>\n",
       "      <td>4.844673</td>\n",
       "    </tr>\n",
       "    <tr>\n",
       "      <th>7</th>\n",
       "      <td>JW217_06TLG627PE</td>\n",
       "      <td>688.201250</td>\n",
       "      <td>569.440</td>\n",
       "      <td>5.950491</td>\n",
       "      <td>5.767366</td>\n",
       "    </tr>\n",
       "    <tr>\n",
       "      <th>8</th>\n",
       "      <td>JW217T_LG0551</td>\n",
       "      <td>593.265556</td>\n",
       "      <td>502.020</td>\n",
       "      <td>5.687443</td>\n",
       "      <td>5.807873</td>\n",
       "    </tr>\n",
       "    <tr>\n",
       "      <th>9</th>\n",
       "      <td>JW217T_LG0978</td>\n",
       "      <td>1156.365000</td>\n",
       "      <td>1155.425</td>\n",
       "      <td>12.116899</td>\n",
       "      <td>11.342707</td>\n",
       "    </tr>\n",
       "    <tr>\n",
       "      <th>10</th>\n",
       "      <td>JW217T_LG1102</td>\n",
       "      <td>1184.770000</td>\n",
       "      <td>1268.925</td>\n",
       "      <td>9.013207</td>\n",
       "      <td>8.719069</td>\n",
       "    </tr>\n",
       "    <tr>\n",
       "      <th>11</th>\n",
       "      <td>JW223_03TPR1996F</td>\n",
       "      <td>1692.680000</td>\n",
       "      <td>1621.380</td>\n",
       "      <td>9.872483</td>\n",
       "      <td>9.756770</td>\n",
       "    </tr>\n",
       "    <tr>\n",
       "      <th>12</th>\n",
       "      <td>JW224_01TOV1828</td>\n",
       "      <td>1117.071000</td>\n",
       "      <td>1184.205</td>\n",
       "      <td>9.871691</td>\n",
       "      <td>9.790505</td>\n",
       "    </tr>\n",
       "    <tr>\n",
       "      <th>13</th>\n",
       "      <td>LG0645T_JW217</td>\n",
       "      <td>1190.488333</td>\n",
       "      <td>1205.715</td>\n",
       "      <td>6.667311</td>\n",
       "      <td>6.243196</td>\n",
       "    </tr>\n",
       "    <tr>\n",
       "      <th>14</th>\n",
       "      <td>LG0796T_JW217</td>\n",
       "      <td>769.782857</td>\n",
       "      <td>634.920</td>\n",
       "      <td>6.817605</td>\n",
       "      <td>6.955865</td>\n",
       "    </tr>\n",
       "    <tr>\n",
       "      <th>15</th>\n",
       "      <td>LG0830Ta_JW217</td>\n",
       "      <td>817.117000</td>\n",
       "      <td>954.215</td>\n",
       "      <td>5.575614</td>\n",
       "      <td>4.944740</td>\n",
       "    </tr>\n",
       "    <tr>\n",
       "      <th>16</th>\n",
       "      <td>LG1179T_JW217</td>\n",
       "      <td>448.114000</td>\n",
       "      <td>407.160</td>\n",
       "      <td>2.550770</td>\n",
       "      <td>2.225732</td>\n",
       "    </tr>\n",
       "    <tr>\n",
       "      <th>17</th>\n",
       "      <td>JW217_08TLG0801</td>\n",
       "      <td>334.436667</td>\n",
       "      <td>261.980</td>\n",
       "      <td>2.335360</td>\n",
       "      <td>2.373693</td>\n",
       "    </tr>\n",
       "    <tr>\n",
       "      <th>18</th>\n",
       "      <td>JW217T2_LG1191</td>\n",
       "      <td>875.852000</td>\n",
       "      <td>876.840</td>\n",
       "      <td>5.297107</td>\n",
       "      <td>5.096378</td>\n",
       "    </tr>\n",
       "  </tbody>\n",
       "</table>\n",
       "</div>"
      ],
      "text/plain": [
       "            Study_ID   c_mean_vol  c_med_vol  c_mean_rel_vol  c_med_rel_vol\n",
       "0    JW215_07T101173   692.697778    624.500        6.050728       3.927095\n",
       "1    JW215_11TBR0869   921.060000    921.060        9.907067       9.907067\n",
       "2   JW226_03TJ102630   706.787500    680.605        6.070190       5.436284\n",
       "3    JW215_12TBR0555   407.373750    355.890        3.215851       3.383921\n",
       "4   JW216_05TJ105006   591.220000    591.220        5.402723       5.402723\n",
       "5    JW217_04TLG1049   374.336667    370.390        3.518140       3.917126\n",
       "6    JW217_05TLG1265   543.057000    513.720        5.671043       4.844673\n",
       "7   JW217_06TLG627PE   688.201250    569.440        5.950491       5.767366\n",
       "8      JW217T_LG0551   593.265556    502.020        5.687443       5.807873\n",
       "9      JW217T_LG0978  1156.365000   1155.425       12.116899      11.342707\n",
       "10     JW217T_LG1102  1184.770000   1268.925        9.013207       8.719069\n",
       "11  JW223_03TPR1996F  1692.680000   1621.380        9.872483       9.756770\n",
       "12   JW224_01TOV1828  1117.071000   1184.205        9.871691       9.790505\n",
       "13     LG0645T_JW217  1190.488333   1205.715        6.667311       6.243196\n",
       "14     LG0796T_JW217   769.782857    634.920        6.817605       6.955865\n",
       "15    LG0830Ta_JW217   817.117000    954.215        5.575614       4.944740\n",
       "16     LG1179T_JW217   448.114000    407.160        2.550770       2.225732\n",
       "17   JW217_08TLG0801   334.436667    261.980        2.335360       2.373693\n",
       "18    JW217T2_LG1191   875.852000    876.840        5.297107       5.096378"
      ]
     },
     "execution_count": 34,
     "metadata": {},
     "output_type": "execute_result"
    }
   ],
   "source": [
    "control_study_ID"
   ]
  },
  {
   "cell_type": "code",
   "execution_count": 35,
   "metadata": {},
   "outputs": [
    {
     "data": {
      "text/html": [
       "<div>\n",
       "<style scoped>\n",
       "    .dataframe tbody tr th:only-of-type {\n",
       "        vertical-align: middle;\n",
       "    }\n",
       "\n",
       "    .dataframe tbody tr th {\n",
       "        vertical-align: top;\n",
       "    }\n",
       "\n",
       "    .dataframe thead th {\n",
       "        text-align: right;\n",
       "    }\n",
       "</style>\n",
       "<table border=\"1\" class=\"dataframe\">\n",
       "  <thead>\n",
       "    <tr style=\"text-align: right;\">\n",
       "      <th></th>\n",
       "      <th>Study_ID</th>\n",
       "      <th>Drug</th>\n",
       "      <th>Control</th>\n",
       "      <th>MID</th>\n",
       "      <th>Day-0-Size</th>\n",
       "      <th>Day-28-Size</th>\n",
       "    </tr>\n",
       "  </thead>\n",
       "  <tbody>\n",
       "    <tr>\n",
       "      <th>0</th>\n",
       "      <td>JW215_07T101173</td>\n",
       "      <td>Cisplatin</td>\n",
       "      <td>0.0</td>\n",
       "      <td>173-17</td>\n",
       "      <td>90.62</td>\n",
       "      <td>459.42</td>\n",
       "    </tr>\n",
       "    <tr>\n",
       "      <th>9</th>\n",
       "      <td>JW215_07T101173</td>\n",
       "      <td>Cisplatin</td>\n",
       "      <td>0.0</td>\n",
       "      <td>173-18</td>\n",
       "      <td>221.97</td>\n",
       "      <td>483.71</td>\n",
       "    </tr>\n",
       "    <tr>\n",
       "      <th>18</th>\n",
       "      <td>JW215_07T101173</td>\n",
       "      <td>Cisplatin</td>\n",
       "      <td>0.0</td>\n",
       "      <td>173-20</td>\n",
       "      <td>100.00</td>\n",
       "      <td>346.87</td>\n",
       "    </tr>\n",
       "    <tr>\n",
       "      <th>27</th>\n",
       "      <td>JW215_07T101173</td>\n",
       "      <td>Cisplatin</td>\n",
       "      <td>0.0</td>\n",
       "      <td>173-25</td>\n",
       "      <td>91.73</td>\n",
       "      <td>418.22</td>\n",
       "    </tr>\n",
       "    <tr>\n",
       "      <th>36</th>\n",
       "      <td>JW215_07T101173</td>\n",
       "      <td>Cisplatin</td>\n",
       "      <td>0.0</td>\n",
       "      <td>173-26</td>\n",
       "      <td>82.65</td>\n",
       "      <td>402.09</td>\n",
       "    </tr>\n",
       "  </tbody>\n",
       "</table>\n",
       "</div>"
      ],
      "text/plain": [
       "           Study_ID       Drug  Control     MID  Day-0-Size  Day-28-Size\n",
       "0   JW215_07T101173  Cisplatin      0.0  173-17       90.62       459.42\n",
       "9   JW215_07T101173  Cisplatin      0.0  173-18      221.97       483.71\n",
       "18  JW215_07T101173  Cisplatin      0.0  173-20      100.00       346.87\n",
       "27  JW215_07T101173  Cisplatin      0.0  173-25       91.73       418.22\n",
       "36  JW215_07T101173  Cisplatin      0.0  173-26       82.65       402.09"
      ]
     },
     "execution_count": 35,
     "metadata": {},
     "output_type": "execute_result"
    }
   ],
   "source": [
    "treat.head()"
   ]
  },
  {
   "cell_type": "code",
   "execution_count": 36,
   "metadata": {},
   "outputs": [
    {
     "name": "stderr",
     "output_type": "stream",
     "text": [
      "<ipython-input-36-4c36159ed53f>:1: SettingWithCopyWarning: \n",
      "A value is trying to be set on a copy of a slice from a DataFrame.\n",
      "Try using .loc[row_indexer,col_indexer] = value instead\n",
      "\n",
      "See the caveats in the documentation: https://pandas.pydata.org/pandas-docs/stable/user_guide/indexing.html#returning-a-view-versus-a-copy\n",
      "  treat['t_rel_vol'] = treat['Day-28-Size'] / treat['Day-0-Size']\n"
     ]
    }
   ],
   "source": [
    "treat['t_rel_vol'] = treat['Day-28-Size'] / treat['Day-0-Size']"
   ]
  },
  {
   "cell_type": "code",
   "execution_count": 37,
   "metadata": {},
   "outputs": [
    {
     "data": {
      "text/html": [
       "<div>\n",
       "<style scoped>\n",
       "    .dataframe tbody tr th:only-of-type {\n",
       "        vertical-align: middle;\n",
       "    }\n",
       "\n",
       "    .dataframe tbody tr th {\n",
       "        vertical-align: top;\n",
       "    }\n",
       "\n",
       "    .dataframe thead th {\n",
       "        text-align: right;\n",
       "    }\n",
       "</style>\n",
       "<table border=\"1\" class=\"dataframe\">\n",
       "  <thead>\n",
       "    <tr style=\"text-align: right;\">\n",
       "      <th></th>\n",
       "      <th>Study_ID</th>\n",
       "      <th>Drug</th>\n",
       "      <th>Control</th>\n",
       "      <th>MID</th>\n",
       "      <th>Day-0-Size</th>\n",
       "      <th>Day-28-Size</th>\n",
       "      <th>t_rel_vol</th>\n",
       "    </tr>\n",
       "  </thead>\n",
       "  <tbody>\n",
       "    <tr>\n",
       "      <th>0</th>\n",
       "      <td>JW215_07T101173</td>\n",
       "      <td>Cisplatin</td>\n",
       "      <td>0.0</td>\n",
       "      <td>173-17</td>\n",
       "      <td>90.62</td>\n",
       "      <td>459.42</td>\n",
       "      <td>5.069742</td>\n",
       "    </tr>\n",
       "    <tr>\n",
       "      <th>9</th>\n",
       "      <td>JW215_07T101173</td>\n",
       "      <td>Cisplatin</td>\n",
       "      <td>0.0</td>\n",
       "      <td>173-18</td>\n",
       "      <td>221.97</td>\n",
       "      <td>483.71</td>\n",
       "      <td>2.179168</td>\n",
       "    </tr>\n",
       "    <tr>\n",
       "      <th>18</th>\n",
       "      <td>JW215_07T101173</td>\n",
       "      <td>Cisplatin</td>\n",
       "      <td>0.0</td>\n",
       "      <td>173-20</td>\n",
       "      <td>100.00</td>\n",
       "      <td>346.87</td>\n",
       "      <td>3.468700</td>\n",
       "    </tr>\n",
       "    <tr>\n",
       "      <th>27</th>\n",
       "      <td>JW215_07T101173</td>\n",
       "      <td>Cisplatin</td>\n",
       "      <td>0.0</td>\n",
       "      <td>173-25</td>\n",
       "      <td>91.73</td>\n",
       "      <td>418.22</td>\n",
       "      <td>4.559250</td>\n",
       "    </tr>\n",
       "    <tr>\n",
       "      <th>36</th>\n",
       "      <td>JW215_07T101173</td>\n",
       "      <td>Cisplatin</td>\n",
       "      <td>0.0</td>\n",
       "      <td>173-26</td>\n",
       "      <td>82.65</td>\n",
       "      <td>402.09</td>\n",
       "      <td>4.864973</td>\n",
       "    </tr>\n",
       "  </tbody>\n",
       "</table>\n",
       "</div>"
      ],
      "text/plain": [
       "           Study_ID       Drug  Control     MID  Day-0-Size  Day-28-Size  \\\n",
       "0   JW215_07T101173  Cisplatin      0.0  173-17       90.62       459.42   \n",
       "9   JW215_07T101173  Cisplatin      0.0  173-18      221.97       483.71   \n",
       "18  JW215_07T101173  Cisplatin      0.0  173-20      100.00       346.87   \n",
       "27  JW215_07T101173  Cisplatin      0.0  173-25       91.73       418.22   \n",
       "36  JW215_07T101173  Cisplatin      0.0  173-26       82.65       402.09   \n",
       "\n",
       "    t_rel_vol  \n",
       "0    5.069742  \n",
       "9    2.179168  \n",
       "18   3.468700  \n",
       "27   4.559250  \n",
       "36   4.864973  "
      ]
     },
     "execution_count": 37,
     "metadata": {},
     "output_type": "execute_result"
    }
   ],
   "source": [
    "treat.head()"
   ]
  },
  {
   "cell_type": "code",
   "execution_count": 38,
   "metadata": {},
   "outputs": [
    {
     "data": {
      "text/plain": [
       "261"
      ]
     },
     "execution_count": 38,
     "metadata": {},
     "output_type": "execute_result"
    }
   ],
   "source": [
    "m = treat.merge(control_study_ID, on='Study_ID', validate='many_to_one')\n",
    "len(m)"
   ]
  },
  {
   "cell_type": "code",
   "execution_count": 39,
   "metadata": {},
   "outputs": [
    {
     "data": {
      "text/html": [
       "<div>\n",
       "<style scoped>\n",
       "    .dataframe tbody tr th:only-of-type {\n",
       "        vertical-align: middle;\n",
       "    }\n",
       "\n",
       "    .dataframe tbody tr th {\n",
       "        vertical-align: top;\n",
       "    }\n",
       "\n",
       "    .dataframe thead th {\n",
       "        text-align: right;\n",
       "    }\n",
       "</style>\n",
       "<table border=\"1\" class=\"dataframe\">\n",
       "  <thead>\n",
       "    <tr style=\"text-align: right;\">\n",
       "      <th></th>\n",
       "      <th>Study_ID</th>\n",
       "      <th>Drug</th>\n",
       "      <th>Control</th>\n",
       "      <th>MID</th>\n",
       "      <th>Day-0-Size</th>\n",
       "      <th>Day-28-Size</th>\n",
       "      <th>t_rel_vol</th>\n",
       "      <th>c_mean_vol</th>\n",
       "      <th>c_med_vol</th>\n",
       "      <th>c_mean_rel_vol</th>\n",
       "      <th>c_med_rel_vol</th>\n",
       "    </tr>\n",
       "  </thead>\n",
       "  <tbody>\n",
       "    <tr>\n",
       "      <th>0</th>\n",
       "      <td>JW215_07T101173</td>\n",
       "      <td>Cisplatin</td>\n",
       "      <td>0.0</td>\n",
       "      <td>173-17</td>\n",
       "      <td>90.62</td>\n",
       "      <td>459.42</td>\n",
       "      <td>5.069742</td>\n",
       "      <td>692.697778</td>\n",
       "      <td>624.5</td>\n",
       "      <td>6.050728</td>\n",
       "      <td>3.927095</td>\n",
       "    </tr>\n",
       "    <tr>\n",
       "      <th>1</th>\n",
       "      <td>JW215_07T101173</td>\n",
       "      <td>Cisplatin</td>\n",
       "      <td>0.0</td>\n",
       "      <td>173-18</td>\n",
       "      <td>221.97</td>\n",
       "      <td>483.71</td>\n",
       "      <td>2.179168</td>\n",
       "      <td>692.697778</td>\n",
       "      <td>624.5</td>\n",
       "      <td>6.050728</td>\n",
       "      <td>3.927095</td>\n",
       "    </tr>\n",
       "    <tr>\n",
       "      <th>2</th>\n",
       "      <td>JW215_07T101173</td>\n",
       "      <td>Cisplatin</td>\n",
       "      <td>0.0</td>\n",
       "      <td>173-20</td>\n",
       "      <td>100.00</td>\n",
       "      <td>346.87</td>\n",
       "      <td>3.468700</td>\n",
       "      <td>692.697778</td>\n",
       "      <td>624.5</td>\n",
       "      <td>6.050728</td>\n",
       "      <td>3.927095</td>\n",
       "    </tr>\n",
       "    <tr>\n",
       "      <th>3</th>\n",
       "      <td>JW215_07T101173</td>\n",
       "      <td>Cisplatin</td>\n",
       "      <td>0.0</td>\n",
       "      <td>173-25</td>\n",
       "      <td>91.73</td>\n",
       "      <td>418.22</td>\n",
       "      <td>4.559250</td>\n",
       "      <td>692.697778</td>\n",
       "      <td>624.5</td>\n",
       "      <td>6.050728</td>\n",
       "      <td>3.927095</td>\n",
       "    </tr>\n",
       "    <tr>\n",
       "      <th>4</th>\n",
       "      <td>JW215_07T101173</td>\n",
       "      <td>Cisplatin</td>\n",
       "      <td>0.0</td>\n",
       "      <td>173-26</td>\n",
       "      <td>82.65</td>\n",
       "      <td>402.09</td>\n",
       "      <td>4.864973</td>\n",
       "      <td>692.697778</td>\n",
       "      <td>624.5</td>\n",
       "      <td>6.050728</td>\n",
       "      <td>3.927095</td>\n",
       "    </tr>\n",
       "  </tbody>\n",
       "</table>\n",
       "</div>"
      ],
      "text/plain": [
       "          Study_ID       Drug  Control     MID  Day-0-Size  Day-28-Size  \\\n",
       "0  JW215_07T101173  Cisplatin      0.0  173-17       90.62       459.42   \n",
       "1  JW215_07T101173  Cisplatin      0.0  173-18      221.97       483.71   \n",
       "2  JW215_07T101173  Cisplatin      0.0  173-20      100.00       346.87   \n",
       "3  JW215_07T101173  Cisplatin      0.0  173-25       91.73       418.22   \n",
       "4  JW215_07T101173  Cisplatin      0.0  173-26       82.65       402.09   \n",
       "\n",
       "   t_rel_vol  c_mean_vol  c_med_vol  c_mean_rel_vol  c_med_rel_vol  \n",
       "0   5.069742  692.697778      624.5        6.050728       3.927095  \n",
       "1   2.179168  692.697778      624.5        6.050728       3.927095  \n",
       "2   3.468700  692.697778      624.5        6.050728       3.927095  \n",
       "3   4.559250  692.697778      624.5        6.050728       3.927095  \n",
       "4   4.864973  692.697778      624.5        6.050728       3.927095  "
      ]
     },
     "execution_count": 39,
     "metadata": {},
     "output_type": "execute_result"
    }
   ],
   "source": [
    "m.head()"
   ]
  },
  {
   "cell_type": "code",
   "execution_count": 40,
   "metadata": {},
   "outputs": [],
   "source": [
    "m['trad_T_C'] = m['Day-28-Size'] / m['c_med_vol']\n",
    "m['rel_T_C'] = m['t_rel_vol'] / m['c_med_rel_vol']"
   ]
  },
  {
   "cell_type": "code",
   "execution_count": 41,
   "metadata": {},
   "outputs": [
    {
     "data": {
      "text/html": [
       "<div>\n",
       "<style scoped>\n",
       "    .dataframe tbody tr th:only-of-type {\n",
       "        vertical-align: middle;\n",
       "    }\n",
       "\n",
       "    .dataframe tbody tr th {\n",
       "        vertical-align: top;\n",
       "    }\n",
       "\n",
       "    .dataframe thead th {\n",
       "        text-align: right;\n",
       "    }\n",
       "</style>\n",
       "<table border=\"1\" class=\"dataframe\">\n",
       "  <thead>\n",
       "    <tr style=\"text-align: right;\">\n",
       "      <th></th>\n",
       "      <th>Study_ID</th>\n",
       "      <th>Drug</th>\n",
       "      <th>Control</th>\n",
       "      <th>MID</th>\n",
       "      <th>Day-0-Size</th>\n",
       "      <th>Day-28-Size</th>\n",
       "      <th>t_rel_vol</th>\n",
       "      <th>c_mean_vol</th>\n",
       "      <th>c_med_vol</th>\n",
       "      <th>c_mean_rel_vol</th>\n",
       "      <th>c_med_rel_vol</th>\n",
       "      <th>trad_T_C</th>\n",
       "      <th>rel_T_C</th>\n",
       "    </tr>\n",
       "  </thead>\n",
       "  <tbody>\n",
       "    <tr>\n",
       "      <th>0</th>\n",
       "      <td>JW215_07T101173</td>\n",
       "      <td>Cisplatin</td>\n",
       "      <td>0.0</td>\n",
       "      <td>173-17</td>\n",
       "      <td>90.62</td>\n",
       "      <td>459.42</td>\n",
       "      <td>5.069742</td>\n",
       "      <td>692.697778</td>\n",
       "      <td>624.5</td>\n",
       "      <td>6.050728</td>\n",
       "      <td>3.927095</td>\n",
       "      <td>0.735661</td>\n",
       "      <td>1.290965</td>\n",
       "    </tr>\n",
       "    <tr>\n",
       "      <th>1</th>\n",
       "      <td>JW215_07T101173</td>\n",
       "      <td>Cisplatin</td>\n",
       "      <td>0.0</td>\n",
       "      <td>173-18</td>\n",
       "      <td>221.97</td>\n",
       "      <td>483.71</td>\n",
       "      <td>2.179168</td>\n",
       "      <td>692.697778</td>\n",
       "      <td>624.5</td>\n",
       "      <td>6.050728</td>\n",
       "      <td>3.927095</td>\n",
       "      <td>0.774556</td>\n",
       "      <td>0.554906</td>\n",
       "    </tr>\n",
       "    <tr>\n",
       "      <th>2</th>\n",
       "      <td>JW215_07T101173</td>\n",
       "      <td>Cisplatin</td>\n",
       "      <td>0.0</td>\n",
       "      <td>173-20</td>\n",
       "      <td>100.00</td>\n",
       "      <td>346.87</td>\n",
       "      <td>3.468700</td>\n",
       "      <td>692.697778</td>\n",
       "      <td>624.5</td>\n",
       "      <td>6.050728</td>\n",
       "      <td>3.927095</td>\n",
       "      <td>0.555436</td>\n",
       "      <td>0.883274</td>\n",
       "    </tr>\n",
       "    <tr>\n",
       "      <th>3</th>\n",
       "      <td>JW215_07T101173</td>\n",
       "      <td>Cisplatin</td>\n",
       "      <td>0.0</td>\n",
       "      <td>173-25</td>\n",
       "      <td>91.73</td>\n",
       "      <td>418.22</td>\n",
       "      <td>4.559250</td>\n",
       "      <td>692.697778</td>\n",
       "      <td>624.5</td>\n",
       "      <td>6.050728</td>\n",
       "      <td>3.927095</td>\n",
       "      <td>0.669688</td>\n",
       "      <td>1.160973</td>\n",
       "    </tr>\n",
       "    <tr>\n",
       "      <th>4</th>\n",
       "      <td>JW215_07T101173</td>\n",
       "      <td>Cisplatin</td>\n",
       "      <td>0.0</td>\n",
       "      <td>173-26</td>\n",
       "      <td>82.65</td>\n",
       "      <td>402.09</td>\n",
       "      <td>4.864973</td>\n",
       "      <td>692.697778</td>\n",
       "      <td>624.5</td>\n",
       "      <td>6.050728</td>\n",
       "      <td>3.927095</td>\n",
       "      <td>0.643859</td>\n",
       "      <td>1.238822</td>\n",
       "    </tr>\n",
       "  </tbody>\n",
       "</table>\n",
       "</div>"
      ],
      "text/plain": [
       "          Study_ID       Drug  Control     MID  Day-0-Size  Day-28-Size  \\\n",
       "0  JW215_07T101173  Cisplatin      0.0  173-17       90.62       459.42   \n",
       "1  JW215_07T101173  Cisplatin      0.0  173-18      221.97       483.71   \n",
       "2  JW215_07T101173  Cisplatin      0.0  173-20      100.00       346.87   \n",
       "3  JW215_07T101173  Cisplatin      0.0  173-25       91.73       418.22   \n",
       "4  JW215_07T101173  Cisplatin      0.0  173-26       82.65       402.09   \n",
       "\n",
       "   t_rel_vol  c_mean_vol  c_med_vol  c_mean_rel_vol  c_med_rel_vol  trad_T_C  \\\n",
       "0   5.069742  692.697778      624.5        6.050728       3.927095  0.735661   \n",
       "1   2.179168  692.697778      624.5        6.050728       3.927095  0.774556   \n",
       "2   3.468700  692.697778      624.5        6.050728       3.927095  0.555436   \n",
       "3   4.559250  692.697778      624.5        6.050728       3.927095  0.669688   \n",
       "4   4.864973  692.697778      624.5        6.050728       3.927095  0.643859   \n",
       "\n",
       "    rel_T_C  \n",
       "0  1.290965  \n",
       "1  0.554906  \n",
       "2  0.883274  \n",
       "3  1.160973  \n",
       "4  1.238822  "
      ]
     },
     "execution_count": 41,
     "metadata": {},
     "output_type": "execute_result"
    }
   ],
   "source": [
    "m.head()"
   ]
  },
  {
   "cell_type": "code",
   "execution_count": 42,
   "metadata": {},
   "outputs": [
    {
     "data": {
      "text/plain": [
       "count    261.000000\n",
       "mean       0.512597\n",
       "std        0.372205\n",
       "min        0.042611\n",
       "25%        0.216460\n",
       "50%        0.419933\n",
       "75%        0.735661\n",
       "max        2.164236\n",
       "Name: trad_T_C, dtype: float64"
      ]
     },
     "execution_count": 42,
     "metadata": {},
     "output_type": "execute_result"
    }
   ],
   "source": [
    "m.trad_T_C.describe()"
   ]
  },
  {
   "cell_type": "code",
   "execution_count": 43,
   "metadata": {},
   "outputs": [
    {
     "data": {
      "text/plain": [
       "count    261.000000\n",
       "mean       0.510889\n",
       "std        0.352287\n",
       "min        0.040970\n",
       "25%        0.252664\n",
       "50%        0.463138\n",
       "75%        0.715721\n",
       "max        2.258838\n",
       "Name: rel_T_C, dtype: float64"
      ]
     },
     "execution_count": 43,
     "metadata": {},
     "output_type": "execute_result"
    }
   ],
   "source": [
    "m.rel_T_C.describe()"
   ]
  },
  {
   "cell_type": "code",
   "execution_count": 44,
   "metadata": {},
   "outputs": [
    {
     "data": {
      "text/html": [
       "<div>\n",
       "<style scoped>\n",
       "    .dataframe tbody tr th:only-of-type {\n",
       "        vertical-align: middle;\n",
       "    }\n",
       "\n",
       "    .dataframe tbody tr th {\n",
       "        vertical-align: top;\n",
       "    }\n",
       "\n",
       "    .dataframe thead th {\n",
       "        text-align: right;\n",
       "    }\n",
       "</style>\n",
       "<table border=\"1\" class=\"dataframe\">\n",
       "  <thead>\n",
       "    <tr style=\"text-align: right;\">\n",
       "      <th></th>\n",
       "      <th>Study_ID</th>\n",
       "      <th>Drug</th>\n",
       "      <th>Control</th>\n",
       "      <th>MID</th>\n",
       "      <th>Day-0-Size</th>\n",
       "      <th>Day-28-Size</th>\n",
       "      <th>t_rel_vol</th>\n",
       "      <th>c_mean_vol</th>\n",
       "      <th>c_med_vol</th>\n",
       "      <th>c_mean_rel_vol</th>\n",
       "      <th>c_med_rel_vol</th>\n",
       "      <th>trad_T_C</th>\n",
       "      <th>rel_T_C</th>\n",
       "    </tr>\n",
       "  </thead>\n",
       "  <tbody>\n",
       "    <tr>\n",
       "      <th>0</th>\n",
       "      <td>JW215_07T101173</td>\n",
       "      <td>Cisplatin</td>\n",
       "      <td>0.0</td>\n",
       "      <td>173-17</td>\n",
       "      <td>90.62</td>\n",
       "      <td>459.42</td>\n",
       "      <td>5.069742</td>\n",
       "      <td>692.697778</td>\n",
       "      <td>624.5</td>\n",
       "      <td>6.050728</td>\n",
       "      <td>3.927095</td>\n",
       "      <td>0.735661</td>\n",
       "      <td>1.290965</td>\n",
       "    </tr>\n",
       "    <tr>\n",
       "      <th>1</th>\n",
       "      <td>JW215_07T101173</td>\n",
       "      <td>Cisplatin</td>\n",
       "      <td>0.0</td>\n",
       "      <td>173-18</td>\n",
       "      <td>221.97</td>\n",
       "      <td>483.71</td>\n",
       "      <td>2.179168</td>\n",
       "      <td>692.697778</td>\n",
       "      <td>624.5</td>\n",
       "      <td>6.050728</td>\n",
       "      <td>3.927095</td>\n",
       "      <td>0.774556</td>\n",
       "      <td>0.554906</td>\n",
       "    </tr>\n",
       "    <tr>\n",
       "      <th>2</th>\n",
       "      <td>JW215_07T101173</td>\n",
       "      <td>Cisplatin</td>\n",
       "      <td>0.0</td>\n",
       "      <td>173-20</td>\n",
       "      <td>100.00</td>\n",
       "      <td>346.87</td>\n",
       "      <td>3.468700</td>\n",
       "      <td>692.697778</td>\n",
       "      <td>624.5</td>\n",
       "      <td>6.050728</td>\n",
       "      <td>3.927095</td>\n",
       "      <td>0.555436</td>\n",
       "      <td>0.883274</td>\n",
       "    </tr>\n",
       "    <tr>\n",
       "      <th>3</th>\n",
       "      <td>JW215_07T101173</td>\n",
       "      <td>Cisplatin</td>\n",
       "      <td>0.0</td>\n",
       "      <td>173-25</td>\n",
       "      <td>91.73</td>\n",
       "      <td>418.22</td>\n",
       "      <td>4.559250</td>\n",
       "      <td>692.697778</td>\n",
       "      <td>624.5</td>\n",
       "      <td>6.050728</td>\n",
       "      <td>3.927095</td>\n",
       "      <td>0.669688</td>\n",
       "      <td>1.160973</td>\n",
       "    </tr>\n",
       "    <tr>\n",
       "      <th>4</th>\n",
       "      <td>JW215_07T101173</td>\n",
       "      <td>Cisplatin</td>\n",
       "      <td>0.0</td>\n",
       "      <td>173-26</td>\n",
       "      <td>82.65</td>\n",
       "      <td>402.09</td>\n",
       "      <td>4.864973</td>\n",
       "      <td>692.697778</td>\n",
       "      <td>624.5</td>\n",
       "      <td>6.050728</td>\n",
       "      <td>3.927095</td>\n",
       "      <td>0.643859</td>\n",
       "      <td>1.238822</td>\n",
       "    </tr>\n",
       "  </tbody>\n",
       "</table>\n",
       "</div>"
      ],
      "text/plain": [
       "          Study_ID       Drug  Control     MID  Day-0-Size  Day-28-Size  \\\n",
       "0  JW215_07T101173  Cisplatin      0.0  173-17       90.62       459.42   \n",
       "1  JW215_07T101173  Cisplatin      0.0  173-18      221.97       483.71   \n",
       "2  JW215_07T101173  Cisplatin      0.0  173-20      100.00       346.87   \n",
       "3  JW215_07T101173  Cisplatin      0.0  173-25       91.73       418.22   \n",
       "4  JW215_07T101173  Cisplatin      0.0  173-26       82.65       402.09   \n",
       "\n",
       "   t_rel_vol  c_mean_vol  c_med_vol  c_mean_rel_vol  c_med_rel_vol  trad_T_C  \\\n",
       "0   5.069742  692.697778      624.5        6.050728       3.927095  0.735661   \n",
       "1   2.179168  692.697778      624.5        6.050728       3.927095  0.774556   \n",
       "2   3.468700  692.697778      624.5        6.050728       3.927095  0.555436   \n",
       "3   4.559250  692.697778      624.5        6.050728       3.927095  0.669688   \n",
       "4   4.864973  692.697778      624.5        6.050728       3.927095  0.643859   \n",
       "\n",
       "    rel_T_C  \n",
       "0  1.290965  \n",
       "1  0.554906  \n",
       "2  0.883274  \n",
       "3  1.160973  \n",
       "4  1.238822  "
      ]
     },
     "execution_count": 44,
     "metadata": {},
     "output_type": "execute_result"
    }
   ],
   "source": [
    "m.head()"
   ]
  },
  {
   "cell_type": "code",
   "execution_count": 45,
   "metadata": {},
   "outputs": [
    {
     "name": "stdout",
     "output_type": "stream",
     "text": [
      "['JW215_07T101173', 'JW215_11TBR0869', 'JW226_03TJ102630', 'JW215_12TBR0555', 'JW216_05TJ105006', 'JW217_04TLG1049', 'JW217_05TLG1265', 'JW217_06TLG627PE', 'JW217T_LG0551', 'JW217T_LG0978', 'JW217T_LG1102', 'JW217T2_LG1191', 'JW223_03TPR1996F', 'JW224_01TOV1828', 'LG0645T_JW217', 'LG0796T_JW217', 'LG0830Ta_JW217', 'LG1179T_JW217', 'JW217_08TLG0801']\n"
     ]
    }
   ],
   "source": [
    "sid_list = list(m.Study_ID.unique())\n",
    "print(sid_list)"
   ]
  },
  {
   "cell_type": "code",
   "execution_count": 46,
   "metadata": {},
   "outputs": [],
   "source": [
    "SAVE_DIR = '/Users/michelameister/Documents/research/tansey/results/2023-03-21/'"
   ]
  },
  {
   "cell_type": "code",
   "execution_count": 47,
   "metadata": {},
   "outputs": [
    {
     "data": {
      "text/plain": [
       "<Figure size 432x288 with 0 Axes>"
      ]
     },
     "metadata": {},
     "output_type": "display_data"
    }
   ],
   "source": [
    "for sid in sid_list:\n",
    "    sf = m.loc[m['Study_ID'] == sid]\n",
    "    vals = list(sf['trad_T_C'])\n",
    "    main_title = sid + ', N = ' + str(len(vals))\n",
    "    plt.scatter(vals, [0]*len(vals))\n",
    "    plt.title(main_title)\n",
    "    plt.xlabel('treatment vol @28 / control vol @28')\n",
    "    fn = SAVE_DIR + 'trad_T_C/' + sid + '.jpg'\n",
    "    plt.savefig(fn)\n",
    "    plt.clf()"
   ]
  },
  {
   "cell_type": "code",
   "execution_count": 48,
   "metadata": {},
   "outputs": [
    {
     "data": {
      "text/plain": [
       "<Figure size 432x288 with 0 Axes>"
      ]
     },
     "metadata": {},
     "output_type": "display_data"
    }
   ],
   "source": [
    "for sid in sid_list:\n",
    "    sf = m.loc[m['Study_ID'] == sid]\n",
    "    vals = list(sf['t_rel_vol'])\n",
    "    main_title = sid + ', N = ' + str(len(vals))\n",
    "    plt.scatter(vals, [0]*len(vals))\n",
    "    plt.title(main_title)\n",
    "    plt.xlabel('treatment vol @28 / treatment vol @0')\n",
    "    fn = SAVE_DIR + 't_rel_vol/' + sid + '.jpg'\n",
    "    plt.savefig(fn)\n",
    "    plt.clf()"
   ]
  },
  {
   "cell_type": "code",
   "execution_count": 49,
   "metadata": {},
   "outputs": [
    {
     "data": {
      "text/plain": [
       "<Figure size 432x288 with 0 Axes>"
      ]
     },
     "metadata": {},
     "output_type": "display_data"
    }
   ],
   "source": [
    "for sid in sid_list:\n",
    "    sf = m.loc[m['Study_ID'] == sid]\n",
    "    vals = list(sf['rel_T_C'])\n",
    "    main_title = sid + ', N = ' + str(len(vals))\n",
    "    plt.scatter(vals, [0]*len(vals))\n",
    "    plt.title(main_title)\n",
    "    plt.xlabel('(treatment vol @28 / treatment vol @0) / (control vol @28 / control vol @0)')\n",
    "    fn = SAVE_DIR + 'rel_T_C/' + sid + '.jpg'\n",
    "    plt.savefig(fn)\n",
    "    plt.clf()"
   ]
  },
  {
   "cell_type": "code",
   "execution_count": null,
   "metadata": {},
   "outputs": [],
   "source": []
  }
 ],
 "metadata": {
  "kernelspec": {
   "display_name": "Python 3",
   "language": "python",
   "name": "python3"
  },
  "language_info": {
   "codemirror_mode": {
    "name": "ipython",
    "version": 3
   },
   "file_extension": ".py",
   "mimetype": "text/x-python",
   "name": "python",
   "nbconvert_exporter": "python",
   "pygments_lexer": "ipython3",
   "version": "3.8.5"
  }
 },
 "nbformat": 4,
 "nbformat_minor": 4
}
